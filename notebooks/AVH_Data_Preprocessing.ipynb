{
 "cells": [
  {
   "cell_type": "markdown",
   "id": "78f0fc71",
   "metadata": {},
   "source": [
    "# AV-HuBERT Data Preprocessing\n",
    "\n",
    "This notebook prepares audio‑visual speech data from TCD-Timit **for AV‑HuBERT finetuning**.  \n",
    "It follows the following plan\n",
    "\n",
    "- **Step 1:** Download/acquire dataset (change a few var's to point where you want to download) \n",
    "- **Step 2:** Convert **video → 25 fps**, **audio → 16 kHz mono**, then **crop mouth ROI** from detect_landmarks.py \n",
    "- **(Optional)** Data augmentation - this is part of my project but can be used without this  \n",
    "- **Step 3:** Build AV‑HuBERT **manifests** (`train.tsv`, `valid.tsv`, `test.tsv`, `.wrd`, `.ltr`) and **vocabulary** (SentencePiece).\n",
    "\n",
    "> Notes\n",
    "> - Works **both in Colab and locally**."
   ]
  },
  {
   "cell_type": "code",
   "execution_count": 60,
   "id": "978a9402",
   "metadata": {},
   "outputs": [
    {
     "name": "stdout",
     "output_type": "stream",
     "text": [
      "[info] Loaded cookies from C:\\Users\\irish\\Computer_Electronic_Engineering_Year5\\AVSR_project\\data_processing\\cookies.txt\n",
      "\n",
      "[download] https://sigmedia.tcd.ie/tcd_timit_db/volunteers/04M/Clips/30degcam.zip\n"
     ]
    },
    {
     "name": "stderr",
     "output_type": "stream",
     "text": [
      "30degcam.zip: 4.29GB [07:45, 9.21MB/s]\n"
     ]
    },
    {
     "name": "stdout",
     "output_type": "stream",
     "text": [
      "[verify] testing ZIP integrity…\n",
      "[saved] C:\\Users\\irish\\Computer_Electronic_Engineering_Year5\\AVSR_project\\Data\\TCD_TIMIT\\volunteers\\04M\\Clips\\30degcam.zip\n",
      "\n",
      "Done. Archives in: C:\\Users\\irish\\Computer_Electronic_Engineering_Year5\\AVSR_project\\Data\\TCD_TIMIT\\volunteers\\04M\\Clips\n",
      " • C:\\Users\\irish\\Computer_Electronic_Engineering_Year5\\AVSR_project\\Data\\TCD_TIMIT\\volunteers\\04M\\Clips\\30degcam.zip\n"
     ]
    }
   ],
   "source": [
    "# %% Download TCD-TIMIT volunteer bundle(s) for local Windows/macOS/Linux\n",
    "# - Handles Windows paths safely\n",
    "# - Resumes partial downloads\n",
    "# - Verifies ZIP integrity\n",
    "\n",
    "# Make Requests/urllib3 use Windows’ built-in certificate store\n",
    "import truststore\n",
    "truststore.inject_into_ssl()\n",
    "\n",
    "\n",
    "import os, zipfile, shutil, pathlib, http.cookiejar, requests\n",
    "from tqdm.auto import tqdm\n",
    "\n",
    "# --- EDIT THESE THREE ONLY ---\n",
    "VOL = \"04M\"  # e.g., \"01M\", \"02M\", etc.\n",
    "DATA_ROOT = pathlib.Path(r\"C:\\Users\\irish\\Computer_Electronic_Engineering_Year5\\AVSR_project\\Data\\TCD_TIMIT\")\n",
    "COOKIES_PATH = pathlib.Path(r\"C:\\Users\\irish\\Computer_Electronic_Engineering_Year5\\AVSR_project\\data_processing\\cookies.txt\")  # Netscape format; leave as non-existent if not needed\n",
    "# -----------------------------\n",
    "\n",
    "BASE_URL = f\"https://sigmedia.tcd.ie/tcd_timit_db/volunteers/{VOL}/Clips\"\n",
    "OUT_DIR  = DATA_ROOT / \"volunteers\" / VOL / \"Clips\"\n",
    "TMP_DIR  = DATA_ROOT / \"_tmp\" / \"volunteers\" / VOL / \"Clips\"\n",
    "FILES    = [\"30degcam.zip\"]   # add/remove items as needed\n",
    "\n",
    "OUT_DIR.mkdir(parents=True, exist_ok=True)\n",
    "TMP_DIR.mkdir(parents=True, exist_ok=True)\n",
    "\n",
    "# Load cookies if present (optional)\n",
    "cookies_jar = None\n",
    "if COOKIES_PATH.exists():\n",
    "    try:\n",
    "        cj = http.cookiejar.MozillaCookieJar()\n",
    "        cj.load(str(COOKIES_PATH), ignore_discard=True, ignore_expires=True)\n",
    "        cookies_jar = cj\n",
    "        print(f\"[info] Loaded cookies from {COOKIES_PATH}\")\n",
    "    except Exception as e:\n",
    "        print(f\"[warn] Failed to load cookies ({e}). Proceeding without cookies.\")\n",
    "\n",
    "def download_with_resume(url: str, out_path: pathlib.Path):\n",
    "    headers = {\"User-Agent\": \"Mozilla/5.0\"}\n",
    "    # Resume if partial file exists\n",
    "    start = out_path.stat().st_size if out_path.exists() else 0\n",
    "    if start > 0:\n",
    "        headers[\"Range\"] = f\"bytes={start}-\"\n",
    "    with requests.get(url, headers=headers, stream=True, allow_redirects=True, cookies=cookies_jar) as r:\n",
    "        if r.status_code not in (200, 206):\n",
    "            raise RuntimeError(f\"HTTP {r.status_code} for {url}\")\n",
    "        total = int(r.headers.get(\"content-length\", 0)) + start\n",
    "        mode = \"ab\" if start > 0 else \"wb\"\n",
    "        with open(out_path, mode) as f, tqdm(total=total, initial=start, unit=\"B\", unit_scale=True, desc=out_path.name) as pbar:\n",
    "            for chunk in r.iter_content(chunk_size=1<<20):\n",
    "                if chunk:\n",
    "                    f.write(chunk)\n",
    "                    pbar.update(len(chunk))\n",
    "\n",
    "def verify_zip(zpath: pathlib.Path):\n",
    "    with zipfile.ZipFile(zpath) as z:\n",
    "        bad = z.testzip()\n",
    "        if bad:\n",
    "            raise RuntimeError(f\"ZIP corrupt: first bad file {bad}\")\n",
    "\n",
    "downloaded = []\n",
    "for fname in FILES:\n",
    "    url = f\"{BASE_URL}/{fname}\"\n",
    "    tmp = TMP_DIR / fname\n",
    "    print(f\"\\n[download] {url}\")\n",
    "    download_with_resume(url, tmp)\n",
    "    print(\"[verify] testing ZIP integrity…\")\n",
    "    verify_zip(tmp)\n",
    "    tgt = OUT_DIR / fname\n",
    "    shutil.copy2(tmp, tgt)\n",
    "    downloaded.append(tgt)\n",
    "    print(f\"[saved] {tgt}\")\n",
    "\n",
    "print(\"\\nDone. Archives in:\", OUT_DIR)\n",
    "for p in downloaded:\n",
    "    print(\" •\", p)\n"
   ]
  },
  {
   "cell_type": "code",
   "execution_count": 64,
   "id": "7a048bce",
   "metadata": {},
   "outputs": [
    {
     "name": "stdout",
     "output_type": "stream",
     "text": [
      "[info] Loaded cookies from C:\\Users\\irish\\Computer_Electronic_Engineering_Year5\\AVSR_project\\data_processing\\cookies.txt\n",
      "\n",
      "[download] https://sigmedia.tcd.ie/tcd_timit_db/lipspeakers/Lipspkr1/Clips/straightcam.zip\n"
     ]
    },
    {
     "name": "stderr",
     "output_type": "stream",
     "text": [
      "straightcam.zip: 31.9GB [47:45, 10.2MB/s]                    \n"
     ]
    },
    {
     "name": "stdout",
     "output_type": "stream",
     "text": [
      "[verify] testing ZIP integrity…\n",
      "[saved] C:\\Users\\irish\\Computer_Electronic_Engineering_Year5\\AVSR_project\\Data\\TCD_TIMIT\\lipspeakers\\Lipspkr1\\Clips\\straightcam.zip\n",
      "\n",
      "Done. Archives in: C:\\Users\\irish\\Computer_Electronic_Engineering_Year5\\AVSR_project\\Data\\TCD_TIMIT\\lipspeakers\\Lipspkr1\\Clips\n",
      " • C:\\Users\\irish\\Computer_Electronic_Engineering_Year5\\AVSR_project\\Data\\TCD_TIMIT\\lipspeakers\\Lipspkr1\\Clips\\straightcam.zip\n"
     ]
    }
   ],
   "source": [
    "# %% Download TCD-TIMIT bundles (volunteers OR lipspeakers)\n",
    "# - Safe Windows paths\n",
    "# - Resumable downloads\n",
    "# - ZIP integrity check\n",
    "\n",
    "# Use OS trust store on Windows\n",
    "import truststore\n",
    "truststore.inject_into_ssl()\n",
    "\n",
    "import os, zipfile, shutil, pathlib, http.cookiejar, requests\n",
    "from tqdm.auto import tqdm\n",
    "\n",
    "# --- EDIT THESE ONLY ----------------------------------------------------------\n",
    "GROUP        = \"lipspeakers\"             # \"volunteers\" or \"lipspeakers\"\n",
    "PERSON       = \"Lipspkr1\"                    # e.g. \"04M\" (volunteers) or \"Lipspkr1\" (lipspeakers)\n",
    "FILES        = [\"straightcam.zip\"]         # e.g. [\"straightcam.zip\",\"30degcam.zip\",\"audio.zip\",\"labels.zip\"]\n",
    "DATA_ROOT    = pathlib.Path(r\"C:\\Users\\irish\\Computer_Electronic_Engineering_Year5\\AVSR_project\\Data\\TCD_TIMIT\")\n",
    "COOKIES_PATH = pathlib.Path(r\"C:\\Users\\irish\\Computer_Electronic_Engineering_Year5\\AVSR_project\\data_processing\\cookies.txt\")\n",
    "# -----------------------------------------------------------------------------\n",
    "\n",
    "# Resolve base URL and local folders from GROUP/PERSON\n",
    "GROUP = GROUP.strip().lower()\n",
    "if GROUP not in {\"volunteers\", \"lipspeakers\"}:\n",
    "    raise ValueError(\"GROUP must be 'volunteers' or 'lipspeakers'\")\n",
    "\n",
    "BASE_URL = f\"https://sigmedia.tcd.ie/tcd_timit_db/{GROUP}/{PERSON}/Clips\"\n",
    "OUT_DIR  = DATA_ROOT / GROUP / PERSON / \"Clips\"\n",
    "TMP_DIR  = DATA_ROOT / \"_tmp\" / GROUP / PERSON / \"Clips\"\n",
    "\n",
    "OUT_DIR.mkdir(parents=True, exist_ok=True)\n",
    "TMP_DIR.mkdir(parents=True, exist_ok=True)\n",
    "\n",
    "# Optional cookies\n",
    "cookies_jar = None\n",
    "if COOKIES_PATH and COOKIES_PATH.exists():\n",
    "    try:\n",
    "        cj = http.cookiejar.MozillaCookieJar()\n",
    "        cj.load(str(COOKIES_PATH), ignore_discard=True, ignore_expires=True)\n",
    "        cookies_jar = cj\n",
    "        print(f\"[info] Loaded cookies from {COOKIES_PATH}\")\n",
    "    except Exception as e:\n",
    "        print(f\"[warn] Failed to load cookies ({e}). Proceeding without cookies.)\")\n",
    "\n",
    "def download_with_resume(url: str, out_path: pathlib.Path):\n",
    "    headers = {\"User-Agent\": \"Mozilla/5.0\"}\n",
    "    # Resume support\n",
    "    start = out_path.stat().st_size if out_path.exists() else 0\n",
    "    if start > 0:\n",
    "        headers[\"Range\"] = f\"bytes={start}-\"\n",
    "    with requests.get(url, headers=headers, stream=True, allow_redirects=True, cookies=cookies_jar) as r:\n",
    "        if r.status_code not in (200, 206):\n",
    "            raise RuntimeError(f\"HTTP {r.status_code} for {url}\")\n",
    "        total = int(r.headers.get(\"content-length\", 0)) + start\n",
    "        mode = \"ab\" if start > 0 else \"wb\"\n",
    "        with open(out_path, mode) as f, tqdm(\n",
    "            total=total, initial=start, unit=\"B\", unit_scale=True, desc=out_path.name\n",
    "        ) as pbar:\n",
    "            for chunk in r.iter_content(chunk_size=1<<20):\n",
    "                if chunk:\n",
    "                    f.write(chunk)\n",
    "                    pbar.update(len(chunk))\n",
    "\n",
    "def verify_zip(zpath: pathlib.Path):\n",
    "    with zipfile.ZipFile(zpath) as z:\n",
    "        bad = z.testzip()\n",
    "        if bad:\n",
    "            raise RuntimeError(f\"ZIP corrupt: first bad file {bad}\")\n",
    "\n",
    "downloaded = []\n",
    "for fname in FILES:\n",
    "    url = f\"{BASE_URL}/{fname}\"\n",
    "    tmp = TMP_DIR / fname\n",
    "    print(f\"\\n[download] {url}\")\n",
    "    download_with_resume(url, tmp)\n",
    "    print(\"[verify] testing ZIP integrity…\")\n",
    "    verify_zip(tmp)\n",
    "    tgt = OUT_DIR / fname\n",
    "    shutil.copy2(tmp, tgt)\n",
    "    downloaded.append(tgt)\n",
    "    print(f\"[saved] {tgt}\")\n",
    "\n",
    "print(\"\\nDone. Archives in:\", OUT_DIR)\n",
    "for p in downloaded:\n",
    "    print(\" •\", p)\n"
   ]
  },
  {
   "cell_type": "code",
   "execution_count": 67,
   "id": "93ef2920",
   "metadata": {},
   "outputs": [],
   "source": [
    "import time, zipfile, requests\n",
    "from pathlib import Path\n",
    "from requests.exceptions import ChunkedEncodingError, ConnectionError, Timeout, RequestException\n",
    "\n",
    "RETRY_MAX    = 12\n",
    "RETRY_SLEEP  = 30\n",
    "CHUNK        = 8 * (1<<20)   # 8 MiB\n",
    "TIMEOUT      = (15, 120)     # (connect, read)\n",
    "TRUNCATE_N   = 8 * (1<<20)   # trim 8 MiB on stubborn 416\n",
    "\n",
    "def _zip_ok(p: Path) -> bool:\n",
    "    try:\n",
    "        with zipfile.ZipFile(p) as z:\n",
    "            return z.testzip() is None\n",
    "    except zipfile.BadZipFile:\n",
    "        return False\n",
    "\n",
    "def _truncate_tail(p: Path, nbytes: int):\n",
    "    if not p.exists(): return\n",
    "    size = p.stat().st_size\n",
    "    with open(p, \"r+b\") as f:\n",
    "        f.truncate(max(0, size - nbytes))\n",
    "\n",
    "def download_with_resume(url: str, out_path: Path, cookies_jar=None):\n",
    "    out_path.parent.mkdir(parents=True, exist_ok=True)\n",
    "\n",
    "    for attempt in range(1, RETRY_MAX+1):\n",
    "        have = out_path.stat().st_size if out_path.exists() else 0\n",
    "        headers = {\"User-Agent\": \"Mozilla/5.0\"}\n",
    "        if have > 0:\n",
    "            headers[\"Range\"] = f\"bytes={have}-\"\n",
    "\n",
    "        print(f\"[try {attempt}] GET {url} (resume from {have:,} bytes)\")\n",
    "        try:\n",
    "            r = requests.get(\n",
    "                url, headers=headers, stream=True, allow_redirects=True,\n",
    "                timeout=TIMEOUT, cookies=cookies_jar\n",
    "            )\n",
    "\n",
    "            # If server returns 416, verify or truncate and retry\n",
    "            if r.status_code == 416:\n",
    "                print(\"[info] HTTP 416: checking existing ZIP on disk…\")\n",
    "                if _zip_ok(out_path):\n",
    "                    print(\"[verify] ZIP OK — download complete.\")\n",
    "                    return\n",
    "                print(\"[info] ZIP not valid yet; truncating tail and resuming…\")\n",
    "                _truncate_tail(out_path, TRUNCATE_N)\n",
    "                time.sleep(RETRY_SLEEP)\n",
    "                continue\n",
    "\n",
    "            if r.status_code not in (200, 206):\n",
    "                raise RuntimeError(f\"HTTP {r.status_code}\")\n",
    "\n",
    "            # If we asked for a Range but got 200 (full file), start over to avoid duplicate content\n",
    "            mode = \"wb\" if (have > 0 and r.status_code == 200) else (\"ab\" if have > 0 else \"wb\")\n",
    "            start = 0 if mode == \"wb\" else have\n",
    "            total = start + int(r.headers.get(\"content-length\", 0)) if r.headers.get(\"content-length\") else None\n",
    "\n",
    "            with open(out_path, mode) as f:\n",
    "                downloaded = start\n",
    "                for chunk in r.iter_content(chunk_size=CHUNK):\n",
    "                    if not chunk:\n",
    "                        continue\n",
    "                    f.write(chunk)\n",
    "                    downloaded += len(chunk)\n",
    "\n",
    "            # Verify after each attempt\n",
    "            if _zip_ok(out_path):\n",
    "                print(\"[verify] ZIP OK\")\n",
    "                return\n",
    "            else:\n",
    "                print(\"[verify] ZIP incomplete/corrupt — will resume.\")\n",
    "                time.sleep(RETRY_SLEEP)\n",
    "\n",
    "        except (ChunkedEncodingError, ConnectionError, Timeout, RequestException, RuntimeError) as e:\n",
    "            print(f\"[warn] Transfer issue: {e}\")\n",
    "            time.sleep(RETRY_SLEEP)\n",
    "\n",
    "    raise RuntimeError(f\"Failed to obtain a valid ZIP after {RETRY_MAX} attempts\")\n"
   ]
  },
  {
   "cell_type": "code",
   "execution_count": 68,
   "id": "5e19c6c6",
   "metadata": {},
   "outputs": [
    {
     "name": "stdout",
     "output_type": "stream",
     "text": [
      "\n",
      "[download] https://sigmedia.tcd.ie/tcd_timit_db/lipspeakers/Lipspkr1/Clips/straightcam.zip\n",
      "[try 1] GET https://sigmedia.tcd.ie/tcd_timit_db/lipspeakers/Lipspkr1/Clips/straightcam.zip (resume from 31,865,357,204 bytes)\n",
      "[info] HTTP 416: checking existing ZIP on disk…\n",
      "[verify] ZIP OK — download complete.\n",
      "[verify] testing ZIP integrity…\n",
      "[saved] C:\\Users\\irish\\Computer_Electronic_Engineering_Year5\\AVSR_project\\Data\\TCD_TIMIT\\lipspeakers\\Lipspkr1\\Clips\\straightcam.zip\n",
      "\n",
      "Done. Archives in: C:\\Users\\irish\\Computer_Electronic_Engineering_Year5\\AVSR_project\\Data\\TCD_TIMIT\\lipspeakers\\Lipspkr1\\Clips\n",
      " • C:\\Users\\irish\\Computer_Electronic_Engineering_Year5\\AVSR_project\\Data\\TCD_TIMIT\\lipspeakers\\Lipspkr1\\Clips\\straightcam.zip\n"
     ]
    }
   ],
   "source": [
    "downloaded = []\n",
    "for fname in FILES:\n",
    "    url = f\"{BASE_URL}/{fname}\"\n",
    "    tmp = TMP_DIR / fname\n",
    "    print(f\"\\n[download] {url}\")\n",
    "    download_with_resume(url, tmp)\n",
    "    print(\"[verify] testing ZIP integrity…\")\n",
    "    verify_zip(tmp)\n",
    "    tgt = OUT_DIR / fname\n",
    "    shutil.copy2(tmp, tgt)\n",
    "    downloaded.append(tgt)\n",
    "    print(f\"[saved] {tgt}\")\n",
    "\n",
    "print(\"\\nDone. Archives in:\", OUT_DIR)\n",
    "for p in downloaded:\n",
    "    print(\" •\", p)"
   ]
  },
  {
   "cell_type": "code",
   "execution_count": 69,
   "id": "d6e7f401",
   "metadata": {},
   "outputs": [],
   "source": [
    "import os, io, time, shutil, zipfile\n",
    "from pathlib import Path\n",
    "from tqdm.auto import tqdm\n",
    "\n",
    "def unzip_with_progress(\n",
    "    zpath: Path,\n",
    "    dest: Path,\n",
    "    *,\n",
    "    skip_existing: bool = True,\n",
    "    verify_zip: bool = True,\n",
    "    strip_top_dir: bool = False,   # if the zip has a single top-level folder, drop it\n",
    "    fail_if_low_space: bool = True,\n",
    "    space_safety_margin: float = 1.10,  # require 10% headroom above uncompressed size\n",
    ") -> list[Path]:\n",
    "    \"\"\"\n",
    "    Extracts `zpath` into `dest` safely, with progress and optional skipping of existing files.\n",
    "    Returns a list of extracted file paths.\n",
    "    \"\"\"\n",
    "\n",
    "    zpath = Path(zpath)\n",
    "    dest  = Path(dest)\n",
    "    if not zpath.exists():\n",
    "        raise FileNotFoundError(zpath)\n",
    "    dest.mkdir(parents=True, exist_ok=True)\n",
    "\n",
    "    with zipfile.ZipFile(zpath) as z:\n",
    "        if verify_zip:\n",
    "            bad = z.testzip()\n",
    "            if bad:\n",
    "                raise RuntimeError(f\"ZIP is corrupt; first bad file: {bad}\")\n",
    "\n",
    "        infos = [m for m in z.infolist() if not m.is_dir()]\n",
    "        if not infos:\n",
    "            return []\n",
    "\n",
    "        # Optionally strip a single top-level directory\n",
    "        if strip_top_dir:\n",
    "            parts = [i.filename.split('/', 1)[0] for i in infos]\n",
    "            top_candidates = {p for p in parts if p}\n",
    "            if len(top_candidates) == 1:\n",
    "                top = next(iter(top_candidates)) + '/'\n",
    "                for i in infos:\n",
    "                    if i.filename.startswith(top):\n",
    "                        i._filename = i.filename[len(top):]  # type: ignore[attr-defined]\n",
    "                # fall back to original name if not set\n",
    "                def _name(i): return getattr(i, \"_filename\", i.filename)\n",
    "            else:\n",
    "                def _name(i): return i.filename\n",
    "        else:\n",
    "            def _name(i): return i.filename\n",
    "\n",
    "        # Disk space check (rough)\n",
    "        total_uncompressed = sum(i.file_size for i in infos)\n",
    "        free = shutil.disk_usage(dest).free\n",
    "        if fail_if_low_space and total_uncompressed * space_safety_margin > free:\n",
    "            raise RuntimeError(\n",
    "                f\"Not enough free space: need ~{total_uncompressed/1e9:.2f} GB \"\n",
    "                f\"(+margin), have {free/1e9:.2f} GB\"\n",
    "            )\n",
    "\n",
    "        # Helper: avoid zip-slip\n",
    "        dest_real = dest.resolve()\n",
    "        def _safe_target(name: str) -> Path:\n",
    "            # normalize separators and drop leading slashes\n",
    "            name = name.replace(\"\\\\\", \"/\").lstrip(\"/\")\n",
    "            target = (dest_real / name).resolve()\n",
    "            if not str(target).startswith(str(dest_real)):\n",
    "                raise RuntimeError(f\"Blocked unsafe path in ZIP: {name}\")\n",
    "            target.parent.mkdir(parents=True, exist_ok=True)\n",
    "            return target\n",
    "\n",
    "        extracted = []\n",
    "        pbar = tqdm(total=total_uncompressed, unit=\"B\", unit_scale=True, desc=f\"Extracting {zpath.name}\")\n",
    "        for info in infos:\n",
    "            name = _name(info)\n",
    "            if not name or name.endswith(\"/\"):\n",
    "                continue\n",
    "            tgt = _safe_target(name)\n",
    "\n",
    "            if skip_existing and tgt.exists() and tgt.stat().st_size == info.file_size:\n",
    "                pbar.update(info.file_size)\n",
    "                continue\n",
    "\n",
    "            # Stream copy to show incremental progress\n",
    "            with z.open(info) as src, open(tgt, \"wb\") as dst:\n",
    "                for chunk in iter(lambda: src.read(1<<20), b\"\"):\n",
    "                    dst.write(chunk)\n",
    "                    pbar.update(len(chunk))\n",
    "\n",
    "            # Preserve modified time if available\n",
    "            try:\n",
    "                ts = time.mktime((*info.date_time, 0, 0, -1))\n",
    "                os.utime(tgt, (ts, ts))\n",
    "            except Exception:\n",
    "                pass\n",
    "\n",
    "            extracted.append(tgt)\n",
    "\n",
    "        pbar.close()\n",
    "        return extracted\n"
   ]
  },
  {
   "cell_type": "code",
   "execution_count": 70,
   "id": "fb6193d7",
   "metadata": {},
   "outputs": [
    {
     "name": "stderr",
     "output_type": "stream",
     "text": [
      "Extracting straightcam.zip: 100%|██████████| 29.5G/29.5G [09:36<00:00, 51.2MB/s]  \n"
     ]
    },
    {
     "name": "stdout",
     "output_type": "stream",
     "text": [
      "Extracted 1509 files.\n"
     ]
    }
   ],
   "source": [
    "zip_file = Path(r\"C:\\Users\\irish\\Computer_Electronic_Engineering_Year5\\AVSR_project\\Data\\TCD_TIMIT\\lipspeakers\\Lipspkr1\\Clips\\straightcam.zip\")\n",
    "out_dir  = Path(r\"C:\\Users\\irish\\Computer_Electronic_Engineering_Year5\\AVSR_project\\Data\\TCD_TIMIT\\lipspeakers\\Lipspkr1\\Clips\")\n",
    "\n",
    "files = unzip_with_progress(\n",
    "    zip_file, out_dir,\n",
    "    skip_existing=True,\n",
    "    verify_zip=True,\n",
    "    strip_top_dir=False\n",
    ")\n",
    "print(f\"Extracted {len(files)} files.\")"
   ]
  },
  {
   "cell_type": "code",
   "execution_count": 2,
   "id": "49a847b2",
   "metadata": {},
   "outputs": [
    {
     "name": "stdout",
     "output_type": "stream",
     "text": [
      "[straightcam] moved: 0 video, 0 audio, 0 landmarks, 0 transcripts.\n",
      "Video  -> C:\\Users\\irish\\Computer_Electronic_Engineering_Year5\\AVSR_project\\Data\\TCD_TIMIT\\lipspeakers\\Lipspkr1\\Clips\\video\\straightcam\n",
      "Audio  -> C:\\Users\\irish\\Computer_Electronic_Engineering_Year5\\AVSR_project\\Data\\TCD_TIMIT\\lipspeakers\\Lipspkr1\\Clips\\audio\\straightcam\n",
      "LMKs   -> C:\\Users\\irish\\Computer_Electronic_Engineering_Year5\\AVSR_project\\Data\\TCD_TIMIT\\lipspeakers\\Lipspkr1\\Clips\\landmarks\\straightcam\n",
      "Texts  -> C:\\Users\\irish\\Computer_Electronic_Engineering_Year5\\AVSR_project\\Data\\TCD_TIMIT\\lipspeakers\\Lipspkr1\\Clips\\transcripts\\straightcam\n"
     ]
    }
   ],
   "source": [
    "# Split an unzipped camera-angle folder into video/audio/landmarks/transcripts\n",
    "# and place them under: TCD_TIMIT/volunteers/<VOL>/Clips/{video,audio,landmarks,transcripts}/<ANGLE>\n",
    "\n",
    "import os, shutil\n",
    "from pathlib import Path\n",
    "\n",
    "# ---- EDIT THESE THREE ONLY ----\n",
    "GROUP = \"lipspeakers\"\n",
    "VOL   = \"Lipspkr1\"\n",
    "ANGLE = \"straightcam\"   # e.g., \"straightcam\" or \"30degcam\"\n",
    "# Path where you unzipped the camera angle (i.e., where the .mp4/.wav/.mat/.txt are now)\n",
    "PATH_TO_UNZIPPED = Path(r\"C:\\Users\\irish\\Computer_Electronic_Engineering_Year5\\AVSR_project\\Data\\TCD_TIMIT\")\n",
    "PATH_TO_UNZIPPED = PATH_TO_UNZIPPED / GROUP / VOL / \"Clips\" / ANGLE\n",
    "# --------------------------------\n",
    "\n",
    "DATA_ROOT = Path(r\"C:\\Users\\irish\\Computer_Electronic_Engineering_Year5\\AVSR_project\\Data\\TCD_TIMIT\")\n",
    "OUT_DIR   = DATA_ROOT / GROUP / VOL / \"Clips\"\n",
    "\n",
    "SRC_DIR = PATH_TO_UNZIPPED\n",
    "assert SRC_DIR.exists(), f\"Source folder not found: {SRC_DIR}\"\n",
    "\n",
    "# Destinations (this is the “correct format” you wanted)\n",
    "VIDEO_DIR       = OUT_DIR / \"video\"       / ANGLE\n",
    "AUDIO_DIR       = OUT_DIR / \"audio\"       / ANGLE\n",
    "LANDMARKS_DIR   = OUT_DIR / \"landmarks\"   / ANGLE  # .mat (raw landmark files)\n",
    "TRANSCRIPTS_DIR = OUT_DIR / \"transcripts\" / ANGLE  # .txt\n",
    "\n",
    "for d in [VIDEO_DIR, AUDIO_DIR, LANDMARKS_DIR, TRANSCRIPTS_DIR]:\n",
    "    d.mkdir(parents=True, exist_ok=True)\n",
    "\n",
    "def safe_move(src: Path, dst_dir: Path, overwrite=False):\n",
    "    dst = dst_dir / src.name\n",
    "    if dst.exists():\n",
    "        if overwrite:\n",
    "            dst.unlink()\n",
    "        else:\n",
    "            # keep existing; place a numbered suffix\n",
    "            stem, suf = src.stem, src.suffix\n",
    "            k = 1\n",
    "            while True:\n",
    "                cand = dst_dir / f\"{stem}__dup{k}{suf}\"\n",
    "                if not cand.exists():\n",
    "                    dst = cand\n",
    "                    break\n",
    "                k += 1\n",
    "    shutil.move(str(src), str(dst))\n",
    "    return dst\n",
    "\n",
    "moved = {\"video\":0, \"audio\":0, \"landmarks\":0, \"transcripts\":0}\n",
    "\n",
    "# Move by extension\n",
    "for p in SRC_DIR.glob(\"*.mp4\"):\n",
    "    safe_move(p, VIDEO_DIR);       moved[\"video\"] += 1\n",
    "for p in SRC_DIR.glob(\"*.wav\"):\n",
    "    safe_move(p, AUDIO_DIR);       moved[\"audio\"] += 1\n",
    "for p in SRC_DIR.glob(\"*.mat\"):\n",
    "    safe_move(p, LANDMARKS_DIR);   moved[\"landmarks\"] += 1\n",
    "for p in SRC_DIR.glob(\"*.txt\"):\n",
    "    safe_move(p, TRANSCRIPTS_DIR); moved[\"transcripts\"] += 1\n",
    "\n",
    "print(f\"[{ANGLE}] moved: \"\n",
    "      f'{moved[\"video\"]} video, '\n",
    "      f'{moved[\"audio\"]} audio, '\n",
    "      f'{moved[\"landmarks\"]} landmarks, '\n",
    "      f'{moved[\"transcripts\"]} transcripts.')\n",
    "\n",
    "print(\"Video  ->\", VIDEO_DIR)\n",
    "print(\"Audio  ->\", AUDIO_DIR)\n",
    "print(\"LMKs   ->\", LANDMARKS_DIR)\n",
    "print(\"Texts  ->\", TRANSCRIPTS_DIR)\n"
   ]
  },
  {
   "cell_type": "markdown",
   "id": "664b6cf2",
   "metadata": {},
   "source": [
    "## Edit this cell to point to what is being processed "
   ]
  },
  {
   "cell_type": "markdown",
   "id": "48d5305b",
   "metadata": {},
   "source": [
    "## 0. Runtime & dependencies"
   ]
  },
  {
   "cell_type": "code",
   "execution_count": 1,
   "id": "d2a3fee1",
   "metadata": {},
   "outputs": [
    {
     "name": "stdout",
     "output_type": "stream",
     "text": [
      "ffmpeg in PATH: True\n",
      "Python: c:\\Users\\irish\\Computer_Electronic_Engineering_Year5\\AVSR_project\\.venv\\Scripts\\python.exe\n",
      "Platform: Windows-11-10.0.26100-SP0\n"
     ]
    }
   ],
   "source": [
    "# Minimal deps for this notebook (if your venv is fresh)\n",
    "import sys, subprocess, os, platform\n",
    "\n",
    "def pipi(pkg): \n",
    "    try: __import__(pkg.split(\"==\")[0])\n",
    "    except Exception: subprocess.run([sys.executable, \"-m\", \"pip\", \"install\", pkg], check=True)\n",
    "\n",
    "for pkg in [\"numpy\", \"opencv-python\", \"tqdm\", \"scikit-video\", \"scipy\", \"soundfile\", \"pillow\", \"dlib\"]:\n",
    "    pipi(pkg)\n",
    "\n",
    "# Make sure ffmpeg is on PATH (or set the folder below)\n",
    "FFMPEG_DIR = r\"C:\\ffmpeg\\bin\"  # change if needed\n",
    "os.environ[\"PATH\"] = FFMPEG_DIR + os.pathsep + os.environ[\"PATH\"]\n",
    "print(\"ffmpeg in PATH:\", any(\"ffmpeg\" in p.lower() for p in os.environ[\"PATH\"].split(os.pathsep)))\n",
    "print(\"Python:\", sys.executable)\n",
    "print(\"Platform:\", platform.platform())\n"
   ]
  },
  {
   "cell_type": "code",
   "execution_count": 2,
   "id": "954a5184",
   "metadata": {},
   "outputs": [
    {
     "name": "stdout",
     "output_type": "stream",
     "text": [
      "FFmpeg OK: C:\\Users\\irish\\AppData\\Local\\Microsoft\\WinGet\\Packages\\Gyan.FFmpeg_Microsoft.Winget.Source_8wekyb3d8bbwe\\ffmpeg-8.0-full_build\\bin\\ffmpeg.EXE\n",
      "Environment ready.\n"
     ]
    }
   ],
   "source": [
    "\n",
    "# Minimal deps + cross-platform FFmpeg check (no apt on Windows/macOS)\n",
    "import sys, os, shutil, subprocess\n",
    "from pathlib import Path\n",
    "import subprocess, shutil\n",
    "\n",
    "def sh(args):\n",
    "    print(\">>\", \" \".join(args) if isinstance(args, list) else args)\n",
    "    subprocess.run(args, check=True, shell=isinstance(args, str))\n",
    "\n",
    "def pip_install(pkg):\n",
    "    sh([sys.executable, \"-m\", \"pip\", \"install\", \"-q\", pkg])\n",
    "\n",
    "# --- Python deps ---\n",
    "try:\n",
    "    import cv2  # noqa\n",
    "except Exception:\n",
    "    pip_install(\"opencv-python-headless==4.8.*\")\n",
    "\n",
    "for mod, spec in [(\"sentencepiece\",\"sentencepiece\"),\n",
    "                  (\"numpy\",\"numpy==1.26.*\"),\n",
    "                  (\"scipy\",\"scipy==1.11.*\"),\n",
    "                  (\"tqdm\",\"tqdm\")]:\n",
    "    try:\n",
    "        __import__(mod)\n",
    "    except Exception:\n",
    "        pip_install(spec)\n",
    "\n",
    "# --- FFmpeg presence check (no auto-install on Windows/macOS) ---\n",
    "ffmpeg_path = shutil.which(\"ffmpeg\")\n",
    "ffprobe_path = shutil.which(\"ffprobe\")\n",
    "\n",
    "if ffmpeg_path and ffprobe_path:\n",
    "    print(f\"FFmpeg OK: {ffmpeg_path}\")\n",
    "else:\n",
    "    if sys.platform.startswith(\"win\"):\n",
    "        raise SystemExit(\n",
    "            \"FFmpeg not found on PATH.\\n\"\n",
    "            \"Install it once via ONE of these options, then restart VS Code/Terminal:\\n\"\n",
    "            \"  • winget install -e --id Gyan.FFmpeg\\n\"\n",
    "            \"  • choco install ffmpeg    (if you use Chocolatey)\\n\"\n",
    "            \"  • scoop install ffmpeg    (if you use Scoop)\\n\"\n",
    "            \"  • conda install -c conda-forge ffmpeg  (if you use Conda)\\n\"\n",
    "            \"After install, ensure the folder containing ffmpeg.exe/ffplay.exe is in PATH.\"\n",
    "        )\n",
    "    elif sys.platform == \"darwin\":\n",
    "        raise SystemExit(\n",
    "            \"FFmpeg not found. On macOS run:\\n\"\n",
    "            \"  brew install ffmpeg\\n\"\n",
    "            \"Then restart your terminal and rerun this cell.\"\n",
    "        )\n",
    "    else:\n",
    "        # Linux: try apt-get if available, else instruct user\n",
    "        if shutil.which(\"apt-get\"):\n",
    "            sh(\"sudo apt-get update -y && sudo apt-get install -y ffmpeg\")\n",
    "            print(\"FFmpeg installed via apt.\")\n",
    "        elif shutil.which(\"yum\"):\n",
    "            sh(\"sudo yum install -y ffmpeg\")\n",
    "            print(\"FFmpeg installed via yum.\")\n",
    "        else:\n",
    "            raise SystemExit(\n",
    "                \"FFmpeg not found and no known package manager detected.\\n\"\n",
    "                \"Install via your distro’s package manager and retry.\"\n",
    "            )\n",
    "\n",
    "print(\"Environment ready.\")\n"
   ]
  },
  {
   "cell_type": "markdown",
   "id": "1f675b8b",
   "metadata": {},
   "source": [
    "## 1. Config — paths and options"
   ]
  },
  {
   "cell_type": "code",
   "execution_count": 3,
   "id": "d4c9a6c1",
   "metadata": {},
   "outputs": [],
   "source": [
    "from pathlib import Path\n",
    "\n",
    "# --- project roots ---\n",
    "DATA_ROOT  = Path(r\"C:\\Users\\irish\\Computer_Electronic_Engineering_Year5\\AVSR_project\\Data\\TCD_TIMIT\")\n",
    "GROUP = \"lipspeakers\"\n",
    "SPEAKER    = \"Lipspkr1\"                 # e.g. \"01M\",\"02M\"\n",
    "CAM_ANGLE  = \"straightcam\"         # or \"30degcam\"\n",
    "\n",
    "# --- inputs (after your 30->25fps + 48k->16k conversions) ---\n",
    "VID25_DIR   = DATA_ROOT / f\"{GROUP}/{SPEAKER}/Clips/processed/video25/{CAM_ANGLE}\"\n",
    "AUDIO16_DIR = DATA_ROOT / f\"{GROUP}/{SPEAKER}/Clips/processed/audio16k/{CAM_ANGLE}\"\n",
    "TEXT_DIR    = DATA_ROOT / f\"{GROUP}/{SPEAKER}/Clips/text/{CAM_ANGLE}\"  # optional\n",
    "\n",
    "# --- outputs ---\n",
    "LMK_DIR   = DATA_ROOT / f\"{GROUP}/{SPEAKER}/Clips/processed/landmarks/{CAM_ANGLE}\"   # .pkl\n",
    "ROI88_DIR = DATA_ROOT / f\"{GROUP}/{SPEAKER}/Clips/processed/video/{CAM_ANGLE}\"        # 88x88 mp4s\n",
    "LMK_DIR.mkdir(parents=True, exist_ok=True)\n",
    "ROI88_DIR.mkdir(parents=True, exist_ok=True)\n",
    "\n",
    "# --- tools / models ---\n",
    "AVH_REPO  = Path(r\"C:\\Users\\irish\\Computer_Electronic_Engineering_Year5\\AVSR_project\\av_hubert\\av_hubert\")\n",
    "DETECT_PY = AVH_REPO / r\"avhubert\\preparation\\detect_landmark.py\"\n",
    "\n",
    "DLIB_CNN  = Path(r\"C:\\models\\dlib\\mmod_human_face_detector.dat\")\n",
    "DLIB_L68  = Path(r\"C:\\models\\dlib\\shape_predictor_68_face_landmarks.dat\")\n",
    "FFMPEG_DIR = Path(r\"C:\\Users\\irish\\AppData\\Local\\Microsoft\\WinGet\\Packages\\Gyan.FFmpeg_Microsoft.Winget.Source_8wekyb3d8bbwe\\ffmpeg-8.0-full_build\\bin\")\n"
   ]
  },
  {
   "cell_type": "code",
   "execution_count": 4,
   "id": "10c95051",
   "metadata": {},
   "outputs": [
    {
     "name": "stdout",
     "output_type": "stream",
     "text": [
      "[ok] wrote c:\\Users\\irish\\Computer_Electronic_Engineering_Year5\\AVSR_project\\.venv\\Lib\\site-packages\\sitecustomize.py\n",
      "sitecustomize found at: c:\\Users\\irish\\Computer_Electronic_Engineering_Year5\\AVSR_project\\.venv\\Lib\\site-packages\\sitecustomize.py\n"
     ]
    }
   ],
   "source": [
    "# Create a sitecustomize shim inside your active venv\n",
    "import sys, site, pathlib\n",
    "\n",
    "# Find site-packages for the current interpreter\n",
    "sp = next(p for p in site.getsitepackages() if \"site-packages\" in p)\n",
    "shim = pathlib.Path(sp) / \"sitecustomize.py\"\n",
    "shim.write_text(\n",
    "    \"import numpy as _np\\n\"\n",
    "    \"if not hasattr(_np, 'float'): _np.float = float\\n\"\n",
    "    \"if not hasattr(_np, 'int'): _np.int = int\\n\"\n",
    "    \"if not hasattr(_np, 'bool'): _np.bool = bool\\n\"\n",
    ")\n",
    "print(f\"[ok] wrote {shim}\")\n",
    "\n",
    "# (Optional) show where Python will import sitecustomize from\n",
    "import importlib, importlib.util\n",
    "spec = importlib.util.find_spec(\"sitecustomize\")\n",
    "print(\"sitecustomize found at:\", spec.origin if spec else \"NOT FOUND\")\n"
   ]
  },
  {
   "cell_type": "markdown",
   "id": "537364ea",
   "metadata": {},
   "source": [
    "## 2. Utilities — media I/O & helpers"
   ]
  },
  {
   "cell_type": "code",
   "execution_count": 5,
   "id": "ccf90180",
   "metadata": {},
   "outputs": [],
   "source": [
    "import subprocess, json, os\n",
    "from pathlib import Path\n",
    "\n",
    "def run(cmd: list | str) -> None:\n",
    "    cmd_str = \" \".join(cmd) if isinstance(cmd, list) else cmd\n",
    "    print(\">>\", cmd_str)\n",
    "    subprocess.run(cmd_str, shell=True, check=True)\n",
    "\n",
    "def ensure_dir(p: Path):\n",
    "    p.mkdir(parents=True, exist_ok=True)\n",
    "\n",
    "def convert_audio(in_wav: Path, out_wav: Path, sr: int = 16000):\n",
    "    ensure_dir(out_wav.parent)\n",
    "    run([\n",
    "        \"ffmpeg -y -v error\",\n",
    "        f'-i \"{in_wav}\"',\n",
    "        \"-ac 1\",\n",
    "        f\"-ar {sr}\",\n",
    "        \"-c:a pcm_s16le\",\n",
    "        f'\"{out_wav}\"'\n",
    "    ])\n",
    "\n",
    "def convert_video_fps(in_mp4: Path, out_mp4: Path, fps: int = 25):\n",
    "    ensure_dir(out_mp4.parent)\n",
    "    run([\n",
    "        \"ffmpeg -y -v error\",\n",
    "        f'-i \"{in_mp4}\"',\n",
    "        f\"-r {fps}\",\n",
    "        \"-c:v libx264 -preset veryfast -crf 18 -pix_fmt yuv420p\",\n",
    "        f'\"{out_mp4}\"'\n",
    "    ])\n",
    "\n",
    "# Optional: quick probe utilities\n",
    "def ffprobe_json(path: Path) -> dict:\n",
    "    out = subprocess.check_output(\n",
    "        f'ffprobe -v error -print_format json -show_format -show_streams \"{path}\"',\n",
    "        shell=True\n",
    "    ).decode(\"utf-8\")\n",
    "    return json.loads(out)\n",
    "\n",
    "def count_video_frames(mp4_path: Path) -> int:\n",
    "    info = ffprobe_json(mp4_path)\n",
    "    for st in info.get(\"streams\", []):\n",
    "        if st.get(\"codec_type\") == \"video\":\n",
    "            nb = st.get(\"nb_frames\")\n",
    "            if nb and nb != \"N/A\":\n",
    "                return int(nb)\n",
    "    return 0\n"
   ]
  },
  {
   "cell_type": "markdown",
   "id": "2f3a0446",
   "metadata": {},
   "source": [
    "## 3. Convert media (30 fps/48 kHz → 25 fps/16 kHz) and crop ROI"
   ]
  },
  {
   "cell_type": "code",
   "execution_count": 9,
   "id": "3f3b1c49",
   "metadata": {},
   "outputs": [
    {
     "name": "stdout",
     "output_type": "stream",
     "text": [
      "Found 377 MP4s under C:\\Users\\irish\\Computer_Electronic_Engineering_Year5\\AVSR_project\\Data\\TCD_TIMIT\\lipspeakers\\Lipspkr1\\Clips\\processed\\video25\\straightcam\n",
      "First: C:\\Users\\irish\\Computer_Electronic_Engineering_Year5\\AVSR_project\\Data\\TCD_TIMIT\\lipspeakers\\Lipspkr1\\Clips\\processed\\video25\\straightcam\\sa1.mp4\n",
      "[ok] wrote C:\\Users\\irish\\Computer_Electronic_Engineering_Year5\\AVSR_project\\Data\\TCD_TIMIT\\file.list (377 lines)\n",
      "  e.g. lipspeakers/Lipspkr1/Clips/processed/video25/straightcam/sa1\n",
      "\n",
      "Ready for landmark detection.\n",
      "Variables available: MANIFEST_LIST, LMK_DIR, DATA_ROOT, DETECT_PY, DLIB_CNN, DLIB_L68\n"
     ]
    }
   ],
   "source": [
    "import sys, os, subprocess\n",
    "from pathlib import Path\n",
    "\n",
    "# === Configure per run ===\n",
    "DATA_ROOT  = Path(r\"C:\\Users\\irish\\Computer_Electronic_Engineering_Year5\\AVSR_project\\Data\\TCD_TIMIT\")\n",
    "GROUP = \"lipspeakers\"                     # \"volunteers\" or \"lipspeakers\"\n",
    "SPEAKER    = \"Lipspkr1\"                           # e.g., \"01M\", \"02M\"\n",
    "CAM_ANGLE  = \"straightcam\"                   # or \"30degcam\"\n",
    "FFMPEG_DIR = Path(r\"C:\\Users\\irish\\AppData\\Local\\Microsoft\\WinGet\\Packages\\Gyan.FFmpeg_Microsoft.Winget.Source_8wekyb3d8bbwe\\ffmpeg-8.0-full_build\\bin\")\n",
    "\n",
    "# AV-HuBERT detect script + dlib models\n",
    "DETECT_PY  = Path(r\"C:\\Users\\irish\\Computer_Electronic_Engineering_Year5\\AVSR_project\\av_hubert\\av_hubert\\avhubert\\preparation\\detect_landmark.py\")\n",
    "DLIB_CNN   = Path(r\"C:\\models\\dlib\\mmod_human_face_detector.dat\")\n",
    "DLIB_L68   = Path(r\"C:\\models\\dlib\\shape_predictor_68_face_landmarks.dat\")\n",
    "\n",
    "# Inputs (25fps full-face) and desired landmarks dir\n",
    "VID25_DIR  = DATA_ROOT / f\"{GROUP}/{SPEAKER}/Clips/processed/video25/{CAM_ANGLE}\"\n",
    "LMK_DIR    = DATA_ROOT / f\"{GROUP}/{SPEAKER}/Clips/processed/landmarks/{CAM_ANGLE}\"\n",
    "LMK_DIR.mkdir(parents=True, exist_ok=True)\n",
    "\n",
    "# 1) Tool checks\n",
    "assert DETECT_PY.exists(), f\"Missing: {DETECT_PY}\"\n",
    "assert (FFMPEG_DIR / \"ffmpeg.exe\").exists(), \"ffmpeg.exe not found\"\n",
    "assert (FFMPEG_DIR / \"ffprobe.exe\").exists(), \"ffprobe.exe not found\"\n",
    "assert DLIB_CNN.exists(), f\"Missing: {DLIB_CNN}\"\n",
    "assert DLIB_L68.exists(), f\"Missing: {DLIB_L68}\"\n",
    "\n",
    "# 2) Runtime deps needed by detect_landmark.py\n",
    "for pkg in (\"scikit-video\", \"tqdm\", \"opencv-python\", \"numpy<2.0\"):  # numpy<2 avoids skvideo np.float issues\n",
    "    try:\n",
    "        __import__(pkg.replace(\"-\", \"_\").split(\"<\")[0])\n",
    "    except Exception:\n",
    "        subprocess.run([sys.executable, \"-m\", \"pip\", \"install\", \"-q\", pkg], check=True)\n",
    "\n",
    "# 3) Collect videos\n",
    "mp4s = sorted(VID25_DIR.rglob(\"*.mp4\"))\n",
    "print(f\"Found {len(mp4s)} MP4s under {VID25_DIR}\")\n",
    "if mp4s:\n",
    "    print(\"First:\", mp4s[0])\n",
    "\n",
    "# 4) Build manifest (relative to DATA_ROOT, strip .mp4)\n",
    "rel_noext = [str(p.relative_to(DATA_ROOT).with_suffix(\"\")).replace(\"\\\\\",\"/\") for p in mp4s]\n",
    "MANIFEST_LIST = DATA_ROOT / \"file.list\"\n",
    "MANIFEST_LIST.write_text(\"\\n\".join(rel_noext), encoding=\"utf-8\")\n",
    "print(f\"[ok] wrote {MANIFEST_LIST} ({len(rel_noext)} lines)\")\n",
    "print(\"  e.g.\", rel_noext[0] if rel_noext else \"(none)\")\n",
    "\n",
    "# 5) Put ffmpeg on PATH for skvideo\n",
    "os.environ[\"PATH\"] = str(FFMPEG_DIR) + os.pathsep + os.environ.get(\"PATH\",\"\")\n",
    "subprocess.run(\"ffmpeg -hide_banner -version\", shell=True, check=True)\n",
    "subprocess.run(\"ffprobe -hide_banner -version\", shell=True, check=True)\n",
    "\n",
    "# Expose for next cells\n",
    "print(\"\\nReady for landmark detection.\")\n",
    "print(\"Variables available: MANIFEST_LIST, LMK_DIR, DATA_ROOT, DETECT_PY, DLIB_CNN, DLIB_L68\")\n"
   ]
  },
  {
   "cell_type": "markdown",
   "id": "6161a9f6",
   "metadata": {},
   "source": [
    "## Convert Video and Audio"
   ]
  },
  {
   "cell_type": "code",
   "execution_count": 8,
   "id": "5e55dad5",
   "metadata": {},
   "outputs": [],
   "source": [
    "# --- Config & imports for the 25 fps / 16 kHz conversion ---\n",
    "from pathlib import Path\n",
    "import os, subprocess\n",
    "\n",
    "# Where the dataset lives\n",
    "DATA_ROOT = Path(r\"C:\\Users\\irish\\Computer_Electronic_Engineering_Year5\\AVSR_project\\Data\\TCD_TIMIT\")\n",
    "\n",
    "# Who and which camera angles to process\n",
    "GROUP    = \"lipspeakers\"               # \"volunteers\" or \"lipspeakers\"\n",
    "SPEAKERS = [\"Lipspkr1\"]                     # add more later, e.g. [\"01M\",\"02M\"]\n",
    "CAMS     = [\"straightcam\", \"30degcam\"] # process one or both\n",
    "\n",
    "# Target formats\n",
    "TARGET_FPS = 25\n",
    "TARGET_SR  = 16000\n",
    "\n",
    "# (Optional) If ffmpeg isn’t on PATH, point this to your bin folder:\n",
    "FFMPEG_DIR = Path(r\"C:\\Users\\irish\\AppData\\Local\\Microsoft\\WinGet\\Packages\\Gyan.FFmpeg_Microsoft.Winget.Source_8wekyb3d8bbwe\\ffmpeg-8.0-full_build\\bin\")\n",
    "if (FFMPEG_DIR / \"ffmpeg.exe\").exists():\n",
    "    os.environ[\"PATH\"] = str(FFMPEG_DIR) + os.pathsep + os.environ.get(\"PATH\", \"\")"
   ]
  },
  {
   "cell_type": "code",
   "execution_count": 76,
   "id": "41b5a105",
   "metadata": {},
   "outputs": [
    {
     "name": "stdout",
     "output_type": "stream",
     "text": [
      ">> ffmpeg -y -v error -i \"C:\\Users\\irish\\Computer_Electronic_Engineering_Year5\\AVSR_project\\Data\\TCD_TIMIT\\lipspeakers\\Lipspkr1\\Clips\\audio\\straightcam\\sa1.wav\" -ac 1 -ar 16000 -c:a pcm_s16le \"C:\\Users\\irish\\Computer_Electronic_Engineering_Year5\\AVSR_project\\Data\\TCD_TIMIT\\lipspeakers\\Lipspkr1\\Clips\\processed\\audio16k\\straightcam\\sa1.wav\"\n",
      ">> ffmpeg -y -v error -i \"C:\\Users\\irish\\Computer_Electronic_Engineering_Year5\\AVSR_project\\Data\\TCD_TIMIT\\lipspeakers\\Lipspkr1\\Clips\\audio\\straightcam\\sa2.wav\" -ac 1 -ar 16000 -c:a pcm_s16le \"C:\\Users\\irish\\Computer_Electronic_Engineering_Year5\\AVSR_project\\Data\\TCD_TIMIT\\lipspeakers\\Lipspkr1\\Clips\\processed\\audio16k\\straightcam\\sa2.wav\"\n",
      ">> ffmpeg -y -v error -i \"C:\\Users\\irish\\Computer_Electronic_Engineering_Year5\\AVSR_project\\Data\\TCD_TIMIT\\lipspeakers\\Lipspkr1\\Clips\\audio\\straightcam\\si1001.wav\" -ac 1 -ar 16000 -c:a pcm_s16le \"C:\\Users\\irish\\Computer_Electronic_Engineering_Year5\\AVSR_project\\Data\\TCD_TIMIT\\lipspeakers\\Lipspkr1\\Clips\\processed\\audio16k\\straightcam\\si1001.wav\"\n",
      ">> ffmpeg -y -v error -i \"C:\\Users\\irish\\Computer_Electronic_Engineering_Year5\\AVSR_project\\Data\\TCD_TIMIT\\lipspeakers\\Lipspkr1\\Clips\\audio\\straightcam\\si1002.wav\" -ac 1 -ar 16000 -c:a pcm_s16le \"C:\\Users\\irish\\Computer_Electronic_Engineering_Year5\\AVSR_project\\Data\\TCD_TIMIT\\lipspeakers\\Lipspkr1\\Clips\\processed\\audio16k\\straightcam\\si1002.wav\"\n",
      ">> ffmpeg -y -v error -i \"C:\\Users\\irish\\Computer_Electronic_Engineering_Year5\\AVSR_project\\Data\\TCD_TIMIT\\lipspeakers\\Lipspkr1\\Clips\\audio\\straightcam\\si1006.wav\" -ac 1 -ar 16000 -c:a pcm_s16le \"C:\\Users\\irish\\Computer_Electronic_Engineering_Year5\\AVSR_project\\Data\\TCD_TIMIT\\lipspeakers\\Lipspkr1\\Clips\\processed\\audio16k\\straightcam\\si1006.wav\"\n",
      ">> ffmpeg -y -v error -i \"C:\\Users\\irish\\Computer_Electronic_Engineering_Year5\\AVSR_project\\Data\\TCD_TIMIT\\lipspeakers\\Lipspkr1\\Clips\\audio\\straightcam\\si1010.wav\" -ac 1 -ar 16000 -c:a pcm_s16le \"C:\\Users\\irish\\Computer_Electronic_Engineering_Year5\\AVSR_project\\Data\\TCD_TIMIT\\lipspeakers\\Lipspkr1\\Clips\\processed\\audio16k\\straightcam\\si1010.wav\"\n",
      ">> ffmpeg -y -v error -i \"C:\\Users\\irish\\Computer_Electronic_Engineering_Year5\\AVSR_project\\Data\\TCD_TIMIT\\lipspeakers\\Lipspkr1\\Clips\\audio\\straightcam\\si1048.wav\" -ac 1 -ar 16000 -c:a pcm_s16le \"C:\\Users\\irish\\Computer_Electronic_Engineering_Year5\\AVSR_project\\Data\\TCD_TIMIT\\lipspeakers\\Lipspkr1\\Clips\\processed\\audio16k\\straightcam\\si1048.wav\"\n",
      ">> ffmpeg -y -v error -i \"C:\\Users\\irish\\Computer_Electronic_Engineering_Year5\\AVSR_project\\Data\\TCD_TIMIT\\lipspeakers\\Lipspkr1\\Clips\\audio\\straightcam\\si1049.wav\" -ac 1 -ar 16000 -c:a pcm_s16le \"C:\\Users\\irish\\Computer_Electronic_Engineering_Year5\\AVSR_project\\Data\\TCD_TIMIT\\lipspeakers\\Lipspkr1\\Clips\\processed\\audio16k\\straightcam\\si1049.wav\"\n",
      ">> ffmpeg -y -v error -i \"C:\\Users\\irish\\Computer_Electronic_Engineering_Year5\\AVSR_project\\Data\\TCD_TIMIT\\lipspeakers\\Lipspkr1\\Clips\\audio\\straightcam\\si1082.wav\" -ac 1 -ar 16000 -c:a pcm_s16le \"C:\\Users\\irish\\Computer_Electronic_Engineering_Year5\\AVSR_project\\Data\\TCD_TIMIT\\lipspeakers\\Lipspkr1\\Clips\\processed\\audio16k\\straightcam\\si1082.wav\"\n",
      ">> ffmpeg -y -v error -i \"C:\\Users\\irish\\Computer_Electronic_Engineering_Year5\\AVSR_project\\Data\\TCD_TIMIT\\lipspeakers\\Lipspkr1\\Clips\\audio\\straightcam\\si1084.wav\" -ac 1 -ar 16000 -c:a pcm_s16le \"C:\\Users\\irish\\Computer_Electronic_Engineering_Year5\\AVSR_project\\Data\\TCD_TIMIT\\lipspeakers\\Lipspkr1\\Clips\\processed\\audio16k\\straightcam\\si1084.wav\"\n",
      ">> ffmpeg -y -v error -i \"C:\\Users\\irish\\Computer_Electronic_Engineering_Year5\\AVSR_project\\Data\\TCD_TIMIT\\lipspeakers\\Lipspkr1\\Clips\\audio\\straightcam\\si1094.wav\" -ac 1 -ar 16000 -c:a pcm_s16le \"C:\\Users\\irish\\Computer_Electronic_Engineering_Year5\\AVSR_project\\Data\\TCD_TIMIT\\lipspeakers\\Lipspkr1\\Clips\\processed\\audio16k\\straightcam\\si1094.wav\"\n",
      ">> ffmpeg -y -v error -i \"C:\\Users\\irish\\Computer_Electronic_Engineering_Year5\\AVSR_project\\Data\\TCD_TIMIT\\lipspeakers\\Lipspkr1\\Clips\\audio\\straightcam\\si1132.wav\" -ac 1 -ar 16000 -c:a pcm_s16le \"C:\\Users\\irish\\Computer_Electronic_Engineering_Year5\\AVSR_project\\Data\\TCD_TIMIT\\lipspeakers\\Lipspkr1\\Clips\\processed\\audio16k\\straightcam\\si1132.wav\"\n",
      ">> ffmpeg -y -v error -i \"C:\\Users\\irish\\Computer_Electronic_Engineering_Year5\\AVSR_project\\Data\\TCD_TIMIT\\lipspeakers\\Lipspkr1\\Clips\\audio\\straightcam\\si1136.wav\" -ac 1 -ar 16000 -c:a pcm_s16le \"C:\\Users\\irish\\Computer_Electronic_Engineering_Year5\\AVSR_project\\Data\\TCD_TIMIT\\lipspeakers\\Lipspkr1\\Clips\\processed\\audio16k\\straightcam\\si1136.wav\"\n",
      ">> ffmpeg -y -v error -i \"C:\\Users\\irish\\Computer_Electronic_Engineering_Year5\\AVSR_project\\Data\\TCD_TIMIT\\lipspeakers\\Lipspkr1\\Clips\\audio\\straightcam\\si1140.wav\" -ac 1 -ar 16000 -c:a pcm_s16le \"C:\\Users\\irish\\Computer_Electronic_Engineering_Year5\\AVSR_project\\Data\\TCD_TIMIT\\lipspeakers\\Lipspkr1\\Clips\\processed\\audio16k\\straightcam\\si1140.wav\"\n",
      ">> ffmpeg -y -v error -i \"C:\\Users\\irish\\Computer_Electronic_Engineering_Year5\\AVSR_project\\Data\\TCD_TIMIT\\lipspeakers\\Lipspkr1\\Clips\\audio\\straightcam\\si1146.wav\" -ac 1 -ar 16000 -c:a pcm_s16le \"C:\\Users\\irish\\Computer_Electronic_Engineering_Year5\\AVSR_project\\Data\\TCD_TIMIT\\lipspeakers\\Lipspkr1\\Clips\\processed\\audio16k\\straightcam\\si1146.wav\"\n",
      ">> ffmpeg -y -v error -i \"C:\\Users\\irish\\Computer_Electronic_Engineering_Year5\\AVSR_project\\Data\\TCD_TIMIT\\lipspeakers\\Lipspkr1\\Clips\\audio\\straightcam\\si1150.wav\" -ac 1 -ar 16000 -c:a pcm_s16le \"C:\\Users\\irish\\Computer_Electronic_Engineering_Year5\\AVSR_project\\Data\\TCD_TIMIT\\lipspeakers\\Lipspkr1\\Clips\\processed\\audio16k\\straightcam\\si1150.wav\"\n",
      ">> ffmpeg -y -v error -i \"C:\\Users\\irish\\Computer_Electronic_Engineering_Year5\\AVSR_project\\Data\\TCD_TIMIT\\lipspeakers\\Lipspkr1\\Clips\\audio\\straightcam\\si1155.wav\" -ac 1 -ar 16000 -c:a pcm_s16le \"C:\\Users\\irish\\Computer_Electronic_Engineering_Year5\\AVSR_project\\Data\\TCD_TIMIT\\lipspeakers\\Lipspkr1\\Clips\\processed\\audio16k\\straightcam\\si1155.wav\"\n",
      ">> ffmpeg -y -v error -i \"C:\\Users\\irish\\Computer_Electronic_Engineering_Year5\\AVSR_project\\Data\\TCD_TIMIT\\lipspeakers\\Lipspkr1\\Clips\\audio\\straightcam\\si1171.wav\" -ac 1 -ar 16000 -c:a pcm_s16le \"C:\\Users\\irish\\Computer_Electronic_Engineering_Year5\\AVSR_project\\Data\\TCD_TIMIT\\lipspeakers\\Lipspkr1\\Clips\\processed\\audio16k\\straightcam\\si1171.wav\"\n",
      ">> ffmpeg -y -v error -i \"C:\\Users\\irish\\Computer_Electronic_Engineering_Year5\\AVSR_project\\Data\\TCD_TIMIT\\lipspeakers\\Lipspkr1\\Clips\\audio\\straightcam\\si1176.wav\" -ac 1 -ar 16000 -c:a pcm_s16le \"C:\\Users\\irish\\Computer_Electronic_Engineering_Year5\\AVSR_project\\Data\\TCD_TIMIT\\lipspeakers\\Lipspkr1\\Clips\\processed\\audio16k\\straightcam\\si1176.wav\"\n",
      ">> ffmpeg -y -v error -i \"C:\\Users\\irish\\Computer_Electronic_Engineering_Year5\\AVSR_project\\Data\\TCD_TIMIT\\lipspeakers\\Lipspkr1\\Clips\\audio\\straightcam\\si1179.wav\" -ac 1 -ar 16000 -c:a pcm_s16le \"C:\\Users\\irish\\Computer_Electronic_Engineering_Year5\\AVSR_project\\Data\\TCD_TIMIT\\lipspeakers\\Lipspkr1\\Clips\\processed\\audio16k\\straightcam\\si1179.wav\"\n",
      ">> ffmpeg -y -v error -i \"C:\\Users\\irish\\Computer_Electronic_Engineering_Year5\\AVSR_project\\Data\\TCD_TIMIT\\lipspeakers\\Lipspkr1\\Clips\\audio\\straightcam\\si1231.wav\" -ac 1 -ar 16000 -c:a pcm_s16le \"C:\\Users\\irish\\Computer_Electronic_Engineering_Year5\\AVSR_project\\Data\\TCD_TIMIT\\lipspeakers\\Lipspkr1\\Clips\\processed\\audio16k\\straightcam\\si1231.wav\"\n",
      ">> ffmpeg -y -v error -i \"C:\\Users\\irish\\Computer_Electronic_Engineering_Year5\\AVSR_project\\Data\\TCD_TIMIT\\lipspeakers\\Lipspkr1\\Clips\\audio\\straightcam\\si1252.wav\" -ac 1 -ar 16000 -c:a pcm_s16le \"C:\\Users\\irish\\Computer_Electronic_Engineering_Year5\\AVSR_project\\Data\\TCD_TIMIT\\lipspeakers\\Lipspkr1\\Clips\\processed\\audio16k\\straightcam\\si1252.wav\"\n",
      ">> ffmpeg -y -v error -i \"C:\\Users\\irish\\Computer_Electronic_Engineering_Year5\\AVSR_project\\Data\\TCD_TIMIT\\lipspeakers\\Lipspkr1\\Clips\\audio\\straightcam\\si1268.wav\" -ac 1 -ar 16000 -c:a pcm_s16le \"C:\\Users\\irish\\Computer_Electronic_Engineering_Year5\\AVSR_project\\Data\\TCD_TIMIT\\lipspeakers\\Lipspkr1\\Clips\\processed\\audio16k\\straightcam\\si1268.wav\"\n",
      ">> ffmpeg -y -v error -i \"C:\\Users\\irish\\Computer_Electronic_Engineering_Year5\\AVSR_project\\Data\\TCD_TIMIT\\lipspeakers\\Lipspkr1\\Clips\\audio\\straightcam\\si1314.wav\" -ac 1 -ar 16000 -c:a pcm_s16le \"C:\\Users\\irish\\Computer_Electronic_Engineering_Year5\\AVSR_project\\Data\\TCD_TIMIT\\lipspeakers\\Lipspkr1\\Clips\\processed\\audio16k\\straightcam\\si1314.wav\"\n",
      ">> ffmpeg -y -v error -i \"C:\\Users\\irish\\Computer_Electronic_Engineering_Year5\\AVSR_project\\Data\\TCD_TIMIT\\lipspeakers\\Lipspkr1\\Clips\\audio\\straightcam\\si1337.wav\" -ac 1 -ar 16000 -c:a pcm_s16le \"C:\\Users\\irish\\Computer_Electronic_Engineering_Year5\\AVSR_project\\Data\\TCD_TIMIT\\lipspeakers\\Lipspkr1\\Clips\\processed\\audio16k\\straightcam\\si1337.wav\"\n",
      ">> ffmpeg -y -v error -i \"C:\\Users\\irish\\Computer_Electronic_Engineering_Year5\\AVSR_project\\Data\\TCD_TIMIT\\lipspeakers\\Lipspkr1\\Clips\\audio\\straightcam\\si1340.wav\" -ac 1 -ar 16000 -c:a pcm_s16le \"C:\\Users\\irish\\Computer_Electronic_Engineering_Year5\\AVSR_project\\Data\\TCD_TIMIT\\lipspeakers\\Lipspkr1\\Clips\\processed\\audio16k\\straightcam\\si1340.wav\"\n",
      ">> ffmpeg -y -v error -i \"C:\\Users\\irish\\Computer_Electronic_Engineering_Year5\\AVSR_project\\Data\\TCD_TIMIT\\lipspeakers\\Lipspkr1\\Clips\\audio\\straightcam\\si1343.wav\" -ac 1 -ar 16000 -c:a pcm_s16le \"C:\\Users\\irish\\Computer_Electronic_Engineering_Year5\\AVSR_project\\Data\\TCD_TIMIT\\lipspeakers\\Lipspkr1\\Clips\\processed\\audio16k\\straightcam\\si1343.wav\"\n",
      ">> ffmpeg -y -v error -i \"C:\\Users\\irish\\Computer_Electronic_Engineering_Year5\\AVSR_project\\Data\\TCD_TIMIT\\lipspeakers\\Lipspkr1\\Clips\\audio\\straightcam\\si1345.wav\" -ac 1 -ar 16000 -c:a pcm_s16le \"C:\\Users\\irish\\Computer_Electronic_Engineering_Year5\\AVSR_project\\Data\\TCD_TIMIT\\lipspeakers\\Lipspkr1\\Clips\\processed\\audio16k\\straightcam\\si1345.wav\"\n",
      ">> ffmpeg -y -v error -i \"C:\\Users\\irish\\Computer_Electronic_Engineering_Year5\\AVSR_project\\Data\\TCD_TIMIT\\lipspeakers\\Lipspkr1\\Clips\\audio\\straightcam\\si1350.wav\" -ac 1 -ar 16000 -c:a pcm_s16le \"C:\\Users\\irish\\Computer_Electronic_Engineering_Year5\\AVSR_project\\Data\\TCD_TIMIT\\lipspeakers\\Lipspkr1\\Clips\\processed\\audio16k\\straightcam\\si1350.wav\"\n",
      ">> ffmpeg -y -v error -i \"C:\\Users\\irish\\Computer_Electronic_Engineering_Year5\\AVSR_project\\Data\\TCD_TIMIT\\lipspeakers\\Lipspkr1\\Clips\\audio\\straightcam\\si1367.wav\" -ac 1 -ar 16000 -c:a pcm_s16le \"C:\\Users\\irish\\Computer_Electronic_Engineering_Year5\\AVSR_project\\Data\\TCD_TIMIT\\lipspeakers\\Lipspkr1\\Clips\\processed\\audio16k\\straightcam\\si1367.wav\"\n",
      ">> ffmpeg -y -v error -i \"C:\\Users\\irish\\Computer_Electronic_Engineering_Year5\\AVSR_project\\Data\\TCD_TIMIT\\lipspeakers\\Lipspkr1\\Clips\\audio\\straightcam\\si1368.wav\" -ac 1 -ar 16000 -c:a pcm_s16le \"C:\\Users\\irish\\Computer_Electronic_Engineering_Year5\\AVSR_project\\Data\\TCD_TIMIT\\lipspeakers\\Lipspkr1\\Clips\\processed\\audio16k\\straightcam\\si1368.wav\"\n",
      ">> ffmpeg -y -v error -i \"C:\\Users\\irish\\Computer_Electronic_Engineering_Year5\\AVSR_project\\Data\\TCD_TIMIT\\lipspeakers\\Lipspkr1\\Clips\\audio\\straightcam\\si1369.wav\" -ac 1 -ar 16000 -c:a pcm_s16le \"C:\\Users\\irish\\Computer_Electronic_Engineering_Year5\\AVSR_project\\Data\\TCD_TIMIT\\lipspeakers\\Lipspkr1\\Clips\\processed\\audio16k\\straightcam\\si1369.wav\"\n",
      ">> ffmpeg -y -v error -i \"C:\\Users\\irish\\Computer_Electronic_Engineering_Year5\\AVSR_project\\Data\\TCD_TIMIT\\lipspeakers\\Lipspkr1\\Clips\\audio\\straightcam\\si1405.wav\" -ac 1 -ar 16000 -c:a pcm_s16le \"C:\\Users\\irish\\Computer_Electronic_Engineering_Year5\\AVSR_project\\Data\\TCD_TIMIT\\lipspeakers\\Lipspkr1\\Clips\\processed\\audio16k\\straightcam\\si1405.wav\"\n",
      ">> ffmpeg -y -v error -i \"C:\\Users\\irish\\Computer_Electronic_Engineering_Year5\\AVSR_project\\Data\\TCD_TIMIT\\lipspeakers\\Lipspkr1\\Clips\\audio\\straightcam\\si1426.wav\" -ac 1 -ar 16000 -c:a pcm_s16le \"C:\\Users\\irish\\Computer_Electronic_Engineering_Year5\\AVSR_project\\Data\\TCD_TIMIT\\lipspeakers\\Lipspkr1\\Clips\\processed\\audio16k\\straightcam\\si1426.wav\"\n",
      ">> ffmpeg -y -v error -i \"C:\\Users\\irish\\Computer_Electronic_Engineering_Year5\\AVSR_project\\Data\\TCD_TIMIT\\lipspeakers\\Lipspkr1\\Clips\\audio\\straightcam\\si1428.wav\" -ac 1 -ar 16000 -c:a pcm_s16le \"C:\\Users\\irish\\Computer_Electronic_Engineering_Year5\\AVSR_project\\Data\\TCD_TIMIT\\lipspeakers\\Lipspkr1\\Clips\\processed\\audio16k\\straightcam\\si1428.wav\"\n",
      ">> ffmpeg -y -v error -i \"C:\\Users\\irish\\Computer_Electronic_Engineering_Year5\\AVSR_project\\Data\\TCD_TIMIT\\lipspeakers\\Lipspkr1\\Clips\\audio\\straightcam\\si1437.wav\" -ac 1 -ar 16000 -c:a pcm_s16le \"C:\\Users\\irish\\Computer_Electronic_Engineering_Year5\\AVSR_project\\Data\\TCD_TIMIT\\lipspeakers\\Lipspkr1\\Clips\\processed\\audio16k\\straightcam\\si1437.wav\"\n",
      ">> ffmpeg -y -v error -i \"C:\\Users\\irish\\Computer_Electronic_Engineering_Year5\\AVSR_project\\Data\\TCD_TIMIT\\lipspeakers\\Lipspkr1\\Clips\\audio\\straightcam\\si1439.wav\" -ac 1 -ar 16000 -c:a pcm_s16le \"C:\\Users\\irish\\Computer_Electronic_Engineering_Year5\\AVSR_project\\Data\\TCD_TIMIT\\lipspeakers\\Lipspkr1\\Clips\\processed\\audio16k\\straightcam\\si1439.wav\"\n",
      ">> ffmpeg -y -v error -i \"C:\\Users\\irish\\Computer_Electronic_Engineering_Year5\\AVSR_project\\Data\\TCD_TIMIT\\lipspeakers\\Lipspkr1\\Clips\\audio\\straightcam\\si1445.wav\" -ac 1 -ar 16000 -c:a pcm_s16le \"C:\\Users\\irish\\Computer_Electronic_Engineering_Year5\\AVSR_project\\Data\\TCD_TIMIT\\lipspeakers\\Lipspkr1\\Clips\\processed\\audio16k\\straightcam\\si1445.wav\"\n",
      ">> ffmpeg -y -v error -i \"C:\\Users\\irish\\Computer_Electronic_Engineering_Year5\\AVSR_project\\Data\\TCD_TIMIT\\lipspeakers\\Lipspkr1\\Clips\\audio\\straightcam\\si1450.wav\" -ac 1 -ar 16000 -c:a pcm_s16le \"C:\\Users\\irish\\Computer_Electronic_Engineering_Year5\\AVSR_project\\Data\\TCD_TIMIT\\lipspeakers\\Lipspkr1\\Clips\\processed\\audio16k\\straightcam\\si1450.wav\"\n",
      ">> ffmpeg -y -v error -i \"C:\\Users\\irish\\Computer_Electronic_Engineering_Year5\\AVSR_project\\Data\\TCD_TIMIT\\lipspeakers\\Lipspkr1\\Clips\\audio\\straightcam\\si1497.wav\" -ac 1 -ar 16000 -c:a pcm_s16le \"C:\\Users\\irish\\Computer_Electronic_Engineering_Year5\\AVSR_project\\Data\\TCD_TIMIT\\lipspeakers\\Lipspkr1\\Clips\\processed\\audio16k\\straightcam\\si1497.wav\"\n",
      ">> ffmpeg -y -v error -i \"C:\\Users\\irish\\Computer_Electronic_Engineering_Year5\\AVSR_project\\Data\\TCD_TIMIT\\lipspeakers\\Lipspkr1\\Clips\\audio\\straightcam\\si1524.wav\" -ac 1 -ar 16000 -c:a pcm_s16le \"C:\\Users\\irish\\Computer_Electronic_Engineering_Year5\\AVSR_project\\Data\\TCD_TIMIT\\lipspeakers\\Lipspkr1\\Clips\\processed\\audio16k\\straightcam\\si1524.wav\"\n",
      ">> ffmpeg -y -v error -i \"C:\\Users\\irish\\Computer_Electronic_Engineering_Year5\\AVSR_project\\Data\\TCD_TIMIT\\lipspeakers\\Lipspkr1\\Clips\\audio\\straightcam\\si1531.wav\" -ac 1 -ar 16000 -c:a pcm_s16le \"C:\\Users\\irish\\Computer_Electronic_Engineering_Year5\\AVSR_project\\Data\\TCD_TIMIT\\lipspeakers\\Lipspkr1\\Clips\\processed\\audio16k\\straightcam\\si1531.wav\"\n",
      ">> ffmpeg -y -v error -i \"C:\\Users\\irish\\Computer_Electronic_Engineering_Year5\\AVSR_project\\Data\\TCD_TIMIT\\lipspeakers\\Lipspkr1\\Clips\\audio\\straightcam\\si1533.wav\" -ac 1 -ar 16000 -c:a pcm_s16le \"C:\\Users\\irish\\Computer_Electronic_Engineering_Year5\\AVSR_project\\Data\\TCD_TIMIT\\lipspeakers\\Lipspkr1\\Clips\\processed\\audio16k\\straightcam\\si1533.wav\"\n",
      ">> ffmpeg -y -v error -i \"C:\\Users\\irish\\Computer_Electronic_Engineering_Year5\\AVSR_project\\Data\\TCD_TIMIT\\lipspeakers\\Lipspkr1\\Clips\\audio\\straightcam\\si1543.wav\" -ac 1 -ar 16000 -c:a pcm_s16le \"C:\\Users\\irish\\Computer_Electronic_Engineering_Year5\\AVSR_project\\Data\\TCD_TIMIT\\lipspeakers\\Lipspkr1\\Clips\\processed\\audio16k\\straightcam\\si1543.wav\"\n",
      ">> ffmpeg -y -v error -i \"C:\\Users\\irish\\Computer_Electronic_Engineering_Year5\\AVSR_project\\Data\\TCD_TIMIT\\lipspeakers\\Lipspkr1\\Clips\\audio\\straightcam\\si1581.wav\" -ac 1 -ar 16000 -c:a pcm_s16le \"C:\\Users\\irish\\Computer_Electronic_Engineering_Year5\\AVSR_project\\Data\\TCD_TIMIT\\lipspeakers\\Lipspkr1\\Clips\\processed\\audio16k\\straightcam\\si1581.wav\"\n",
      ">> ffmpeg -y -v error -i \"C:\\Users\\irish\\Computer_Electronic_Engineering_Year5\\AVSR_project\\Data\\TCD_TIMIT\\lipspeakers\\Lipspkr1\\Clips\\audio\\straightcam\\si1616.wav\" -ac 1 -ar 16000 -c:a pcm_s16le \"C:\\Users\\irish\\Computer_Electronic_Engineering_Year5\\AVSR_project\\Data\\TCD_TIMIT\\lipspeakers\\Lipspkr1\\Clips\\processed\\audio16k\\straightcam\\si1616.wav\"\n",
      ">> ffmpeg -y -v error -i \"C:\\Users\\irish\\Computer_Electronic_Engineering_Year5\\AVSR_project\\Data\\TCD_TIMIT\\lipspeakers\\Lipspkr1\\Clips\\audio\\straightcam\\si1618.wav\" -ac 1 -ar 16000 -c:a pcm_s16le \"C:\\Users\\irish\\Computer_Electronic_Engineering_Year5\\AVSR_project\\Data\\TCD_TIMIT\\lipspeakers\\Lipspkr1\\Clips\\processed\\audio16k\\straightcam\\si1618.wav\"\n",
      ">> ffmpeg -y -v error -i \"C:\\Users\\irish\\Computer_Electronic_Engineering_Year5\\AVSR_project\\Data\\TCD_TIMIT\\lipspeakers\\Lipspkr1\\Clips\\audio\\straightcam\\si1631.wav\" -ac 1 -ar 16000 -c:a pcm_s16le \"C:\\Users\\irish\\Computer_Electronic_Engineering_Year5\\AVSR_project\\Data\\TCD_TIMIT\\lipspeakers\\Lipspkr1\\Clips\\processed\\audio16k\\straightcam\\si1631.wav\"\n",
      ">> ffmpeg -y -v error -i \"C:\\Users\\irish\\Computer_Electronic_Engineering_Year5\\AVSR_project\\Data\\TCD_TIMIT\\lipspeakers\\Lipspkr1\\Clips\\audio\\straightcam\\si1632.wav\" -ac 1 -ar 16000 -c:a pcm_s16le \"C:\\Users\\irish\\Computer_Electronic_Engineering_Year5\\AVSR_project\\Data\\TCD_TIMIT\\lipspeakers\\Lipspkr1\\Clips\\processed\\audio16k\\straightcam\\si1632.wav\"\n",
      ">> ffmpeg -y -v error -i \"C:\\Users\\irish\\Computer_Electronic_Engineering_Year5\\AVSR_project\\Data\\TCD_TIMIT\\lipspeakers\\Lipspkr1\\Clips\\audio\\straightcam\\si1636.wav\" -ac 1 -ar 16000 -c:a pcm_s16le \"C:\\Users\\irish\\Computer_Electronic_Engineering_Year5\\AVSR_project\\Data\\TCD_TIMIT\\lipspeakers\\Lipspkr1\\Clips\\processed\\audio16k\\straightcam\\si1636.wav\"\n",
      ">> ffmpeg -y -v error -i \"C:\\Users\\irish\\Computer_Electronic_Engineering_Year5\\AVSR_project\\Data\\TCD_TIMIT\\lipspeakers\\Lipspkr1\\Clips\\audio\\straightcam\\si1640.wav\" -ac 1 -ar 16000 -c:a pcm_s16le \"C:\\Users\\irish\\Computer_Electronic_Engineering_Year5\\AVSR_project\\Data\\TCD_TIMIT\\lipspeakers\\Lipspkr1\\Clips\\processed\\audio16k\\straightcam\\si1640.wav\"\n",
      ">> ffmpeg -y -v error -i \"C:\\Users\\irish\\Computer_Electronic_Engineering_Year5\\AVSR_project\\Data\\TCD_TIMIT\\lipspeakers\\Lipspkr1\\Clips\\audio\\straightcam\\si1653.wav\" -ac 1 -ar 16000 -c:a pcm_s16le \"C:\\Users\\irish\\Computer_Electronic_Engineering_Year5\\AVSR_project\\Data\\TCD_TIMIT\\lipspeakers\\Lipspkr1\\Clips\\processed\\audio16k\\straightcam\\si1653.wav\"\n",
      ">> ffmpeg -y -v error -i \"C:\\Users\\irish\\Computer_Electronic_Engineering_Year5\\AVSR_project\\Data\\TCD_TIMIT\\lipspeakers\\Lipspkr1\\Clips\\audio\\straightcam\\si1678.wav\" -ac 1 -ar 16000 -c:a pcm_s16le \"C:\\Users\\irish\\Computer_Electronic_Engineering_Year5\\AVSR_project\\Data\\TCD_TIMIT\\lipspeakers\\Lipspkr1\\Clips\\processed\\audio16k\\straightcam\\si1678.wav\"\n",
      ">> ffmpeg -y -v error -i \"C:\\Users\\irish\\Computer_Electronic_Engineering_Year5\\AVSR_project\\Data\\TCD_TIMIT\\lipspeakers\\Lipspkr1\\Clips\\audio\\straightcam\\si1679.wav\" -ac 1 -ar 16000 -c:a pcm_s16le \"C:\\Users\\irish\\Computer_Electronic_Engineering_Year5\\AVSR_project\\Data\\TCD_TIMIT\\lipspeakers\\Lipspkr1\\Clips\\processed\\audio16k\\straightcam\\si1679.wav\"\n",
      ">> ffmpeg -y -v error -i \"C:\\Users\\irish\\Computer_Electronic_Engineering_Year5\\AVSR_project\\Data\\TCD_TIMIT\\lipspeakers\\Lipspkr1\\Clips\\audio\\straightcam\\si1712.wav\" -ac 1 -ar 16000 -c:a pcm_s16le \"C:\\Users\\irish\\Computer_Electronic_Engineering_Year5\\AVSR_project\\Data\\TCD_TIMIT\\lipspeakers\\Lipspkr1\\Clips\\processed\\audio16k\\straightcam\\si1712.wav\"\n",
      ">> ffmpeg -y -v error -i \"C:\\Users\\irish\\Computer_Electronic_Engineering_Year5\\AVSR_project\\Data\\TCD_TIMIT\\lipspeakers\\Lipspkr1\\Clips\\audio\\straightcam\\si1714.wav\" -ac 1 -ar 16000 -c:a pcm_s16le \"C:\\Users\\irish\\Computer_Electronic_Engineering_Year5\\AVSR_project\\Data\\TCD_TIMIT\\lipspeakers\\Lipspkr1\\Clips\\processed\\audio16k\\straightcam\\si1714.wav\"\n",
      ">> ffmpeg -y -v error -i \"C:\\Users\\irish\\Computer_Electronic_Engineering_Year5\\AVSR_project\\Data\\TCD_TIMIT\\lipspeakers\\Lipspkr1\\Clips\\audio\\straightcam\\si1717.wav\" -ac 1 -ar 16000 -c:a pcm_s16le \"C:\\Users\\irish\\Computer_Electronic_Engineering_Year5\\AVSR_project\\Data\\TCD_TIMIT\\lipspeakers\\Lipspkr1\\Clips\\processed\\audio16k\\straightcam\\si1717.wav\"\n",
      ">> ffmpeg -y -v error -i \"C:\\Users\\irish\\Computer_Electronic_Engineering_Year5\\AVSR_project\\Data\\TCD_TIMIT\\lipspeakers\\Lipspkr1\\Clips\\audio\\straightcam\\si1762.wav\" -ac 1 -ar 16000 -c:a pcm_s16le \"C:\\Users\\irish\\Computer_Electronic_Engineering_Year5\\AVSR_project\\Data\\TCD_TIMIT\\lipspeakers\\Lipspkr1\\Clips\\processed\\audio16k\\straightcam\\si1762.wav\"\n",
      ">> ffmpeg -y -v error -i \"C:\\Users\\irish\\Computer_Electronic_Engineering_Year5\\AVSR_project\\Data\\TCD_TIMIT\\lipspeakers\\Lipspkr1\\Clips\\audio\\straightcam\\si1766.wav\" -ac 1 -ar 16000 -c:a pcm_s16le \"C:\\Users\\irish\\Computer_Electronic_Engineering_Year5\\AVSR_project\\Data\\TCD_TIMIT\\lipspeakers\\Lipspkr1\\Clips\\processed\\audio16k\\straightcam\\si1766.wav\"\n",
      ">> ffmpeg -y -v error -i \"C:\\Users\\irish\\Computer_Electronic_Engineering_Year5\\AVSR_project\\Data\\TCD_TIMIT\\lipspeakers\\Lipspkr1\\Clips\\audio\\straightcam\\si1770.wav\" -ac 1 -ar 16000 -c:a pcm_s16le \"C:\\Users\\irish\\Computer_Electronic_Engineering_Year5\\AVSR_project\\Data\\TCD_TIMIT\\lipspeakers\\Lipspkr1\\Clips\\processed\\audio16k\\straightcam\\si1770.wav\"\n",
      ">> ffmpeg -y -v error -i \"C:\\Users\\irish\\Computer_Electronic_Engineering_Year5\\AVSR_project\\Data\\TCD_TIMIT\\lipspeakers\\Lipspkr1\\Clips\\audio\\straightcam\\si1772.wav\" -ac 1 -ar 16000 -c:a pcm_s16le \"C:\\Users\\irish\\Computer_Electronic_Engineering_Year5\\AVSR_project\\Data\\TCD_TIMIT\\lipspeakers\\Lipspkr1\\Clips\\processed\\audio16k\\straightcam\\si1772.wav\"\n",
      ">> ffmpeg -y -v error -i \"C:\\Users\\irish\\Computer_Electronic_Engineering_Year5\\AVSR_project\\Data\\TCD_TIMIT\\lipspeakers\\Lipspkr1\\Clips\\audio\\straightcam\\si1785.wav\" -ac 1 -ar 16000 -c:a pcm_s16le \"C:\\Users\\irish\\Computer_Electronic_Engineering_Year5\\AVSR_project\\Data\\TCD_TIMIT\\lipspeakers\\Lipspkr1\\Clips\\processed\\audio16k\\straightcam\\si1785.wav\"\n",
      ">> ffmpeg -y -v error -i \"C:\\Users\\irish\\Computer_Electronic_Engineering_Year5\\AVSR_project\\Data\\TCD_TIMIT\\lipspeakers\\Lipspkr1\\Clips\\audio\\straightcam\\si1801.wav\" -ac 1 -ar 16000 -c:a pcm_s16le \"C:\\Users\\irish\\Computer_Electronic_Engineering_Year5\\AVSR_project\\Data\\TCD_TIMIT\\lipspeakers\\Lipspkr1\\Clips\\processed\\audio16k\\straightcam\\si1801.wav\"\n",
      ">> ffmpeg -y -v error -i \"C:\\Users\\irish\\Computer_Electronic_Engineering_Year5\\AVSR_project\\Data\\TCD_TIMIT\\lipspeakers\\Lipspkr1\\Clips\\audio\\straightcam\\si1806.wav\" -ac 1 -ar 16000 -c:a pcm_s16le \"C:\\Users\\irish\\Computer_Electronic_Engineering_Year5\\AVSR_project\\Data\\TCD_TIMIT\\lipspeakers\\Lipspkr1\\Clips\\processed\\audio16k\\straightcam\\si1806.wav\"\n",
      ">> ffmpeg -y -v error -i \"C:\\Users\\irish\\Computer_Electronic_Engineering_Year5\\AVSR_project\\Data\\TCD_TIMIT\\lipspeakers\\Lipspkr1\\Clips\\audio\\straightcam\\si1861.wav\" -ac 1 -ar 16000 -c:a pcm_s16le \"C:\\Users\\irish\\Computer_Electronic_Engineering_Year5\\AVSR_project\\Data\\TCD_TIMIT\\lipspeakers\\Lipspkr1\\Clips\\processed\\audio16k\\straightcam\\si1861.wav\"\n",
      ">> ffmpeg -y -v error -i \"C:\\Users\\irish\\Computer_Electronic_Engineering_Year5\\AVSR_project\\Data\\TCD_TIMIT\\lipspeakers\\Lipspkr1\\Clips\\audio\\straightcam\\si1881.wav\" -ac 1 -ar 16000 -c:a pcm_s16le \"C:\\Users\\irish\\Computer_Electronic_Engineering_Year5\\AVSR_project\\Data\\TCD_TIMIT\\lipspeakers\\Lipspkr1\\Clips\\processed\\audio16k\\straightcam\\si1881.wav\"\n",
      ">> ffmpeg -y -v error -i \"C:\\Users\\irish\\Computer_Electronic_Engineering_Year5\\AVSR_project\\Data\\TCD_TIMIT\\lipspeakers\\Lipspkr1\\Clips\\audio\\straightcam\\si1882.wav\" -ac 1 -ar 16000 -c:a pcm_s16le \"C:\\Users\\irish\\Computer_Electronic_Engineering_Year5\\AVSR_project\\Data\\TCD_TIMIT\\lipspeakers\\Lipspkr1\\Clips\\processed\\audio16k\\straightcam\\si1882.wav\"\n",
      ">> ffmpeg -y -v error -i \"C:\\Users\\irish\\Computer_Electronic_Engineering_Year5\\AVSR_project\\Data\\TCD_TIMIT\\lipspeakers\\Lipspkr1\\Clips\\audio\\straightcam\\si1898.wav\" -ac 1 -ar 16000 -c:a pcm_s16le \"C:\\Users\\irish\\Computer_Electronic_Engineering_Year5\\AVSR_project\\Data\\TCD_TIMIT\\lipspeakers\\Lipspkr1\\Clips\\processed\\audio16k\\straightcam\\si1898.wav\"\n",
      ">> ffmpeg -y -v error -i \"C:\\Users\\irish\\Computer_Electronic_Engineering_Year5\\AVSR_project\\Data\\TCD_TIMIT\\lipspeakers\\Lipspkr1\\Clips\\audio\\straightcam\\si1937.wav\" -ac 1 -ar 16000 -c:a pcm_s16le \"C:\\Users\\irish\\Computer_Electronic_Engineering_Year5\\AVSR_project\\Data\\TCD_TIMIT\\lipspeakers\\Lipspkr1\\Clips\\processed\\audio16k\\straightcam\\si1937.wav\"\n",
      ">> ffmpeg -y -v error -i \"C:\\Users\\irish\\Computer_Electronic_Engineering_Year5\\AVSR_project\\Data\\TCD_TIMIT\\lipspeakers\\Lipspkr1\\Clips\\audio\\straightcam\\si1943.wav\" -ac 1 -ar 16000 -c:a pcm_s16le \"C:\\Users\\irish\\Computer_Electronic_Engineering_Year5\\AVSR_project\\Data\\TCD_TIMIT\\lipspeakers\\Lipspkr1\\Clips\\processed\\audio16k\\straightcam\\si1943.wav\"\n",
      ">> ffmpeg -y -v error -i \"C:\\Users\\irish\\Computer_Electronic_Engineering_Year5\\AVSR_project\\Data\\TCD_TIMIT\\lipspeakers\\Lipspkr1\\Clips\\audio\\straightcam\\si1944.wav\" -ac 1 -ar 16000 -c:a pcm_s16le \"C:\\Users\\irish\\Computer_Electronic_Engineering_Year5\\AVSR_project\\Data\\TCD_TIMIT\\lipspeakers\\Lipspkr1\\Clips\\processed\\audio16k\\straightcam\\si1944.wav\"\n",
      ">> ffmpeg -y -v error -i \"C:\\Users\\irish\\Computer_Electronic_Engineering_Year5\\AVSR_project\\Data\\TCD_TIMIT\\lipspeakers\\Lipspkr1\\Clips\\audio\\straightcam\\si1967.wav\" -ac 1 -ar 16000 -c:a pcm_s16le \"C:\\Users\\irish\\Computer_Electronic_Engineering_Year5\\AVSR_project\\Data\\TCD_TIMIT\\lipspeakers\\Lipspkr1\\Clips\\processed\\audio16k\\straightcam\\si1967.wav\"\n",
      ">> ffmpeg -y -v error -i \"C:\\Users\\irish\\Computer_Electronic_Engineering_Year5\\AVSR_project\\Data\\TCD_TIMIT\\lipspeakers\\Lipspkr1\\Clips\\audio\\straightcam\\si1969.wav\" -ac 1 -ar 16000 -c:a pcm_s16le \"C:\\Users\\irish\\Computer_Electronic_Engineering_Year5\\AVSR_project\\Data\\TCD_TIMIT\\lipspeakers\\Lipspkr1\\Clips\\processed\\audio16k\\straightcam\\si1969.wav\"\n",
      ">> ffmpeg -y -v error -i \"C:\\Users\\irish\\Computer_Electronic_Engineering_Year5\\AVSR_project\\Data\\TCD_TIMIT\\lipspeakers\\Lipspkr1\\Clips\\audio\\straightcam\\si1973.wav\" -ac 1 -ar 16000 -c:a pcm_s16le \"C:\\Users\\irish\\Computer_Electronic_Engineering_Year5\\AVSR_project\\Data\\TCD_TIMIT\\lipspeakers\\Lipspkr1\\Clips\\processed\\audio16k\\straightcam\\si1973.wav\"\n",
      ">> ffmpeg -y -v error -i \"C:\\Users\\irish\\Computer_Electronic_Engineering_Year5\\AVSR_project\\Data\\TCD_TIMIT\\lipspeakers\\Lipspkr1\\Clips\\audio\\straightcam\\si1975.wav\" -ac 1 -ar 16000 -c:a pcm_s16le \"C:\\Users\\irish\\Computer_Electronic_Engineering_Year5\\AVSR_project\\Data\\TCD_TIMIT\\lipspeakers\\Lipspkr1\\Clips\\processed\\audio16k\\straightcam\\si1975.wav\"\n",
      ">> ffmpeg -y -v error -i \"C:\\Users\\irish\\Computer_Electronic_Engineering_Year5\\AVSR_project\\Data\\TCD_TIMIT\\lipspeakers\\Lipspkr1\\Clips\\audio\\straightcam\\si1980.wav\" -ac 1 -ar 16000 -c:a pcm_s16le \"C:\\Users\\irish\\Computer_Electronic_Engineering_Year5\\AVSR_project\\Data\\TCD_TIMIT\\lipspeakers\\Lipspkr1\\Clips\\processed\\audio16k\\straightcam\\si1980.wav\"\n",
      ">> ffmpeg -y -v error -i \"C:\\Users\\irish\\Computer_Electronic_Engineering_Year5\\AVSR_project\\Data\\TCD_TIMIT\\lipspeakers\\Lipspkr1\\Clips\\audio\\straightcam\\si1997.wav\" -ac 1 -ar 16000 -c:a pcm_s16le \"C:\\Users\\irish\\Computer_Electronic_Engineering_Year5\\AVSR_project\\Data\\TCD_TIMIT\\lipspeakers\\Lipspkr1\\Clips\\processed\\audio16k\\straightcam\\si1997.wav\"\n",
      ">> ffmpeg -y -v error -i \"C:\\Users\\irish\\Computer_Electronic_Engineering_Year5\\AVSR_project\\Data\\TCD_TIMIT\\lipspeakers\\Lipspkr1\\Clips\\audio\\straightcam\\si1998.wav\" -ac 1 -ar 16000 -c:a pcm_s16le \"C:\\Users\\irish\\Computer_Electronic_Engineering_Year5\\AVSR_project\\Data\\TCD_TIMIT\\lipspeakers\\Lipspkr1\\Clips\\processed\\audio16k\\straightcam\\si1998.wav\"\n",
      ">> ffmpeg -y -v error -i \"C:\\Users\\irish\\Computer_Electronic_Engineering_Year5\\AVSR_project\\Data\\TCD_TIMIT\\lipspeakers\\Lipspkr1\\Clips\\audio\\straightcam\\si1999.wav\" -ac 1 -ar 16000 -c:a pcm_s16le \"C:\\Users\\irish\\Computer_Electronic_Engineering_Year5\\AVSR_project\\Data\\TCD_TIMIT\\lipspeakers\\Lipspkr1\\Clips\\processed\\audio16k\\straightcam\\si1999.wav\"\n",
      ">> ffmpeg -y -v error -i \"C:\\Users\\irish\\Computer_Electronic_Engineering_Year5\\AVSR_project\\Data\\TCD_TIMIT\\lipspeakers\\Lipspkr1\\Clips\\audio\\straightcam\\si2039.wav\" -ac 1 -ar 16000 -c:a pcm_s16le \"C:\\Users\\irish\\Computer_Electronic_Engineering_Year5\\AVSR_project\\Data\\TCD_TIMIT\\lipspeakers\\Lipspkr1\\Clips\\processed\\audio16k\\straightcam\\si2039.wav\"\n",
      ">> ffmpeg -y -v error -i \"C:\\Users\\irish\\Computer_Electronic_Engineering_Year5\\AVSR_project\\Data\\TCD_TIMIT\\lipspeakers\\Lipspkr1\\Clips\\audio\\straightcam\\si2056.wav\" -ac 1 -ar 16000 -c:a pcm_s16le \"C:\\Users\\irish\\Computer_Electronic_Engineering_Year5\\AVSR_project\\Data\\TCD_TIMIT\\lipspeakers\\Lipspkr1\\Clips\\processed\\audio16k\\straightcam\\si2056.wav\"\n",
      ">> ffmpeg -y -v error -i \"C:\\Users\\irish\\Computer_Electronic_Engineering_Year5\\AVSR_project\\Data\\TCD_TIMIT\\lipspeakers\\Lipspkr1\\Clips\\audio\\straightcam\\si2058.wav\" -ac 1 -ar 16000 -c:a pcm_s16le \"C:\\Users\\irish\\Computer_Electronic_Engineering_Year5\\AVSR_project\\Data\\TCD_TIMIT\\lipspeakers\\Lipspkr1\\Clips\\processed\\audio16k\\straightcam\\si2058.wav\"\n",
      ">> ffmpeg -y -v error -i \"C:\\Users\\irish\\Computer_Electronic_Engineering_Year5\\AVSR_project\\Data\\TCD_TIMIT\\lipspeakers\\Lipspkr1\\Clips\\audio\\straightcam\\si2067.wav\" -ac 1 -ar 16000 -c:a pcm_s16le \"C:\\Users\\irish\\Computer_Electronic_Engineering_Year5\\AVSR_project\\Data\\TCD_TIMIT\\lipspeakers\\Lipspkr1\\Clips\\processed\\audio16k\\straightcam\\si2067.wav\"\n",
      ">> ffmpeg -y -v error -i \"C:\\Users\\irish\\Computer_Electronic_Engineering_Year5\\AVSR_project\\Data\\TCD_TIMIT\\lipspeakers\\Lipspkr1\\Clips\\audio\\straightcam\\si2069.wav\" -ac 1 -ar 16000 -c:a pcm_s16le \"C:\\Users\\irish\\Computer_Electronic_Engineering_Year5\\AVSR_project\\Data\\TCD_TIMIT\\lipspeakers\\Lipspkr1\\Clips\\processed\\audio16k\\straightcam\\si2069.wav\"\n",
      ">> ffmpeg -y -v error -i \"C:\\Users\\irish\\Computer_Electronic_Engineering_Year5\\AVSR_project\\Data\\TCD_TIMIT\\lipspeakers\\Lipspkr1\\Clips\\audio\\straightcam\\si2080.wav\" -ac 1 -ar 16000 -c:a pcm_s16le \"C:\\Users\\irish\\Computer_Electronic_Engineering_Year5\\AVSR_project\\Data\\TCD_TIMIT\\lipspeakers\\Lipspkr1\\Clips\\processed\\audio16k\\straightcam\\si2080.wav\"\n",
      ">> ffmpeg -y -v error -i \"C:\\Users\\irish\\Computer_Electronic_Engineering_Year5\\AVSR_project\\Data\\TCD_TIMIT\\lipspeakers\\Lipspkr1\\Clips\\audio\\straightcam\\si2087.wav\" -ac 1 -ar 16000 -c:a pcm_s16le \"C:\\Users\\irish\\Computer_Electronic_Engineering_Year5\\AVSR_project\\Data\\TCD_TIMIT\\lipspeakers\\Lipspkr1\\Clips\\processed\\audio16k\\straightcam\\si2087.wav\"\n",
      ">> ffmpeg -y -v error -i \"C:\\Users\\irish\\Computer_Electronic_Engineering_Year5\\AVSR_project\\Data\\TCD_TIMIT\\lipspeakers\\Lipspkr1\\Clips\\audio\\straightcam\\si2107.wav\" -ac 1 -ar 16000 -c:a pcm_s16le \"C:\\Users\\irish\\Computer_Electronic_Engineering_Year5\\AVSR_project\\Data\\TCD_TIMIT\\lipspeakers\\Lipspkr1\\Clips\\processed\\audio16k\\straightcam\\si2107.wav\"\n",
      ">> ffmpeg -y -v error -i \"C:\\Users\\irish\\Computer_Electronic_Engineering_Year5\\AVSR_project\\Data\\TCD_TIMIT\\lipspeakers\\Lipspkr1\\Clips\\audio\\straightcam\\si2127.wav\" -ac 1 -ar 16000 -c:a pcm_s16le \"C:\\Users\\irish\\Computer_Electronic_Engineering_Year5\\AVSR_project\\Data\\TCD_TIMIT\\lipspeakers\\Lipspkr1\\Clips\\processed\\audio16k\\straightcam\\si2127.wav\"\n",
      ">> ffmpeg -y -v error -i \"C:\\Users\\irish\\Computer_Electronic_Engineering_Year5\\AVSR_project\\Data\\TCD_TIMIT\\lipspeakers\\Lipspkr1\\Clips\\audio\\straightcam\\si2154.wav\" -ac 1 -ar 16000 -c:a pcm_s16le \"C:\\Users\\irish\\Computer_Electronic_Engineering_Year5\\AVSR_project\\Data\\TCD_TIMIT\\lipspeakers\\Lipspkr1\\Clips\\processed\\audio16k\\straightcam\\si2154.wav\"\n",
      ">> ffmpeg -y -v error -i \"C:\\Users\\irish\\Computer_Electronic_Engineering_Year5\\AVSR_project\\Data\\TCD_TIMIT\\lipspeakers\\Lipspkr1\\Clips\\audio\\straightcam\\si2173.wav\" -ac 1 -ar 16000 -c:a pcm_s16le \"C:\\Users\\irish\\Computer_Electronic_Engineering_Year5\\AVSR_project\\Data\\TCD_TIMIT\\lipspeakers\\Lipspkr1\\Clips\\processed\\audio16k\\straightcam\\si2173.wav\"\n",
      ">> ffmpeg -y -v error -i \"C:\\Users\\irish\\Computer_Electronic_Engineering_Year5\\AVSR_project\\Data\\TCD_TIMIT\\lipspeakers\\Lipspkr1\\Clips\\audio\\straightcam\\si2211.wav\" -ac 1 -ar 16000 -c:a pcm_s16le \"C:\\Users\\irish\\Computer_Electronic_Engineering_Year5\\AVSR_project\\Data\\TCD_TIMIT\\lipspeakers\\Lipspkr1\\Clips\\processed\\audio16k\\straightcam\\si2211.wav\"\n",
      ">> ffmpeg -y -v error -i \"C:\\Users\\irish\\Computer_Electronic_Engineering_Year5\\AVSR_project\\Data\\TCD_TIMIT\\lipspeakers\\Lipspkr1\\Clips\\audio\\straightcam\\si2246.wav\" -ac 1 -ar 16000 -c:a pcm_s16le \"C:\\Users\\irish\\Computer_Electronic_Engineering_Year5\\AVSR_project\\Data\\TCD_TIMIT\\lipspeakers\\Lipspkr1\\Clips\\processed\\audio16k\\straightcam\\si2246.wav\"\n",
      ">> ffmpeg -y -v error -i \"C:\\Users\\irish\\Computer_Electronic_Engineering_Year5\\AVSR_project\\Data\\TCD_TIMIT\\lipspeakers\\Lipspkr1\\Clips\\audio\\straightcam\\si2248.wav\" -ac 1 -ar 16000 -c:a pcm_s16le \"C:\\Users\\irish\\Computer_Electronic_Engineering_Year5\\AVSR_project\\Data\\TCD_TIMIT\\lipspeakers\\Lipspkr1\\Clips\\processed\\audio16k\\straightcam\\si2248.wav\"\n",
      ">> ffmpeg -y -v error -i \"C:\\Users\\irish\\Computer_Electronic_Engineering_Year5\\AVSR_project\\Data\\TCD_TIMIT\\lipspeakers\\Lipspkr1\\Clips\\audio\\straightcam\\si2257.wav\" -ac 1 -ar 16000 -c:a pcm_s16le \"C:\\Users\\irish\\Computer_Electronic_Engineering_Year5\\AVSR_project\\Data\\TCD_TIMIT\\lipspeakers\\Lipspkr1\\Clips\\processed\\audio16k\\straightcam\\si2257.wav\"\n",
      ">> ffmpeg -y -v error -i \"C:\\Users\\irish\\Computer_Electronic_Engineering_Year5\\AVSR_project\\Data\\TCD_TIMIT\\lipspeakers\\Lipspkr1\\Clips\\audio\\straightcam\\si2261.wav\" -ac 1 -ar 16000 -c:a pcm_s16le \"C:\\Users\\irish\\Computer_Electronic_Engineering_Year5\\AVSR_project\\Data\\TCD_TIMIT\\lipspeakers\\Lipspkr1\\Clips\\processed\\audio16k\\straightcam\\si2261.wav\"\n",
      ">> ffmpeg -y -v error -i \"C:\\Users\\irish\\Computer_Electronic_Engineering_Year5\\AVSR_project\\Data\\TCD_TIMIT\\lipspeakers\\Lipspkr1\\Clips\\audio\\straightcam\\si2262.wav\" -ac 1 -ar 16000 -c:a pcm_s16le \"C:\\Users\\irish\\Computer_Electronic_Engineering_Year5\\AVSR_project\\Data\\TCD_TIMIT\\lipspeakers\\Lipspkr1\\Clips\\processed\\audio16k\\straightcam\\si2262.wav\"\n",
      ">> ffmpeg -y -v error -i \"C:\\Users\\irish\\Computer_Electronic_Engineering_Year5\\AVSR_project\\Data\\TCD_TIMIT\\lipspeakers\\Lipspkr1\\Clips\\audio\\straightcam\\si2266.wav\" -ac 1 -ar 16000 -c:a pcm_s16le \"C:\\Users\\irish\\Computer_Electronic_Engineering_Year5\\AVSR_project\\Data\\TCD_TIMIT\\lipspeakers\\Lipspkr1\\Clips\\processed\\audio16k\\straightcam\\si2266.wav\"\n",
      ">> ffmpeg -y -v error -i \"C:\\Users\\irish\\Computer_Electronic_Engineering_Year5\\AVSR_project\\Data\\TCD_TIMIT\\lipspeakers\\Lipspkr1\\Clips\\audio\\straightcam\\si2270.wav\" -ac 1 -ar 16000 -c:a pcm_s16le \"C:\\Users\\irish\\Computer_Electronic_Engineering_Year5\\AVSR_project\\Data\\TCD_TIMIT\\lipspeakers\\Lipspkr1\\Clips\\processed\\audio16k\\straightcam\\si2270.wav\"\n",
      ">> ffmpeg -y -v error -i \"C:\\Users\\irish\\Computer_Electronic_Engineering_Year5\\AVSR_project\\Data\\TCD_TIMIT\\lipspeakers\\Lipspkr1\\Clips\\audio\\straightcam\\si2308.wav\" -ac 1 -ar 16000 -c:a pcm_s16le \"C:\\Users\\irish\\Computer_Electronic_Engineering_Year5\\AVSR_project\\Data\\TCD_TIMIT\\lipspeakers\\Lipspkr1\\Clips\\processed\\audio16k\\straightcam\\si2308.wav\"\n",
      ">> ffmpeg -y -v error -i \"C:\\Users\\irish\\Computer_Electronic_Engineering_Year5\\AVSR_project\\Data\\TCD_TIMIT\\lipspeakers\\Lipspkr1\\Clips\\audio\\straightcam\\si2309.wav\" -ac 1 -ar 16000 -c:a pcm_s16le \"C:\\Users\\irish\\Computer_Electronic_Engineering_Year5\\AVSR_project\\Data\\TCD_TIMIT\\lipspeakers\\Lipspkr1\\Clips\\processed\\audio16k\\straightcam\\si2309.wav\"\n",
      ">> ffmpeg -y -v error -i \"C:\\Users\\irish\\Computer_Electronic_Engineering_Year5\\AVSR_project\\Data\\TCD_TIMIT\\lipspeakers\\Lipspkr1\\Clips\\audio\\straightcam\\si2342.wav\" -ac 1 -ar 16000 -c:a pcm_s16le \"C:\\Users\\irish\\Computer_Electronic_Engineering_Year5\\AVSR_project\\Data\\TCD_TIMIT\\lipspeakers\\Lipspkr1\\Clips\\processed\\audio16k\\straightcam\\si2342.wav\"\n",
      ">> ffmpeg -y -v error -i \"C:\\Users\\irish\\Computer_Electronic_Engineering_Year5\\AVSR_project\\Data\\TCD_TIMIT\\lipspeakers\\Lipspkr1\\Clips\\audio\\straightcam\\si464.wav\" -ac 1 -ar 16000 -c:a pcm_s16le \"C:\\Users\\irish\\Computer_Electronic_Engineering_Year5\\AVSR_project\\Data\\TCD_TIMIT\\lipspeakers\\Lipspkr1\\Clips\\processed\\audio16k\\straightcam\\si464.wav\"\n",
      ">> ffmpeg -y -v error -i \"C:\\Users\\irish\\Computer_Electronic_Engineering_Year5\\AVSR_project\\Data\\TCD_TIMIT\\lipspeakers\\Lipspkr1\\Clips\\audio\\straightcam\\si465.wav\" -ac 1 -ar 16000 -c:a pcm_s16le \"C:\\Users\\irish\\Computer_Electronic_Engineering_Year5\\AVSR_project\\Data\\TCD_TIMIT\\lipspeakers\\Lipspkr1\\Clips\\processed\\audio16k\\straightcam\\si465.wav\"\n",
      ">> ffmpeg -y -v error -i \"C:\\Users\\irish\\Computer_Electronic_Engineering_Year5\\AVSR_project\\Data\\TCD_TIMIT\\lipspeakers\\Lipspkr1\\Clips\\audio\\straightcam\\si491.wav\" -ac 1 -ar 16000 -c:a pcm_s16le \"C:\\Users\\irish\\Computer_Electronic_Engineering_Year5\\AVSR_project\\Data\\TCD_TIMIT\\lipspeakers\\Lipspkr1\\Clips\\processed\\audio16k\\straightcam\\si491.wav\"\n",
      ">> ffmpeg -y -v error -i \"C:\\Users\\irish\\Computer_Electronic_Engineering_Year5\\AVSR_project\\Data\\TCD_TIMIT\\lipspeakers\\Lipspkr1\\Clips\\audio\\straightcam\\si502.wav\" -ac 1 -ar 16000 -c:a pcm_s16le \"C:\\Users\\irish\\Computer_Electronic_Engineering_Year5\\AVSR_project\\Data\\TCD_TIMIT\\lipspeakers\\Lipspkr1\\Clips\\processed\\audio16k\\straightcam\\si502.wav\"\n",
      ">> ffmpeg -y -v error -i \"C:\\Users\\irish\\Computer_Electronic_Engineering_Year5\\AVSR_project\\Data\\TCD_TIMIT\\lipspeakers\\Lipspkr1\\Clips\\audio\\straightcam\\si510.wav\" -ac 1 -ar 16000 -c:a pcm_s16le \"C:\\Users\\irish\\Computer_Electronic_Engineering_Year5\\AVSR_project\\Data\\TCD_TIMIT\\lipspeakers\\Lipspkr1\\Clips\\processed\\audio16k\\straightcam\\si510.wav\"\n",
      ">> ffmpeg -y -v error -i \"C:\\Users\\irish\\Computer_Electronic_Engineering_Year5\\AVSR_project\\Data\\TCD_TIMIT\\lipspeakers\\Lipspkr1\\Clips\\audio\\straightcam\\si512.wav\" -ac 1 -ar 16000 -c:a pcm_s16le \"C:\\Users\\irish\\Computer_Electronic_Engineering_Year5\\AVSR_project\\Data\\TCD_TIMIT\\lipspeakers\\Lipspkr1\\Clips\\processed\\audio16k\\straightcam\\si512.wav\"\n",
      ">> ffmpeg -y -v error -i \"C:\\Users\\irish\\Computer_Electronic_Engineering_Year5\\AVSR_project\\Data\\TCD_TIMIT\\lipspeakers\\Lipspkr1\\Clips\\audio\\straightcam\\si519.wav\" -ac 1 -ar 16000 -c:a pcm_s16le \"C:\\Users\\irish\\Computer_Electronic_Engineering_Year5\\AVSR_project\\Data\\TCD_TIMIT\\lipspeakers\\Lipspkr1\\Clips\\processed\\audio16k\\straightcam\\si519.wav\"\n",
      ">> ffmpeg -y -v error -i \"C:\\Users\\irish\\Computer_Electronic_Engineering_Year5\\AVSR_project\\Data\\TCD_TIMIT\\lipspeakers\\Lipspkr1\\Clips\\audio\\straightcam\\si541.wav\" -ac 1 -ar 16000 -c:a pcm_s16le \"C:\\Users\\irish\\Computer_Electronic_Engineering_Year5\\AVSR_project\\Data\\TCD_TIMIT\\lipspeakers\\Lipspkr1\\Clips\\processed\\audio16k\\straightcam\\si541.wav\"\n",
      ">> ffmpeg -y -v error -i \"C:\\Users\\irish\\Computer_Electronic_Engineering_Year5\\AVSR_project\\Data\\TCD_TIMIT\\lipspeakers\\Lipspkr1\\Clips\\audio\\straightcam\\si546.wav\" -ac 1 -ar 16000 -c:a pcm_s16le \"C:\\Users\\irish\\Computer_Electronic_Engineering_Year5\\AVSR_project\\Data\\TCD_TIMIT\\lipspeakers\\Lipspkr1\\Clips\\processed\\audio16k\\straightcam\\si546.wav\"\n",
      ">> ffmpeg -y -v error -i \"C:\\Users\\irish\\Computer_Electronic_Engineering_Year5\\AVSR_project\\Data\\TCD_TIMIT\\lipspeakers\\Lipspkr1\\Clips\\audio\\straightcam\\si549.wav\" -ac 1 -ar 16000 -c:a pcm_s16le \"C:\\Users\\irish\\Computer_Electronic_Engineering_Year5\\AVSR_project\\Data\\TCD_TIMIT\\lipspeakers\\Lipspkr1\\Clips\\processed\\audio16k\\straightcam\\si549.wav\"\n",
      ">> ffmpeg -y -v error -i \"C:\\Users\\irish\\Computer_Electronic_Engineering_Year5\\AVSR_project\\Data\\TCD_TIMIT\\lipspeakers\\Lipspkr1\\Clips\\audio\\straightcam\\si598.wav\" -ac 1 -ar 16000 -c:a pcm_s16le \"C:\\Users\\irish\\Computer_Electronic_Engineering_Year5\\AVSR_project\\Data\\TCD_TIMIT\\lipspeakers\\Lipspkr1\\Clips\\processed\\audio16k\\straightcam\\si598.wav\"\n",
      ">> ffmpeg -y -v error -i \"C:\\Users\\irish\\Computer_Electronic_Engineering_Year5\\AVSR_project\\Data\\TCD_TIMIT\\lipspeakers\\Lipspkr1\\Clips\\audio\\straightcam\\si601.wav\" -ac 1 -ar 16000 -c:a pcm_s16le \"C:\\Users\\irish\\Computer_Electronic_Engineering_Year5\\AVSR_project\\Data\\TCD_TIMIT\\lipspeakers\\Lipspkr1\\Clips\\processed\\audio16k\\straightcam\\si601.wav\"\n",
      ">> ffmpeg -y -v error -i \"C:\\Users\\irish\\Computer_Electronic_Engineering_Year5\\AVSR_project\\Data\\TCD_TIMIT\\lipspeakers\\Lipspkr1\\Clips\\audio\\straightcam\\si602.wav\" -ac 1 -ar 16000 -c:a pcm_s16le \"C:\\Users\\irish\\Computer_Electronic_Engineering_Year5\\AVSR_project\\Data\\TCD_TIMIT\\lipspeakers\\Lipspkr1\\Clips\\processed\\audio16k\\straightcam\\si602.wav\"\n",
      ">> ffmpeg -y -v error -i \"C:\\Users\\irish\\Computer_Electronic_Engineering_Year5\\AVSR_project\\Data\\TCD_TIMIT\\lipspeakers\\Lipspkr1\\Clips\\audio\\straightcam\\si612.wav\" -ac 1 -ar 16000 -c:a pcm_s16le \"C:\\Users\\irish\\Computer_Electronic_Engineering_Year5\\AVSR_project\\Data\\TCD_TIMIT\\lipspeakers\\Lipspkr1\\Clips\\processed\\audio16k\\straightcam\\si612.wav\"\n",
      ">> ffmpeg -y -v error -i \"C:\\Users\\irish\\Computer_Electronic_Engineering_Year5\\AVSR_project\\Data\\TCD_TIMIT\\lipspeakers\\Lipspkr1\\Clips\\audio\\straightcam\\si621.wav\" -ac 1 -ar 16000 -c:a pcm_s16le \"C:\\Users\\irish\\Computer_Electronic_Engineering_Year5\\AVSR_project\\Data\\TCD_TIMIT\\lipspeakers\\Lipspkr1\\Clips\\processed\\audio16k\\straightcam\\si621.wav\"\n",
      ">> ffmpeg -y -v error -i \"C:\\Users\\irish\\Computer_Electronic_Engineering_Year5\\AVSR_project\\Data\\TCD_TIMIT\\lipspeakers\\Lipspkr1\\Clips\\audio\\straightcam\\si622.wav\" -ac 1 -ar 16000 -c:a pcm_s16le \"C:\\Users\\irish\\Computer_Electronic_Engineering_Year5\\AVSR_project\\Data\\TCD_TIMIT\\lipspeakers\\Lipspkr1\\Clips\\processed\\audio16k\\straightcam\\si622.wav\"\n",
      ">> ffmpeg -y -v error -i \"C:\\Users\\irish\\Computer_Electronic_Engineering_Year5\\AVSR_project\\Data\\TCD_TIMIT\\lipspeakers\\Lipspkr1\\Clips\\audio\\straightcam\\si638.wav\" -ac 1 -ar 16000 -c:a pcm_s16le \"C:\\Users\\irish\\Computer_Electronic_Engineering_Year5\\AVSR_project\\Data\\TCD_TIMIT\\lipspeakers\\Lipspkr1\\Clips\\processed\\audio16k\\straightcam\\si638.wav\"\n",
      ">> ffmpeg -y -v error -i \"C:\\Users\\irish\\Computer_Electronic_Engineering_Year5\\AVSR_project\\Data\\TCD_TIMIT\\lipspeakers\\Lipspkr1\\Clips\\audio\\straightcam\\si683.wav\" -ac 1 -ar 16000 -c:a pcm_s16le \"C:\\Users\\irish\\Computer_Electronic_Engineering_Year5\\AVSR_project\\Data\\TCD_TIMIT\\lipspeakers\\Lipspkr1\\Clips\\processed\\audio16k\\straightcam\\si683.wav\"\n",
      ">> ffmpeg -y -v error -i \"C:\\Users\\irish\\Computer_Electronic_Engineering_Year5\\AVSR_project\\Data\\TCD_TIMIT\\lipspeakers\\Lipspkr1\\Clips\\audio\\straightcam\\si684.wav\" -ac 1 -ar 16000 -c:a pcm_s16le \"C:\\Users\\irish\\Computer_Electronic_Engineering_Year5\\AVSR_project\\Data\\TCD_TIMIT\\lipspeakers\\Lipspkr1\\Clips\\processed\\audio16k\\straightcam\\si684.wav\"\n",
      ">> ffmpeg -y -v error -i \"C:\\Users\\irish\\Computer_Electronic_Engineering_Year5\\AVSR_project\\Data\\TCD_TIMIT\\lipspeakers\\Lipspkr1\\Clips\\audio\\straightcam\\si707.wav\" -ac 1 -ar 16000 -c:a pcm_s16le \"C:\\Users\\irish\\Computer_Electronic_Engineering_Year5\\AVSR_project\\Data\\TCD_TIMIT\\lipspeakers\\Lipspkr1\\Clips\\processed\\audio16k\\straightcam\\si707.wav\"\n",
      ">> ffmpeg -y -v error -i \"C:\\Users\\irish\\Computer_Electronic_Engineering_Year5\\AVSR_project\\Data\\TCD_TIMIT\\lipspeakers\\Lipspkr1\\Clips\\audio\\straightcam\\si709.wav\" -ac 1 -ar 16000 -c:a pcm_s16le \"C:\\Users\\irish\\Computer_Electronic_Engineering_Year5\\AVSR_project\\Data\\TCD_TIMIT\\lipspeakers\\Lipspkr1\\Clips\\processed\\audio16k\\straightcam\\si709.wav\"\n",
      ">> ffmpeg -y -v error -i \"C:\\Users\\irish\\Computer_Electronic_Engineering_Year5\\AVSR_project\\Data\\TCD_TIMIT\\lipspeakers\\Lipspkr1\\Clips\\audio\\straightcam\\si713.wav\" -ac 1 -ar 16000 -c:a pcm_s16le \"C:\\Users\\irish\\Computer_Electronic_Engineering_Year5\\AVSR_project\\Data\\TCD_TIMIT\\lipspeakers\\Lipspkr1\\Clips\\processed\\audio16k\\straightcam\\si713.wav\"\n",
      ">> ffmpeg -y -v error -i \"C:\\Users\\irish\\Computer_Electronic_Engineering_Year5\\AVSR_project\\Data\\TCD_TIMIT\\lipspeakers\\Lipspkr1\\Clips\\audio\\straightcam\\si715.wav\" -ac 1 -ar 16000 -c:a pcm_s16le \"C:\\Users\\irish\\Computer_Electronic_Engineering_Year5\\AVSR_project\\Data\\TCD_TIMIT\\lipspeakers\\Lipspkr1\\Clips\\processed\\audio16k\\straightcam\\si715.wav\"\n",
      ">> ffmpeg -y -v error -i \"C:\\Users\\irish\\Computer_Electronic_Engineering_Year5\\AVSR_project\\Data\\TCD_TIMIT\\lipspeakers\\Lipspkr1\\Clips\\audio\\straightcam\\si720.wav\" -ac 1 -ar 16000 -c:a pcm_s16le \"C:\\Users\\irish\\Computer_Electronic_Engineering_Year5\\AVSR_project\\Data\\TCD_TIMIT\\lipspeakers\\Lipspkr1\\Clips\\processed\\audio16k\\straightcam\\si720.wav\"\n",
      ">> ffmpeg -y -v error -i \"C:\\Users\\irish\\Computer_Electronic_Engineering_Year5\\AVSR_project\\Data\\TCD_TIMIT\\lipspeakers\\Lipspkr1\\Clips\\audio\\straightcam\\si737.wav\" -ac 1 -ar 16000 -c:a pcm_s16le \"C:\\Users\\irish\\Computer_Electronic_Engineering_Year5\\AVSR_project\\Data\\TCD_TIMIT\\lipspeakers\\Lipspkr1\\Clips\\processed\\audio16k\\straightcam\\si737.wav\"\n",
      ">> ffmpeg -y -v error -i \"C:\\Users\\irish\\Computer_Electronic_Engineering_Year5\\AVSR_project\\Data\\TCD_TIMIT\\lipspeakers\\Lipspkr1\\Clips\\audio\\straightcam\\si738.wav\" -ac 1 -ar 16000 -c:a pcm_s16le \"C:\\Users\\irish\\Computer_Electronic_Engineering_Year5\\AVSR_project\\Data\\TCD_TIMIT\\lipspeakers\\Lipspkr1\\Clips\\processed\\audio16k\\straightcam\\si738.wav\"\n",
      ">> ffmpeg -y -v error -i \"C:\\Users\\irish\\Computer_Electronic_Engineering_Year5\\AVSR_project\\Data\\TCD_TIMIT\\lipspeakers\\Lipspkr1\\Clips\\audio\\straightcam\\si739.wav\" -ac 1 -ar 16000 -c:a pcm_s16le \"C:\\Users\\irish\\Computer_Electronic_Engineering_Year5\\AVSR_project\\Data\\TCD_TIMIT\\lipspeakers\\Lipspkr1\\Clips\\processed\\audio16k\\straightcam\\si739.wav\"\n",
      ">> ffmpeg -y -v error -i \"C:\\Users\\irish\\Computer_Electronic_Engineering_Year5\\AVSR_project\\Data\\TCD_TIMIT\\lipspeakers\\Lipspkr1\\Clips\\audio\\straightcam\\si775.wav\" -ac 1 -ar 16000 -c:a pcm_s16le \"C:\\Users\\irish\\Computer_Electronic_Engineering_Year5\\AVSR_project\\Data\\TCD_TIMIT\\lipspeakers\\Lipspkr1\\Clips\\processed\\audio16k\\straightcam\\si775.wav\"\n",
      ">> ffmpeg -y -v error -i \"C:\\Users\\irish\\Computer_Electronic_Engineering_Year5\\AVSR_project\\Data\\TCD_TIMIT\\lipspeakers\\Lipspkr1\\Clips\\audio\\straightcam\\si796.wav\" -ac 1 -ar 16000 -c:a pcm_s16le \"C:\\Users\\irish\\Computer_Electronic_Engineering_Year5\\AVSR_project\\Data\\TCD_TIMIT\\lipspeakers\\Lipspkr1\\Clips\\processed\\audio16k\\straightcam\\si796.wav\"\n",
      ">> ffmpeg -y -v error -i \"C:\\Users\\irish\\Computer_Electronic_Engineering_Year5\\AVSR_project\\Data\\TCD_TIMIT\\lipspeakers\\Lipspkr1\\Clips\\audio\\straightcam\\si798.wav\" -ac 1 -ar 16000 -c:a pcm_s16le \"C:\\Users\\irish\\Computer_Electronic_Engineering_Year5\\AVSR_project\\Data\\TCD_TIMIT\\lipspeakers\\Lipspkr1\\Clips\\processed\\audio16k\\straightcam\\si798.wav\"\n",
      ">> ffmpeg -y -v error -i \"C:\\Users\\irish\\Computer_Electronic_Engineering_Year5\\AVSR_project\\Data\\TCD_TIMIT\\lipspeakers\\Lipspkr1\\Clips\\audio\\straightcam\\si809.wav\" -ac 1 -ar 16000 -c:a pcm_s16le \"C:\\Users\\irish\\Computer_Electronic_Engineering_Year5\\AVSR_project\\Data\\TCD_TIMIT\\lipspeakers\\Lipspkr1\\Clips\\processed\\audio16k\\straightcam\\si809.wav\"\n",
      ">> ffmpeg -y -v error -i \"C:\\Users\\irish\\Computer_Electronic_Engineering_Year5\\AVSR_project\\Data\\TCD_TIMIT\\lipspeakers\\Lipspkr1\\Clips\\audio\\straightcam\\si818.wav\" -ac 1 -ar 16000 -c:a pcm_s16le \"C:\\Users\\irish\\Computer_Electronic_Engineering_Year5\\AVSR_project\\Data\\TCD_TIMIT\\lipspeakers\\Lipspkr1\\Clips\\processed\\audio16k\\straightcam\\si818.wav\"\n",
      ">> ffmpeg -y -v error -i \"C:\\Users\\irish\\Computer_Electronic_Engineering_Year5\\AVSR_project\\Data\\TCD_TIMIT\\lipspeakers\\Lipspkr1\\Clips\\audio\\straightcam\\si820.wav\" -ac 1 -ar 16000 -c:a pcm_s16le \"C:\\Users\\irish\\Computer_Electronic_Engineering_Year5\\AVSR_project\\Data\\TCD_TIMIT\\lipspeakers\\Lipspkr1\\Clips\\processed\\audio16k\\straightcam\\si820.wav\"\n",
      ">> ffmpeg -y -v error -i \"C:\\Users\\irish\\Computer_Electronic_Engineering_Year5\\AVSR_project\\Data\\TCD_TIMIT\\lipspeakers\\Lipspkr1\\Clips\\audio\\straightcam\\si867.wav\" -ac 1 -ar 16000 -c:a pcm_s16le \"C:\\Users\\irish\\Computer_Electronic_Engineering_Year5\\AVSR_project\\Data\\TCD_TIMIT\\lipspeakers\\Lipspkr1\\Clips\\processed\\audio16k\\straightcam\\si867.wav\"\n",
      ">> ffmpeg -y -v error -i \"C:\\Users\\irish\\Computer_Electronic_Engineering_Year5\\AVSR_project\\Data\\TCD_TIMIT\\lipspeakers\\Lipspkr1\\Clips\\audio\\straightcam\\si894.wav\" -ac 1 -ar 16000 -c:a pcm_s16le \"C:\\Users\\irish\\Computer_Electronic_Engineering_Year5\\AVSR_project\\Data\\TCD_TIMIT\\lipspeakers\\Lipspkr1\\Clips\\processed\\audio16k\\straightcam\\si894.wav\"\n",
      ">> ffmpeg -y -v error -i \"C:\\Users\\irish\\Computer_Electronic_Engineering_Year5\\AVSR_project\\Data\\TCD_TIMIT\\lipspeakers\\Lipspkr1\\Clips\\audio\\straightcam\\si913.wav\" -ac 1 -ar 16000 -c:a pcm_s16le \"C:\\Users\\irish\\Computer_Electronic_Engineering_Year5\\AVSR_project\\Data\\TCD_TIMIT\\lipspeakers\\Lipspkr1\\Clips\\processed\\audio16k\\straightcam\\si913.wav\"\n",
      ">> ffmpeg -y -v error -i \"C:\\Users\\irish\\Computer_Electronic_Engineering_Year5\\AVSR_project\\Data\\TCD_TIMIT\\lipspeakers\\Lipspkr1\\Clips\\audio\\straightcam\\si951.wav\" -ac 1 -ar 16000 -c:a pcm_s16le \"C:\\Users\\irish\\Computer_Electronic_Engineering_Year5\\AVSR_project\\Data\\TCD_TIMIT\\lipspeakers\\Lipspkr1\\Clips\\processed\\audio16k\\straightcam\\si951.wav\"\n",
      ">> ffmpeg -y -v error -i \"C:\\Users\\irish\\Computer_Electronic_Engineering_Year5\\AVSR_project\\Data\\TCD_TIMIT\\lipspeakers\\Lipspkr1\\Clips\\audio\\straightcam\\si970.wav\" -ac 1 -ar 16000 -c:a pcm_s16le \"C:\\Users\\irish\\Computer_Electronic_Engineering_Year5\\AVSR_project\\Data\\TCD_TIMIT\\lipspeakers\\Lipspkr1\\Clips\\processed\\audio16k\\straightcam\\si970.wav\"\n",
      ">> ffmpeg -y -v error -i \"C:\\Users\\irish\\Computer_Electronic_Engineering_Year5\\AVSR_project\\Data\\TCD_TIMIT\\lipspeakers\\Lipspkr1\\Clips\\audio\\straightcam\\si974.wav\" -ac 1 -ar 16000 -c:a pcm_s16le \"C:\\Users\\irish\\Computer_Electronic_Engineering_Year5\\AVSR_project\\Data\\TCD_TIMIT\\lipspeakers\\Lipspkr1\\Clips\\processed\\audio16k\\straightcam\\si974.wav\"\n",
      ">> ffmpeg -y -v error -i \"C:\\Users\\irish\\Computer_Electronic_Engineering_Year5\\AVSR_project\\Data\\TCD_TIMIT\\lipspeakers\\Lipspkr1\\Clips\\audio\\straightcam\\si986.wav\" -ac 1 -ar 16000 -c:a pcm_s16le \"C:\\Users\\irish\\Computer_Electronic_Engineering_Year5\\AVSR_project\\Data\\TCD_TIMIT\\lipspeakers\\Lipspkr1\\Clips\\processed\\audio16k\\straightcam\\si986.wav\"\n",
      ">> ffmpeg -y -v error -i \"C:\\Users\\irish\\Computer_Electronic_Engineering_Year5\\AVSR_project\\Data\\TCD_TIMIT\\lipspeakers\\Lipspkr1\\Clips\\audio\\straightcam\\si988.wav\" -ac 1 -ar 16000 -c:a pcm_s16le \"C:\\Users\\irish\\Computer_Electronic_Engineering_Year5\\AVSR_project\\Data\\TCD_TIMIT\\lipspeakers\\Lipspkr1\\Clips\\processed\\audio16k\\straightcam\\si988.wav\"\n",
      ">> ffmpeg -y -v error -i \"C:\\Users\\irish\\Computer_Electronic_Engineering_Year5\\AVSR_project\\Data\\TCD_TIMIT\\lipspeakers\\Lipspkr1\\Clips\\audio\\straightcam\\si997.wav\" -ac 1 -ar 16000 -c:a pcm_s16le \"C:\\Users\\irish\\Computer_Electronic_Engineering_Year5\\AVSR_project\\Data\\TCD_TIMIT\\lipspeakers\\Lipspkr1\\Clips\\processed\\audio16k\\straightcam\\si997.wav\"\n",
      ">> ffmpeg -y -v error -i \"C:\\Users\\irish\\Computer_Electronic_Engineering_Year5\\AVSR_project\\Data\\TCD_TIMIT\\lipspeakers\\Lipspkr1\\Clips\\audio\\straightcam\\sx10.wav\" -ac 1 -ar 16000 -c:a pcm_s16le \"C:\\Users\\irish\\Computer_Electronic_Engineering_Year5\\AVSR_project\\Data\\TCD_TIMIT\\lipspeakers\\Lipspkr1\\Clips\\processed\\audio16k\\straightcam\\sx10.wav\"\n",
      ">> ffmpeg -y -v error -i \"C:\\Users\\irish\\Computer_Electronic_Engineering_Year5\\AVSR_project\\Data\\TCD_TIMIT\\lipspeakers\\Lipspkr1\\Clips\\audio\\straightcam\\sx100.wav\" -ac 1 -ar 16000 -c:a pcm_s16le \"C:\\Users\\irish\\Computer_Electronic_Engineering_Year5\\AVSR_project\\Data\\TCD_TIMIT\\lipspeakers\\Lipspkr1\\Clips\\processed\\audio16k\\straightcam\\sx100.wav\"\n",
      ">> ffmpeg -y -v error -i \"C:\\Users\\irish\\Computer_Electronic_Engineering_Year5\\AVSR_project\\Data\\TCD_TIMIT\\lipspeakers\\Lipspkr1\\Clips\\audio\\straightcam\\sx101.wav\" -ac 1 -ar 16000 -c:a pcm_s16le \"C:\\Users\\irish\\Computer_Electronic_Engineering_Year5\\AVSR_project\\Data\\TCD_TIMIT\\lipspeakers\\Lipspkr1\\Clips\\processed\\audio16k\\straightcam\\sx101.wav\"\n",
      ">> ffmpeg -y -v error -i \"C:\\Users\\irish\\Computer_Electronic_Engineering_Year5\\AVSR_project\\Data\\TCD_TIMIT\\lipspeakers\\Lipspkr1\\Clips\\audio\\straightcam\\sx102.wav\" -ac 1 -ar 16000 -c:a pcm_s16le \"C:\\Users\\irish\\Computer_Electronic_Engineering_Year5\\AVSR_project\\Data\\TCD_TIMIT\\lipspeakers\\Lipspkr1\\Clips\\processed\\audio16k\\straightcam\\sx102.wav\"\n",
      ">> ffmpeg -y -v error -i \"C:\\Users\\irish\\Computer_Electronic_Engineering_Year5\\AVSR_project\\Data\\TCD_TIMIT\\lipspeakers\\Lipspkr1\\Clips\\audio\\straightcam\\sx103.wav\" -ac 1 -ar 16000 -c:a pcm_s16le \"C:\\Users\\irish\\Computer_Electronic_Engineering_Year5\\AVSR_project\\Data\\TCD_TIMIT\\lipspeakers\\Lipspkr1\\Clips\\processed\\audio16k\\straightcam\\sx103.wav\"\n",
      ">> ffmpeg -y -v error -i \"C:\\Users\\irish\\Computer_Electronic_Engineering_Year5\\AVSR_project\\Data\\TCD_TIMIT\\lipspeakers\\Lipspkr1\\Clips\\audio\\straightcam\\sx104.wav\" -ac 1 -ar 16000 -c:a pcm_s16le \"C:\\Users\\irish\\Computer_Electronic_Engineering_Year5\\AVSR_project\\Data\\TCD_TIMIT\\lipspeakers\\Lipspkr1\\Clips\\processed\\audio16k\\straightcam\\sx104.wav\"\n",
      ">> ffmpeg -y -v error -i \"C:\\Users\\irish\\Computer_Electronic_Engineering_Year5\\AVSR_project\\Data\\TCD_TIMIT\\lipspeakers\\Lipspkr1\\Clips\\audio\\straightcam\\sx105.wav\" -ac 1 -ar 16000 -c:a pcm_s16le \"C:\\Users\\irish\\Computer_Electronic_Engineering_Year5\\AVSR_project\\Data\\TCD_TIMIT\\lipspeakers\\Lipspkr1\\Clips\\processed\\audio16k\\straightcam\\sx105.wav\"\n",
      ">> ffmpeg -y -v error -i \"C:\\Users\\irish\\Computer_Electronic_Engineering_Year5\\AVSR_project\\Data\\TCD_TIMIT\\lipspeakers\\Lipspkr1\\Clips\\audio\\straightcam\\sx106.wav\" -ac 1 -ar 16000 -c:a pcm_s16le \"C:\\Users\\irish\\Computer_Electronic_Engineering_Year5\\AVSR_project\\Data\\TCD_TIMIT\\lipspeakers\\Lipspkr1\\Clips\\processed\\audio16k\\straightcam\\sx106.wav\"\n",
      ">> ffmpeg -y -v error -i \"C:\\Users\\irish\\Computer_Electronic_Engineering_Year5\\AVSR_project\\Data\\TCD_TIMIT\\lipspeakers\\Lipspkr1\\Clips\\audio\\straightcam\\sx107.wav\" -ac 1 -ar 16000 -c:a pcm_s16le \"C:\\Users\\irish\\Computer_Electronic_Engineering_Year5\\AVSR_project\\Data\\TCD_TIMIT\\lipspeakers\\Lipspkr1\\Clips\\processed\\audio16k\\straightcam\\sx107.wav\"\n",
      ">> ffmpeg -y -v error -i \"C:\\Users\\irish\\Computer_Electronic_Engineering_Year5\\AVSR_project\\Data\\TCD_TIMIT\\lipspeakers\\Lipspkr1\\Clips\\audio\\straightcam\\sx108.wav\" -ac 1 -ar 16000 -c:a pcm_s16le \"C:\\Users\\irish\\Computer_Electronic_Engineering_Year5\\AVSR_project\\Data\\TCD_TIMIT\\lipspeakers\\Lipspkr1\\Clips\\processed\\audio16k\\straightcam\\sx108.wav\"\n",
      ">> ffmpeg -y -v error -i \"C:\\Users\\irish\\Computer_Electronic_Engineering_Year5\\AVSR_project\\Data\\TCD_TIMIT\\lipspeakers\\Lipspkr1\\Clips\\audio\\straightcam\\sx109.wav\" -ac 1 -ar 16000 -c:a pcm_s16le \"C:\\Users\\irish\\Computer_Electronic_Engineering_Year5\\AVSR_project\\Data\\TCD_TIMIT\\lipspeakers\\Lipspkr1\\Clips\\processed\\audio16k\\straightcam\\sx109.wav\"\n",
      ">> ffmpeg -y -v error -i \"C:\\Users\\irish\\Computer_Electronic_Engineering_Year5\\AVSR_project\\Data\\TCD_TIMIT\\lipspeakers\\Lipspkr1\\Clips\\audio\\straightcam\\sx11.wav\" -ac 1 -ar 16000 -c:a pcm_s16le \"C:\\Users\\irish\\Computer_Electronic_Engineering_Year5\\AVSR_project\\Data\\TCD_TIMIT\\lipspeakers\\Lipspkr1\\Clips\\processed\\audio16k\\straightcam\\sx11.wav\"\n",
      ">> ffmpeg -y -v error -i \"C:\\Users\\irish\\Computer_Electronic_Engineering_Year5\\AVSR_project\\Data\\TCD_TIMIT\\lipspeakers\\Lipspkr1\\Clips\\audio\\straightcam\\sx110.wav\" -ac 1 -ar 16000 -c:a pcm_s16le \"C:\\Users\\irish\\Computer_Electronic_Engineering_Year5\\AVSR_project\\Data\\TCD_TIMIT\\lipspeakers\\Lipspkr1\\Clips\\processed\\audio16k\\straightcam\\sx110.wav\"\n",
      ">> ffmpeg -y -v error -i \"C:\\Users\\irish\\Computer_Electronic_Engineering_Year5\\AVSR_project\\Data\\TCD_TIMIT\\lipspeakers\\Lipspkr1\\Clips\\audio\\straightcam\\sx12.wav\" -ac 1 -ar 16000 -c:a pcm_s16le \"C:\\Users\\irish\\Computer_Electronic_Engineering_Year5\\AVSR_project\\Data\\TCD_TIMIT\\lipspeakers\\Lipspkr1\\Clips\\processed\\audio16k\\straightcam\\sx12.wav\"\n",
      ">> ffmpeg -y -v error -i \"C:\\Users\\irish\\Computer_Electronic_Engineering_Year5\\AVSR_project\\Data\\TCD_TIMIT\\lipspeakers\\Lipspkr1\\Clips\\audio\\straightcam\\sx13.wav\" -ac 1 -ar 16000 -c:a pcm_s16le \"C:\\Users\\irish\\Computer_Electronic_Engineering_Year5\\AVSR_project\\Data\\TCD_TIMIT\\lipspeakers\\Lipspkr1\\Clips\\processed\\audio16k\\straightcam\\sx13.wav\"\n",
      ">> ffmpeg -y -v error -i \"C:\\Users\\irish\\Computer_Electronic_Engineering_Year5\\AVSR_project\\Data\\TCD_TIMIT\\lipspeakers\\Lipspkr1\\Clips\\audio\\straightcam\\sx14.wav\" -ac 1 -ar 16000 -c:a pcm_s16le \"C:\\Users\\irish\\Computer_Electronic_Engineering_Year5\\AVSR_project\\Data\\TCD_TIMIT\\lipspeakers\\Lipspkr1\\Clips\\processed\\audio16k\\straightcam\\sx14.wav\"\n",
      ">> ffmpeg -y -v error -i \"C:\\Users\\irish\\Computer_Electronic_Engineering_Year5\\AVSR_project\\Data\\TCD_TIMIT\\lipspeakers\\Lipspkr1\\Clips\\audio\\straightcam\\sx141.wav\" -ac 1 -ar 16000 -c:a pcm_s16le \"C:\\Users\\irish\\Computer_Electronic_Engineering_Year5\\AVSR_project\\Data\\TCD_TIMIT\\lipspeakers\\Lipspkr1\\Clips\\processed\\audio16k\\straightcam\\sx141.wav\"\n",
      ">> ffmpeg -y -v error -i \"C:\\Users\\irish\\Computer_Electronic_Engineering_Year5\\AVSR_project\\Data\\TCD_TIMIT\\lipspeakers\\Lipspkr1\\Clips\\audio\\straightcam\\sx142.wav\" -ac 1 -ar 16000 -c:a pcm_s16le \"C:\\Users\\irish\\Computer_Electronic_Engineering_Year5\\AVSR_project\\Data\\TCD_TIMIT\\lipspeakers\\Lipspkr1\\Clips\\processed\\audio16k\\straightcam\\sx142.wav\"\n",
      ">> ffmpeg -y -v error -i \"C:\\Users\\irish\\Computer_Electronic_Engineering_Year5\\AVSR_project\\Data\\TCD_TIMIT\\lipspeakers\\Lipspkr1\\Clips\\audio\\straightcam\\sx143.wav\" -ac 1 -ar 16000 -c:a pcm_s16le \"C:\\Users\\irish\\Computer_Electronic_Engineering_Year5\\AVSR_project\\Data\\TCD_TIMIT\\lipspeakers\\Lipspkr1\\Clips\\processed\\audio16k\\straightcam\\sx143.wav\"\n",
      ">> ffmpeg -y -v error -i \"C:\\Users\\irish\\Computer_Electronic_Engineering_Year5\\AVSR_project\\Data\\TCD_TIMIT\\lipspeakers\\Lipspkr1\\Clips\\audio\\straightcam\\sx144.wav\" -ac 1 -ar 16000 -c:a pcm_s16le \"C:\\Users\\irish\\Computer_Electronic_Engineering_Year5\\AVSR_project\\Data\\TCD_TIMIT\\lipspeakers\\Lipspkr1\\Clips\\processed\\audio16k\\straightcam\\sx144.wav\"\n",
      ">> ffmpeg -y -v error -i \"C:\\Users\\irish\\Computer_Electronic_Engineering_Year5\\AVSR_project\\Data\\TCD_TIMIT\\lipspeakers\\Lipspkr1\\Clips\\audio\\straightcam\\sx145.wav\" -ac 1 -ar 16000 -c:a pcm_s16le \"C:\\Users\\irish\\Computer_Electronic_Engineering_Year5\\AVSR_project\\Data\\TCD_TIMIT\\lipspeakers\\Lipspkr1\\Clips\\processed\\audio16k\\straightcam\\sx145.wav\"\n",
      ">> ffmpeg -y -v error -i \"C:\\Users\\irish\\Computer_Electronic_Engineering_Year5\\AVSR_project\\Data\\TCD_TIMIT\\lipspeakers\\Lipspkr1\\Clips\\audio\\straightcam\\sx146.wav\" -ac 1 -ar 16000 -c:a pcm_s16le \"C:\\Users\\irish\\Computer_Electronic_Engineering_Year5\\AVSR_project\\Data\\TCD_TIMIT\\lipspeakers\\Lipspkr1\\Clips\\processed\\audio16k\\straightcam\\sx146.wav\"\n",
      ">> ffmpeg -y -v error -i \"C:\\Users\\irish\\Computer_Electronic_Engineering_Year5\\AVSR_project\\Data\\TCD_TIMIT\\lipspeakers\\Lipspkr1\\Clips\\audio\\straightcam\\sx147.wav\" -ac 1 -ar 16000 -c:a pcm_s16le \"C:\\Users\\irish\\Computer_Electronic_Engineering_Year5\\AVSR_project\\Data\\TCD_TIMIT\\lipspeakers\\Lipspkr1\\Clips\\processed\\audio16k\\straightcam\\sx147.wav\"\n",
      ">> ffmpeg -y -v error -i \"C:\\Users\\irish\\Computer_Electronic_Engineering_Year5\\AVSR_project\\Data\\TCD_TIMIT\\lipspeakers\\Lipspkr1\\Clips\\audio\\straightcam\\sx148.wav\" -ac 1 -ar 16000 -c:a pcm_s16le \"C:\\Users\\irish\\Computer_Electronic_Engineering_Year5\\AVSR_project\\Data\\TCD_TIMIT\\lipspeakers\\Lipspkr1\\Clips\\processed\\audio16k\\straightcam\\sx148.wav\"\n",
      ">> ffmpeg -y -v error -i \"C:\\Users\\irish\\Computer_Electronic_Engineering_Year5\\AVSR_project\\Data\\TCD_TIMIT\\lipspeakers\\Lipspkr1\\Clips\\audio\\straightcam\\sx149.wav\" -ac 1 -ar 16000 -c:a pcm_s16le \"C:\\Users\\irish\\Computer_Electronic_Engineering_Year5\\AVSR_project\\Data\\TCD_TIMIT\\lipspeakers\\Lipspkr1\\Clips\\processed\\audio16k\\straightcam\\sx149.wav\"\n",
      ">> ffmpeg -y -v error -i \"C:\\Users\\irish\\Computer_Electronic_Engineering_Year5\\AVSR_project\\Data\\TCD_TIMIT\\lipspeakers\\Lipspkr1\\Clips\\audio\\straightcam\\sx15.wav\" -ac 1 -ar 16000 -c:a pcm_s16le \"C:\\Users\\irish\\Computer_Electronic_Engineering_Year5\\AVSR_project\\Data\\TCD_TIMIT\\lipspeakers\\Lipspkr1\\Clips\\processed\\audio16k\\straightcam\\sx15.wav\"\n",
      ">> ffmpeg -y -v error -i \"C:\\Users\\irish\\Computer_Electronic_Engineering_Year5\\AVSR_project\\Data\\TCD_TIMIT\\lipspeakers\\Lipspkr1\\Clips\\audio\\straightcam\\sx150.wav\" -ac 1 -ar 16000 -c:a pcm_s16le \"C:\\Users\\irish\\Computer_Electronic_Engineering_Year5\\AVSR_project\\Data\\TCD_TIMIT\\lipspeakers\\Lipspkr1\\Clips\\processed\\audio16k\\straightcam\\sx150.wav\"\n",
      ">> ffmpeg -y -v error -i \"C:\\Users\\irish\\Computer_Electronic_Engineering_Year5\\AVSR_project\\Data\\TCD_TIMIT\\lipspeakers\\Lipspkr1\\Clips\\audio\\straightcam\\sx151.wav\" -ac 1 -ar 16000 -c:a pcm_s16le \"C:\\Users\\irish\\Computer_Electronic_Engineering_Year5\\AVSR_project\\Data\\TCD_TIMIT\\lipspeakers\\Lipspkr1\\Clips\\processed\\audio16k\\straightcam\\sx151.wav\"\n",
      ">> ffmpeg -y -v error -i \"C:\\Users\\irish\\Computer_Electronic_Engineering_Year5\\AVSR_project\\Data\\TCD_TIMIT\\lipspeakers\\Lipspkr1\\Clips\\audio\\straightcam\\sx152.wav\" -ac 1 -ar 16000 -c:a pcm_s16le \"C:\\Users\\irish\\Computer_Electronic_Engineering_Year5\\AVSR_project\\Data\\TCD_TIMIT\\lipspeakers\\Lipspkr1\\Clips\\processed\\audio16k\\straightcam\\sx152.wav\"\n",
      ">> ffmpeg -y -v error -i \"C:\\Users\\irish\\Computer_Electronic_Engineering_Year5\\AVSR_project\\Data\\TCD_TIMIT\\lipspeakers\\Lipspkr1\\Clips\\audio\\straightcam\\sx16.wav\" -ac 1 -ar 16000 -c:a pcm_s16le \"C:\\Users\\irish\\Computer_Electronic_Engineering_Year5\\AVSR_project\\Data\\TCD_TIMIT\\lipspeakers\\Lipspkr1\\Clips\\processed\\audio16k\\straightcam\\sx16.wav\"\n",
      ">> ffmpeg -y -v error -i \"C:\\Users\\irish\\Computer_Electronic_Engineering_Year5\\AVSR_project\\Data\\TCD_TIMIT\\lipspeakers\\Lipspkr1\\Clips\\audio\\straightcam\\sx165.wav\" -ac 1 -ar 16000 -c:a pcm_s16le \"C:\\Users\\irish\\Computer_Electronic_Engineering_Year5\\AVSR_project\\Data\\TCD_TIMIT\\lipspeakers\\Lipspkr1\\Clips\\processed\\audio16k\\straightcam\\sx165.wav\"\n",
      ">> ffmpeg -y -v error -i \"C:\\Users\\irish\\Computer_Electronic_Engineering_Year5\\AVSR_project\\Data\\TCD_TIMIT\\lipspeakers\\Lipspkr1\\Clips\\audio\\straightcam\\sx166.wav\" -ac 1 -ar 16000 -c:a pcm_s16le \"C:\\Users\\irish\\Computer_Electronic_Engineering_Year5\\AVSR_project\\Data\\TCD_TIMIT\\lipspeakers\\Lipspkr1\\Clips\\processed\\audio16k\\straightcam\\sx166.wav\"\n",
      ">> ffmpeg -y -v error -i \"C:\\Users\\irish\\Computer_Electronic_Engineering_Year5\\AVSR_project\\Data\\TCD_TIMIT\\lipspeakers\\Lipspkr1\\Clips\\audio\\straightcam\\sx167.wav\" -ac 1 -ar 16000 -c:a pcm_s16le \"C:\\Users\\irish\\Computer_Electronic_Engineering_Year5\\AVSR_project\\Data\\TCD_TIMIT\\lipspeakers\\Lipspkr1\\Clips\\processed\\audio16k\\straightcam\\sx167.wav\"\n",
      ">> ffmpeg -y -v error -i \"C:\\Users\\irish\\Computer_Electronic_Engineering_Year5\\AVSR_project\\Data\\TCD_TIMIT\\lipspeakers\\Lipspkr1\\Clips\\audio\\straightcam\\sx168.wav\" -ac 1 -ar 16000 -c:a pcm_s16le \"C:\\Users\\irish\\Computer_Electronic_Engineering_Year5\\AVSR_project\\Data\\TCD_TIMIT\\lipspeakers\\Lipspkr1\\Clips\\processed\\audio16k\\straightcam\\sx168.wav\"\n",
      ">> ffmpeg -y -v error -i \"C:\\Users\\irish\\Computer_Electronic_Engineering_Year5\\AVSR_project\\Data\\TCD_TIMIT\\lipspeakers\\Lipspkr1\\Clips\\audio\\straightcam\\sx169.wav\" -ac 1 -ar 16000 -c:a pcm_s16le \"C:\\Users\\irish\\Computer_Electronic_Engineering_Year5\\AVSR_project\\Data\\TCD_TIMIT\\lipspeakers\\Lipspkr1\\Clips\\processed\\audio16k\\straightcam\\sx169.wav\"\n",
      ">> ffmpeg -y -v error -i \"C:\\Users\\irish\\Computer_Electronic_Engineering_Year5\\AVSR_project\\Data\\TCD_TIMIT\\lipspeakers\\Lipspkr1\\Clips\\audio\\straightcam\\sx17.wav\" -ac 1 -ar 16000 -c:a pcm_s16le \"C:\\Users\\irish\\Computer_Electronic_Engineering_Year5\\AVSR_project\\Data\\TCD_TIMIT\\lipspeakers\\Lipspkr1\\Clips\\processed\\audio16k\\straightcam\\sx17.wav\"\n",
      ">> ffmpeg -y -v error -i \"C:\\Users\\irish\\Computer_Electronic_Engineering_Year5\\AVSR_project\\Data\\TCD_TIMIT\\lipspeakers\\Lipspkr1\\Clips\\audio\\straightcam\\sx170.wav\" -ac 1 -ar 16000 -c:a pcm_s16le \"C:\\Users\\irish\\Computer_Electronic_Engineering_Year5\\AVSR_project\\Data\\TCD_TIMIT\\lipspeakers\\Lipspkr1\\Clips\\processed\\audio16k\\straightcam\\sx170.wav\"\n",
      ">> ffmpeg -y -v error -i \"C:\\Users\\irish\\Computer_Electronic_Engineering_Year5\\AVSR_project\\Data\\TCD_TIMIT\\lipspeakers\\Lipspkr1\\Clips\\audio\\straightcam\\sx171.wav\" -ac 1 -ar 16000 -c:a pcm_s16le \"C:\\Users\\irish\\Computer_Electronic_Engineering_Year5\\AVSR_project\\Data\\TCD_TIMIT\\lipspeakers\\Lipspkr1\\Clips\\processed\\audio16k\\straightcam\\sx171.wav\"\n",
      ">> ffmpeg -y -v error -i \"C:\\Users\\irish\\Computer_Electronic_Engineering_Year5\\AVSR_project\\Data\\TCD_TIMIT\\lipspeakers\\Lipspkr1\\Clips\\audio\\straightcam\\sx172.wav\" -ac 1 -ar 16000 -c:a pcm_s16le \"C:\\Users\\irish\\Computer_Electronic_Engineering_Year5\\AVSR_project\\Data\\TCD_TIMIT\\lipspeakers\\Lipspkr1\\Clips\\processed\\audio16k\\straightcam\\sx172.wav\"\n",
      ">> ffmpeg -y -v error -i \"C:\\Users\\irish\\Computer_Electronic_Engineering_Year5\\AVSR_project\\Data\\TCD_TIMIT\\lipspeakers\\Lipspkr1\\Clips\\audio\\straightcam\\sx173.wav\" -ac 1 -ar 16000 -c:a pcm_s16le \"C:\\Users\\irish\\Computer_Electronic_Engineering_Year5\\AVSR_project\\Data\\TCD_TIMIT\\lipspeakers\\Lipspkr1\\Clips\\processed\\audio16k\\straightcam\\sx173.wav\"\n",
      ">> ffmpeg -y -v error -i \"C:\\Users\\irish\\Computer_Electronic_Engineering_Year5\\AVSR_project\\Data\\TCD_TIMIT\\lipspeakers\\Lipspkr1\\Clips\\audio\\straightcam\\sx174.wav\" -ac 1 -ar 16000 -c:a pcm_s16le \"C:\\Users\\irish\\Computer_Electronic_Engineering_Year5\\AVSR_project\\Data\\TCD_TIMIT\\lipspeakers\\Lipspkr1\\Clips\\processed\\audio16k\\straightcam\\sx174.wav\"\n",
      ">> ffmpeg -y -v error -i \"C:\\Users\\irish\\Computer_Electronic_Engineering_Year5\\AVSR_project\\Data\\TCD_TIMIT\\lipspeakers\\Lipspkr1\\Clips\\audio\\straightcam\\sx175.wav\" -ac 1 -ar 16000 -c:a pcm_s16le \"C:\\Users\\irish\\Computer_Electronic_Engineering_Year5\\AVSR_project\\Data\\TCD_TIMIT\\lipspeakers\\Lipspkr1\\Clips\\processed\\audio16k\\straightcam\\sx175.wav\"\n",
      ">> ffmpeg -y -v error -i \"C:\\Users\\irish\\Computer_Electronic_Engineering_Year5\\AVSR_project\\Data\\TCD_TIMIT\\lipspeakers\\Lipspkr1\\Clips\\audio\\straightcam\\sx176.wav\" -ac 1 -ar 16000 -c:a pcm_s16le \"C:\\Users\\irish\\Computer_Electronic_Engineering_Year5\\AVSR_project\\Data\\TCD_TIMIT\\lipspeakers\\Lipspkr1\\Clips\\processed\\audio16k\\straightcam\\sx176.wav\"\n",
      ">> ffmpeg -y -v error -i \"C:\\Users\\irish\\Computer_Electronic_Engineering_Year5\\AVSR_project\\Data\\TCD_TIMIT\\lipspeakers\\Lipspkr1\\Clips\\audio\\straightcam\\sx177.wav\" -ac 1 -ar 16000 -c:a pcm_s16le \"C:\\Users\\irish\\Computer_Electronic_Engineering_Year5\\AVSR_project\\Data\\TCD_TIMIT\\lipspeakers\\Lipspkr1\\Clips\\processed\\audio16k\\straightcam\\sx177.wav\"\n",
      ">> ffmpeg -y -v error -i \"C:\\Users\\irish\\Computer_Electronic_Engineering_Year5\\AVSR_project\\Data\\TCD_TIMIT\\lipspeakers\\Lipspkr1\\Clips\\audio\\straightcam\\sx178.wav\" -ac 1 -ar 16000 -c:a pcm_s16le \"C:\\Users\\irish\\Computer_Electronic_Engineering_Year5\\AVSR_project\\Data\\TCD_TIMIT\\lipspeakers\\Lipspkr1\\Clips\\processed\\audio16k\\straightcam\\sx178.wav\"\n",
      ">> ffmpeg -y -v error -i \"C:\\Users\\irish\\Computer_Electronic_Engineering_Year5\\AVSR_project\\Data\\TCD_TIMIT\\lipspeakers\\Lipspkr1\\Clips\\audio\\straightcam\\sx179.wav\" -ac 1 -ar 16000 -c:a pcm_s16le \"C:\\Users\\irish\\Computer_Electronic_Engineering_Year5\\AVSR_project\\Data\\TCD_TIMIT\\lipspeakers\\Lipspkr1\\Clips\\processed\\audio16k\\straightcam\\sx179.wav\"\n",
      ">> ffmpeg -y -v error -i \"C:\\Users\\irish\\Computer_Electronic_Engineering_Year5\\AVSR_project\\Data\\TCD_TIMIT\\lipspeakers\\Lipspkr1\\Clips\\audio\\straightcam\\sx18.wav\" -ac 1 -ar 16000 -c:a pcm_s16le \"C:\\Users\\irish\\Computer_Electronic_Engineering_Year5\\AVSR_project\\Data\\TCD_TIMIT\\lipspeakers\\Lipspkr1\\Clips\\processed\\audio16k\\straightcam\\sx18.wav\"\n",
      ">> ffmpeg -y -v error -i \"C:\\Users\\irish\\Computer_Electronic_Engineering_Year5\\AVSR_project\\Data\\TCD_TIMIT\\lipspeakers\\Lipspkr1\\Clips\\audio\\straightcam\\sx180.wav\" -ac 1 -ar 16000 -c:a pcm_s16le \"C:\\Users\\irish\\Computer_Electronic_Engineering_Year5\\AVSR_project\\Data\\TCD_TIMIT\\lipspeakers\\Lipspkr1\\Clips\\processed\\audio16k\\straightcam\\sx180.wav\"\n",
      ">> ffmpeg -y -v error -i \"C:\\Users\\irish\\Computer_Electronic_Engineering_Year5\\AVSR_project\\Data\\TCD_TIMIT\\lipspeakers\\Lipspkr1\\Clips\\audio\\straightcam\\sx181.wav\" -ac 1 -ar 16000 -c:a pcm_s16le \"C:\\Users\\irish\\Computer_Electronic_Engineering_Year5\\AVSR_project\\Data\\TCD_TIMIT\\lipspeakers\\Lipspkr1\\Clips\\processed\\audio16k\\straightcam\\sx181.wav\"\n",
      ">> ffmpeg -y -v error -i \"C:\\Users\\irish\\Computer_Electronic_Engineering_Year5\\AVSR_project\\Data\\TCD_TIMIT\\lipspeakers\\Lipspkr1\\Clips\\audio\\straightcam\\sx182.wav\" -ac 1 -ar 16000 -c:a pcm_s16le \"C:\\Users\\irish\\Computer_Electronic_Engineering_Year5\\AVSR_project\\Data\\TCD_TIMIT\\lipspeakers\\Lipspkr1\\Clips\\processed\\audio16k\\straightcam\\sx182.wav\"\n",
      ">> ffmpeg -y -v error -i \"C:\\Users\\irish\\Computer_Electronic_Engineering_Year5\\AVSR_project\\Data\\TCD_TIMIT\\lipspeakers\\Lipspkr1\\Clips\\audio\\straightcam\\sx184.wav\" -ac 1 -ar 16000 -c:a pcm_s16le \"C:\\Users\\irish\\Computer_Electronic_Engineering_Year5\\AVSR_project\\Data\\TCD_TIMIT\\lipspeakers\\Lipspkr1\\Clips\\processed\\audio16k\\straightcam\\sx184.wav\"\n",
      ">> ffmpeg -y -v error -i \"C:\\Users\\irish\\Computer_Electronic_Engineering_Year5\\AVSR_project\\Data\\TCD_TIMIT\\lipspeakers\\Lipspkr1\\Clips\\audio\\straightcam\\sx185.wav\" -ac 1 -ar 16000 -c:a pcm_s16le \"C:\\Users\\irish\\Computer_Electronic_Engineering_Year5\\AVSR_project\\Data\\TCD_TIMIT\\lipspeakers\\Lipspkr1\\Clips\\processed\\audio16k\\straightcam\\sx185.wav\"\n",
      ">> ffmpeg -y -v error -i \"C:\\Users\\irish\\Computer_Electronic_Engineering_Year5\\AVSR_project\\Data\\TCD_TIMIT\\lipspeakers\\Lipspkr1\\Clips\\audio\\straightcam\\sx186.wav\" -ac 1 -ar 16000 -c:a pcm_s16le \"C:\\Users\\irish\\Computer_Electronic_Engineering_Year5\\AVSR_project\\Data\\TCD_TIMIT\\lipspeakers\\Lipspkr1\\Clips\\processed\\audio16k\\straightcam\\sx186.wav\"\n",
      ">> ffmpeg -y -v error -i \"C:\\Users\\irish\\Computer_Electronic_Engineering_Year5\\AVSR_project\\Data\\TCD_TIMIT\\lipspeakers\\Lipspkr1\\Clips\\audio\\straightcam\\sx187.wav\" -ac 1 -ar 16000 -c:a pcm_s16le \"C:\\Users\\irish\\Computer_Electronic_Engineering_Year5\\AVSR_project\\Data\\TCD_TIMIT\\lipspeakers\\Lipspkr1\\Clips\\processed\\audio16k\\straightcam\\sx187.wav\"\n",
      ">> ffmpeg -y -v error -i \"C:\\Users\\irish\\Computer_Electronic_Engineering_Year5\\AVSR_project\\Data\\TCD_TIMIT\\lipspeakers\\Lipspkr1\\Clips\\audio\\straightcam\\sx188.wav\" -ac 1 -ar 16000 -c:a pcm_s16le \"C:\\Users\\irish\\Computer_Electronic_Engineering_Year5\\AVSR_project\\Data\\TCD_TIMIT\\lipspeakers\\Lipspkr1\\Clips\\processed\\audio16k\\straightcam\\sx188.wav\"\n",
      ">> ffmpeg -y -v error -i \"C:\\Users\\irish\\Computer_Electronic_Engineering_Year5\\AVSR_project\\Data\\TCD_TIMIT\\lipspeakers\\Lipspkr1\\Clips\\audio\\straightcam\\sx189.wav\" -ac 1 -ar 16000 -c:a pcm_s16le \"C:\\Users\\irish\\Computer_Electronic_Engineering_Year5\\AVSR_project\\Data\\TCD_TIMIT\\lipspeakers\\Lipspkr1\\Clips\\processed\\audio16k\\straightcam\\sx189.wav\"\n",
      ">> ffmpeg -y -v error -i \"C:\\Users\\irish\\Computer_Electronic_Engineering_Year5\\AVSR_project\\Data\\TCD_TIMIT\\lipspeakers\\Lipspkr1\\Clips\\audio\\straightcam\\sx19.wav\" -ac 1 -ar 16000 -c:a pcm_s16le \"C:\\Users\\irish\\Computer_Electronic_Engineering_Year5\\AVSR_project\\Data\\TCD_TIMIT\\lipspeakers\\Lipspkr1\\Clips\\processed\\audio16k\\straightcam\\sx19.wav\"\n",
      ">> ffmpeg -y -v error -i \"C:\\Users\\irish\\Computer_Electronic_Engineering_Year5\\AVSR_project\\Data\\TCD_TIMIT\\lipspeakers\\Lipspkr1\\Clips\\audio\\straightcam\\sx190.wav\" -ac 1 -ar 16000 -c:a pcm_s16le \"C:\\Users\\irish\\Computer_Electronic_Engineering_Year5\\AVSR_project\\Data\\TCD_TIMIT\\lipspeakers\\Lipspkr1\\Clips\\processed\\audio16k\\straightcam\\sx190.wav\"\n",
      ">> ffmpeg -y -v error -i \"C:\\Users\\irish\\Computer_Electronic_Engineering_Year5\\AVSR_project\\Data\\TCD_TIMIT\\lipspeakers\\Lipspkr1\\Clips\\audio\\straightcam\\sx191.wav\" -ac 1 -ar 16000 -c:a pcm_s16le \"C:\\Users\\irish\\Computer_Electronic_Engineering_Year5\\AVSR_project\\Data\\TCD_TIMIT\\lipspeakers\\Lipspkr1\\Clips\\processed\\audio16k\\straightcam\\sx191.wav\"\n",
      ">> ffmpeg -y -v error -i \"C:\\Users\\irish\\Computer_Electronic_Engineering_Year5\\AVSR_project\\Data\\TCD_TIMIT\\lipspeakers\\Lipspkr1\\Clips\\audio\\straightcam\\sx192.wav\" -ac 1 -ar 16000 -c:a pcm_s16le \"C:\\Users\\irish\\Computer_Electronic_Engineering_Year5\\AVSR_project\\Data\\TCD_TIMIT\\lipspeakers\\Lipspkr1\\Clips\\processed\\audio16k\\straightcam\\sx192.wav\"\n",
      ">> ffmpeg -y -v error -i \"C:\\Users\\irish\\Computer_Electronic_Engineering_Year5\\AVSR_project\\Data\\TCD_TIMIT\\lipspeakers\\Lipspkr1\\Clips\\audio\\straightcam\\sx193.wav\" -ac 1 -ar 16000 -c:a pcm_s16le \"C:\\Users\\irish\\Computer_Electronic_Engineering_Year5\\AVSR_project\\Data\\TCD_TIMIT\\lipspeakers\\Lipspkr1\\Clips\\processed\\audio16k\\straightcam\\sx193.wav\"\n",
      ">> ffmpeg -y -v error -i \"C:\\Users\\irish\\Computer_Electronic_Engineering_Year5\\AVSR_project\\Data\\TCD_TIMIT\\lipspeakers\\Lipspkr1\\Clips\\audio\\straightcam\\sx194.wav\" -ac 1 -ar 16000 -c:a pcm_s16le \"C:\\Users\\irish\\Computer_Electronic_Engineering_Year5\\AVSR_project\\Data\\TCD_TIMIT\\lipspeakers\\Lipspkr1\\Clips\\processed\\audio16k\\straightcam\\sx194.wav\"\n",
      ">> ffmpeg -y -v error -i \"C:\\Users\\irish\\Computer_Electronic_Engineering_Year5\\AVSR_project\\Data\\TCD_TIMIT\\lipspeakers\\Lipspkr1\\Clips\\audio\\straightcam\\sx195.wav\" -ac 1 -ar 16000 -c:a pcm_s16le \"C:\\Users\\irish\\Computer_Electronic_Engineering_Year5\\AVSR_project\\Data\\TCD_TIMIT\\lipspeakers\\Lipspkr1\\Clips\\processed\\audio16k\\straightcam\\sx195.wav\"\n",
      ">> ffmpeg -y -v error -i \"C:\\Users\\irish\\Computer_Electronic_Engineering_Year5\\AVSR_project\\Data\\TCD_TIMIT\\lipspeakers\\Lipspkr1\\Clips\\audio\\straightcam\\sx196.wav\" -ac 1 -ar 16000 -c:a pcm_s16le \"C:\\Users\\irish\\Computer_Electronic_Engineering_Year5\\AVSR_project\\Data\\TCD_TIMIT\\lipspeakers\\Lipspkr1\\Clips\\processed\\audio16k\\straightcam\\sx196.wav\"\n",
      ">> ffmpeg -y -v error -i \"C:\\Users\\irish\\Computer_Electronic_Engineering_Year5\\AVSR_project\\Data\\TCD_TIMIT\\lipspeakers\\Lipspkr1\\Clips\\audio\\straightcam\\sx197.wav\" -ac 1 -ar 16000 -c:a pcm_s16le \"C:\\Users\\irish\\Computer_Electronic_Engineering_Year5\\AVSR_project\\Data\\TCD_TIMIT\\lipspeakers\\Lipspkr1\\Clips\\processed\\audio16k\\straightcam\\sx197.wav\"\n",
      ">> ffmpeg -y -v error -i \"C:\\Users\\irish\\Computer_Electronic_Engineering_Year5\\AVSR_project\\Data\\TCD_TIMIT\\lipspeakers\\Lipspkr1\\Clips\\audio\\straightcam\\sx198.wav\" -ac 1 -ar 16000 -c:a pcm_s16le \"C:\\Users\\irish\\Computer_Electronic_Engineering_Year5\\AVSR_project\\Data\\TCD_TIMIT\\lipspeakers\\Lipspkr1\\Clips\\processed\\audio16k\\straightcam\\sx198.wav\"\n",
      ">> ffmpeg -y -v error -i \"C:\\Users\\irish\\Computer_Electronic_Engineering_Year5\\AVSR_project\\Data\\TCD_TIMIT\\lipspeakers\\Lipspkr1\\Clips\\audio\\straightcam\\sx199.wav\" -ac 1 -ar 16000 -c:a pcm_s16le \"C:\\Users\\irish\\Computer_Electronic_Engineering_Year5\\AVSR_project\\Data\\TCD_TIMIT\\lipspeakers\\Lipspkr1\\Clips\\processed\\audio16k\\straightcam\\sx199.wav\"\n",
      ">> ffmpeg -y -v error -i \"C:\\Users\\irish\\Computer_Electronic_Engineering_Year5\\AVSR_project\\Data\\TCD_TIMIT\\lipspeakers\\Lipspkr1\\Clips\\audio\\straightcam\\sx20.wav\" -ac 1 -ar 16000 -c:a pcm_s16le \"C:\\Users\\irish\\Computer_Electronic_Engineering_Year5\\AVSR_project\\Data\\TCD_TIMIT\\lipspeakers\\Lipspkr1\\Clips\\processed\\audio16k\\straightcam\\sx20.wav\"\n",
      ">> ffmpeg -y -v error -i \"C:\\Users\\irish\\Computer_Electronic_Engineering_Year5\\AVSR_project\\Data\\TCD_TIMIT\\lipspeakers\\Lipspkr1\\Clips\\audio\\straightcam\\sx200.wav\" -ac 1 -ar 16000 -c:a pcm_s16le \"C:\\Users\\irish\\Computer_Electronic_Engineering_Year5\\AVSR_project\\Data\\TCD_TIMIT\\lipspeakers\\Lipspkr1\\Clips\\processed\\audio16k\\straightcam\\sx200.wav\"\n",
      ">> ffmpeg -y -v error -i \"C:\\Users\\irish\\Computer_Electronic_Engineering_Year5\\AVSR_project\\Data\\TCD_TIMIT\\lipspeakers\\Lipspkr1\\Clips\\audio\\straightcam\\sx231.wav\" -ac 1 -ar 16000 -c:a pcm_s16le \"C:\\Users\\irish\\Computer_Electronic_Engineering_Year5\\AVSR_project\\Data\\TCD_TIMIT\\lipspeakers\\Lipspkr1\\Clips\\processed\\audio16k\\straightcam\\sx231.wav\"\n",
      ">> ffmpeg -y -v error -i \"C:\\Users\\irish\\Computer_Electronic_Engineering_Year5\\AVSR_project\\Data\\TCD_TIMIT\\lipspeakers\\Lipspkr1\\Clips\\audio\\straightcam\\sx232.wav\" -ac 1 -ar 16000 -c:a pcm_s16le \"C:\\Users\\irish\\Computer_Electronic_Engineering_Year5\\AVSR_project\\Data\\TCD_TIMIT\\lipspeakers\\Lipspkr1\\Clips\\processed\\audio16k\\straightcam\\sx232.wav\"\n",
      ">> ffmpeg -y -v error -i \"C:\\Users\\irish\\Computer_Electronic_Engineering_Year5\\AVSR_project\\Data\\TCD_TIMIT\\lipspeakers\\Lipspkr1\\Clips\\audio\\straightcam\\sx233.wav\" -ac 1 -ar 16000 -c:a pcm_s16le \"C:\\Users\\irish\\Computer_Electronic_Engineering_Year5\\AVSR_project\\Data\\TCD_TIMIT\\lipspeakers\\Lipspkr1\\Clips\\processed\\audio16k\\straightcam\\sx233.wav\"\n",
      ">> ffmpeg -y -v error -i \"C:\\Users\\irish\\Computer_Electronic_Engineering_Year5\\AVSR_project\\Data\\TCD_TIMIT\\lipspeakers\\Lipspkr1\\Clips\\audio\\straightcam\\sx234.wav\" -ac 1 -ar 16000 -c:a pcm_s16le \"C:\\Users\\irish\\Computer_Electronic_Engineering_Year5\\AVSR_project\\Data\\TCD_TIMIT\\lipspeakers\\Lipspkr1\\Clips\\processed\\audio16k\\straightcam\\sx234.wav\"\n",
      ">> ffmpeg -y -v error -i \"C:\\Users\\irish\\Computer_Electronic_Engineering_Year5\\AVSR_project\\Data\\TCD_TIMIT\\lipspeakers\\Lipspkr1\\Clips\\audio\\straightcam\\sx235.wav\" -ac 1 -ar 16000 -c:a pcm_s16le \"C:\\Users\\irish\\Computer_Electronic_Engineering_Year5\\AVSR_project\\Data\\TCD_TIMIT\\lipspeakers\\Lipspkr1\\Clips\\processed\\audio16k\\straightcam\\sx235.wav\"\n",
      ">> ffmpeg -y -v error -i \"C:\\Users\\irish\\Computer_Electronic_Engineering_Year5\\AVSR_project\\Data\\TCD_TIMIT\\lipspeakers\\Lipspkr1\\Clips\\audio\\straightcam\\sx236.wav\" -ac 1 -ar 16000 -c:a pcm_s16le \"C:\\Users\\irish\\Computer_Electronic_Engineering_Year5\\AVSR_project\\Data\\TCD_TIMIT\\lipspeakers\\Lipspkr1\\Clips\\processed\\audio16k\\straightcam\\sx236.wav\"\n",
      ">> ffmpeg -y -v error -i \"C:\\Users\\irish\\Computer_Electronic_Engineering_Year5\\AVSR_project\\Data\\TCD_TIMIT\\lipspeakers\\Lipspkr1\\Clips\\audio\\straightcam\\sx237.wav\" -ac 1 -ar 16000 -c:a pcm_s16le \"C:\\Users\\irish\\Computer_Electronic_Engineering_Year5\\AVSR_project\\Data\\TCD_TIMIT\\lipspeakers\\Lipspkr1\\Clips\\processed\\audio16k\\straightcam\\sx237.wav\"\n",
      ">> ffmpeg -y -v error -i \"C:\\Users\\irish\\Computer_Electronic_Engineering_Year5\\AVSR_project\\Data\\TCD_TIMIT\\lipspeakers\\Lipspkr1\\Clips\\audio\\straightcam\\sx238.wav\" -ac 1 -ar 16000 -c:a pcm_s16le \"C:\\Users\\irish\\Computer_Electronic_Engineering_Year5\\AVSR_project\\Data\\TCD_TIMIT\\lipspeakers\\Lipspkr1\\Clips\\processed\\audio16k\\straightcam\\sx238.wav\"\n",
      ">> ffmpeg -y -v error -i \"C:\\Users\\irish\\Computer_Electronic_Engineering_Year5\\AVSR_project\\Data\\TCD_TIMIT\\lipspeakers\\Lipspkr1\\Clips\\audio\\straightcam\\sx239.wav\" -ac 1 -ar 16000 -c:a pcm_s16le \"C:\\Users\\irish\\Computer_Electronic_Engineering_Year5\\AVSR_project\\Data\\TCD_TIMIT\\lipspeakers\\Lipspkr1\\Clips\\processed\\audio16k\\straightcam\\sx239.wav\"\n",
      ">> ffmpeg -y -v error -i \"C:\\Users\\irish\\Computer_Electronic_Engineering_Year5\\AVSR_project\\Data\\TCD_TIMIT\\lipspeakers\\Lipspkr1\\Clips\\audio\\straightcam\\sx240.wav\" -ac 1 -ar 16000 -c:a pcm_s16le \"C:\\Users\\irish\\Computer_Electronic_Engineering_Year5\\AVSR_project\\Data\\TCD_TIMIT\\lipspeakers\\Lipspkr1\\Clips\\processed\\audio16k\\straightcam\\sx240.wav\"\n",
      ">> ffmpeg -y -v error -i \"C:\\Users\\irish\\Computer_Electronic_Engineering_Year5\\AVSR_project\\Data\\TCD_TIMIT\\lipspeakers\\Lipspkr1\\Clips\\audio\\straightcam\\sx241.wav\" -ac 1 -ar 16000 -c:a pcm_s16le \"C:\\Users\\irish\\Computer_Electronic_Engineering_Year5\\AVSR_project\\Data\\TCD_TIMIT\\lipspeakers\\Lipspkr1\\Clips\\processed\\audio16k\\straightcam\\sx241.wav\"\n",
      ">> ffmpeg -y -v error -i \"C:\\Users\\irish\\Computer_Electronic_Engineering_Year5\\AVSR_project\\Data\\TCD_TIMIT\\lipspeakers\\Lipspkr1\\Clips\\audio\\straightcam\\sx242.wav\" -ac 1 -ar 16000 -c:a pcm_s16le \"C:\\Users\\irish\\Computer_Electronic_Engineering_Year5\\AVSR_project\\Data\\TCD_TIMIT\\lipspeakers\\Lipspkr1\\Clips\\processed\\audio16k\\straightcam\\sx242.wav\"\n",
      ">> ffmpeg -y -v error -i \"C:\\Users\\irish\\Computer_Electronic_Engineering_Year5\\AVSR_project\\Data\\TCD_TIMIT\\lipspeakers\\Lipspkr1\\Clips\\audio\\straightcam\\sx255.wav\" -ac 1 -ar 16000 -c:a pcm_s16le \"C:\\Users\\irish\\Computer_Electronic_Engineering_Year5\\AVSR_project\\Data\\TCD_TIMIT\\lipspeakers\\Lipspkr1\\Clips\\processed\\audio16k\\straightcam\\sx255.wav\"\n",
      ">> ffmpeg -y -v error -i \"C:\\Users\\irish\\Computer_Electronic_Engineering_Year5\\AVSR_project\\Data\\TCD_TIMIT\\lipspeakers\\Lipspkr1\\Clips\\audio\\straightcam\\sx256.wav\" -ac 1 -ar 16000 -c:a pcm_s16le \"C:\\Users\\irish\\Computer_Electronic_Engineering_Year5\\AVSR_project\\Data\\TCD_TIMIT\\lipspeakers\\Lipspkr1\\Clips\\processed\\audio16k\\straightcam\\sx256.wav\"\n",
      ">> ffmpeg -y -v error -i \"C:\\Users\\irish\\Computer_Electronic_Engineering_Year5\\AVSR_project\\Data\\TCD_TIMIT\\lipspeakers\\Lipspkr1\\Clips\\audio\\straightcam\\sx257.wav\" -ac 1 -ar 16000 -c:a pcm_s16le \"C:\\Users\\irish\\Computer_Electronic_Engineering_Year5\\AVSR_project\\Data\\TCD_TIMIT\\lipspeakers\\Lipspkr1\\Clips\\processed\\audio16k\\straightcam\\sx257.wav\"\n",
      ">> ffmpeg -y -v error -i \"C:\\Users\\irish\\Computer_Electronic_Engineering_Year5\\AVSR_project\\Data\\TCD_TIMIT\\lipspeakers\\Lipspkr1\\Clips\\audio\\straightcam\\sx258.wav\" -ac 1 -ar 16000 -c:a pcm_s16le \"C:\\Users\\irish\\Computer_Electronic_Engineering_Year5\\AVSR_project\\Data\\TCD_TIMIT\\lipspeakers\\Lipspkr1\\Clips\\processed\\audio16k\\straightcam\\sx258.wav\"\n",
      ">> ffmpeg -y -v error -i \"C:\\Users\\irish\\Computer_Electronic_Engineering_Year5\\AVSR_project\\Data\\TCD_TIMIT\\lipspeakers\\Lipspkr1\\Clips\\audio\\straightcam\\sx259.wav\" -ac 1 -ar 16000 -c:a pcm_s16le \"C:\\Users\\irish\\Computer_Electronic_Engineering_Year5\\AVSR_project\\Data\\TCD_TIMIT\\lipspeakers\\Lipspkr1\\Clips\\processed\\audio16k\\straightcam\\sx259.wav\"\n",
      ">> ffmpeg -y -v error -i \"C:\\Users\\irish\\Computer_Electronic_Engineering_Year5\\AVSR_project\\Data\\TCD_TIMIT\\lipspeakers\\Lipspkr1\\Clips\\audio\\straightcam\\sx260.wav\" -ac 1 -ar 16000 -c:a pcm_s16le \"C:\\Users\\irish\\Computer_Electronic_Engineering_Year5\\AVSR_project\\Data\\TCD_TIMIT\\lipspeakers\\Lipspkr1\\Clips\\processed\\audio16k\\straightcam\\sx260.wav\"\n",
      ">> ffmpeg -y -v error -i \"C:\\Users\\irish\\Computer_Electronic_Engineering_Year5\\AVSR_project\\Data\\TCD_TIMIT\\lipspeakers\\Lipspkr1\\Clips\\audio\\straightcam\\sx261.wav\" -ac 1 -ar 16000 -c:a pcm_s16le \"C:\\Users\\irish\\Computer_Electronic_Engineering_Year5\\AVSR_project\\Data\\TCD_TIMIT\\lipspeakers\\Lipspkr1\\Clips\\processed\\audio16k\\straightcam\\sx261.wav\"\n",
      ">> ffmpeg -y -v error -i \"C:\\Users\\irish\\Computer_Electronic_Engineering_Year5\\AVSR_project\\Data\\TCD_TIMIT\\lipspeakers\\Lipspkr1\\Clips\\audio\\straightcam\\sx262.wav\" -ac 1 -ar 16000 -c:a pcm_s16le \"C:\\Users\\irish\\Computer_Electronic_Engineering_Year5\\AVSR_project\\Data\\TCD_TIMIT\\lipspeakers\\Lipspkr1\\Clips\\processed\\audio16k\\straightcam\\sx262.wav\"\n",
      ">> ffmpeg -y -v error -i \"C:\\Users\\irish\\Computer_Electronic_Engineering_Year5\\AVSR_project\\Data\\TCD_TIMIT\\lipspeakers\\Lipspkr1\\Clips\\audio\\straightcam\\sx263.wav\" -ac 1 -ar 16000 -c:a pcm_s16le \"C:\\Users\\irish\\Computer_Electronic_Engineering_Year5\\AVSR_project\\Data\\TCD_TIMIT\\lipspeakers\\Lipspkr1\\Clips\\processed\\audio16k\\straightcam\\sx263.wav\"\n",
      ">> ffmpeg -y -v error -i \"C:\\Users\\irish\\Computer_Electronic_Engineering_Year5\\AVSR_project\\Data\\TCD_TIMIT\\lipspeakers\\Lipspkr1\\Clips\\audio\\straightcam\\sx264.wav\" -ac 1 -ar 16000 -c:a pcm_s16le \"C:\\Users\\irish\\Computer_Electronic_Engineering_Year5\\AVSR_project\\Data\\TCD_TIMIT\\lipspeakers\\Lipspkr1\\Clips\\processed\\audio16k\\straightcam\\sx264.wav\"\n",
      ">> ffmpeg -y -v error -i \"C:\\Users\\irish\\Computer_Electronic_Engineering_Year5\\AVSR_project\\Data\\TCD_TIMIT\\lipspeakers\\Lipspkr1\\Clips\\audio\\straightcam\\sx265.wav\" -ac 1 -ar 16000 -c:a pcm_s16le \"C:\\Users\\irish\\Computer_Electronic_Engineering_Year5\\AVSR_project\\Data\\TCD_TIMIT\\lipspeakers\\Lipspkr1\\Clips\\processed\\audio16k\\straightcam\\sx265.wav\"\n",
      ">> ffmpeg -y -v error -i \"C:\\Users\\irish\\Computer_Electronic_Engineering_Year5\\AVSR_project\\Data\\TCD_TIMIT\\lipspeakers\\Lipspkr1\\Clips\\audio\\straightcam\\sx266.wav\" -ac 1 -ar 16000 -c:a pcm_s16le \"C:\\Users\\irish\\Computer_Electronic_Engineering_Year5\\AVSR_project\\Data\\TCD_TIMIT\\lipspeakers\\Lipspkr1\\Clips\\processed\\audio16k\\straightcam\\sx266.wav\"\n",
      ">> ffmpeg -y -v error -i \"C:\\Users\\irish\\Computer_Electronic_Engineering_Year5\\AVSR_project\\Data\\TCD_TIMIT\\lipspeakers\\Lipspkr1\\Clips\\audio\\straightcam\\sx267.wav\" -ac 1 -ar 16000 -c:a pcm_s16le \"C:\\Users\\irish\\Computer_Electronic_Engineering_Year5\\AVSR_project\\Data\\TCD_TIMIT\\lipspeakers\\Lipspkr1\\Clips\\processed\\audio16k\\straightcam\\sx267.wav\"\n",
      ">> ffmpeg -y -v error -i \"C:\\Users\\irish\\Computer_Electronic_Engineering_Year5\\AVSR_project\\Data\\TCD_TIMIT\\lipspeakers\\Lipspkr1\\Clips\\audio\\straightcam\\sx268.wav\" -ac 1 -ar 16000 -c:a pcm_s16le \"C:\\Users\\irish\\Computer_Electronic_Engineering_Year5\\AVSR_project\\Data\\TCD_TIMIT\\lipspeakers\\Lipspkr1\\Clips\\processed\\audio16k\\straightcam\\sx268.wav\"\n",
      ">> ffmpeg -y -v error -i \"C:\\Users\\irish\\Computer_Electronic_Engineering_Year5\\AVSR_project\\Data\\TCD_TIMIT\\lipspeakers\\Lipspkr1\\Clips\\audio\\straightcam\\sx269.wav\" -ac 1 -ar 16000 -c:a pcm_s16le \"C:\\Users\\irish\\Computer_Electronic_Engineering_Year5\\AVSR_project\\Data\\TCD_TIMIT\\lipspeakers\\Lipspkr1\\Clips\\processed\\audio16k\\straightcam\\sx269.wav\"\n",
      ">> ffmpeg -y -v error -i \"C:\\Users\\irish\\Computer_Electronic_Engineering_Year5\\AVSR_project\\Data\\TCD_TIMIT\\lipspeakers\\Lipspkr1\\Clips\\audio\\straightcam\\sx270.wav\" -ac 1 -ar 16000 -c:a pcm_s16le \"C:\\Users\\irish\\Computer_Electronic_Engineering_Year5\\AVSR_project\\Data\\TCD_TIMIT\\lipspeakers\\Lipspkr1\\Clips\\processed\\audio16k\\straightcam\\sx270.wav\"\n",
      ">> ffmpeg -y -v error -i \"C:\\Users\\irish\\Computer_Electronic_Engineering_Year5\\AVSR_project\\Data\\TCD_TIMIT\\lipspeakers\\Lipspkr1\\Clips\\audio\\straightcam\\sx271.wav\" -ac 1 -ar 16000 -c:a pcm_s16le \"C:\\Users\\irish\\Computer_Electronic_Engineering_Year5\\AVSR_project\\Data\\TCD_TIMIT\\lipspeakers\\Lipspkr1\\Clips\\processed\\audio16k\\straightcam\\sx271.wav\"\n",
      ">> ffmpeg -y -v error -i \"C:\\Users\\irish\\Computer_Electronic_Engineering_Year5\\AVSR_project\\Data\\TCD_TIMIT\\lipspeakers\\Lipspkr1\\Clips\\audio\\straightcam\\sx272.wav\" -ac 1 -ar 16000 -c:a pcm_s16le \"C:\\Users\\irish\\Computer_Electronic_Engineering_Year5\\AVSR_project\\Data\\TCD_TIMIT\\lipspeakers\\Lipspkr1\\Clips\\processed\\audio16k\\straightcam\\sx272.wav\"\n",
      ">> ffmpeg -y -v error -i \"C:\\Users\\irish\\Computer_Electronic_Engineering_Year5\\AVSR_project\\Data\\TCD_TIMIT\\lipspeakers\\Lipspkr1\\Clips\\audio\\straightcam\\sx274.wav\" -ac 1 -ar 16000 -c:a pcm_s16le \"C:\\Users\\irish\\Computer_Electronic_Engineering_Year5\\AVSR_project\\Data\\TCD_TIMIT\\lipspeakers\\Lipspkr1\\Clips\\processed\\audio16k\\straightcam\\sx274.wav\"\n",
      ">> ffmpeg -y -v error -i \"C:\\Users\\irish\\Computer_Electronic_Engineering_Year5\\AVSR_project\\Data\\TCD_TIMIT\\lipspeakers\\Lipspkr1\\Clips\\audio\\straightcam\\sx275.wav\" -ac 1 -ar 16000 -c:a pcm_s16le \"C:\\Users\\irish\\Computer_Electronic_Engineering_Year5\\AVSR_project\\Data\\TCD_TIMIT\\lipspeakers\\Lipspkr1\\Clips\\processed\\audio16k\\straightcam\\sx275.wav\"\n",
      ">> ffmpeg -y -v error -i \"C:\\Users\\irish\\Computer_Electronic_Engineering_Year5\\AVSR_project\\Data\\TCD_TIMIT\\lipspeakers\\Lipspkr1\\Clips\\audio\\straightcam\\sx276.wav\" -ac 1 -ar 16000 -c:a pcm_s16le \"C:\\Users\\irish\\Computer_Electronic_Engineering_Year5\\AVSR_project\\Data\\TCD_TIMIT\\lipspeakers\\Lipspkr1\\Clips\\processed\\audio16k\\straightcam\\sx276.wav\"\n",
      ">> ffmpeg -y -v error -i \"C:\\Users\\irish\\Computer_Electronic_Engineering_Year5\\AVSR_project\\Data\\TCD_TIMIT\\lipspeakers\\Lipspkr1\\Clips\\audio\\straightcam\\sx277.wav\" -ac 1 -ar 16000 -c:a pcm_s16le \"C:\\Users\\irish\\Computer_Electronic_Engineering_Year5\\AVSR_project\\Data\\TCD_TIMIT\\lipspeakers\\Lipspkr1\\Clips\\processed\\audio16k\\straightcam\\sx277.wav\"\n",
      ">> ffmpeg -y -v error -i \"C:\\Users\\irish\\Computer_Electronic_Engineering_Year5\\AVSR_project\\Data\\TCD_TIMIT\\lipspeakers\\Lipspkr1\\Clips\\audio\\straightcam\\sx278.wav\" -ac 1 -ar 16000 -c:a pcm_s16le \"C:\\Users\\irish\\Computer_Electronic_Engineering_Year5\\AVSR_project\\Data\\TCD_TIMIT\\lipspeakers\\Lipspkr1\\Clips\\processed\\audio16k\\straightcam\\sx278.wav\"\n",
      ">> ffmpeg -y -v error -i \"C:\\Users\\irish\\Computer_Electronic_Engineering_Year5\\AVSR_project\\Data\\TCD_TIMIT\\lipspeakers\\Lipspkr1\\Clips\\audio\\straightcam\\sx279.wav\" -ac 1 -ar 16000 -c:a pcm_s16le \"C:\\Users\\irish\\Computer_Electronic_Engineering_Year5\\AVSR_project\\Data\\TCD_TIMIT\\lipspeakers\\Lipspkr1\\Clips\\processed\\audio16k\\straightcam\\sx279.wav\"\n",
      ">> ffmpeg -y -v error -i \"C:\\Users\\irish\\Computer_Electronic_Engineering_Year5\\AVSR_project\\Data\\TCD_TIMIT\\lipspeakers\\Lipspkr1\\Clips\\audio\\straightcam\\sx280.wav\" -ac 1 -ar 16000 -c:a pcm_s16le \"C:\\Users\\irish\\Computer_Electronic_Engineering_Year5\\AVSR_project\\Data\\TCD_TIMIT\\lipspeakers\\Lipspkr1\\Clips\\processed\\audio16k\\straightcam\\sx280.wav\"\n",
      ">> ffmpeg -y -v error -i \"C:\\Users\\irish\\Computer_Electronic_Engineering_Year5\\AVSR_project\\Data\\TCD_TIMIT\\lipspeakers\\Lipspkr1\\Clips\\audio\\straightcam\\sx281.wav\" -ac 1 -ar 16000 -c:a pcm_s16le \"C:\\Users\\irish\\Computer_Electronic_Engineering_Year5\\AVSR_project\\Data\\TCD_TIMIT\\lipspeakers\\Lipspkr1\\Clips\\processed\\audio16k\\straightcam\\sx281.wav\"\n",
      ">> ffmpeg -y -v error -i \"C:\\Users\\irish\\Computer_Electronic_Engineering_Year5\\AVSR_project\\Data\\TCD_TIMIT\\lipspeakers\\Lipspkr1\\Clips\\audio\\straightcam\\sx282.wav\" -ac 1 -ar 16000 -c:a pcm_s16le \"C:\\Users\\irish\\Computer_Electronic_Engineering_Year5\\AVSR_project\\Data\\TCD_TIMIT\\lipspeakers\\Lipspkr1\\Clips\\processed\\audio16k\\straightcam\\sx282.wav\"\n",
      ">> ffmpeg -y -v error -i \"C:\\Users\\irish\\Computer_Electronic_Engineering_Year5\\AVSR_project\\Data\\TCD_TIMIT\\lipspeakers\\Lipspkr1\\Clips\\audio\\straightcam\\sx283.wav\" -ac 1 -ar 16000 -c:a pcm_s16le \"C:\\Users\\irish\\Computer_Electronic_Engineering_Year5\\AVSR_project\\Data\\TCD_TIMIT\\lipspeakers\\Lipspkr1\\Clips\\processed\\audio16k\\straightcam\\sx283.wav\"\n",
      ">> ffmpeg -y -v error -i \"C:\\Users\\irish\\Computer_Electronic_Engineering_Year5\\AVSR_project\\Data\\TCD_TIMIT\\lipspeakers\\Lipspkr1\\Clips\\audio\\straightcam\\sx284.wav\" -ac 1 -ar 16000 -c:a pcm_s16le \"C:\\Users\\irish\\Computer_Electronic_Engineering_Year5\\AVSR_project\\Data\\TCD_TIMIT\\lipspeakers\\Lipspkr1\\Clips\\processed\\audio16k\\straightcam\\sx284.wav\"\n",
      ">> ffmpeg -y -v error -i \"C:\\Users\\irish\\Computer_Electronic_Engineering_Year5\\AVSR_project\\Data\\TCD_TIMIT\\lipspeakers\\Lipspkr1\\Clips\\audio\\straightcam\\sx285.wav\" -ac 1 -ar 16000 -c:a pcm_s16le \"C:\\Users\\irish\\Computer_Electronic_Engineering_Year5\\AVSR_project\\Data\\TCD_TIMIT\\lipspeakers\\Lipspkr1\\Clips\\processed\\audio16k\\straightcam\\sx285.wav\"\n",
      ">> ffmpeg -y -v error -i \"C:\\Users\\irish\\Computer_Electronic_Engineering_Year5\\AVSR_project\\Data\\TCD_TIMIT\\lipspeakers\\Lipspkr1\\Clips\\audio\\straightcam\\sx286.wav\" -ac 1 -ar 16000 -c:a pcm_s16le \"C:\\Users\\irish\\Computer_Electronic_Engineering_Year5\\AVSR_project\\Data\\TCD_TIMIT\\lipspeakers\\Lipspkr1\\Clips\\processed\\audio16k\\straightcam\\sx286.wav\"\n",
      ">> ffmpeg -y -v error -i \"C:\\Users\\irish\\Computer_Electronic_Engineering_Year5\\AVSR_project\\Data\\TCD_TIMIT\\lipspeakers\\Lipspkr1\\Clips\\audio\\straightcam\\sx287.wav\" -ac 1 -ar 16000 -c:a pcm_s16le \"C:\\Users\\irish\\Computer_Electronic_Engineering_Year5\\AVSR_project\\Data\\TCD_TIMIT\\lipspeakers\\Lipspkr1\\Clips\\processed\\audio16k\\straightcam\\sx287.wav\"\n",
      ">> ffmpeg -y -v error -i \"C:\\Users\\irish\\Computer_Electronic_Engineering_Year5\\AVSR_project\\Data\\TCD_TIMIT\\lipspeakers\\Lipspkr1\\Clips\\audio\\straightcam\\sx288.wav\" -ac 1 -ar 16000 -c:a pcm_s16le \"C:\\Users\\irish\\Computer_Electronic_Engineering_Year5\\AVSR_project\\Data\\TCD_TIMIT\\lipspeakers\\Lipspkr1\\Clips\\processed\\audio16k\\straightcam\\sx288.wav\"\n",
      ">> ffmpeg -y -v error -i \"C:\\Users\\irish\\Computer_Electronic_Engineering_Year5\\AVSR_project\\Data\\TCD_TIMIT\\lipspeakers\\Lipspkr1\\Clips\\audio\\straightcam\\sx289.wav\" -ac 1 -ar 16000 -c:a pcm_s16le \"C:\\Users\\irish\\Computer_Electronic_Engineering_Year5\\AVSR_project\\Data\\TCD_TIMIT\\lipspeakers\\Lipspkr1\\Clips\\processed\\audio16k\\straightcam\\sx289.wav\"\n",
      ">> ffmpeg -y -v error -i \"C:\\Users\\irish\\Computer_Electronic_Engineering_Year5\\AVSR_project\\Data\\TCD_TIMIT\\lipspeakers\\Lipspkr1\\Clips\\audio\\straightcam\\sx290.wav\" -ac 1 -ar 16000 -c:a pcm_s16le \"C:\\Users\\irish\\Computer_Electronic_Engineering_Year5\\AVSR_project\\Data\\TCD_TIMIT\\lipspeakers\\Lipspkr1\\Clips\\processed\\audio16k\\straightcam\\sx290.wav\"\n",
      ">> ffmpeg -y -v error -i \"C:\\Users\\irish\\Computer_Electronic_Engineering_Year5\\AVSR_project\\Data\\TCD_TIMIT\\lipspeakers\\Lipspkr1\\Clips\\audio\\straightcam\\sx3.wav\" -ac 1 -ar 16000 -c:a pcm_s16le \"C:\\Users\\irish\\Computer_Electronic_Engineering_Year5\\AVSR_project\\Data\\TCD_TIMIT\\lipspeakers\\Lipspkr1\\Clips\\processed\\audio16k\\straightcam\\sx3.wav\"\n",
      ">> ffmpeg -y -v error -i \"C:\\Users\\irish\\Computer_Electronic_Engineering_Year5\\AVSR_project\\Data\\TCD_TIMIT\\lipspeakers\\Lipspkr1\\Clips\\audio\\straightcam\\sx321.wav\" -ac 1 -ar 16000 -c:a pcm_s16le \"C:\\Users\\irish\\Computer_Electronic_Engineering_Year5\\AVSR_project\\Data\\TCD_TIMIT\\lipspeakers\\Lipspkr1\\Clips\\processed\\audio16k\\straightcam\\sx321.wav\"\n",
      ">> ffmpeg -y -v error -i \"C:\\Users\\irish\\Computer_Electronic_Engineering_Year5\\AVSR_project\\Data\\TCD_TIMIT\\lipspeakers\\Lipspkr1\\Clips\\audio\\straightcam\\sx322.wav\" -ac 1 -ar 16000 -c:a pcm_s16le \"C:\\Users\\irish\\Computer_Electronic_Engineering_Year5\\AVSR_project\\Data\\TCD_TIMIT\\lipspeakers\\Lipspkr1\\Clips\\processed\\audio16k\\straightcam\\sx322.wav\"\n",
      ">> ffmpeg -y -v error -i \"C:\\Users\\irish\\Computer_Electronic_Engineering_Year5\\AVSR_project\\Data\\TCD_TIMIT\\lipspeakers\\Lipspkr1\\Clips\\audio\\straightcam\\sx323.wav\" -ac 1 -ar 16000 -c:a pcm_s16le \"C:\\Users\\irish\\Computer_Electronic_Engineering_Year5\\AVSR_project\\Data\\TCD_TIMIT\\lipspeakers\\Lipspkr1\\Clips\\processed\\audio16k\\straightcam\\sx323.wav\"\n",
      ">> ffmpeg -y -v error -i \"C:\\Users\\irish\\Computer_Electronic_Engineering_Year5\\AVSR_project\\Data\\TCD_TIMIT\\lipspeakers\\Lipspkr1\\Clips\\audio\\straightcam\\sx324.wav\" -ac 1 -ar 16000 -c:a pcm_s16le \"C:\\Users\\irish\\Computer_Electronic_Engineering_Year5\\AVSR_project\\Data\\TCD_TIMIT\\lipspeakers\\Lipspkr1\\Clips\\processed\\audio16k\\straightcam\\sx324.wav\"\n",
      ">> ffmpeg -y -v error -i \"C:\\Users\\irish\\Computer_Electronic_Engineering_Year5\\AVSR_project\\Data\\TCD_TIMIT\\lipspeakers\\Lipspkr1\\Clips\\audio\\straightcam\\sx325.wav\" -ac 1 -ar 16000 -c:a pcm_s16le \"C:\\Users\\irish\\Computer_Electronic_Engineering_Year5\\AVSR_project\\Data\\TCD_TIMIT\\lipspeakers\\Lipspkr1\\Clips\\processed\\audio16k\\straightcam\\sx325.wav\"\n",
      ">> ffmpeg -y -v error -i \"C:\\Users\\irish\\Computer_Electronic_Engineering_Year5\\AVSR_project\\Data\\TCD_TIMIT\\lipspeakers\\Lipspkr1\\Clips\\audio\\straightcam\\sx326.wav\" -ac 1 -ar 16000 -c:a pcm_s16le \"C:\\Users\\irish\\Computer_Electronic_Engineering_Year5\\AVSR_project\\Data\\TCD_TIMIT\\lipspeakers\\Lipspkr1\\Clips\\processed\\audio16k\\straightcam\\sx326.wav\"\n",
      ">> ffmpeg -y -v error -i \"C:\\Users\\irish\\Computer_Electronic_Engineering_Year5\\AVSR_project\\Data\\TCD_TIMIT\\lipspeakers\\Lipspkr1\\Clips\\audio\\straightcam\\sx327.wav\" -ac 1 -ar 16000 -c:a pcm_s16le \"C:\\Users\\irish\\Computer_Electronic_Engineering_Year5\\AVSR_project\\Data\\TCD_TIMIT\\lipspeakers\\Lipspkr1\\Clips\\processed\\audio16k\\straightcam\\sx327.wav\"\n",
      ">> ffmpeg -y -v error -i \"C:\\Users\\irish\\Computer_Electronic_Engineering_Year5\\AVSR_project\\Data\\TCD_TIMIT\\lipspeakers\\Lipspkr1\\Clips\\audio\\straightcam\\sx328.wav\" -ac 1 -ar 16000 -c:a pcm_s16le \"C:\\Users\\irish\\Computer_Electronic_Engineering_Year5\\AVSR_project\\Data\\TCD_TIMIT\\lipspeakers\\Lipspkr1\\Clips\\processed\\audio16k\\straightcam\\sx328.wav\"\n",
      ">> ffmpeg -y -v error -i \"C:\\Users\\irish\\Computer_Electronic_Engineering_Year5\\AVSR_project\\Data\\TCD_TIMIT\\lipspeakers\\Lipspkr1\\Clips\\audio\\straightcam\\sx329.wav\" -ac 1 -ar 16000 -c:a pcm_s16le \"C:\\Users\\irish\\Computer_Electronic_Engineering_Year5\\AVSR_project\\Data\\TCD_TIMIT\\lipspeakers\\Lipspkr1\\Clips\\processed\\audio16k\\straightcam\\sx329.wav\"\n",
      ">> ffmpeg -y -v error -i \"C:\\Users\\irish\\Computer_Electronic_Engineering_Year5\\AVSR_project\\Data\\TCD_TIMIT\\lipspeakers\\Lipspkr1\\Clips\\audio\\straightcam\\sx330.wav\" -ac 1 -ar 16000 -c:a pcm_s16le \"C:\\Users\\irish\\Computer_Electronic_Engineering_Year5\\AVSR_project\\Data\\TCD_TIMIT\\lipspeakers\\Lipspkr1\\Clips\\processed\\audio16k\\straightcam\\sx330.wav\"\n",
      ">> ffmpeg -y -v error -i \"C:\\Users\\irish\\Computer_Electronic_Engineering_Year5\\AVSR_project\\Data\\TCD_TIMIT\\lipspeakers\\Lipspkr1\\Clips\\audio\\straightcam\\sx331.wav\" -ac 1 -ar 16000 -c:a pcm_s16le \"C:\\Users\\irish\\Computer_Electronic_Engineering_Year5\\AVSR_project\\Data\\TCD_TIMIT\\lipspeakers\\Lipspkr1\\Clips\\processed\\audio16k\\straightcam\\sx331.wav\"\n",
      ">> ffmpeg -y -v error -i \"C:\\Users\\irish\\Computer_Electronic_Engineering_Year5\\AVSR_project\\Data\\TCD_TIMIT\\lipspeakers\\Lipspkr1\\Clips\\audio\\straightcam\\sx332.wav\" -ac 1 -ar 16000 -c:a pcm_s16le \"C:\\Users\\irish\\Computer_Electronic_Engineering_Year5\\AVSR_project\\Data\\TCD_TIMIT\\lipspeakers\\Lipspkr1\\Clips\\processed\\audio16k\\straightcam\\sx332.wav\"\n",
      ">> ffmpeg -y -v error -i \"C:\\Users\\irish\\Computer_Electronic_Engineering_Year5\\AVSR_project\\Data\\TCD_TIMIT\\lipspeakers\\Lipspkr1\\Clips\\audio\\straightcam\\sx345.wav\" -ac 1 -ar 16000 -c:a pcm_s16le \"C:\\Users\\irish\\Computer_Electronic_Engineering_Year5\\AVSR_project\\Data\\TCD_TIMIT\\lipspeakers\\Lipspkr1\\Clips\\processed\\audio16k\\straightcam\\sx345.wav\"\n",
      ">> ffmpeg -y -v error -i \"C:\\Users\\irish\\Computer_Electronic_Engineering_Year5\\AVSR_project\\Data\\TCD_TIMIT\\lipspeakers\\Lipspkr1\\Clips\\audio\\straightcam\\sx346.wav\" -ac 1 -ar 16000 -c:a pcm_s16le \"C:\\Users\\irish\\Computer_Electronic_Engineering_Year5\\AVSR_project\\Data\\TCD_TIMIT\\lipspeakers\\Lipspkr1\\Clips\\processed\\audio16k\\straightcam\\sx346.wav\"\n",
      ">> ffmpeg -y -v error -i \"C:\\Users\\irish\\Computer_Electronic_Engineering_Year5\\AVSR_project\\Data\\TCD_TIMIT\\lipspeakers\\Lipspkr1\\Clips\\audio\\straightcam\\sx348.wav\" -ac 1 -ar 16000 -c:a pcm_s16le \"C:\\Users\\irish\\Computer_Electronic_Engineering_Year5\\AVSR_project\\Data\\TCD_TIMIT\\lipspeakers\\Lipspkr1\\Clips\\processed\\audio16k\\straightcam\\sx348.wav\"\n",
      ">> ffmpeg -y -v error -i \"C:\\Users\\irish\\Computer_Electronic_Engineering_Year5\\AVSR_project\\Data\\TCD_TIMIT\\lipspeakers\\Lipspkr1\\Clips\\audio\\straightcam\\sx349.wav\" -ac 1 -ar 16000 -c:a pcm_s16le \"C:\\Users\\irish\\Computer_Electronic_Engineering_Year5\\AVSR_project\\Data\\TCD_TIMIT\\lipspeakers\\Lipspkr1\\Clips\\processed\\audio16k\\straightcam\\sx349.wav\"\n",
      ">> ffmpeg -y -v error -i \"C:\\Users\\irish\\Computer_Electronic_Engineering_Year5\\AVSR_project\\Data\\TCD_TIMIT\\lipspeakers\\Lipspkr1\\Clips\\audio\\straightcam\\sx350.wav\" -ac 1 -ar 16000 -c:a pcm_s16le \"C:\\Users\\irish\\Computer_Electronic_Engineering_Year5\\AVSR_project\\Data\\TCD_TIMIT\\lipspeakers\\Lipspkr1\\Clips\\processed\\audio16k\\straightcam\\sx350.wav\"\n",
      ">> ffmpeg -y -v error -i \"C:\\Users\\irish\\Computer_Electronic_Engineering_Year5\\AVSR_project\\Data\\TCD_TIMIT\\lipspeakers\\Lipspkr1\\Clips\\audio\\straightcam\\sx351.wav\" -ac 1 -ar 16000 -c:a pcm_s16le \"C:\\Users\\irish\\Computer_Electronic_Engineering_Year5\\AVSR_project\\Data\\TCD_TIMIT\\lipspeakers\\Lipspkr1\\Clips\\processed\\audio16k\\straightcam\\sx351.wav\"\n",
      ">> ffmpeg -y -v error -i \"C:\\Users\\irish\\Computer_Electronic_Engineering_Year5\\AVSR_project\\Data\\TCD_TIMIT\\lipspeakers\\Lipspkr1\\Clips\\audio\\straightcam\\sx352.wav\" -ac 1 -ar 16000 -c:a pcm_s16le \"C:\\Users\\irish\\Computer_Electronic_Engineering_Year5\\AVSR_project\\Data\\TCD_TIMIT\\lipspeakers\\Lipspkr1\\Clips\\processed\\audio16k\\straightcam\\sx352.wav\"\n",
      ">> ffmpeg -y -v error -i \"C:\\Users\\irish\\Computer_Electronic_Engineering_Year5\\AVSR_project\\Data\\TCD_TIMIT\\lipspeakers\\Lipspkr1\\Clips\\audio\\straightcam\\sx353.wav\" -ac 1 -ar 16000 -c:a pcm_s16le \"C:\\Users\\irish\\Computer_Electronic_Engineering_Year5\\AVSR_project\\Data\\TCD_TIMIT\\lipspeakers\\Lipspkr1\\Clips\\processed\\audio16k\\straightcam\\sx353.wav\"\n",
      ">> ffmpeg -y -v error -i \"C:\\Users\\irish\\Computer_Electronic_Engineering_Year5\\AVSR_project\\Data\\TCD_TIMIT\\lipspeakers\\Lipspkr1\\Clips\\audio\\straightcam\\sx354.wav\" -ac 1 -ar 16000 -c:a pcm_s16le \"C:\\Users\\irish\\Computer_Electronic_Engineering_Year5\\AVSR_project\\Data\\TCD_TIMIT\\lipspeakers\\Lipspkr1\\Clips\\processed\\audio16k\\straightcam\\sx354.wav\"\n",
      ">> ffmpeg -y -v error -i \"C:\\Users\\irish\\Computer_Electronic_Engineering_Year5\\AVSR_project\\Data\\TCD_TIMIT\\lipspeakers\\Lipspkr1\\Clips\\audio\\straightcam\\sx355.wav\" -ac 1 -ar 16000 -c:a pcm_s16le \"C:\\Users\\irish\\Computer_Electronic_Engineering_Year5\\AVSR_project\\Data\\TCD_TIMIT\\lipspeakers\\Lipspkr1\\Clips\\processed\\audio16k\\straightcam\\sx355.wav\"\n",
      ">> ffmpeg -y -v error -i \"C:\\Users\\irish\\Computer_Electronic_Engineering_Year5\\AVSR_project\\Data\\TCD_TIMIT\\lipspeakers\\Lipspkr1\\Clips\\audio\\straightcam\\sx356.wav\" -ac 1 -ar 16000 -c:a pcm_s16le \"C:\\Users\\irish\\Computer_Electronic_Engineering_Year5\\AVSR_project\\Data\\TCD_TIMIT\\lipspeakers\\Lipspkr1\\Clips\\processed\\audio16k\\straightcam\\sx356.wav\"\n",
      ">> ffmpeg -y -v error -i \"C:\\Users\\irish\\Computer_Electronic_Engineering_Year5\\AVSR_project\\Data\\TCD_TIMIT\\lipspeakers\\Lipspkr1\\Clips\\audio\\straightcam\\sx357.wav\" -ac 1 -ar 16000 -c:a pcm_s16le \"C:\\Users\\irish\\Computer_Electronic_Engineering_Year5\\AVSR_project\\Data\\TCD_TIMIT\\lipspeakers\\Lipspkr1\\Clips\\processed\\audio16k\\straightcam\\sx357.wav\"\n",
      ">> ffmpeg -y -v error -i \"C:\\Users\\irish\\Computer_Electronic_Engineering_Year5\\AVSR_project\\Data\\TCD_TIMIT\\lipspeakers\\Lipspkr1\\Clips\\audio\\straightcam\\sx358.wav\" -ac 1 -ar 16000 -c:a pcm_s16le \"C:\\Users\\irish\\Computer_Electronic_Engineering_Year5\\AVSR_project\\Data\\TCD_TIMIT\\lipspeakers\\Lipspkr1\\Clips\\processed\\audio16k\\straightcam\\sx358.wav\"\n",
      ">> ffmpeg -y -v error -i \"C:\\Users\\irish\\Computer_Electronic_Engineering_Year5\\AVSR_project\\Data\\TCD_TIMIT\\lipspeakers\\Lipspkr1\\Clips\\audio\\straightcam\\sx359.wav\" -ac 1 -ar 16000 -c:a pcm_s16le \"C:\\Users\\irish\\Computer_Electronic_Engineering_Year5\\AVSR_project\\Data\\TCD_TIMIT\\lipspeakers\\Lipspkr1\\Clips\\processed\\audio16k\\straightcam\\sx359.wav\"\n",
      ">> ffmpeg -y -v error -i \"C:\\Users\\irish\\Computer_Electronic_Engineering_Year5\\AVSR_project\\Data\\TCD_TIMIT\\lipspeakers\\Lipspkr1\\Clips\\audio\\straightcam\\sx360.wav\" -ac 1 -ar 16000 -c:a pcm_s16le \"C:\\Users\\irish\\Computer_Electronic_Engineering_Year5\\AVSR_project\\Data\\TCD_TIMIT\\lipspeakers\\Lipspkr1\\Clips\\processed\\audio16k\\straightcam\\sx360.wav\"\n",
      ">> ffmpeg -y -v error -i \"C:\\Users\\irish\\Computer_Electronic_Engineering_Year5\\AVSR_project\\Data\\TCD_TIMIT\\lipspeakers\\Lipspkr1\\Clips\\audio\\straightcam\\sx361.wav\" -ac 1 -ar 16000 -c:a pcm_s16le \"C:\\Users\\irish\\Computer_Electronic_Engineering_Year5\\AVSR_project\\Data\\TCD_TIMIT\\lipspeakers\\Lipspkr1\\Clips\\processed\\audio16k\\straightcam\\sx361.wav\"\n",
      ">> ffmpeg -y -v error -i \"C:\\Users\\irish\\Computer_Electronic_Engineering_Year5\\AVSR_project\\Data\\TCD_TIMIT\\lipspeakers\\Lipspkr1\\Clips\\audio\\straightcam\\sx362.wav\" -ac 1 -ar 16000 -c:a pcm_s16le \"C:\\Users\\irish\\Computer_Electronic_Engineering_Year5\\AVSR_project\\Data\\TCD_TIMIT\\lipspeakers\\Lipspkr1\\Clips\\processed\\audio16k\\straightcam\\sx362.wav\"\n",
      ">> ffmpeg -y -v error -i \"C:\\Users\\irish\\Computer_Electronic_Engineering_Year5\\AVSR_project\\Data\\TCD_TIMIT\\lipspeakers\\Lipspkr1\\Clips\\audio\\straightcam\\sx364.wav\" -ac 1 -ar 16000 -c:a pcm_s16le \"C:\\Users\\irish\\Computer_Electronic_Engineering_Year5\\AVSR_project\\Data\\TCD_TIMIT\\lipspeakers\\Lipspkr1\\Clips\\processed\\audio16k\\straightcam\\sx364.wav\"\n",
      ">> ffmpeg -y -v error -i \"C:\\Users\\irish\\Computer_Electronic_Engineering_Year5\\AVSR_project\\Data\\TCD_TIMIT\\lipspeakers\\Lipspkr1\\Clips\\audio\\straightcam\\sx365.wav\" -ac 1 -ar 16000 -c:a pcm_s16le \"C:\\Users\\irish\\Computer_Electronic_Engineering_Year5\\AVSR_project\\Data\\TCD_TIMIT\\lipspeakers\\Lipspkr1\\Clips\\processed\\audio16k\\straightcam\\sx365.wav\"\n",
      ">> ffmpeg -y -v error -i \"C:\\Users\\irish\\Computer_Electronic_Engineering_Year5\\AVSR_project\\Data\\TCD_TIMIT\\lipspeakers\\Lipspkr1\\Clips\\audio\\straightcam\\sx367.wav\" -ac 1 -ar 16000 -c:a pcm_s16le \"C:\\Users\\irish\\Computer_Electronic_Engineering_Year5\\AVSR_project\\Data\\TCD_TIMIT\\lipspeakers\\Lipspkr1\\Clips\\processed\\audio16k\\straightcam\\sx367.wav\"\n",
      ">> ffmpeg -y -v error -i \"C:\\Users\\irish\\Computer_Electronic_Engineering_Year5\\AVSR_project\\Data\\TCD_TIMIT\\lipspeakers\\Lipspkr1\\Clips\\audio\\straightcam\\sx368.wav\" -ac 1 -ar 16000 -c:a pcm_s16le \"C:\\Users\\irish\\Computer_Electronic_Engineering_Year5\\AVSR_project\\Data\\TCD_TIMIT\\lipspeakers\\Lipspkr1\\Clips\\processed\\audio16k\\straightcam\\sx368.wav\"\n",
      ">> ffmpeg -y -v error -i \"C:\\Users\\irish\\Computer_Electronic_Engineering_Year5\\AVSR_project\\Data\\TCD_TIMIT\\lipspeakers\\Lipspkr1\\Clips\\audio\\straightcam\\sx369.wav\" -ac 1 -ar 16000 -c:a pcm_s16le \"C:\\Users\\irish\\Computer_Electronic_Engineering_Year5\\AVSR_project\\Data\\TCD_TIMIT\\lipspeakers\\Lipspkr1\\Clips\\processed\\audio16k\\straightcam\\sx369.wav\"\n",
      ">> ffmpeg -y -v error -i \"C:\\Users\\irish\\Computer_Electronic_Engineering_Year5\\AVSR_project\\Data\\TCD_TIMIT\\lipspeakers\\Lipspkr1\\Clips\\audio\\straightcam\\sx370.wav\" -ac 1 -ar 16000 -c:a pcm_s16le \"C:\\Users\\irish\\Computer_Electronic_Engineering_Year5\\AVSR_project\\Data\\TCD_TIMIT\\lipspeakers\\Lipspkr1\\Clips\\processed\\audio16k\\straightcam\\sx370.wav\"\n",
      ">> ffmpeg -y -v error -i \"C:\\Users\\irish\\Computer_Electronic_Engineering_Year5\\AVSR_project\\Data\\TCD_TIMIT\\lipspeakers\\Lipspkr1\\Clips\\audio\\straightcam\\sx371.wav\" -ac 1 -ar 16000 -c:a pcm_s16le \"C:\\Users\\irish\\Computer_Electronic_Engineering_Year5\\AVSR_project\\Data\\TCD_TIMIT\\lipspeakers\\Lipspkr1\\Clips\\processed\\audio16k\\straightcam\\sx371.wav\"\n",
      ">> ffmpeg -y -v error -i \"C:\\Users\\irish\\Computer_Electronic_Engineering_Year5\\AVSR_project\\Data\\TCD_TIMIT\\lipspeakers\\Lipspkr1\\Clips\\audio\\straightcam\\sx372.wav\" -ac 1 -ar 16000 -c:a pcm_s16le \"C:\\Users\\irish\\Computer_Electronic_Engineering_Year5\\AVSR_project\\Data\\TCD_TIMIT\\lipspeakers\\Lipspkr1\\Clips\\processed\\audio16k\\straightcam\\sx372.wav\"\n",
      ">> ffmpeg -y -v error -i \"C:\\Users\\irish\\Computer_Electronic_Engineering_Year5\\AVSR_project\\Data\\TCD_TIMIT\\lipspeakers\\Lipspkr1\\Clips\\audio\\straightcam\\sx373.wav\" -ac 1 -ar 16000 -c:a pcm_s16le \"C:\\Users\\irish\\Computer_Electronic_Engineering_Year5\\AVSR_project\\Data\\TCD_TIMIT\\lipspeakers\\Lipspkr1\\Clips\\processed\\audio16k\\straightcam\\sx373.wav\"\n",
      ">> ffmpeg -y -v error -i \"C:\\Users\\irish\\Computer_Electronic_Engineering_Year5\\AVSR_project\\Data\\TCD_TIMIT\\lipspeakers\\Lipspkr1\\Clips\\audio\\straightcam\\sx374.wav\" -ac 1 -ar 16000 -c:a pcm_s16le \"C:\\Users\\irish\\Computer_Electronic_Engineering_Year5\\AVSR_project\\Data\\TCD_TIMIT\\lipspeakers\\Lipspkr1\\Clips\\processed\\audio16k\\straightcam\\sx374.wav\"\n",
      ">> ffmpeg -y -v error -i \"C:\\Users\\irish\\Computer_Electronic_Engineering_Year5\\AVSR_project\\Data\\TCD_TIMIT\\lipspeakers\\Lipspkr1\\Clips\\audio\\straightcam\\sx375.wav\" -ac 1 -ar 16000 -c:a pcm_s16le \"C:\\Users\\irish\\Computer_Electronic_Engineering_Year5\\AVSR_project\\Data\\TCD_TIMIT\\lipspeakers\\Lipspkr1\\Clips\\processed\\audio16k\\straightcam\\sx375.wav\"\n",
      ">> ffmpeg -y -v error -i \"C:\\Users\\irish\\Computer_Electronic_Engineering_Year5\\AVSR_project\\Data\\TCD_TIMIT\\lipspeakers\\Lipspkr1\\Clips\\audio\\straightcam\\sx376.wav\" -ac 1 -ar 16000 -c:a pcm_s16le \"C:\\Users\\irish\\Computer_Electronic_Engineering_Year5\\AVSR_project\\Data\\TCD_TIMIT\\lipspeakers\\Lipspkr1\\Clips\\processed\\audio16k\\straightcam\\sx376.wav\"\n",
      ">> ffmpeg -y -v error -i \"C:\\Users\\irish\\Computer_Electronic_Engineering_Year5\\AVSR_project\\Data\\TCD_TIMIT\\lipspeakers\\Lipspkr1\\Clips\\audio\\straightcam\\sx377.wav\" -ac 1 -ar 16000 -c:a pcm_s16le \"C:\\Users\\irish\\Computer_Electronic_Engineering_Year5\\AVSR_project\\Data\\TCD_TIMIT\\lipspeakers\\Lipspkr1\\Clips\\processed\\audio16k\\straightcam\\sx377.wav\"\n",
      ">> ffmpeg -y -v error -i \"C:\\Users\\irish\\Computer_Electronic_Engineering_Year5\\AVSR_project\\Data\\TCD_TIMIT\\lipspeakers\\Lipspkr1\\Clips\\audio\\straightcam\\sx378.wav\" -ac 1 -ar 16000 -c:a pcm_s16le \"C:\\Users\\irish\\Computer_Electronic_Engineering_Year5\\AVSR_project\\Data\\TCD_TIMIT\\lipspeakers\\Lipspkr1\\Clips\\processed\\audio16k\\straightcam\\sx378.wav\"\n",
      ">> ffmpeg -y -v error -i \"C:\\Users\\irish\\Computer_Electronic_Engineering_Year5\\AVSR_project\\Data\\TCD_TIMIT\\lipspeakers\\Lipspkr1\\Clips\\audio\\straightcam\\sx379.wav\" -ac 1 -ar 16000 -c:a pcm_s16le \"C:\\Users\\irish\\Computer_Electronic_Engineering_Year5\\AVSR_project\\Data\\TCD_TIMIT\\lipspeakers\\Lipspkr1\\Clips\\processed\\audio16k\\straightcam\\sx379.wav\"\n",
      ">> ffmpeg -y -v error -i \"C:\\Users\\irish\\Computer_Electronic_Engineering_Year5\\AVSR_project\\Data\\TCD_TIMIT\\lipspeakers\\Lipspkr1\\Clips\\audio\\straightcam\\sx380.wav\" -ac 1 -ar 16000 -c:a pcm_s16le \"C:\\Users\\irish\\Computer_Electronic_Engineering_Year5\\AVSR_project\\Data\\TCD_TIMIT\\lipspeakers\\Lipspkr1\\Clips\\processed\\audio16k\\straightcam\\sx380.wav\"\n",
      ">> ffmpeg -y -v error -i \"C:\\Users\\irish\\Computer_Electronic_Engineering_Year5\\AVSR_project\\Data\\TCD_TIMIT\\lipspeakers\\Lipspkr1\\Clips\\audio\\straightcam\\sx4.wav\" -ac 1 -ar 16000 -c:a pcm_s16le \"C:\\Users\\irish\\Computer_Electronic_Engineering_Year5\\AVSR_project\\Data\\TCD_TIMIT\\lipspeakers\\Lipspkr1\\Clips\\processed\\audio16k\\straightcam\\sx4.wav\"\n",
      ">> ffmpeg -y -v error -i \"C:\\Users\\irish\\Computer_Electronic_Engineering_Year5\\AVSR_project\\Data\\TCD_TIMIT\\lipspeakers\\Lipspkr1\\Clips\\audio\\straightcam\\sx411.wav\" -ac 1 -ar 16000 -c:a pcm_s16le \"C:\\Users\\irish\\Computer_Electronic_Engineering_Year5\\AVSR_project\\Data\\TCD_TIMIT\\lipspeakers\\Lipspkr1\\Clips\\processed\\audio16k\\straightcam\\sx411.wav\"\n",
      ">> ffmpeg -y -v error -i \"C:\\Users\\irish\\Computer_Electronic_Engineering_Year5\\AVSR_project\\Data\\TCD_TIMIT\\lipspeakers\\Lipspkr1\\Clips\\audio\\straightcam\\sx412.wav\" -ac 1 -ar 16000 -c:a pcm_s16le \"C:\\Users\\irish\\Computer_Electronic_Engineering_Year5\\AVSR_project\\Data\\TCD_TIMIT\\lipspeakers\\Lipspkr1\\Clips\\processed\\audio16k\\straightcam\\sx412.wav\"\n",
      ">> ffmpeg -y -v error -i \"C:\\Users\\irish\\Computer_Electronic_Engineering_Year5\\AVSR_project\\Data\\TCD_TIMIT\\lipspeakers\\Lipspkr1\\Clips\\audio\\straightcam\\sx413.wav\" -ac 1 -ar 16000 -c:a pcm_s16le \"C:\\Users\\irish\\Computer_Electronic_Engineering_Year5\\AVSR_project\\Data\\TCD_TIMIT\\lipspeakers\\Lipspkr1\\Clips\\processed\\audio16k\\straightcam\\sx413.wav\"\n",
      ">> ffmpeg -y -v error -i \"C:\\Users\\irish\\Computer_Electronic_Engineering_Year5\\AVSR_project\\Data\\TCD_TIMIT\\lipspeakers\\Lipspkr1\\Clips\\audio\\straightcam\\sx414.wav\" -ac 1 -ar 16000 -c:a pcm_s16le \"C:\\Users\\irish\\Computer_Electronic_Engineering_Year5\\AVSR_project\\Data\\TCD_TIMIT\\lipspeakers\\Lipspkr1\\Clips\\processed\\audio16k\\straightcam\\sx414.wav\"\n",
      ">> ffmpeg -y -v error -i \"C:\\Users\\irish\\Computer_Electronic_Engineering_Year5\\AVSR_project\\Data\\TCD_TIMIT\\lipspeakers\\Lipspkr1\\Clips\\audio\\straightcam\\sx415.wav\" -ac 1 -ar 16000 -c:a pcm_s16le \"C:\\Users\\irish\\Computer_Electronic_Engineering_Year5\\AVSR_project\\Data\\TCD_TIMIT\\lipspeakers\\Lipspkr1\\Clips\\processed\\audio16k\\straightcam\\sx415.wav\"\n",
      ">> ffmpeg -y -v error -i \"C:\\Users\\irish\\Computer_Electronic_Engineering_Year5\\AVSR_project\\Data\\TCD_TIMIT\\lipspeakers\\Lipspkr1\\Clips\\audio\\straightcam\\sx416.wav\" -ac 1 -ar 16000 -c:a pcm_s16le \"C:\\Users\\irish\\Computer_Electronic_Engineering_Year5\\AVSR_project\\Data\\TCD_TIMIT\\lipspeakers\\Lipspkr1\\Clips\\processed\\audio16k\\straightcam\\sx416.wav\"\n",
      ">> ffmpeg -y -v error -i \"C:\\Users\\irish\\Computer_Electronic_Engineering_Year5\\AVSR_project\\Data\\TCD_TIMIT\\lipspeakers\\Lipspkr1\\Clips\\audio\\straightcam\\sx417.wav\" -ac 1 -ar 16000 -c:a pcm_s16le \"C:\\Users\\irish\\Computer_Electronic_Engineering_Year5\\AVSR_project\\Data\\TCD_TIMIT\\lipspeakers\\Lipspkr1\\Clips\\processed\\audio16k\\straightcam\\sx417.wav\"\n",
      ">> ffmpeg -y -v error -i \"C:\\Users\\irish\\Computer_Electronic_Engineering_Year5\\AVSR_project\\Data\\TCD_TIMIT\\lipspeakers\\Lipspkr1\\Clips\\audio\\straightcam\\sx418.wav\" -ac 1 -ar 16000 -c:a pcm_s16le \"C:\\Users\\irish\\Computer_Electronic_Engineering_Year5\\AVSR_project\\Data\\TCD_TIMIT\\lipspeakers\\Lipspkr1\\Clips\\processed\\audio16k\\straightcam\\sx418.wav\"\n",
      ">> ffmpeg -y -v error -i \"C:\\Users\\irish\\Computer_Electronic_Engineering_Year5\\AVSR_project\\Data\\TCD_TIMIT\\lipspeakers\\Lipspkr1\\Clips\\audio\\straightcam\\sx419.wav\" -ac 1 -ar 16000 -c:a pcm_s16le \"C:\\Users\\irish\\Computer_Electronic_Engineering_Year5\\AVSR_project\\Data\\TCD_TIMIT\\lipspeakers\\Lipspkr1\\Clips\\processed\\audio16k\\straightcam\\sx419.wav\"\n",
      ">> ffmpeg -y -v error -i \"C:\\Users\\irish\\Computer_Electronic_Engineering_Year5\\AVSR_project\\Data\\TCD_TIMIT\\lipspeakers\\Lipspkr1\\Clips\\audio\\straightcam\\sx420.wav\" -ac 1 -ar 16000 -c:a pcm_s16le \"C:\\Users\\irish\\Computer_Electronic_Engineering_Year5\\AVSR_project\\Data\\TCD_TIMIT\\lipspeakers\\Lipspkr1\\Clips\\processed\\audio16k\\straightcam\\sx420.wav\"\n",
      ">> ffmpeg -y -v error -i \"C:\\Users\\irish\\Computer_Electronic_Engineering_Year5\\AVSR_project\\Data\\TCD_TIMIT\\lipspeakers\\Lipspkr1\\Clips\\audio\\straightcam\\sx421.wav\" -ac 1 -ar 16000 -c:a pcm_s16le \"C:\\Users\\irish\\Computer_Electronic_Engineering_Year5\\AVSR_project\\Data\\TCD_TIMIT\\lipspeakers\\Lipspkr1\\Clips\\processed\\audio16k\\straightcam\\sx421.wav\"\n",
      ">> ffmpeg -y -v error -i \"C:\\Users\\irish\\Computer_Electronic_Engineering_Year5\\AVSR_project\\Data\\TCD_TIMIT\\lipspeakers\\Lipspkr1\\Clips\\audio\\straightcam\\sx422.wav\" -ac 1 -ar 16000 -c:a pcm_s16le \"C:\\Users\\irish\\Computer_Electronic_Engineering_Year5\\AVSR_project\\Data\\TCD_TIMIT\\lipspeakers\\Lipspkr1\\Clips\\processed\\audio16k\\straightcam\\sx422.wav\"\n",
      ">> ffmpeg -y -v error -i \"C:\\Users\\irish\\Computer_Electronic_Engineering_Year5\\AVSR_project\\Data\\TCD_TIMIT\\lipspeakers\\Lipspkr1\\Clips\\audio\\straightcam\\sx435.wav\" -ac 1 -ar 16000 -c:a pcm_s16le \"C:\\Users\\irish\\Computer_Electronic_Engineering_Year5\\AVSR_project\\Data\\TCD_TIMIT\\lipspeakers\\Lipspkr1\\Clips\\processed\\audio16k\\straightcam\\sx435.wav\"\n",
      ">> ffmpeg -y -v error -i \"C:\\Users\\irish\\Computer_Electronic_Engineering_Year5\\AVSR_project\\Data\\TCD_TIMIT\\lipspeakers\\Lipspkr1\\Clips\\audio\\straightcam\\sx436.wav\" -ac 1 -ar 16000 -c:a pcm_s16le \"C:\\Users\\irish\\Computer_Electronic_Engineering_Year5\\AVSR_project\\Data\\TCD_TIMIT\\lipspeakers\\Lipspkr1\\Clips\\processed\\audio16k\\straightcam\\sx436.wav\"\n",
      ">> ffmpeg -y -v error -i \"C:\\Users\\irish\\Computer_Electronic_Engineering_Year5\\AVSR_project\\Data\\TCD_TIMIT\\lipspeakers\\Lipspkr1\\Clips\\audio\\straightcam\\sx437.wav\" -ac 1 -ar 16000 -c:a pcm_s16le \"C:\\Users\\irish\\Computer_Electronic_Engineering_Year5\\AVSR_project\\Data\\TCD_TIMIT\\lipspeakers\\Lipspkr1\\Clips\\processed\\audio16k\\straightcam\\sx437.wav\"\n",
      ">> ffmpeg -y -v error -i \"C:\\Users\\irish\\Computer_Electronic_Engineering_Year5\\AVSR_project\\Data\\TCD_TIMIT\\lipspeakers\\Lipspkr1\\Clips\\audio\\straightcam\\sx438.wav\" -ac 1 -ar 16000 -c:a pcm_s16le \"C:\\Users\\irish\\Computer_Electronic_Engineering_Year5\\AVSR_project\\Data\\TCD_TIMIT\\lipspeakers\\Lipspkr1\\Clips\\processed\\audio16k\\straightcam\\sx438.wav\"\n",
      ">> ffmpeg -y -v error -i \"C:\\Users\\irish\\Computer_Electronic_Engineering_Year5\\AVSR_project\\Data\\TCD_TIMIT\\lipspeakers\\Lipspkr1\\Clips\\audio\\straightcam\\sx439.wav\" -ac 1 -ar 16000 -c:a pcm_s16le \"C:\\Users\\irish\\Computer_Electronic_Engineering_Year5\\AVSR_project\\Data\\TCD_TIMIT\\lipspeakers\\Lipspkr1\\Clips\\processed\\audio16k\\straightcam\\sx439.wav\"\n",
      ">> ffmpeg -y -v error -i \"C:\\Users\\irish\\Computer_Electronic_Engineering_Year5\\AVSR_project\\Data\\TCD_TIMIT\\lipspeakers\\Lipspkr1\\Clips\\audio\\straightcam\\sx440.wav\" -ac 1 -ar 16000 -c:a pcm_s16le \"C:\\Users\\irish\\Computer_Electronic_Engineering_Year5\\AVSR_project\\Data\\TCD_TIMIT\\lipspeakers\\Lipspkr1\\Clips\\processed\\audio16k\\straightcam\\sx440.wav\"\n",
      ">> ffmpeg -y -v error -i \"C:\\Users\\irish\\Computer_Electronic_Engineering_Year5\\AVSR_project\\Data\\TCD_TIMIT\\lipspeakers\\Lipspkr1\\Clips\\audio\\straightcam\\sx441.wav\" -ac 1 -ar 16000 -c:a pcm_s16le \"C:\\Users\\irish\\Computer_Electronic_Engineering_Year5\\AVSR_project\\Data\\TCD_TIMIT\\lipspeakers\\Lipspkr1\\Clips\\processed\\audio16k\\straightcam\\sx441.wav\"\n",
      ">> ffmpeg -y -v error -i \"C:\\Users\\irish\\Computer_Electronic_Engineering_Year5\\AVSR_project\\Data\\TCD_TIMIT\\lipspeakers\\Lipspkr1\\Clips\\audio\\straightcam\\sx442.wav\" -ac 1 -ar 16000 -c:a pcm_s16le \"C:\\Users\\irish\\Computer_Electronic_Engineering_Year5\\AVSR_project\\Data\\TCD_TIMIT\\lipspeakers\\Lipspkr1\\Clips\\processed\\audio16k\\straightcam\\sx442.wav\"\n",
      ">> ffmpeg -y -v error -i \"C:\\Users\\irish\\Computer_Electronic_Engineering_Year5\\AVSR_project\\Data\\TCD_TIMIT\\lipspeakers\\Lipspkr1\\Clips\\audio\\straightcam\\sx443.wav\" -ac 1 -ar 16000 -c:a pcm_s16le \"C:\\Users\\irish\\Computer_Electronic_Engineering_Year5\\AVSR_project\\Data\\TCD_TIMIT\\lipspeakers\\Lipspkr1\\Clips\\processed\\audio16k\\straightcam\\sx443.wav\"\n",
      ">> ffmpeg -y -v error -i \"C:\\Users\\irish\\Computer_Electronic_Engineering_Year5\\AVSR_project\\Data\\TCD_TIMIT\\lipspeakers\\Lipspkr1\\Clips\\audio\\straightcam\\sx444.wav\" -ac 1 -ar 16000 -c:a pcm_s16le \"C:\\Users\\irish\\Computer_Electronic_Engineering_Year5\\AVSR_project\\Data\\TCD_TIMIT\\lipspeakers\\Lipspkr1\\Clips\\processed\\audio16k\\straightcam\\sx444.wav\"\n",
      ">> ffmpeg -y -v error -i \"C:\\Users\\irish\\Computer_Electronic_Engineering_Year5\\AVSR_project\\Data\\TCD_TIMIT\\lipspeakers\\Lipspkr1\\Clips\\audio\\straightcam\\sx445.wav\" -ac 1 -ar 16000 -c:a pcm_s16le \"C:\\Users\\irish\\Computer_Electronic_Engineering_Year5\\AVSR_project\\Data\\TCD_TIMIT\\lipspeakers\\Lipspkr1\\Clips\\processed\\audio16k\\straightcam\\sx445.wav\"\n",
      ">> ffmpeg -y -v error -i \"C:\\Users\\irish\\Computer_Electronic_Engineering_Year5\\AVSR_project\\Data\\TCD_TIMIT\\lipspeakers\\Lipspkr1\\Clips\\audio\\straightcam\\sx446.wav\" -ac 1 -ar 16000 -c:a pcm_s16le \"C:\\Users\\irish\\Computer_Electronic_Engineering_Year5\\AVSR_project\\Data\\TCD_TIMIT\\lipspeakers\\Lipspkr1\\Clips\\processed\\audio16k\\straightcam\\sx446.wav\"\n",
      ">> ffmpeg -y -v error -i \"C:\\Users\\irish\\Computer_Electronic_Engineering_Year5\\AVSR_project\\Data\\TCD_TIMIT\\lipspeakers\\Lipspkr1\\Clips\\audio\\straightcam\\sx447.wav\" -ac 1 -ar 16000 -c:a pcm_s16le \"C:\\Users\\irish\\Computer_Electronic_Engineering_Year5\\AVSR_project\\Data\\TCD_TIMIT\\lipspeakers\\Lipspkr1\\Clips\\processed\\audio16k\\straightcam\\sx447.wav\"\n",
      ">> ffmpeg -y -v error -i \"C:\\Users\\irish\\Computer_Electronic_Engineering_Year5\\AVSR_project\\Data\\TCD_TIMIT\\lipspeakers\\Lipspkr1\\Clips\\audio\\straightcam\\sx448.wav\" -ac 1 -ar 16000 -c:a pcm_s16le \"C:\\Users\\irish\\Computer_Electronic_Engineering_Year5\\AVSR_project\\Data\\TCD_TIMIT\\lipspeakers\\Lipspkr1\\Clips\\processed\\audio16k\\straightcam\\sx448.wav\"\n",
      ">> ffmpeg -y -v error -i \"C:\\Users\\irish\\Computer_Electronic_Engineering_Year5\\AVSR_project\\Data\\TCD_TIMIT\\lipspeakers\\Lipspkr1\\Clips\\audio\\straightcam\\sx449.wav\" -ac 1 -ar 16000 -c:a pcm_s16le \"C:\\Users\\irish\\Computer_Electronic_Engineering_Year5\\AVSR_project\\Data\\TCD_TIMIT\\lipspeakers\\Lipspkr1\\Clips\\processed\\audio16k\\straightcam\\sx449.wav\"\n",
      ">> ffmpeg -y -v error -i \"C:\\Users\\irish\\Computer_Electronic_Engineering_Year5\\AVSR_project\\Data\\TCD_TIMIT\\lipspeakers\\Lipspkr1\\Clips\\audio\\straightcam\\sx450.wav\" -ac 1 -ar 16000 -c:a pcm_s16le \"C:\\Users\\irish\\Computer_Electronic_Engineering_Year5\\AVSR_project\\Data\\TCD_TIMIT\\lipspeakers\\Lipspkr1\\Clips\\processed\\audio16k\\straightcam\\sx450.wav\"\n",
      ">> ffmpeg -y -v error -i \"C:\\Users\\irish\\Computer_Electronic_Engineering_Year5\\AVSR_project\\Data\\TCD_TIMIT\\lipspeakers\\Lipspkr1\\Clips\\audio\\straightcam\\sx451.wav\" -ac 1 -ar 16000 -c:a pcm_s16le \"C:\\Users\\irish\\Computer_Electronic_Engineering_Year5\\AVSR_project\\Data\\TCD_TIMIT\\lipspeakers\\Lipspkr1\\Clips\\processed\\audio16k\\straightcam\\sx451.wav\"\n",
      ">> ffmpeg -y -v error -i \"C:\\Users\\irish\\Computer_Electronic_Engineering_Year5\\AVSR_project\\Data\\TCD_TIMIT\\lipspeakers\\Lipspkr1\\Clips\\audio\\straightcam\\sx452.wav\" -ac 1 -ar 16000 -c:a pcm_s16le \"C:\\Users\\irish\\Computer_Electronic_Engineering_Year5\\AVSR_project\\Data\\TCD_TIMIT\\lipspeakers\\Lipspkr1\\Clips\\processed\\audio16k\\straightcam\\sx452.wav\"\n",
      ">> ffmpeg -y -v error -i \"C:\\Users\\irish\\Computer_Electronic_Engineering_Year5\\AVSR_project\\Data\\TCD_TIMIT\\lipspeakers\\Lipspkr1\\Clips\\audio\\straightcam\\sx5.wav\" -ac 1 -ar 16000 -c:a pcm_s16le \"C:\\Users\\irish\\Computer_Electronic_Engineering_Year5\\AVSR_project\\Data\\TCD_TIMIT\\lipspeakers\\Lipspkr1\\Clips\\processed\\audio16k\\straightcam\\sx5.wav\"\n",
      ">> ffmpeg -y -v error -i \"C:\\Users\\irish\\Computer_Electronic_Engineering_Year5\\AVSR_project\\Data\\TCD_TIMIT\\lipspeakers\\Lipspkr1\\Clips\\audio\\straightcam\\sx51.wav\" -ac 1 -ar 16000 -c:a pcm_s16le \"C:\\Users\\irish\\Computer_Electronic_Engineering_Year5\\AVSR_project\\Data\\TCD_TIMIT\\lipspeakers\\Lipspkr1\\Clips\\processed\\audio16k\\straightcam\\sx51.wav\"\n",
      ">> ffmpeg -y -v error -i \"C:\\Users\\irish\\Computer_Electronic_Engineering_Year5\\AVSR_project\\Data\\TCD_TIMIT\\lipspeakers\\Lipspkr1\\Clips\\audio\\straightcam\\sx52.wav\" -ac 1 -ar 16000 -c:a pcm_s16le \"C:\\Users\\irish\\Computer_Electronic_Engineering_Year5\\AVSR_project\\Data\\TCD_TIMIT\\lipspeakers\\Lipspkr1\\Clips\\processed\\audio16k\\straightcam\\sx52.wav\"\n",
      ">> ffmpeg -y -v error -i \"C:\\Users\\irish\\Computer_Electronic_Engineering_Year5\\AVSR_project\\Data\\TCD_TIMIT\\lipspeakers\\Lipspkr1\\Clips\\audio\\straightcam\\sx53.wav\" -ac 1 -ar 16000 -c:a pcm_s16le \"C:\\Users\\irish\\Computer_Electronic_Engineering_Year5\\AVSR_project\\Data\\TCD_TIMIT\\lipspeakers\\Lipspkr1\\Clips\\processed\\audio16k\\straightcam\\sx53.wav\"\n",
      ">> ffmpeg -y -v error -i \"C:\\Users\\irish\\Computer_Electronic_Engineering_Year5\\AVSR_project\\Data\\TCD_TIMIT\\lipspeakers\\Lipspkr1\\Clips\\audio\\straightcam\\sx54.wav\" -ac 1 -ar 16000 -c:a pcm_s16le \"C:\\Users\\irish\\Computer_Electronic_Engineering_Year5\\AVSR_project\\Data\\TCD_TIMIT\\lipspeakers\\Lipspkr1\\Clips\\processed\\audio16k\\straightcam\\sx54.wav\"\n",
      ">> ffmpeg -y -v error -i \"C:\\Users\\irish\\Computer_Electronic_Engineering_Year5\\AVSR_project\\Data\\TCD_TIMIT\\lipspeakers\\Lipspkr1\\Clips\\audio\\straightcam\\sx55.wav\" -ac 1 -ar 16000 -c:a pcm_s16le \"C:\\Users\\irish\\Computer_Electronic_Engineering_Year5\\AVSR_project\\Data\\TCD_TIMIT\\lipspeakers\\Lipspkr1\\Clips\\processed\\audio16k\\straightcam\\sx55.wav\"\n",
      ">> ffmpeg -y -v error -i \"C:\\Users\\irish\\Computer_Electronic_Engineering_Year5\\AVSR_project\\Data\\TCD_TIMIT\\lipspeakers\\Lipspkr1\\Clips\\audio\\straightcam\\sx56.wav\" -ac 1 -ar 16000 -c:a pcm_s16le \"C:\\Users\\irish\\Computer_Electronic_Engineering_Year5\\AVSR_project\\Data\\TCD_TIMIT\\lipspeakers\\Lipspkr1\\Clips\\processed\\audio16k\\straightcam\\sx56.wav\"\n",
      ">> ffmpeg -y -v error -i \"C:\\Users\\irish\\Computer_Electronic_Engineering_Year5\\AVSR_project\\Data\\TCD_TIMIT\\lipspeakers\\Lipspkr1\\Clips\\audio\\straightcam\\sx57.wav\" -ac 1 -ar 16000 -c:a pcm_s16le \"C:\\Users\\irish\\Computer_Electronic_Engineering_Year5\\AVSR_project\\Data\\TCD_TIMIT\\lipspeakers\\Lipspkr1\\Clips\\processed\\audio16k\\straightcam\\sx57.wav\"\n",
      ">> ffmpeg -y -v error -i \"C:\\Users\\irish\\Computer_Electronic_Engineering_Year5\\AVSR_project\\Data\\TCD_TIMIT\\lipspeakers\\Lipspkr1\\Clips\\audio\\straightcam\\sx58.wav\" -ac 1 -ar 16000 -c:a pcm_s16le \"C:\\Users\\irish\\Computer_Electronic_Engineering_Year5\\AVSR_project\\Data\\TCD_TIMIT\\lipspeakers\\Lipspkr1\\Clips\\processed\\audio16k\\straightcam\\sx58.wav\"\n",
      ">> ffmpeg -y -v error -i \"C:\\Users\\irish\\Computer_Electronic_Engineering_Year5\\AVSR_project\\Data\\TCD_TIMIT\\lipspeakers\\Lipspkr1\\Clips\\audio\\straightcam\\sx59.wav\" -ac 1 -ar 16000 -c:a pcm_s16le \"C:\\Users\\irish\\Computer_Electronic_Engineering_Year5\\AVSR_project\\Data\\TCD_TIMIT\\lipspeakers\\Lipspkr1\\Clips\\processed\\audio16k\\straightcam\\sx59.wav\"\n",
      ">> ffmpeg -y -v error -i \"C:\\Users\\irish\\Computer_Electronic_Engineering_Year5\\AVSR_project\\Data\\TCD_TIMIT\\lipspeakers\\Lipspkr1\\Clips\\audio\\straightcam\\sx6.wav\" -ac 1 -ar 16000 -c:a pcm_s16le \"C:\\Users\\irish\\Computer_Electronic_Engineering_Year5\\AVSR_project\\Data\\TCD_TIMIT\\lipspeakers\\Lipspkr1\\Clips\\processed\\audio16k\\straightcam\\sx6.wav\"\n",
      ">> ffmpeg -y -v error -i \"C:\\Users\\irish\\Computer_Electronic_Engineering_Year5\\AVSR_project\\Data\\TCD_TIMIT\\lipspeakers\\Lipspkr1\\Clips\\audio\\straightcam\\sx60.wav\" -ac 1 -ar 16000 -c:a pcm_s16le \"C:\\Users\\irish\\Computer_Electronic_Engineering_Year5\\AVSR_project\\Data\\TCD_TIMIT\\lipspeakers\\Lipspkr1\\Clips\\processed\\audio16k\\straightcam\\sx60.wav\"\n",
      ">> ffmpeg -y -v error -i \"C:\\Users\\irish\\Computer_Electronic_Engineering_Year5\\AVSR_project\\Data\\TCD_TIMIT\\lipspeakers\\Lipspkr1\\Clips\\audio\\straightcam\\sx61.wav\" -ac 1 -ar 16000 -c:a pcm_s16le \"C:\\Users\\irish\\Computer_Electronic_Engineering_Year5\\AVSR_project\\Data\\TCD_TIMIT\\lipspeakers\\Lipspkr1\\Clips\\processed\\audio16k\\straightcam\\sx61.wav\"\n",
      ">> ffmpeg -y -v error -i \"C:\\Users\\irish\\Computer_Electronic_Engineering_Year5\\AVSR_project\\Data\\TCD_TIMIT\\lipspeakers\\Lipspkr1\\Clips\\audio\\straightcam\\sx62.wav\" -ac 1 -ar 16000 -c:a pcm_s16le \"C:\\Users\\irish\\Computer_Electronic_Engineering_Year5\\AVSR_project\\Data\\TCD_TIMIT\\lipspeakers\\Lipspkr1\\Clips\\processed\\audio16k\\straightcam\\sx62.wav\"\n",
      ">> ffmpeg -y -v error -i \"C:\\Users\\irish\\Computer_Electronic_Engineering_Year5\\AVSR_project\\Data\\TCD_TIMIT\\lipspeakers\\Lipspkr1\\Clips\\audio\\straightcam\\sx7.wav\" -ac 1 -ar 16000 -c:a pcm_s16le \"C:\\Users\\irish\\Computer_Electronic_Engineering_Year5\\AVSR_project\\Data\\TCD_TIMIT\\lipspeakers\\Lipspkr1\\Clips\\processed\\audio16k\\straightcam\\sx7.wav\"\n",
      ">> ffmpeg -y -v error -i \"C:\\Users\\irish\\Computer_Electronic_Engineering_Year5\\AVSR_project\\Data\\TCD_TIMIT\\lipspeakers\\Lipspkr1\\Clips\\audio\\straightcam\\sx75.wav\" -ac 1 -ar 16000 -c:a pcm_s16le \"C:\\Users\\irish\\Computer_Electronic_Engineering_Year5\\AVSR_project\\Data\\TCD_TIMIT\\lipspeakers\\Lipspkr1\\Clips\\processed\\audio16k\\straightcam\\sx75.wav\"\n",
      ">> ffmpeg -y -v error -i \"C:\\Users\\irish\\Computer_Electronic_Engineering_Year5\\AVSR_project\\Data\\TCD_TIMIT\\lipspeakers\\Lipspkr1\\Clips\\audio\\straightcam\\sx76.wav\" -ac 1 -ar 16000 -c:a pcm_s16le \"C:\\Users\\irish\\Computer_Electronic_Engineering_Year5\\AVSR_project\\Data\\TCD_TIMIT\\lipspeakers\\Lipspkr1\\Clips\\processed\\audio16k\\straightcam\\sx76.wav\"\n",
      ">> ffmpeg -y -v error -i \"C:\\Users\\irish\\Computer_Electronic_Engineering_Year5\\AVSR_project\\Data\\TCD_TIMIT\\lipspeakers\\Lipspkr1\\Clips\\audio\\straightcam\\sx77.wav\" -ac 1 -ar 16000 -c:a pcm_s16le \"C:\\Users\\irish\\Computer_Electronic_Engineering_Year5\\AVSR_project\\Data\\TCD_TIMIT\\lipspeakers\\Lipspkr1\\Clips\\processed\\audio16k\\straightcam\\sx77.wav\"\n",
      ">> ffmpeg -y -v error -i \"C:\\Users\\irish\\Computer_Electronic_Engineering_Year5\\AVSR_project\\Data\\TCD_TIMIT\\lipspeakers\\Lipspkr1\\Clips\\audio\\straightcam\\sx78.wav\" -ac 1 -ar 16000 -c:a pcm_s16le \"C:\\Users\\irish\\Computer_Electronic_Engineering_Year5\\AVSR_project\\Data\\TCD_TIMIT\\lipspeakers\\Lipspkr1\\Clips\\processed\\audio16k\\straightcam\\sx78.wav\"\n",
      ">> ffmpeg -y -v error -i \"C:\\Users\\irish\\Computer_Electronic_Engineering_Year5\\AVSR_project\\Data\\TCD_TIMIT\\lipspeakers\\Lipspkr1\\Clips\\audio\\straightcam\\sx79.wav\" -ac 1 -ar 16000 -c:a pcm_s16le \"C:\\Users\\irish\\Computer_Electronic_Engineering_Year5\\AVSR_project\\Data\\TCD_TIMIT\\lipspeakers\\Lipspkr1\\Clips\\processed\\audio16k\\straightcam\\sx79.wav\"\n",
      ">> ffmpeg -y -v error -i \"C:\\Users\\irish\\Computer_Electronic_Engineering_Year5\\AVSR_project\\Data\\TCD_TIMIT\\lipspeakers\\Lipspkr1\\Clips\\audio\\straightcam\\sx8.wav\" -ac 1 -ar 16000 -c:a pcm_s16le \"C:\\Users\\irish\\Computer_Electronic_Engineering_Year5\\AVSR_project\\Data\\TCD_TIMIT\\lipspeakers\\Lipspkr1\\Clips\\processed\\audio16k\\straightcam\\sx8.wav\"\n",
      ">> ffmpeg -y -v error -i \"C:\\Users\\irish\\Computer_Electronic_Engineering_Year5\\AVSR_project\\Data\\TCD_TIMIT\\lipspeakers\\Lipspkr1\\Clips\\audio\\straightcam\\sx80.wav\" -ac 1 -ar 16000 -c:a pcm_s16le \"C:\\Users\\irish\\Computer_Electronic_Engineering_Year5\\AVSR_project\\Data\\TCD_TIMIT\\lipspeakers\\Lipspkr1\\Clips\\processed\\audio16k\\straightcam\\sx80.wav\"\n",
      ">> ffmpeg -y -v error -i \"C:\\Users\\irish\\Computer_Electronic_Engineering_Year5\\AVSR_project\\Data\\TCD_TIMIT\\lipspeakers\\Lipspkr1\\Clips\\audio\\straightcam\\sx81.wav\" -ac 1 -ar 16000 -c:a pcm_s16le \"C:\\Users\\irish\\Computer_Electronic_Engineering_Year5\\AVSR_project\\Data\\TCD_TIMIT\\lipspeakers\\Lipspkr1\\Clips\\processed\\audio16k\\straightcam\\sx81.wav\"\n",
      ">> ffmpeg -y -v error -i \"C:\\Users\\irish\\Computer_Electronic_Engineering_Year5\\AVSR_project\\Data\\TCD_TIMIT\\lipspeakers\\Lipspkr1\\Clips\\audio\\straightcam\\sx82.wav\" -ac 1 -ar 16000 -c:a pcm_s16le \"C:\\Users\\irish\\Computer_Electronic_Engineering_Year5\\AVSR_project\\Data\\TCD_TIMIT\\lipspeakers\\Lipspkr1\\Clips\\processed\\audio16k\\straightcam\\sx82.wav\"\n",
      ">> ffmpeg -y -v error -i \"C:\\Users\\irish\\Computer_Electronic_Engineering_Year5\\AVSR_project\\Data\\TCD_TIMIT\\lipspeakers\\Lipspkr1\\Clips\\audio\\straightcam\\sx83.wav\" -ac 1 -ar 16000 -c:a pcm_s16le \"C:\\Users\\irish\\Computer_Electronic_Engineering_Year5\\AVSR_project\\Data\\TCD_TIMIT\\lipspeakers\\Lipspkr1\\Clips\\processed\\audio16k\\straightcam\\sx83.wav\"\n",
      ">> ffmpeg -y -v error -i \"C:\\Users\\irish\\Computer_Electronic_Engineering_Year5\\AVSR_project\\Data\\TCD_TIMIT\\lipspeakers\\Lipspkr1\\Clips\\audio\\straightcam\\sx84.wav\" -ac 1 -ar 16000 -c:a pcm_s16le \"C:\\Users\\irish\\Computer_Electronic_Engineering_Year5\\AVSR_project\\Data\\TCD_TIMIT\\lipspeakers\\Lipspkr1\\Clips\\processed\\audio16k\\straightcam\\sx84.wav\"\n",
      ">> ffmpeg -y -v error -i \"C:\\Users\\irish\\Computer_Electronic_Engineering_Year5\\AVSR_project\\Data\\TCD_TIMIT\\lipspeakers\\Lipspkr1\\Clips\\audio\\straightcam\\sx85.wav\" -ac 1 -ar 16000 -c:a pcm_s16le \"C:\\Users\\irish\\Computer_Electronic_Engineering_Year5\\AVSR_project\\Data\\TCD_TIMIT\\lipspeakers\\Lipspkr1\\Clips\\processed\\audio16k\\straightcam\\sx85.wav\"\n",
      ">> ffmpeg -y -v error -i \"C:\\Users\\irish\\Computer_Electronic_Engineering_Year5\\AVSR_project\\Data\\TCD_TIMIT\\lipspeakers\\Lipspkr1\\Clips\\audio\\straightcam\\sx86.wav\" -ac 1 -ar 16000 -c:a pcm_s16le \"C:\\Users\\irish\\Computer_Electronic_Engineering_Year5\\AVSR_project\\Data\\TCD_TIMIT\\lipspeakers\\Lipspkr1\\Clips\\processed\\audio16k\\straightcam\\sx86.wav\"\n",
      ">> ffmpeg -y -v error -i \"C:\\Users\\irish\\Computer_Electronic_Engineering_Year5\\AVSR_project\\Data\\TCD_TIMIT\\lipspeakers\\Lipspkr1\\Clips\\audio\\straightcam\\sx87.wav\" -ac 1 -ar 16000 -c:a pcm_s16le \"C:\\Users\\irish\\Computer_Electronic_Engineering_Year5\\AVSR_project\\Data\\TCD_TIMIT\\lipspeakers\\Lipspkr1\\Clips\\processed\\audio16k\\straightcam\\sx87.wav\"\n",
      ">> ffmpeg -y -v error -i \"C:\\Users\\irish\\Computer_Electronic_Engineering_Year5\\AVSR_project\\Data\\TCD_TIMIT\\lipspeakers\\Lipspkr1\\Clips\\audio\\straightcam\\sx88.wav\" -ac 1 -ar 16000 -c:a pcm_s16le \"C:\\Users\\irish\\Computer_Electronic_Engineering_Year5\\AVSR_project\\Data\\TCD_TIMIT\\lipspeakers\\Lipspkr1\\Clips\\processed\\audio16k\\straightcam\\sx88.wav\"\n",
      ">> ffmpeg -y -v error -i \"C:\\Users\\irish\\Computer_Electronic_Engineering_Year5\\AVSR_project\\Data\\TCD_TIMIT\\lipspeakers\\Lipspkr1\\Clips\\audio\\straightcam\\sx89.wav\" -ac 1 -ar 16000 -c:a pcm_s16le \"C:\\Users\\irish\\Computer_Electronic_Engineering_Year5\\AVSR_project\\Data\\TCD_TIMIT\\lipspeakers\\Lipspkr1\\Clips\\processed\\audio16k\\straightcam\\sx89.wav\"\n",
      ">> ffmpeg -y -v error -i \"C:\\Users\\irish\\Computer_Electronic_Engineering_Year5\\AVSR_project\\Data\\TCD_TIMIT\\lipspeakers\\Lipspkr1\\Clips\\audio\\straightcam\\sx9.wav\" -ac 1 -ar 16000 -c:a pcm_s16le \"C:\\Users\\irish\\Computer_Electronic_Engineering_Year5\\AVSR_project\\Data\\TCD_TIMIT\\lipspeakers\\Lipspkr1\\Clips\\processed\\audio16k\\straightcam\\sx9.wav\"\n",
      ">> ffmpeg -y -v error -i \"C:\\Users\\irish\\Computer_Electronic_Engineering_Year5\\AVSR_project\\Data\\TCD_TIMIT\\lipspeakers\\Lipspkr1\\Clips\\audio\\straightcam\\sx90.wav\" -ac 1 -ar 16000 -c:a pcm_s16le \"C:\\Users\\irish\\Computer_Electronic_Engineering_Year5\\AVSR_project\\Data\\TCD_TIMIT\\lipspeakers\\Lipspkr1\\Clips\\processed\\audio16k\\straightcam\\sx90.wav\"\n",
      ">> ffmpeg -y -v error -i \"C:\\Users\\irish\\Computer_Electronic_Engineering_Year5\\AVSR_project\\Data\\TCD_TIMIT\\lipspeakers\\Lipspkr1\\Clips\\audio\\straightcam\\sx91.wav\" -ac 1 -ar 16000 -c:a pcm_s16le \"C:\\Users\\irish\\Computer_Electronic_Engineering_Year5\\AVSR_project\\Data\\TCD_TIMIT\\lipspeakers\\Lipspkr1\\Clips\\processed\\audio16k\\straightcam\\sx91.wav\"\n",
      ">> ffmpeg -y -v error -i \"C:\\Users\\irish\\Computer_Electronic_Engineering_Year5\\AVSR_project\\Data\\TCD_TIMIT\\lipspeakers\\Lipspkr1\\Clips\\audio\\straightcam\\sx92.wav\" -ac 1 -ar 16000 -c:a pcm_s16le \"C:\\Users\\irish\\Computer_Electronic_Engineering_Year5\\AVSR_project\\Data\\TCD_TIMIT\\lipspeakers\\Lipspkr1\\Clips\\processed\\audio16k\\straightcam\\sx92.wav\"\n",
      ">> ffmpeg -y -v error -i \"C:\\Users\\irish\\Computer_Electronic_Engineering_Year5\\AVSR_project\\Data\\TCD_TIMIT\\lipspeakers\\Lipspkr1\\Clips\\audio\\straightcam\\sx94.wav\" -ac 1 -ar 16000 -c:a pcm_s16le \"C:\\Users\\irish\\Computer_Electronic_Engineering_Year5\\AVSR_project\\Data\\TCD_TIMIT\\lipspeakers\\Lipspkr1\\Clips\\processed\\audio16k\\straightcam\\sx94.wav\"\n",
      ">> ffmpeg -y -v error -i \"C:\\Users\\irish\\Computer_Electronic_Engineering_Year5\\AVSR_project\\Data\\TCD_TIMIT\\lipspeakers\\Lipspkr1\\Clips\\audio\\straightcam\\sx95.wav\" -ac 1 -ar 16000 -c:a pcm_s16le \"C:\\Users\\irish\\Computer_Electronic_Engineering_Year5\\AVSR_project\\Data\\TCD_TIMIT\\lipspeakers\\Lipspkr1\\Clips\\processed\\audio16k\\straightcam\\sx95.wav\"\n",
      ">> ffmpeg -y -v error -i \"C:\\Users\\irish\\Computer_Electronic_Engineering_Year5\\AVSR_project\\Data\\TCD_TIMIT\\lipspeakers\\Lipspkr1\\Clips\\audio\\straightcam\\sx96.wav\" -ac 1 -ar 16000 -c:a pcm_s16le \"C:\\Users\\irish\\Computer_Electronic_Engineering_Year5\\AVSR_project\\Data\\TCD_TIMIT\\lipspeakers\\Lipspkr1\\Clips\\processed\\audio16k\\straightcam\\sx96.wav\"\n",
      ">> ffmpeg -y -v error -i \"C:\\Users\\irish\\Computer_Electronic_Engineering_Year5\\AVSR_project\\Data\\TCD_TIMIT\\lipspeakers\\Lipspkr1\\Clips\\audio\\straightcam\\sx97.wav\" -ac 1 -ar 16000 -c:a pcm_s16le \"C:\\Users\\irish\\Computer_Electronic_Engineering_Year5\\AVSR_project\\Data\\TCD_TIMIT\\lipspeakers\\Lipspkr1\\Clips\\processed\\audio16k\\straightcam\\sx97.wav\"\n",
      ">> ffmpeg -y -v error -i \"C:\\Users\\irish\\Computer_Electronic_Engineering_Year5\\AVSR_project\\Data\\TCD_TIMIT\\lipspeakers\\Lipspkr1\\Clips\\audio\\straightcam\\sx98.wav\" -ac 1 -ar 16000 -c:a pcm_s16le \"C:\\Users\\irish\\Computer_Electronic_Engineering_Year5\\AVSR_project\\Data\\TCD_TIMIT\\lipspeakers\\Lipspkr1\\Clips\\processed\\audio16k\\straightcam\\sx98.wav\"\n",
      ">> ffmpeg -y -v error -i \"C:\\Users\\irish\\Computer_Electronic_Engineering_Year5\\AVSR_project\\Data\\TCD_TIMIT\\lipspeakers\\Lipspkr1\\Clips\\audio\\straightcam\\sx99.wav\" -ac 1 -ar 16000 -c:a pcm_s16le \"C:\\Users\\irish\\Computer_Electronic_Engineering_Year5\\AVSR_project\\Data\\TCD_TIMIT\\lipspeakers\\Lipspkr1\\Clips\\processed\\audio16k\\straightcam\\sx99.wav\"\n",
      "[done] converted: videos=377, audios=377\n"
     ]
    }
   ],
   "source": [
    "import re\n",
    "from pathlib import Path\n",
    "import subprocess, os\n",
    "import cv2\n",
    "from tqdm import tqdm\n",
    "\n",
    "AUDIO_SRC_FOR_CAM = {\"30degcam\": \"straightcam\"}  # 30degcam shares audio with straightcam {\"30degcam\": \"straightcam\"}\n",
    "TARGET_FPS = 25\n",
    "TARGET_SR  = 16000\n",
    "\n",
    "def sh(cmd):\n",
    "    print(\">>\", cmd)\n",
    "    subprocess.run(cmd, shell=True, check=True)\n",
    "\n",
    "def ensure(p: Path):\n",
    "    p.mkdir(parents=True, exist_ok=True)\n",
    "\n",
    "def convert_video_25fps(src_mp4: Path, dst_mp4: Path, fps=25):\n",
    "    ensure(dst_mp4.parent)\n",
    "    sh(f'ffmpeg -y -v error -i \"{src_mp4}\" -r {fps} -c:v libx264 -preset veryfast -crf 18 -pix_fmt yuv420p \"{dst_mp4}\"')\n",
    "\n",
    "def convert_wav_16k(src_wav: Path, dst_wav: Path, sr=16000):\n",
    "    ensure(dst_wav.parent)\n",
    "    sh(f'ffmpeg -y -v error -i \"{src_wav}\" -ac 1 -ar {sr} -c:a pcm_s16le \"{dst_wav}\"')\n",
    "\n",
    "def list_files(root: Path, ext: str):\n",
    "    return sorted(root.rglob(f\"*.{ext.lower()}\"))\n",
    "\n",
    "def normalize_stem(stem: str) -> str:\n",
    "    # collapse things like \"si1011__dup1\" -> \"si1011\"\n",
    "    return re.sub(r\"__dup\\d+$\", \"\", stem)\n",
    "\n",
    "ok_vid = ok_wav = 0\n",
    "for spk in SPEAKERS:\n",
    "    for cam in CAMS:\n",
    "        # --- videos: convert per-cam as usual ---\n",
    "        raw_vid_dir = DATA_ROOT / f\"{GROUP}/{spk}/Clips/video/{cam}\"\n",
    "        vid25_dir   = DATA_ROOT / f\"{GROUP}/{spk}/Clips/processed/video25/{cam}\"\n",
    "        for v in list_files(raw_vid_dir, \"mp4\"):\n",
    "            out = vid25_dir / v.name\n",
    "            if not out.exists():\n",
    "                convert_video_25fps(v, out, fps=TARGET_FPS)\n",
    "            ok_vid += 1\n",
    "\n",
    "        # --- audio: only process once for the source cam ---\n",
    "        src_cam = AUDIO_SRC_FOR_CAM.get(cam, cam)\n",
    "        if cam != src_cam:\n",
    "            # skip conversion for alias cams to avoid duplicates entirely\n",
    "            continue\n",
    "\n",
    "        raw_aud_dir = DATA_ROOT / f\"{GROUP}/{spk}/Clips/audio/{src_cam}\"\n",
    "        aud16_dir   = DATA_ROOT / f\"{GROUP}/{spk}/Clips/processed/audio16k/{src_cam}\"\n",
    "\n",
    "        # De-dup on name pattern: keep one per normalized stem\n",
    "        seen = set()\n",
    "        for a in list_files(raw_aud_dir, \"wav\"):\n",
    "            stem_norm = normalize_stem(a.stem)\n",
    "            if stem_norm in seen:\n",
    "                # we've already converted this utterance; skip dup variants\n",
    "                continue\n",
    "            seen.add(stem_norm)\n",
    "\n",
    "            out = aud16_dir / f\"{stem_norm}.wav\"\n",
    "            if not out.exists():\n",
    "                convert_wav_16k(a, out, sr=TARGET_SR)\n",
    "            ok_wav += 1\n",
    "\n",
    "print(f\"[done] converted: videos={ok_vid}, audios={ok_wav}\")\n"
   ]
  },
  {
   "cell_type": "markdown",
   "id": "e3e025ed",
   "metadata": {},
   "source": [
    "## Create Manifest for detect_landmark.py\n"
   ]
  },
  {
   "cell_type": "code",
   "execution_count": 10,
   "id": "533154b1",
   "metadata": {},
   "outputs": [
    {
     "name": "stdout",
     "output_type": "stream",
     "text": [
      "[ok] wrote C:\\Users\\irish\\Computer_Electronic_Engineering_Year5\\AVSR_project\\Data\\TCD_TIMIT\\file.list (377 lines)\n"
     ]
    }
   ],
   "source": [
    "# Build manifest from the 25fps videos you want to detect\n",
    "manifest_lines = []\n",
    "for spk in SPEAKERS:\n",
    "    for cam in CAMS:\n",
    "        for mp4 in (DATA_ROOT / f\"{GROUP}/{spk}/Clips/processed/video25/{cam}\").glob(\"*.mp4\"):\n",
    "            rel_noext = str(mp4.relative_to(DATA_ROOT).with_suffix(\"\")).replace(\"\\\\\",\"/\")\n",
    "            manifest_lines.append(rel_noext)\n",
    "\n",
    "MANIFEST_LIST = DATA_ROOT / \"file.list\"\n",
    "MANIFEST_LIST.write_text(\"\\n\".join(sorted(manifest_lines)), encoding=\"utf-8\")\n",
    "print(f\"[ok] wrote {MANIFEST_LIST} ({len(manifest_lines)} lines)\")\n"
   ]
  },
  {
   "cell_type": "code",
   "execution_count": 11,
   "id": "e040e8b3",
   "metadata": {},
   "outputs": [
    {
     "name": "stdout",
     "output_type": "stream",
     "text": [
      "[ok] Created C:\\Users\\irish\\Computer_Electronic_Engineering_Year5\\AVSR_project\\Data\\TCD_TIMIT\\file_straightcam.list (377 entries)\n",
      ">> c:\\Users\\irish\\Computer_Electronic_Engineering_Year5\\AVSR_project\\.venv\\Scripts\\python.exe C:\\Users\\irish\\Computer_Electronic_Engineering_Year5\\AVSR_project\\av_hubert\\av_hubert\\avhubert\\preparation\\detect_landmark.py --root C:\\Users\\irish\\Computer_Electronic_Engineering_Year5\\AVSR_project\\Data\\TCD_TIMIT --landmark C:\\Users\\irish\\Computer_Electronic_Engineering_Year5\\AVSR_project\\Data\\TCD_TIMIT\\lipspeakers\\Lipspkr1\\Clips\\processed\\landmarks\\straightcam --manifest C:\\Users\\irish\\Computer_Electronic_Engineering_Year5\\AVSR_project\\Data\\TCD_TIMIT\\file_straightcam.list --cnn_detector C:\\models\\dlib\\mmod_human_face_detector.dat --face_predictor C:\\models\\dlib\\shape_predictor_68_face_landmarks.dat --ffmpeg C:\\Users\\irish\\AppData\\Local\\Microsoft\\WinGet\\Packages\\Gyan.FFmpeg_Microsoft.Winget.Source_8wekyb3d8bbwe\\ffmpeg-8.0-full_build\\bin\\ffmpeg.exe --rank 0 --nshard 1\n",
      "[done] Landmarks saved to C:\\Users\\irish\\Computer_Electronic_Engineering_Year5\\AVSR_project\\Data\\TCD_TIMIT\\lipspeakers\\Lipspkr1\\Clips\\processed\\landmarks\\straightcam\n",
      "[ok] Created C:\\Users\\irish\\Computer_Electronic_Engineering_Year5\\AVSR_project\\Data\\TCD_TIMIT\\file_30degcam.list (0 entries)\n",
      ">> c:\\Users\\irish\\Computer_Electronic_Engineering_Year5\\AVSR_project\\.venv\\Scripts\\python.exe C:\\Users\\irish\\Computer_Electronic_Engineering_Year5\\AVSR_project\\av_hubert\\av_hubert\\avhubert\\preparation\\detect_landmark.py --root C:\\Users\\irish\\Computer_Electronic_Engineering_Year5\\AVSR_project\\Data\\TCD_TIMIT --landmark C:\\Users\\irish\\Computer_Electronic_Engineering_Year5\\AVSR_project\\Data\\TCD_TIMIT\\lipspeakers\\Lipspkr1\\Clips\\processed\\landmarks\\30degcam --manifest C:\\Users\\irish\\Computer_Electronic_Engineering_Year5\\AVSR_project\\Data\\TCD_TIMIT\\file_30degcam.list --cnn_detector C:\\models\\dlib\\mmod_human_face_detector.dat --face_predictor C:\\models\\dlib\\shape_predictor_68_face_landmarks.dat --ffmpeg C:\\Users\\irish\\AppData\\Local\\Microsoft\\WinGet\\Packages\\Gyan.FFmpeg_Microsoft.Winget.Source_8wekyb3d8bbwe\\ffmpeg-8.0-full_build\\bin\\ffmpeg.exe --rank 0 --nshard 1\n",
      "[done] Landmarks saved to C:\\Users\\irish\\Computer_Electronic_Engineering_Year5\\AVSR_project\\Data\\TCD_TIMIT\\lipspeakers\\Lipspkr1\\Clips\\processed\\landmarks\\30degcam\n"
     ]
    }
   ],
   "source": [
    "import sys, subprocess, os\n",
    "from pathlib import Path\n",
    "\n",
    "# --- your known paths ---\n",
    "FFMPEG_PATH = r\"C:\\Users\\irish\\AppData\\Local\\Microsoft\\WinGet\\Packages\\Gyan.FFmpeg_Microsoft.Winget.Source_8wekyb3d8bbwe\\ffmpeg-8.0-full_build\\bin\\ffmpeg.exe\"\n",
    "\n",
    "for cam in CAMS:\n",
    "    LMK_DIR = DATA_ROOT / f\"{GROUP}/{SPEAKER}/Clips/processed/landmarks/{cam}\"\n",
    "    LMK_DIR.mkdir(parents=True, exist_ok=True)\n",
    "\n",
    "    MANIFEST_CAM = DATA_ROOT / f\"file_{cam}.list\"\n",
    "\n",
    "    # filter manifest lines belonging to this camera\n",
    "    all_lines = MANIFEST_LIST.read_text().splitlines()\n",
    "    cam_lines = [ln for ln in all_lines if f\"/{cam}/\" in ln]\n",
    "    MANIFEST_CAM.write_text(\"\\n\".join(cam_lines), encoding=\"utf-8\")\n",
    "    print(f\"[ok] Created {MANIFEST_CAM} ({len(cam_lines)} entries)\")\n",
    "\n",
    "    cmd = [\n",
    "        sys.executable, str(DETECT_PY),\n",
    "        \"--root\", str(DATA_ROOT),\n",
    "        \"--landmark\", str(LMK_DIR),\n",
    "        \"--manifest\", str(MANIFEST_CAM),\n",
    "        \"--cnn_detector\", str(DLIB_CNN),\n",
    "        \"--face_predictor\", str(DLIB_L68),\n",
    "        \"--ffmpeg\", FFMPEG_PATH,\n",
    "        \"--rank\", \"0\", \"--nshard\", \"1\"\n",
    "    ]\n",
    "\n",
    "    print(\">>\", \" \".join(cmd))\n",
    "    subprocess.run(cmd, check=True)\n",
    "    print(f\"[done] Landmarks saved to {LMK_DIR}\")\n"
   ]
  },
  {
   "cell_type": "code",
   "execution_count": 6,
   "id": "d6586daf",
   "metadata": {},
   "outputs": [
    {
     "name": "stdout",
     "output_type": "stream",
     "text": [
      "Found 377 videos in C:\\Users\\irish\\Computer_Electronic_Engineering_Year5\\AVSR_project\\Data\\TCD_TIMIT\\lipspeakers\\Lipspkr1\\Clips\\processed\\video25\\straightcam\n"
     ]
    },
    {
     "name": "stderr",
     "output_type": "stream",
     "text": [
      "Cropping -> straightcam:   0%|          | 1/377 [00:01<10:41,  1.71s/it]"
     ]
    },
    {
     "name": "stdout",
     "output_type": "stream",
     "text": [
      "[ok] sa1: 163 frames -> C:\\Users\\irish\\Computer_Electronic_Engineering_Year5\\AVSR_project\\Data\\TCD_TIMIT\\lipspeakers\\Lipspkr1\\Clips\\processed\\video25crop\\straightcam\\sa1.mp4\n"
     ]
    },
    {
     "name": "stderr",
     "output_type": "stream",
     "text": [
      "Cropping -> straightcam:   1%|          | 2/377 [00:02<08:02,  1.29s/it]"
     ]
    },
    {
     "name": "stdout",
     "output_type": "stream",
     "text": [
      "[ok] sa2: 133 frames -> C:\\Users\\irish\\Computer_Electronic_Engineering_Year5\\AVSR_project\\Data\\TCD_TIMIT\\lipspeakers\\Lipspkr1\\Clips\\processed\\video25crop\\straightcam\\sa2.mp4\n"
     ]
    },
    {
     "name": "stderr",
     "output_type": "stream",
     "text": [
      "Cropping -> straightcam:   1%|          | 3/377 [00:03<06:42,  1.08s/it]"
     ]
    },
    {
     "name": "stdout",
     "output_type": "stream",
     "text": [
      "[ok] si1001: 128 frames -> C:\\Users\\irish\\Computer_Electronic_Engineering_Year5\\AVSR_project\\Data\\TCD_TIMIT\\lipspeakers\\Lipspkr1\\Clips\\processed\\video25crop\\straightcam\\si1001.mp4\n"
     ]
    },
    {
     "name": "stderr",
     "output_type": "stream",
     "text": [
      "Cropping -> straightcam:   1%|          | 4/377 [00:04<07:39,  1.23s/it]"
     ]
    },
    {
     "name": "stdout",
     "output_type": "stream",
     "text": [
      "[ok] si1002: 223 frames -> C:\\Users\\irish\\Computer_Electronic_Engineering_Year5\\AVSR_project\\Data\\TCD_TIMIT\\lipspeakers\\Lipspkr1\\Clips\\processed\\video25crop\\straightcam\\si1002.mp4\n"
     ]
    },
    {
     "name": "stderr",
     "output_type": "stream",
     "text": [
      "Cropping -> straightcam:   1%|▏         | 5/377 [00:06<08:00,  1.29s/it]"
     ]
    },
    {
     "name": "stdout",
     "output_type": "stream",
     "text": [
      "[ok] si1006: 192 frames -> C:\\Users\\irish\\Computer_Electronic_Engineering_Year5\\AVSR_project\\Data\\TCD_TIMIT\\lipspeakers\\Lipspkr1\\Clips\\processed\\video25crop\\straightcam\\si1006.mp4\n"
     ]
    },
    {
     "name": "stderr",
     "output_type": "stream",
     "text": [
      "Cropping -> straightcam:   2%|▏         | 6/377 [00:08<08:39,  1.40s/it]"
     ]
    },
    {
     "name": "stdout",
     "output_type": "stream",
     "text": [
      "[ok] si1010: 228 frames -> C:\\Users\\irish\\Computer_Electronic_Engineering_Year5\\AVSR_project\\Data\\TCD_TIMIT\\lipspeakers\\Lipspkr1\\Clips\\processed\\video25crop\\straightcam\\si1010.mp4\n"
     ]
    },
    {
     "name": "stderr",
     "output_type": "stream",
     "text": [
      "Cropping -> straightcam:   2%|▏         | 7/377 [00:09<08:40,  1.41s/it]"
     ]
    },
    {
     "name": "stdout",
     "output_type": "stream",
     "text": [
      "[ok] si1048: 254 frames -> C:\\Users\\irish\\Computer_Electronic_Engineering_Year5\\AVSR_project\\Data\\TCD_TIMIT\\lipspeakers\\Lipspkr1\\Clips\\processed\\video25crop\\straightcam\\si1048.mp4\n"
     ]
    },
    {
     "name": "stderr",
     "output_type": "stream",
     "text": [
      "Cropping -> straightcam:   2%|▏         | 8/377 [00:10<07:47,  1.27s/it]"
     ]
    },
    {
     "name": "stdout",
     "output_type": "stream",
     "text": [
      "[ok] si1049: 149 frames -> C:\\Users\\irish\\Computer_Electronic_Engineering_Year5\\AVSR_project\\Data\\TCD_TIMIT\\lipspeakers\\Lipspkr1\\Clips\\processed\\video25crop\\straightcam\\si1049.mp4\n"
     ]
    },
    {
     "name": "stderr",
     "output_type": "stream",
     "text": [
      "Cropping -> straightcam:   2%|▏         | 9/377 [00:11<07:25,  1.21s/it]"
     ]
    },
    {
     "name": "stdout",
     "output_type": "stream",
     "text": [
      "[ok] si1082: 140 frames -> C:\\Users\\irish\\Computer_Electronic_Engineering_Year5\\AVSR_project\\Data\\TCD_TIMIT\\lipspeakers\\Lipspkr1\\Clips\\processed\\video25crop\\straightcam\\si1082.mp4\n"
     ]
    },
    {
     "name": "stderr",
     "output_type": "stream",
     "text": [
      "Cropping -> straightcam:   3%|▎         | 10/377 [00:13<08:18,  1.36s/it]"
     ]
    },
    {
     "name": "stdout",
     "output_type": "stream",
     "text": [
      "[ok] si1084: 206 frames -> C:\\Users\\irish\\Computer_Electronic_Engineering_Year5\\AVSR_project\\Data\\TCD_TIMIT\\lipspeakers\\Lipspkr1\\Clips\\processed\\video25crop\\straightcam\\si1084.mp4\n"
     ]
    },
    {
     "name": "stderr",
     "output_type": "stream",
     "text": [
      "Cropping -> straightcam:   3%|▎         | 11/377 [00:14<08:36,  1.41s/it]"
     ]
    },
    {
     "name": "stdout",
     "output_type": "stream",
     "text": [
      "[ok] si1094: 195 frames -> C:\\Users\\irish\\Computer_Electronic_Engineering_Year5\\AVSR_project\\Data\\TCD_TIMIT\\lipspeakers\\Lipspkr1\\Clips\\processed\\video25crop\\straightcam\\si1094.mp4\n"
     ]
    },
    {
     "name": "stderr",
     "output_type": "stream",
     "text": [
      "Cropping -> straightcam:   3%|▎         | 12/377 [00:15<08:21,  1.37s/it]"
     ]
    },
    {
     "name": "stdout",
     "output_type": "stream",
     "text": [
      "[ok] si1132: 186 frames -> C:\\Users\\irish\\Computer_Electronic_Engineering_Year5\\AVSR_project\\Data\\TCD_TIMIT\\lipspeakers\\Lipspkr1\\Clips\\processed\\video25crop\\straightcam\\si1132.mp4\n"
     ]
    },
    {
     "name": "stderr",
     "output_type": "stream",
     "text": [
      "Cropping -> straightcam:   3%|▎         | 13/377 [00:17<09:00,  1.49s/it]"
     ]
    },
    {
     "name": "stdout",
     "output_type": "stream",
     "text": [
      "[ok] si1136: 259 frames -> C:\\Users\\irish\\Computer_Electronic_Engineering_Year5\\AVSR_project\\Data\\TCD_TIMIT\\lipspeakers\\Lipspkr1\\Clips\\processed\\video25crop\\straightcam\\si1136.mp4\n"
     ]
    },
    {
     "name": "stderr",
     "output_type": "stream",
     "text": [
      "Cropping -> straightcam:   4%|▎         | 14/377 [00:18<08:11,  1.35s/it]"
     ]
    },
    {
     "name": "stdout",
     "output_type": "stream",
     "text": [
      "[ok] si1140: 163 frames -> C:\\Users\\irish\\Computer_Electronic_Engineering_Year5\\AVSR_project\\Data\\TCD_TIMIT\\lipspeakers\\Lipspkr1\\Clips\\processed\\video25crop\\straightcam\\si1140.mp4\n"
     ]
    },
    {
     "name": "stderr",
     "output_type": "stream",
     "text": [
      "Cropping -> straightcam:   4%|▍         | 15/377 [00:20<09:00,  1.49s/it]"
     ]
    },
    {
     "name": "stdout",
     "output_type": "stream",
     "text": [
      "[ok] si1146: 259 frames -> C:\\Users\\irish\\Computer_Electronic_Engineering_Year5\\AVSR_project\\Data\\TCD_TIMIT\\lipspeakers\\Lipspkr1\\Clips\\processed\\video25crop\\straightcam\\si1146.mp4\n"
     ]
    },
    {
     "name": "stderr",
     "output_type": "stream",
     "text": [
      "Cropping -> straightcam:   4%|▍         | 16/377 [00:22<09:05,  1.51s/it]"
     ]
    },
    {
     "name": "stdout",
     "output_type": "stream",
     "text": [
      "[ok] si1150: 232 frames -> C:\\Users\\irish\\Computer_Electronic_Engineering_Year5\\AVSR_project\\Data\\TCD_TIMIT\\lipspeakers\\Lipspkr1\\Clips\\processed\\video25crop\\straightcam\\si1150.mp4\n"
     ]
    },
    {
     "name": "stderr",
     "output_type": "stream",
     "text": [
      "Cropping -> straightcam:   5%|▍         | 17/377 [00:23<09:07,  1.52s/it]"
     ]
    },
    {
     "name": "stdout",
     "output_type": "stream",
     "text": [
      "[ok] si1155: 249 frames -> C:\\Users\\irish\\Computer_Electronic_Engineering_Year5\\AVSR_project\\Data\\TCD_TIMIT\\lipspeakers\\Lipspkr1\\Clips\\processed\\video25crop\\straightcam\\si1155.mp4\n"
     ]
    },
    {
     "name": "stderr",
     "output_type": "stream",
     "text": [
      "Cropping -> straightcam:   5%|▍         | 18/377 [00:24<08:00,  1.34s/it]"
     ]
    },
    {
     "name": "stdout",
     "output_type": "stream",
     "text": [
      "[ok] si1171: 128 frames -> C:\\Users\\irish\\Computer_Electronic_Engineering_Year5\\AVSR_project\\Data\\TCD_TIMIT\\lipspeakers\\Lipspkr1\\Clips\\processed\\video25crop\\straightcam\\si1171.mp4\n"
     ]
    },
    {
     "name": "stderr",
     "output_type": "stream",
     "text": [
      "Cropping -> straightcam:   5%|▌         | 19/377 [00:26<08:16,  1.39s/it]"
     ]
    },
    {
     "name": "stdout",
     "output_type": "stream",
     "text": [
      "[ok] si1176: 224 frames -> C:\\Users\\irish\\Computer_Electronic_Engineering_Year5\\AVSR_project\\Data\\TCD_TIMIT\\lipspeakers\\Lipspkr1\\Clips\\processed\\video25crop\\straightcam\\si1176.mp4\n"
     ]
    },
    {
     "name": "stderr",
     "output_type": "stream",
     "text": [
      "Cropping -> straightcam:   5%|▌         | 20/377 [00:26<07:14,  1.22s/it]"
     ]
    },
    {
     "name": "stdout",
     "output_type": "stream",
     "text": [
      "[ok] si1179: 97 frames -> C:\\Users\\irish\\Computer_Electronic_Engineering_Year5\\AVSR_project\\Data\\TCD_TIMIT\\lipspeakers\\Lipspkr1\\Clips\\processed\\video25crop\\straightcam\\si1179.mp4\n"
     ]
    },
    {
     "name": "stderr",
     "output_type": "stream",
     "text": [
      "Cropping -> straightcam:   6%|▌         | 21/377 [00:28<07:27,  1.26s/it]"
     ]
    },
    {
     "name": "stdout",
     "output_type": "stream",
     "text": [
      "[ok] si1231: 226 frames -> C:\\Users\\irish\\Computer_Electronic_Engineering_Year5\\AVSR_project\\Data\\TCD_TIMIT\\lipspeakers\\Lipspkr1\\Clips\\processed\\video25crop\\straightcam\\si1231.mp4\n"
     ]
    },
    {
     "name": "stderr",
     "output_type": "stream",
     "text": [
      "Cropping -> straightcam:   6%|▌         | 22/377 [00:29<07:13,  1.22s/it]"
     ]
    },
    {
     "name": "stdout",
     "output_type": "stream",
     "text": [
      "[ok] si1252: 172 frames -> C:\\Users\\irish\\Computer_Electronic_Engineering_Year5\\AVSR_project\\Data\\TCD_TIMIT\\lipspeakers\\Lipspkr1\\Clips\\processed\\video25crop\\straightcam\\si1252.mp4\n"
     ]
    },
    {
     "name": "stderr",
     "output_type": "stream",
     "text": [
      "Cropping -> straightcam:   6%|▌         | 23/377 [00:31<08:17,  1.41s/it]"
     ]
    },
    {
     "name": "stdout",
     "output_type": "stream",
     "text": [
      "[ok] si1268: 273 frames -> C:\\Users\\irish\\Computer_Electronic_Engineering_Year5\\AVSR_project\\Data\\TCD_TIMIT\\lipspeakers\\Lipspkr1\\Clips\\processed\\video25crop\\straightcam\\si1268.mp4\n"
     ]
    },
    {
     "name": "stderr",
     "output_type": "stream",
     "text": [
      "Cropping -> straightcam:   6%|▋         | 24/377 [00:32<07:47,  1.32s/it]"
     ]
    },
    {
     "name": "stdout",
     "output_type": "stream",
     "text": [
      "[ok] si1314: 147 frames -> C:\\Users\\irish\\Computer_Electronic_Engineering_Year5\\AVSR_project\\Data\\TCD_TIMIT\\lipspeakers\\Lipspkr1\\Clips\\processed\\video25crop\\straightcam\\si1314.mp4\n"
     ]
    },
    {
     "name": "stderr",
     "output_type": "stream",
     "text": [
      "Cropping -> straightcam:   7%|▋         | 25/377 [00:33<08:06,  1.38s/it]"
     ]
    },
    {
     "name": "stdout",
     "output_type": "stream",
     "text": [
      "[ok] si1337: 198 frames -> C:\\Users\\irish\\Computer_Electronic_Engineering_Year5\\AVSR_project\\Data\\TCD_TIMIT\\lipspeakers\\Lipspkr1\\Clips\\processed\\video25crop\\straightcam\\si1337.mp4\n"
     ]
    },
    {
     "name": "stderr",
     "output_type": "stream",
     "text": [
      "Cropping -> straightcam:   7%|▋         | 26/377 [00:35<08:01,  1.37s/it]"
     ]
    },
    {
     "name": "stdout",
     "output_type": "stream",
     "text": [
      "[ok] si1340: 171 frames -> C:\\Users\\irish\\Computer_Electronic_Engineering_Year5\\AVSR_project\\Data\\TCD_TIMIT\\lipspeakers\\Lipspkr1\\Clips\\processed\\video25crop\\straightcam\\si1340.mp4\n"
     ]
    },
    {
     "name": "stderr",
     "output_type": "stream",
     "text": [
      "Cropping -> straightcam:   7%|▋         | 27/377 [00:36<08:17,  1.42s/it]"
     ]
    },
    {
     "name": "stdout",
     "output_type": "stream",
     "text": [
      "[ok] si1343: 203 frames -> C:\\Users\\irish\\Computer_Electronic_Engineering_Year5\\AVSR_project\\Data\\TCD_TIMIT\\lipspeakers\\Lipspkr1\\Clips\\processed\\video25crop\\straightcam\\si1343.mp4\n"
     ]
    },
    {
     "name": "stderr",
     "output_type": "stream",
     "text": [
      "Cropping -> straightcam:   7%|▋         | 28/377 [00:38<07:55,  1.36s/it]"
     ]
    },
    {
     "name": "stdout",
     "output_type": "stream",
     "text": [
      "[ok] si1345: 137 frames -> C:\\Users\\irish\\Computer_Electronic_Engineering_Year5\\AVSR_project\\Data\\TCD_TIMIT\\lipspeakers\\Lipspkr1\\Clips\\processed\\video25crop\\straightcam\\si1345.mp4\n"
     ]
    },
    {
     "name": "stderr",
     "output_type": "stream",
     "text": [
      "Cropping -> straightcam:   8%|▊         | 29/377 [00:39<08:20,  1.44s/it]"
     ]
    },
    {
     "name": "stdout",
     "output_type": "stream",
     "text": [
      "[ok] si1350: 216 frames -> C:\\Users\\irish\\Computer_Electronic_Engineering_Year5\\AVSR_project\\Data\\TCD_TIMIT\\lipspeakers\\Lipspkr1\\Clips\\processed\\video25crop\\straightcam\\si1350.mp4\n"
     ]
    },
    {
     "name": "stderr",
     "output_type": "stream",
     "text": [
      "Cropping -> straightcam:   8%|▊         | 30/377 [00:41<08:48,  1.52s/it]"
     ]
    },
    {
     "name": "stdout",
     "output_type": "stream",
     "text": [
      "[ok] si1367: 226 frames -> C:\\Users\\irish\\Computer_Electronic_Engineering_Year5\\AVSR_project\\Data\\TCD_TIMIT\\lipspeakers\\Lipspkr1\\Clips\\processed\\video25crop\\straightcam\\si1367.mp4\n"
     ]
    },
    {
     "name": "stderr",
     "output_type": "stream",
     "text": [
      "Cropping -> straightcam:   8%|▊         | 31/377 [00:42<08:43,  1.51s/it]"
     ]
    },
    {
     "name": "stdout",
     "output_type": "stream",
     "text": [
      "[ok] si1368: 214 frames -> C:\\Users\\irish\\Computer_Electronic_Engineering_Year5\\AVSR_project\\Data\\TCD_TIMIT\\lipspeakers\\Lipspkr1\\Clips\\processed\\video25crop\\straightcam\\si1368.mp4\n"
     ]
    },
    {
     "name": "stderr",
     "output_type": "stream",
     "text": [
      "Cropping -> straightcam:   8%|▊         | 32/377 [00:43<07:57,  1.38s/it]"
     ]
    },
    {
     "name": "stdout",
     "output_type": "stream",
     "text": [
      "[ok] si1369: 131 frames -> C:\\Users\\irish\\Computer_Electronic_Engineering_Year5\\AVSR_project\\Data\\TCD_TIMIT\\lipspeakers\\Lipspkr1\\Clips\\processed\\video25crop\\straightcam\\si1369.mp4\n"
     ]
    },
    {
     "name": "stderr",
     "output_type": "stream",
     "text": [
      "Cropping -> straightcam:   9%|▉         | 33/377 [00:44<07:16,  1.27s/it]"
     ]
    },
    {
     "name": "stdout",
     "output_type": "stream",
     "text": [
      "[ok] si1405: 153 frames -> C:\\Users\\irish\\Computer_Electronic_Engineering_Year5\\AVSR_project\\Data\\TCD_TIMIT\\lipspeakers\\Lipspkr1\\Clips\\processed\\video25crop\\straightcam\\si1405.mp4\n"
     ]
    },
    {
     "name": "stderr",
     "output_type": "stream",
     "text": [
      "Cropping -> straightcam:   9%|▉         | 34/377 [00:46<08:01,  1.40s/it]"
     ]
    },
    {
     "name": "stdout",
     "output_type": "stream",
     "text": [
      "[ok] si1426: 241 frames -> C:\\Users\\irish\\Computer_Electronic_Engineering_Year5\\AVSR_project\\Data\\TCD_TIMIT\\lipspeakers\\Lipspkr1\\Clips\\processed\\video25crop\\straightcam\\si1426.mp4\n"
     ]
    },
    {
     "name": "stderr",
     "output_type": "stream",
     "text": [
      "Cropping -> straightcam:   9%|▉         | 35/377 [00:48<08:14,  1.45s/it]"
     ]
    },
    {
     "name": "stdout",
     "output_type": "stream",
     "text": [
      "[ok] si1428: 211 frames -> C:\\Users\\irish\\Computer_Electronic_Engineering_Year5\\AVSR_project\\Data\\TCD_TIMIT\\lipspeakers\\Lipspkr1\\Clips\\processed\\video25crop\\straightcam\\si1428.mp4\n"
     ]
    },
    {
     "name": "stderr",
     "output_type": "stream",
     "text": [
      "Cropping -> straightcam:  10%|▉         | 36/377 [00:49<08:30,  1.50s/it]"
     ]
    },
    {
     "name": "stdout",
     "output_type": "stream",
     "text": [
      "[ok] si1437: 232 frames -> C:\\Users\\irish\\Computer_Electronic_Engineering_Year5\\AVSR_project\\Data\\TCD_TIMIT\\lipspeakers\\Lipspkr1\\Clips\\processed\\video25crop\\straightcam\\si1437.mp4\n"
     ]
    },
    {
     "name": "stderr",
     "output_type": "stream",
     "text": [
      "Cropping -> straightcam:  10%|▉         | 37/377 [00:50<07:37,  1.35s/it]"
     ]
    },
    {
     "name": "stdout",
     "output_type": "stream",
     "text": [
      "[ok] si1439: 157 frames -> C:\\Users\\irish\\Computer_Electronic_Engineering_Year5\\AVSR_project\\Data\\TCD_TIMIT\\lipspeakers\\Lipspkr1\\Clips\\processed\\video25crop\\straightcam\\si1439.mp4\n"
     ]
    },
    {
     "name": "stderr",
     "output_type": "stream",
     "text": [
      "Cropping -> straightcam:  10%|█         | 38/377 [00:51<07:00,  1.24s/it]"
     ]
    },
    {
     "name": "stdout",
     "output_type": "stream",
     "text": [
      "[ok] si1445: 138 frames -> C:\\Users\\irish\\Computer_Electronic_Engineering_Year5\\AVSR_project\\Data\\TCD_TIMIT\\lipspeakers\\Lipspkr1\\Clips\\processed\\video25crop\\straightcam\\si1445.mp4\n"
     ]
    },
    {
     "name": "stderr",
     "output_type": "stream",
     "text": [
      "Cropping -> straightcam:  10%|█         | 39/377 [00:53<07:31,  1.34s/it]"
     ]
    },
    {
     "name": "stdout",
     "output_type": "stream",
     "text": [
      "[ok] si1450: 224 frames -> C:\\Users\\irish\\Computer_Electronic_Engineering_Year5\\AVSR_project\\Data\\TCD_TIMIT\\lipspeakers\\Lipspkr1\\Clips\\processed\\video25crop\\straightcam\\si1450.mp4\n"
     ]
    },
    {
     "name": "stderr",
     "output_type": "stream",
     "text": [
      "Cropping -> straightcam:  11%|█         | 40/377 [00:54<06:54,  1.23s/it]"
     ]
    },
    {
     "name": "stdout",
     "output_type": "stream",
     "text": [
      "[ok] si1497: 148 frames -> C:\\Users\\irish\\Computer_Electronic_Engineering_Year5\\AVSR_project\\Data\\TCD_TIMIT\\lipspeakers\\Lipspkr1\\Clips\\processed\\video25crop\\straightcam\\si1497.mp4\n"
     ]
    },
    {
     "name": "stderr",
     "output_type": "stream",
     "text": [
      "Cropping -> straightcam:  11%|█         | 41/377 [00:55<06:34,  1.17s/it]"
     ]
    },
    {
     "name": "stdout",
     "output_type": "stream",
     "text": [
      "[ok] si1524: 172 frames -> C:\\Users\\irish\\Computer_Electronic_Engineering_Year5\\AVSR_project\\Data\\TCD_TIMIT\\lipspeakers\\Lipspkr1\\Clips\\processed\\video25crop\\straightcam\\si1524.mp4\n"
     ]
    },
    {
     "name": "stderr",
     "output_type": "stream",
     "text": [
      "Cropping -> straightcam:  11%|█         | 42/377 [00:55<05:34,  1.00it/s]"
     ]
    },
    {
     "name": "stdout",
     "output_type": "stream",
     "text": [
      "[ok] si1531: 95 frames -> C:\\Users\\irish\\Computer_Electronic_Engineering_Year5\\AVSR_project\\Data\\TCD_TIMIT\\lipspeakers\\Lipspkr1\\Clips\\processed\\video25crop\\straightcam\\si1531.mp4\n"
     ]
    },
    {
     "name": "stderr",
     "output_type": "stream",
     "text": [
      "Cropping -> straightcam:  11%|█▏        | 43/377 [00:56<05:15,  1.06it/s]"
     ]
    },
    {
     "name": "stdout",
     "output_type": "stream",
     "text": [
      "[ok] si1533: 136 frames -> C:\\Users\\irish\\Computer_Electronic_Engineering_Year5\\AVSR_project\\Data\\TCD_TIMIT\\lipspeakers\\Lipspkr1\\Clips\\processed\\video25crop\\straightcam\\si1533.mp4\n"
     ]
    },
    {
     "name": "stderr",
     "output_type": "stream",
     "text": [
      "Cropping -> straightcam:  12%|█▏        | 44/377 [00:57<05:07,  1.08it/s]"
     ]
    },
    {
     "name": "stdout",
     "output_type": "stream",
     "text": [
      "[ok] si1543: 139 frames -> C:\\Users\\irish\\Computer_Electronic_Engineering_Year5\\AVSR_project\\Data\\TCD_TIMIT\\lipspeakers\\Lipspkr1\\Clips\\processed\\video25crop\\straightcam\\si1543.mp4\n"
     ]
    },
    {
     "name": "stderr",
     "output_type": "stream",
     "text": [
      "Cropping -> straightcam:  12%|█▏        | 45/377 [00:58<05:09,  1.07it/s]"
     ]
    },
    {
     "name": "stdout",
     "output_type": "stream",
     "text": [
      "[ok] si1581: 142 frames -> C:\\Users\\irish\\Computer_Electronic_Engineering_Year5\\AVSR_project\\Data\\TCD_TIMIT\\lipspeakers\\Lipspkr1\\Clips\\processed\\video25crop\\straightcam\\si1581.mp4\n"
     ]
    },
    {
     "name": "stderr",
     "output_type": "stream",
     "text": [
      "Cropping -> straightcam:  12%|█▏        | 46/377 [00:59<05:47,  1.05s/it]"
     ]
    },
    {
     "name": "stdout",
     "output_type": "stream",
     "text": [
      "[ok] si1616: 194 frames -> C:\\Users\\irish\\Computer_Electronic_Engineering_Year5\\AVSR_project\\Data\\TCD_TIMIT\\lipspeakers\\Lipspkr1\\Clips\\processed\\video25crop\\straightcam\\si1616.mp4\n"
     ]
    },
    {
     "name": "stderr",
     "output_type": "stream",
     "text": [
      "Cropping -> straightcam:  12%|█▏        | 47/377 [01:00<05:22,  1.02it/s]"
     ]
    },
    {
     "name": "stdout",
     "output_type": "stream",
     "text": [
      "[ok] si1618: 110 frames -> C:\\Users\\irish\\Computer_Electronic_Engineering_Year5\\AVSR_project\\Data\\TCD_TIMIT\\lipspeakers\\Lipspkr1\\Clips\\processed\\video25crop\\straightcam\\si1618.mp4\n"
     ]
    },
    {
     "name": "stderr",
     "output_type": "stream",
     "text": [
      "Cropping -> straightcam:  13%|█▎        | 48/377 [01:01<05:48,  1.06s/it]"
     ]
    },
    {
     "name": "stdout",
     "output_type": "stream",
     "text": [
      "[ok] si1631: 177 frames -> C:\\Users\\irish\\Computer_Electronic_Engineering_Year5\\AVSR_project\\Data\\TCD_TIMIT\\lipspeakers\\Lipspkr1\\Clips\\processed\\video25crop\\straightcam\\si1631.mp4\n"
     ]
    },
    {
     "name": "stderr",
     "output_type": "stream",
     "text": [
      "Cropping -> straightcam:  13%|█▎        | 49/377 [01:02<05:41,  1.04s/it]"
     ]
    },
    {
     "name": "stdout",
     "output_type": "stream",
     "text": [
      "[ok] si1632: 127 frames -> C:\\Users\\irish\\Computer_Electronic_Engineering_Year5\\AVSR_project\\Data\\TCD_TIMIT\\lipspeakers\\Lipspkr1\\Clips\\processed\\video25crop\\straightcam\\si1632.mp4\n"
     ]
    },
    {
     "name": "stderr",
     "output_type": "stream",
     "text": [
      "Cropping -> straightcam:  13%|█▎        | 50/377 [01:03<05:29,  1.01s/it]"
     ]
    },
    {
     "name": "stdout",
     "output_type": "stream",
     "text": [
      "[ok] si1636: 123 frames -> C:\\Users\\irish\\Computer_Electronic_Engineering_Year5\\AVSR_project\\Data\\TCD_TIMIT\\lipspeakers\\Lipspkr1\\Clips\\processed\\video25crop\\straightcam\\si1636.mp4\n"
     ]
    },
    {
     "name": "stderr",
     "output_type": "stream",
     "text": [
      "Cropping -> straightcam:  14%|█▎        | 51/377 [01:04<04:54,  1.11it/s]"
     ]
    },
    {
     "name": "stdout",
     "output_type": "stream",
     "text": [
      "[ok] si1640: 98 frames -> C:\\Users\\irish\\Computer_Electronic_Engineering_Year5\\AVSR_project\\Data\\TCD_TIMIT\\lipspeakers\\Lipspkr1\\Clips\\processed\\video25crop\\straightcam\\si1640.mp4\n"
     ]
    },
    {
     "name": "stderr",
     "output_type": "stream",
     "text": [
      "Cropping -> straightcam:  14%|█▍        | 52/377 [01:05<04:37,  1.17it/s]"
     ]
    },
    {
     "name": "stdout",
     "output_type": "stream",
     "text": [
      "[ok] si1653: 103 frames -> C:\\Users\\irish\\Computer_Electronic_Engineering_Year5\\AVSR_project\\Data\\TCD_TIMIT\\lipspeakers\\Lipspkr1\\Clips\\processed\\video25crop\\straightcam\\si1653.mp4\n"
     ]
    },
    {
     "name": "stderr",
     "output_type": "stream",
     "text": [
      "Cropping -> straightcam:  14%|█▍        | 53/377 [01:06<04:33,  1.19it/s]"
     ]
    },
    {
     "name": "stdout",
     "output_type": "stream",
     "text": [
      "[ok] si1678: 116 frames -> C:\\Users\\irish\\Computer_Electronic_Engineering_Year5\\AVSR_project\\Data\\TCD_TIMIT\\lipspeakers\\Lipspkr1\\Clips\\processed\\video25crop\\straightcam\\si1678.mp4\n"
     ]
    },
    {
     "name": "stderr",
     "output_type": "stream",
     "text": [
      "Cropping -> straightcam:  14%|█▍        | 54/377 [01:07<04:40,  1.15it/s]"
     ]
    },
    {
     "name": "stdout",
     "output_type": "stream",
     "text": [
      "[ok] si1679: 129 frames -> C:\\Users\\irish\\Computer_Electronic_Engineering_Year5\\AVSR_project\\Data\\TCD_TIMIT\\lipspeakers\\Lipspkr1\\Clips\\processed\\video25crop\\straightcam\\si1679.mp4\n"
     ]
    },
    {
     "name": "stderr",
     "output_type": "stream",
     "text": [
      "Cropping -> straightcam:  15%|█▍        | 55/377 [01:08<05:20,  1.01it/s]"
     ]
    },
    {
     "name": "stdout",
     "output_type": "stream",
     "text": [
      "[ok] si1712: 188 frames -> C:\\Users\\irish\\Computer_Electronic_Engineering_Year5\\AVSR_project\\Data\\TCD_TIMIT\\lipspeakers\\Lipspkr1\\Clips\\processed\\video25crop\\straightcam\\si1712.mp4\n"
     ]
    },
    {
     "name": "stderr",
     "output_type": "stream",
     "text": [
      "Cropping -> straightcam:  15%|█▍        | 56/377 [01:09<04:59,  1.07it/s]"
     ]
    },
    {
     "name": "stdout",
     "output_type": "stream",
     "text": [
      "[ok] si1714: 128 frames -> C:\\Users\\irish\\Computer_Electronic_Engineering_Year5\\AVSR_project\\Data\\TCD_TIMIT\\lipspeakers\\Lipspkr1\\Clips\\processed\\video25crop\\straightcam\\si1714.mp4\n"
     ]
    },
    {
     "name": "stderr",
     "output_type": "stream",
     "text": [
      "Cropping -> straightcam:  15%|█▌        | 57/377 [01:10<05:05,  1.05it/s]"
     ]
    },
    {
     "name": "stdout",
     "output_type": "stream",
     "text": [
      "[ok] si1717: 147 frames -> C:\\Users\\irish\\Computer_Electronic_Engineering_Year5\\AVSR_project\\Data\\TCD_TIMIT\\lipspeakers\\Lipspkr1\\Clips\\processed\\video25crop\\straightcam\\si1717.mp4\n"
     ]
    },
    {
     "name": "stderr",
     "output_type": "stream",
     "text": [
      "Cropping -> straightcam:  15%|█▌        | 58/377 [01:11<05:12,  1.02it/s]"
     ]
    },
    {
     "name": "stdout",
     "output_type": "stream",
     "text": [
      "[ok] si1762: 148 frames -> C:\\Users\\irish\\Computer_Electronic_Engineering_Year5\\AVSR_project\\Data\\TCD_TIMIT\\lipspeakers\\Lipspkr1\\Clips\\processed\\video25crop\\straightcam\\si1762.mp4\n"
     ]
    },
    {
     "name": "stderr",
     "output_type": "stream",
     "text": [
      "Cropping -> straightcam:  16%|█▌        | 59/377 [01:12<05:34,  1.05s/it]"
     ]
    },
    {
     "name": "stdout",
     "output_type": "stream",
     "text": [
      "[ok] si1766: 178 frames -> C:\\Users\\irish\\Computer_Electronic_Engineering_Year5\\AVSR_project\\Data\\TCD_TIMIT\\lipspeakers\\Lipspkr1\\Clips\\processed\\video25crop\\straightcam\\si1766.mp4\n"
     ]
    },
    {
     "name": "stderr",
     "output_type": "stream",
     "text": [
      "Cropping -> straightcam:  16%|█▌        | 60/377 [01:13<05:30,  1.04s/it]"
     ]
    },
    {
     "name": "stdout",
     "output_type": "stream",
     "text": [
      "[ok] si1770: 143 frames -> C:\\Users\\irish\\Computer_Electronic_Engineering_Year5\\AVSR_project\\Data\\TCD_TIMIT\\lipspeakers\\Lipspkr1\\Clips\\processed\\video25crop\\straightcam\\si1770.mp4\n"
     ]
    },
    {
     "name": "stderr",
     "output_type": "stream",
     "text": [
      "Cropping -> straightcam:  16%|█▌        | 61/377 [01:14<05:42,  1.08s/it]"
     ]
    },
    {
     "name": "stdout",
     "output_type": "stream",
     "text": [
      "[ok] si1772: 162 frames -> C:\\Users\\irish\\Computer_Electronic_Engineering_Year5\\AVSR_project\\Data\\TCD_TIMIT\\lipspeakers\\Lipspkr1\\Clips\\processed\\video25crop\\straightcam\\si1772.mp4\n"
     ]
    },
    {
     "name": "stderr",
     "output_type": "stream",
     "text": [
      "Cropping -> straightcam:  16%|█▋        | 62/377 [01:15<05:45,  1.10s/it]"
     ]
    },
    {
     "name": "stdout",
     "output_type": "stream",
     "text": [
      "[ok] si1785: 158 frames -> C:\\Users\\irish\\Computer_Electronic_Engineering_Year5\\AVSR_project\\Data\\TCD_TIMIT\\lipspeakers\\Lipspkr1\\Clips\\processed\\video25crop\\straightcam\\si1785.mp4\n"
     ]
    },
    {
     "name": "stderr",
     "output_type": "stream",
     "text": [
      "Cropping -> straightcam:  17%|█▋        | 63/377 [01:16<05:34,  1.06s/it]"
     ]
    },
    {
     "name": "stdout",
     "output_type": "stream",
     "text": [
      "[ok] si1801: 162 frames -> C:\\Users\\irish\\Computer_Electronic_Engineering_Year5\\AVSR_project\\Data\\TCD_TIMIT\\lipspeakers\\Lipspkr1\\Clips\\processed\\video25crop\\straightcam\\si1801.mp4\n"
     ]
    },
    {
     "name": "stderr",
     "output_type": "stream",
     "text": [
      "Cropping -> straightcam:  17%|█▋        | 64/377 [01:17<05:36,  1.07s/it]"
     ]
    },
    {
     "name": "stdout",
     "output_type": "stream",
     "text": [
      "[ok] si1806: 162 frames -> C:\\Users\\irish\\Computer_Electronic_Engineering_Year5\\AVSR_project\\Data\\TCD_TIMIT\\lipspeakers\\Lipspkr1\\Clips\\processed\\video25crop\\straightcam\\si1806.mp4\n"
     ]
    },
    {
     "name": "stderr",
     "output_type": "stream",
     "text": [
      "Cropping -> straightcam:  17%|█▋        | 65/377 [01:18<05:27,  1.05s/it]"
     ]
    },
    {
     "name": "stdout",
     "output_type": "stream",
     "text": [
      "[ok] si1861: 131 frames -> C:\\Users\\irish\\Computer_Electronic_Engineering_Year5\\AVSR_project\\Data\\TCD_TIMIT\\lipspeakers\\Lipspkr1\\Clips\\processed\\video25crop\\straightcam\\si1861.mp4\n"
     ]
    },
    {
     "name": "stderr",
     "output_type": "stream",
     "text": [
      "Cropping -> straightcam:  18%|█▊        | 66/377 [01:19<05:24,  1.04s/it]"
     ]
    },
    {
     "name": "stdout",
     "output_type": "stream",
     "text": [
      "[ok] si1881: 145 frames -> C:\\Users\\irish\\Computer_Electronic_Engineering_Year5\\AVSR_project\\Data\\TCD_TIMIT\\lipspeakers\\Lipspkr1\\Clips\\processed\\video25crop\\straightcam\\si1881.mp4\n"
     ]
    },
    {
     "name": "stderr",
     "output_type": "stream",
     "text": [
      "Cropping -> straightcam:  18%|█▊        | 67/377 [01:20<05:17,  1.02s/it]"
     ]
    },
    {
     "name": "stdout",
     "output_type": "stream",
     "text": [
      "[ok] si1882: 133 frames -> C:\\Users\\irish\\Computer_Electronic_Engineering_Year5\\AVSR_project\\Data\\TCD_TIMIT\\lipspeakers\\Lipspkr1\\Clips\\processed\\video25crop\\straightcam\\si1882.mp4\n"
     ]
    },
    {
     "name": "stderr",
     "output_type": "stream",
     "text": [
      "Cropping -> straightcam:  18%|█▊        | 68/377 [01:21<05:01,  1.03it/s]"
     ]
    },
    {
     "name": "stdout",
     "output_type": "stream",
     "text": [
      "[ok] si1898: 113 frames -> C:\\Users\\irish\\Computer_Electronic_Engineering_Year5\\AVSR_project\\Data\\TCD_TIMIT\\lipspeakers\\Lipspkr1\\Clips\\processed\\video25crop\\straightcam\\si1898.mp4\n"
     ]
    },
    {
     "name": "stderr",
     "output_type": "stream",
     "text": [
      "Cropping -> straightcam:  18%|█▊        | 69/377 [01:22<04:47,  1.07it/s]"
     ]
    },
    {
     "name": "stdout",
     "output_type": "stream",
     "text": [
      "[ok] si1937: 118 frames -> C:\\Users\\irish\\Computer_Electronic_Engineering_Year5\\AVSR_project\\Data\\TCD_TIMIT\\lipspeakers\\Lipspkr1\\Clips\\processed\\video25crop\\straightcam\\si1937.mp4\n"
     ]
    },
    {
     "name": "stderr",
     "output_type": "stream",
     "text": [
      "Cropping -> straightcam:  19%|█▊        | 70/377 [01:24<05:54,  1.15s/it]"
     ]
    },
    {
     "name": "stdout",
     "output_type": "stream",
     "text": [
      "[ok] si1943: 244 frames -> C:\\Users\\irish\\Computer_Electronic_Engineering_Year5\\AVSR_project\\Data\\TCD_TIMIT\\lipspeakers\\Lipspkr1\\Clips\\processed\\video25crop\\straightcam\\si1943.mp4\n"
     ]
    },
    {
     "name": "stderr",
     "output_type": "stream",
     "text": [
      "Cropping -> straightcam:  19%|█▉        | 71/377 [01:25<05:49,  1.14s/it]"
     ]
    },
    {
     "name": "stdout",
     "output_type": "stream",
     "text": [
      "[ok] si1944: 158 frames -> C:\\Users\\irish\\Computer_Electronic_Engineering_Year5\\AVSR_project\\Data\\TCD_TIMIT\\lipspeakers\\Lipspkr1\\Clips\\processed\\video25crop\\straightcam\\si1944.mp4\n"
     ]
    },
    {
     "name": "stderr",
     "output_type": "stream",
     "text": [
      "Cropping -> straightcam:  19%|█▉        | 72/377 [01:26<05:18,  1.04s/it]"
     ]
    },
    {
     "name": "stdout",
     "output_type": "stream",
     "text": [
      "[ok] si1967: 103 frames -> C:\\Users\\irish\\Computer_Electronic_Engineering_Year5\\AVSR_project\\Data\\TCD_TIMIT\\lipspeakers\\Lipspkr1\\Clips\\processed\\video25crop\\straightcam\\si1967.mp4\n"
     ]
    },
    {
     "name": "stderr",
     "output_type": "stream",
     "text": [
      "Cropping -> straightcam:  19%|█▉        | 73/377 [01:27<05:15,  1.04s/it]"
     ]
    },
    {
     "name": "stdout",
     "output_type": "stream",
     "text": [
      "[ok] si1969: 147 frames -> C:\\Users\\irish\\Computer_Electronic_Engineering_Year5\\AVSR_project\\Data\\TCD_TIMIT\\lipspeakers\\Lipspkr1\\Clips\\processed\\video25crop\\straightcam\\si1969.mp4\n"
     ]
    },
    {
     "name": "stderr",
     "output_type": "stream",
     "text": [
      "Cropping -> straightcam:  20%|█▉        | 74/377 [01:28<05:04,  1.01s/it]"
     ]
    },
    {
     "name": "stdout",
     "output_type": "stream",
     "text": [
      "[ok] si1973: 109 frames -> C:\\Users\\irish\\Computer_Electronic_Engineering_Year5\\AVSR_project\\Data\\TCD_TIMIT\\lipspeakers\\Lipspkr1\\Clips\\processed\\video25crop\\straightcam\\si1973.mp4\n"
     ]
    },
    {
     "name": "stderr",
     "output_type": "stream",
     "text": [
      "Cropping -> straightcam:  20%|█▉        | 75/377 [01:29<05:03,  1.00s/it]"
     ]
    },
    {
     "name": "stdout",
     "output_type": "stream",
     "text": [
      "[ok] si1975: 148 frames -> C:\\Users\\irish\\Computer_Electronic_Engineering_Year5\\AVSR_project\\Data\\TCD_TIMIT\\lipspeakers\\Lipspkr1\\Clips\\processed\\video25crop\\straightcam\\si1975.mp4\n"
     ]
    },
    {
     "name": "stderr",
     "output_type": "stream",
     "text": [
      "Cropping -> straightcam:  20%|██        | 76/377 [01:30<06:13,  1.24s/it]"
     ]
    },
    {
     "name": "stdout",
     "output_type": "stream",
     "text": [
      "[ok] si1980: 222 frames -> C:\\Users\\irish\\Computer_Electronic_Engineering_Year5\\AVSR_project\\Data\\TCD_TIMIT\\lipspeakers\\Lipspkr1\\Clips\\processed\\video25crop\\straightcam\\si1980.mp4\n"
     ]
    },
    {
     "name": "stderr",
     "output_type": "stream",
     "text": [
      "Cropping -> straightcam:  20%|██        | 77/377 [01:32<06:05,  1.22s/it]"
     ]
    },
    {
     "name": "stdout",
     "output_type": "stream",
     "text": [
      "[ok] si1997: 123 frames -> C:\\Users\\irish\\Computer_Electronic_Engineering_Year5\\AVSR_project\\Data\\TCD_TIMIT\\lipspeakers\\Lipspkr1\\Clips\\processed\\video25crop\\straightcam\\si1997.mp4\n"
     ]
    },
    {
     "name": "stderr",
     "output_type": "stream",
     "text": [
      "Cropping -> straightcam:  21%|██        | 78/377 [01:33<06:47,  1.36s/it]"
     ]
    },
    {
     "name": "stdout",
     "output_type": "stream",
     "text": [
      "[ok] si1998: 194 frames -> C:\\Users\\irish\\Computer_Electronic_Engineering_Year5\\AVSR_project\\Data\\TCD_TIMIT\\lipspeakers\\Lipspkr1\\Clips\\processed\\video25crop\\straightcam\\si1998.mp4\n"
     ]
    },
    {
     "name": "stderr",
     "output_type": "stream",
     "text": [
      "Cropping -> straightcam:  21%|██        | 79/377 [01:34<06:19,  1.27s/it]"
     ]
    },
    {
     "name": "stdout",
     "output_type": "stream",
     "text": [
      "[ok] si1999: 118 frames -> C:\\Users\\irish\\Computer_Electronic_Engineering_Year5\\AVSR_project\\Data\\TCD_TIMIT\\lipspeakers\\Lipspkr1\\Clips\\processed\\video25crop\\straightcam\\si1999.mp4\n"
     ]
    },
    {
     "name": "stderr",
     "output_type": "stream",
     "text": [
      "Cropping -> straightcam:  21%|██        | 80/377 [01:36<07:20,  1.48s/it]"
     ]
    },
    {
     "name": "stdout",
     "output_type": "stream",
     "text": [
      "[ok] si2039: 225 frames -> C:\\Users\\irish\\Computer_Electronic_Engineering_Year5\\AVSR_project\\Data\\TCD_TIMIT\\lipspeakers\\Lipspkr1\\Clips\\processed\\video25crop\\straightcam\\si2039.mp4\n"
     ]
    },
    {
     "name": "stderr",
     "output_type": "stream",
     "text": [
      "Cropping -> straightcam:  21%|██▏       | 81/377 [01:38<07:32,  1.53s/it]"
     ]
    },
    {
     "name": "stdout",
     "output_type": "stream",
     "text": [
      "[ok] si2056: 222 frames -> C:\\Users\\irish\\Computer_Electronic_Engineering_Year5\\AVSR_project\\Data\\TCD_TIMIT\\lipspeakers\\Lipspkr1\\Clips\\processed\\video25crop\\straightcam\\si2056.mp4\n"
     ]
    },
    {
     "name": "stderr",
     "output_type": "stream",
     "text": [
      "Cropping -> straightcam:  22%|██▏       | 82/377 [01:39<06:34,  1.34s/it]"
     ]
    },
    {
     "name": "stdout",
     "output_type": "stream",
     "text": [
      "[ok] si2058: 105 frames -> C:\\Users\\irish\\Computer_Electronic_Engineering_Year5\\AVSR_project\\Data\\TCD_TIMIT\\lipspeakers\\Lipspkr1\\Clips\\processed\\video25crop\\straightcam\\si2058.mp4\n"
     ]
    },
    {
     "name": "stderr",
     "output_type": "stream",
     "text": [
      "Cropping -> straightcam:  22%|██▏       | 83/377 [01:40<06:46,  1.38s/it]"
     ]
    },
    {
     "name": "stdout",
     "output_type": "stream",
     "text": [
      "[ok] si2067: 183 frames -> C:\\Users\\irish\\Computer_Electronic_Engineering_Year5\\AVSR_project\\Data\\TCD_TIMIT\\lipspeakers\\Lipspkr1\\Clips\\processed\\video25crop\\straightcam\\si2067.mp4\n"
     ]
    },
    {
     "name": "stderr",
     "output_type": "stream",
     "text": [
      "Cropping -> straightcam:  22%|██▏       | 84/377 [01:41<06:10,  1.26s/it]"
     ]
    },
    {
     "name": "stdout",
     "output_type": "stream",
     "text": [
      "[ok] si2069: 144 frames -> C:\\Users\\irish\\Computer_Electronic_Engineering_Year5\\AVSR_project\\Data\\TCD_TIMIT\\lipspeakers\\Lipspkr1\\Clips\\processed\\video25crop\\straightcam\\si2069.mp4\n"
     ]
    },
    {
     "name": "stderr",
     "output_type": "stream",
     "text": [
      "Cropping -> straightcam:  23%|██▎       | 85/377 [01:42<05:40,  1.17s/it]"
     ]
    },
    {
     "name": "stdout",
     "output_type": "stream",
     "text": [
      "[ok] si2080: 119 frames -> C:\\Users\\irish\\Computer_Electronic_Engineering_Year5\\AVSR_project\\Data\\TCD_TIMIT\\lipspeakers\\Lipspkr1\\Clips\\processed\\video25crop\\straightcam\\si2080.mp4\n"
     ]
    },
    {
     "name": "stderr",
     "output_type": "stream",
     "text": [
      "Cropping -> straightcam:  23%|██▎       | 86/377 [01:43<05:47,  1.19s/it]"
     ]
    },
    {
     "name": "stdout",
     "output_type": "stream",
     "text": [
      "[ok] si2087: 155 frames -> C:\\Users\\irish\\Computer_Electronic_Engineering_Year5\\AVSR_project\\Data\\TCD_TIMIT\\lipspeakers\\Lipspkr1\\Clips\\processed\\video25crop\\straightcam\\si2087.mp4\n"
     ]
    },
    {
     "name": "stderr",
     "output_type": "stream",
     "text": [
      "Cropping -> straightcam:  23%|██▎       | 87/377 [01:45<05:36,  1.16s/it]"
     ]
    },
    {
     "name": "stdout",
     "output_type": "stream",
     "text": [
      "[ok] si2107: 127 frames -> C:\\Users\\irish\\Computer_Electronic_Engineering_Year5\\AVSR_project\\Data\\TCD_TIMIT\\lipspeakers\\Lipspkr1\\Clips\\processed\\video25crop\\straightcam\\si2107.mp4\n"
     ]
    },
    {
     "name": "stderr",
     "output_type": "stream",
     "text": [
      "Cropping -> straightcam:  23%|██▎       | 88/377 [01:46<05:20,  1.11s/it]"
     ]
    },
    {
     "name": "stdout",
     "output_type": "stream",
     "text": [
      "[ok] si2127: 144 frames -> C:\\Users\\irish\\Computer_Electronic_Engineering_Year5\\AVSR_project\\Data\\TCD_TIMIT\\lipspeakers\\Lipspkr1\\Clips\\processed\\video25crop\\straightcam\\si2127.mp4\n"
     ]
    },
    {
     "name": "stderr",
     "output_type": "stream",
     "text": [
      "Cropping -> straightcam:  24%|██▎       | 89/377 [01:47<05:09,  1.08s/it]"
     ]
    },
    {
     "name": "stdout",
     "output_type": "stream",
     "text": [
      "[ok] si2154: 149 frames -> C:\\Users\\irish\\Computer_Electronic_Engineering_Year5\\AVSR_project\\Data\\TCD_TIMIT\\lipspeakers\\Lipspkr1\\Clips\\processed\\video25crop\\straightcam\\si2154.mp4\n"
     ]
    },
    {
     "name": "stderr",
     "output_type": "stream",
     "text": [
      "Cropping -> straightcam:  24%|██▍       | 90/377 [01:48<05:37,  1.17s/it]"
     ]
    },
    {
     "name": "stdout",
     "output_type": "stream",
     "text": [
      "[ok] si2173: 205 frames -> C:\\Users\\irish\\Computer_Electronic_Engineering_Year5\\AVSR_project\\Data\\TCD_TIMIT\\lipspeakers\\Lipspkr1\\Clips\\processed\\video25crop\\straightcam\\si2173.mp4\n"
     ]
    },
    {
     "name": "stderr",
     "output_type": "stream",
     "text": [
      "Cropping -> straightcam:  24%|██▍       | 91/377 [01:49<05:29,  1.15s/it]"
     ]
    },
    {
     "name": "stdout",
     "output_type": "stream",
     "text": [
      "[ok] si2211: 137 frames -> C:\\Users\\irish\\Computer_Electronic_Engineering_Year5\\AVSR_project\\Data\\TCD_TIMIT\\lipspeakers\\Lipspkr1\\Clips\\processed\\video25crop\\straightcam\\si2211.mp4\n"
     ]
    },
    {
     "name": "stderr",
     "output_type": "stream",
     "text": [
      "Cropping -> straightcam:  24%|██▍       | 92/377 [01:50<05:20,  1.12s/it]"
     ]
    },
    {
     "name": "stdout",
     "output_type": "stream",
     "text": [
      "[ok] si2246: 137 frames -> C:\\Users\\irish\\Computer_Electronic_Engineering_Year5\\AVSR_project\\Data\\TCD_TIMIT\\lipspeakers\\Lipspkr1\\Clips\\processed\\video25crop\\straightcam\\si2246.mp4\n"
     ]
    },
    {
     "name": "stderr",
     "output_type": "stream",
     "text": [
      "Cropping -> straightcam:  25%|██▍       | 93/377 [01:51<05:22,  1.14s/it]"
     ]
    },
    {
     "name": "stdout",
     "output_type": "stream",
     "text": [
      "[ok] si2248: 169 frames -> C:\\Users\\irish\\Computer_Electronic_Engineering_Year5\\AVSR_project\\Data\\TCD_TIMIT\\lipspeakers\\Lipspkr1\\Clips\\processed\\video25crop\\straightcam\\si2248.mp4\n"
     ]
    },
    {
     "name": "stderr",
     "output_type": "stream",
     "text": [
      "Cropping -> straightcam:  25%|██▍       | 94/377 [01:52<05:05,  1.08s/it]"
     ]
    },
    {
     "name": "stdout",
     "output_type": "stream",
     "text": [
      "[ok] si2257: 142 frames -> C:\\Users\\irish\\Computer_Electronic_Engineering_Year5\\AVSR_project\\Data\\TCD_TIMIT\\lipspeakers\\Lipspkr1\\Clips\\processed\\video25crop\\straightcam\\si2257.mp4\n"
     ]
    },
    {
     "name": "stderr",
     "output_type": "stream",
     "text": [
      "Cropping -> straightcam:  25%|██▌       | 95/377 [01:53<04:52,  1.04s/it]"
     ]
    },
    {
     "name": "stdout",
     "output_type": "stream",
     "text": [
      "[ok] si2261: 135 frames -> C:\\Users\\irish\\Computer_Electronic_Engineering_Year5\\AVSR_project\\Data\\TCD_TIMIT\\lipspeakers\\Lipspkr1\\Clips\\processed\\video25crop\\straightcam\\si2261.mp4\n"
     ]
    },
    {
     "name": "stderr",
     "output_type": "stream",
     "text": [
      "Cropping -> straightcam:  25%|██▌       | 96/377 [01:55<05:26,  1.16s/it]"
     ]
    },
    {
     "name": "stdout",
     "output_type": "stream",
     "text": [
      "[ok] si2262: 196 frames -> C:\\Users\\irish\\Computer_Electronic_Engineering_Year5\\AVSR_project\\Data\\TCD_TIMIT\\lipspeakers\\Lipspkr1\\Clips\\processed\\video25crop\\straightcam\\si2262.mp4\n"
     ]
    },
    {
     "name": "stderr",
     "output_type": "stream",
     "text": [
      "Cropping -> straightcam:  26%|██▌       | 97/377 [01:56<05:11,  1.11s/it]"
     ]
    },
    {
     "name": "stdout",
     "output_type": "stream",
     "text": [
      "[ok] si2266: 127 frames -> C:\\Users\\irish\\Computer_Electronic_Engineering_Year5\\AVSR_project\\Data\\TCD_TIMIT\\lipspeakers\\Lipspkr1\\Clips\\processed\\video25crop\\straightcam\\si2266.mp4\n"
     ]
    },
    {
     "name": "stderr",
     "output_type": "stream",
     "text": [
      "Cropping -> straightcam:  26%|██▌       | 98/377 [01:57<04:54,  1.05s/it]"
     ]
    },
    {
     "name": "stdout",
     "output_type": "stream",
     "text": [
      "[ok] si2270: 121 frames -> C:\\Users\\irish\\Computer_Electronic_Engineering_Year5\\AVSR_project\\Data\\TCD_TIMIT\\lipspeakers\\Lipspkr1\\Clips\\processed\\video25crop\\straightcam\\si2270.mp4\n"
     ]
    },
    {
     "name": "stderr",
     "output_type": "stream",
     "text": [
      "Cropping -> straightcam:  26%|██▋       | 99/377 [01:58<05:02,  1.09s/it]"
     ]
    },
    {
     "name": "stdout",
     "output_type": "stream",
     "text": [
      "[ok] si2308: 157 frames -> C:\\Users\\irish\\Computer_Electronic_Engineering_Year5\\AVSR_project\\Data\\TCD_TIMIT\\lipspeakers\\Lipspkr1\\Clips\\processed\\video25crop\\straightcam\\si2308.mp4\n"
     ]
    },
    {
     "name": "stderr",
     "output_type": "stream",
     "text": [
      "Cropping -> straightcam:  27%|██▋       | 100/377 [01:59<05:17,  1.15s/it]"
     ]
    },
    {
     "name": "stdout",
     "output_type": "stream",
     "text": [
      "[ok] si2309: 171 frames -> C:\\Users\\irish\\Computer_Electronic_Engineering_Year5\\AVSR_project\\Data\\TCD_TIMIT\\lipspeakers\\Lipspkr1\\Clips\\processed\\video25crop\\straightcam\\si2309.mp4\n"
     ]
    },
    {
     "name": "stderr",
     "output_type": "stream",
     "text": [
      "Cropping -> straightcam:  27%|██▋       | 101/377 [02:00<04:44,  1.03s/it]"
     ]
    },
    {
     "name": "stdout",
     "output_type": "stream",
     "text": [
      "[ok] si2342: 94 frames -> C:\\Users\\irish\\Computer_Electronic_Engineering_Year5\\AVSR_project\\Data\\TCD_TIMIT\\lipspeakers\\Lipspkr1\\Clips\\processed\\video25crop\\straightcam\\si2342.mp4\n"
     ]
    },
    {
     "name": "stderr",
     "output_type": "stream",
     "text": [
      "Cropping -> straightcam:  27%|██▋       | 102/377 [02:01<05:11,  1.13s/it]"
     ]
    },
    {
     "name": "stdout",
     "output_type": "stream",
     "text": [
      "[ok] si464: 183 frames -> C:\\Users\\irish\\Computer_Electronic_Engineering_Year5\\AVSR_project\\Data\\TCD_TIMIT\\lipspeakers\\Lipspkr1\\Clips\\processed\\video25crop\\straightcam\\si464.mp4\n"
     ]
    },
    {
     "name": "stderr",
     "output_type": "stream",
     "text": [
      "Cropping -> straightcam:  27%|██▋       | 103/377 [02:02<05:13,  1.14s/it]"
     ]
    },
    {
     "name": "stdout",
     "output_type": "stream",
     "text": [
      "[ok] si465: 133 frames -> C:\\Users\\irish\\Computer_Electronic_Engineering_Year5\\AVSR_project\\Data\\TCD_TIMIT\\lipspeakers\\Lipspkr1\\Clips\\processed\\video25crop\\straightcam\\si465.mp4\n"
     ]
    },
    {
     "name": "stderr",
     "output_type": "stream",
     "text": [
      "Cropping -> straightcam:  28%|██▊       | 104/377 [02:04<05:49,  1.28s/it]"
     ]
    },
    {
     "name": "stdout",
     "output_type": "stream",
     "text": [
      "[ok] si491: 213 frames -> C:\\Users\\irish\\Computer_Electronic_Engineering_Year5\\AVSR_project\\Data\\TCD_TIMIT\\lipspeakers\\Lipspkr1\\Clips\\processed\\video25crop\\straightcam\\si491.mp4\n"
     ]
    },
    {
     "name": "stderr",
     "output_type": "stream",
     "text": [
      "Cropping -> straightcam:  28%|██▊       | 105/377 [02:05<05:28,  1.21s/it]"
     ]
    },
    {
     "name": "stdout",
     "output_type": "stream",
     "text": [
      "[ok] si502: 134 frames -> C:\\Users\\irish\\Computer_Electronic_Engineering_Year5\\AVSR_project\\Data\\TCD_TIMIT\\lipspeakers\\Lipspkr1\\Clips\\processed\\video25crop\\straightcam\\si502.mp4\n"
     ]
    },
    {
     "name": "stderr",
     "output_type": "stream",
     "text": [
      "Cropping -> straightcam:  28%|██▊       | 106/377 [02:06<05:39,  1.25s/it]"
     ]
    },
    {
     "name": "stdout",
     "output_type": "stream",
     "text": [
      "[ok] si510: 166 frames -> C:\\Users\\irish\\Computer_Electronic_Engineering_Year5\\AVSR_project\\Data\\TCD_TIMIT\\lipspeakers\\Lipspkr1\\Clips\\processed\\video25crop\\straightcam\\si510.mp4\n"
     ]
    },
    {
     "name": "stderr",
     "output_type": "stream",
     "text": [
      "Cropping -> straightcam:  28%|██▊       | 107/377 [02:07<05:35,  1.24s/it]"
     ]
    },
    {
     "name": "stdout",
     "output_type": "stream",
     "text": [
      "[ok] si512: 156 frames -> C:\\Users\\irish\\Computer_Electronic_Engineering_Year5\\AVSR_project\\Data\\TCD_TIMIT\\lipspeakers\\Lipspkr1\\Clips\\processed\\video25crop\\straightcam\\si512.mp4\n"
     ]
    },
    {
     "name": "stderr",
     "output_type": "stream",
     "text": [
      "Cropping -> straightcam:  29%|██▊       | 108/377 [02:09<05:37,  1.25s/it]"
     ]
    },
    {
     "name": "stdout",
     "output_type": "stream",
     "text": [
      "[ok] si519: 209 frames -> C:\\Users\\irish\\Computer_Electronic_Engineering_Year5\\AVSR_project\\Data\\TCD_TIMIT\\lipspeakers\\Lipspkr1\\Clips\\processed\\video25crop\\straightcam\\si519.mp4\n"
     ]
    },
    {
     "name": "stderr",
     "output_type": "stream",
     "text": [
      "Cropping -> straightcam:  29%|██▉       | 109/377 [02:10<05:21,  1.20s/it]"
     ]
    },
    {
     "name": "stdout",
     "output_type": "stream",
     "text": [
      "[ok] si541: 138 frames -> C:\\Users\\irish\\Computer_Electronic_Engineering_Year5\\AVSR_project\\Data\\TCD_TIMIT\\lipspeakers\\Lipspkr1\\Clips\\processed\\video25crop\\straightcam\\si541.mp4\n"
     ]
    },
    {
     "name": "stderr",
     "output_type": "stream",
     "text": [
      "Cropping -> straightcam:  29%|██▉       | 110/377 [02:12<05:58,  1.34s/it]"
     ]
    },
    {
     "name": "stdout",
     "output_type": "stream",
     "text": [
      "[ok] si546: 227 frames -> C:\\Users\\irish\\Computer_Electronic_Engineering_Year5\\AVSR_project\\Data\\TCD_TIMIT\\lipspeakers\\Lipspkr1\\Clips\\processed\\video25crop\\straightcam\\si546.mp4\n"
     ]
    },
    {
     "name": "stderr",
     "output_type": "stream",
     "text": [
      "Cropping -> straightcam:  29%|██▉       | 111/377 [02:13<06:17,  1.42s/it]"
     ]
    },
    {
     "name": "stdout",
     "output_type": "stream",
     "text": [
      "[ok] si549: 218 frames -> C:\\Users\\irish\\Computer_Electronic_Engineering_Year5\\AVSR_project\\Data\\TCD_TIMIT\\lipspeakers\\Lipspkr1\\Clips\\processed\\video25crop\\straightcam\\si549.mp4\n"
     ]
    },
    {
     "name": "stderr",
     "output_type": "stream",
     "text": [
      "Cropping -> straightcam:  30%|██▉       | 112/377 [02:15<06:30,  1.48s/it]"
     ]
    },
    {
     "name": "stdout",
     "output_type": "stream",
     "text": [
      "[ok] si598: 208 frames -> C:\\Users\\irish\\Computer_Electronic_Engineering_Year5\\AVSR_project\\Data\\TCD_TIMIT\\lipspeakers\\Lipspkr1\\Clips\\processed\\video25crop\\straightcam\\si598.mp4\n"
     ]
    },
    {
     "name": "stderr",
     "output_type": "stream",
     "text": [
      "Cropping -> straightcam:  30%|██▉       | 113/377 [02:16<06:04,  1.38s/it]"
     ]
    },
    {
     "name": "stdout",
     "output_type": "stream",
     "text": [
      "[ok] si601: 150 frames -> C:\\Users\\irish\\Computer_Electronic_Engineering_Year5\\AVSR_project\\Data\\TCD_TIMIT\\lipspeakers\\Lipspkr1\\Clips\\processed\\video25crop\\straightcam\\si601.mp4\n"
     ]
    },
    {
     "name": "stderr",
     "output_type": "stream",
     "text": [
      "Cropping -> straightcam:  30%|███       | 114/377 [02:17<06:11,  1.41s/it]"
     ]
    },
    {
     "name": "stdout",
     "output_type": "stream",
     "text": [
      "[ok] si602: 193 frames -> C:\\Users\\irish\\Computer_Electronic_Engineering_Year5\\AVSR_project\\Data\\TCD_TIMIT\\lipspeakers\\Lipspkr1\\Clips\\processed\\video25crop\\straightcam\\si602.mp4\n"
     ]
    },
    {
     "name": "stderr",
     "output_type": "stream",
     "text": [
      "Cropping -> straightcam:  31%|███       | 115/377 [02:19<06:08,  1.41s/it]"
     ]
    },
    {
     "name": "stdout",
     "output_type": "stream",
     "text": [
      "[ok] si612: 173 frames -> C:\\Users\\irish\\Computer_Electronic_Engineering_Year5\\AVSR_project\\Data\\TCD_TIMIT\\lipspeakers\\Lipspkr1\\Clips\\processed\\video25crop\\straightcam\\si612.mp4\n"
     ]
    },
    {
     "name": "stderr",
     "output_type": "stream",
     "text": [
      "Cropping -> straightcam:  31%|███       | 116/377 [02:20<05:35,  1.29s/it]"
     ]
    },
    {
     "name": "stdout",
     "output_type": "stream",
     "text": [
      "[ok] si621: 151 frames -> C:\\Users\\irish\\Computer_Electronic_Engineering_Year5\\AVSR_project\\Data\\TCD_TIMIT\\lipspeakers\\Lipspkr1\\Clips\\processed\\video25crop\\straightcam\\si621.mp4\n"
     ]
    },
    {
     "name": "stderr",
     "output_type": "stream",
     "text": [
      "Cropping -> straightcam:  31%|███       | 117/377 [02:21<05:31,  1.28s/it]"
     ]
    },
    {
     "name": "stdout",
     "output_type": "stream",
     "text": [
      "[ok] si622: 168 frames -> C:\\Users\\irish\\Computer_Electronic_Engineering_Year5\\AVSR_project\\Data\\TCD_TIMIT\\lipspeakers\\Lipspkr1\\Clips\\processed\\video25crop\\straightcam\\si622.mp4\n"
     ]
    },
    {
     "name": "stderr",
     "output_type": "stream",
     "text": [
      "Cropping -> straightcam:  31%|███▏      | 118/377 [02:22<05:21,  1.24s/it]"
     ]
    },
    {
     "name": "stdout",
     "output_type": "stream",
     "text": [
      "[ok] si638: 152 frames -> C:\\Users\\irish\\Computer_Electronic_Engineering_Year5\\AVSR_project\\Data\\TCD_TIMIT\\lipspeakers\\Lipspkr1\\Clips\\processed\\video25crop\\straightcam\\si638.mp4\n"
     ]
    },
    {
     "name": "stderr",
     "output_type": "stream",
     "text": [
      "Cropping -> straightcam:  32%|███▏      | 119/377 [02:24<05:51,  1.36s/it]"
     ]
    },
    {
     "name": "stdout",
     "output_type": "stream",
     "text": [
      "[ok] si683: 218 frames -> C:\\Users\\irish\\Computer_Electronic_Engineering_Year5\\AVSR_project\\Data\\TCD_TIMIT\\lipspeakers\\Lipspkr1\\Clips\\processed\\video25crop\\straightcam\\si683.mp4\n"
     ]
    },
    {
     "name": "stderr",
     "output_type": "stream",
     "text": [
      "Cropping -> straightcam:  32%|███▏      | 120/377 [02:25<05:34,  1.30s/it]"
     ]
    },
    {
     "name": "stdout",
     "output_type": "stream",
     "text": [
      "[ok] si684: 153 frames -> C:\\Users\\irish\\Computer_Electronic_Engineering_Year5\\AVSR_project\\Data\\TCD_TIMIT\\lipspeakers\\Lipspkr1\\Clips\\processed\\video25crop\\straightcam\\si684.mp4\n"
     ]
    },
    {
     "name": "stderr",
     "output_type": "stream",
     "text": [
      "Cropping -> straightcam:  32%|███▏      | 121/377 [02:26<05:31,  1.29s/it]"
     ]
    },
    {
     "name": "stdout",
     "output_type": "stream",
     "text": [
      "[ok] si707: 202 frames -> C:\\Users\\irish\\Computer_Electronic_Engineering_Year5\\AVSR_project\\Data\\TCD_TIMIT\\lipspeakers\\Lipspkr1\\Clips\\processed\\video25crop\\straightcam\\si707.mp4\n"
     ]
    },
    {
     "name": "stderr",
     "output_type": "stream",
     "text": [
      "Cropping -> straightcam:  32%|███▏      | 122/377 [02:28<05:32,  1.30s/it]"
     ]
    },
    {
     "name": "stdout",
     "output_type": "stream",
     "text": [
      "[ok] si709: 180 frames -> C:\\Users\\irish\\Computer_Electronic_Engineering_Year5\\AVSR_project\\Data\\TCD_TIMIT\\lipspeakers\\Lipspkr1\\Clips\\processed\\video25crop\\straightcam\\si709.mp4\n"
     ]
    },
    {
     "name": "stderr",
     "output_type": "stream",
     "text": [
      "Cropping -> straightcam:  33%|███▎      | 123/377 [02:29<05:29,  1.30s/it]"
     ]
    },
    {
     "name": "stdout",
     "output_type": "stream",
     "text": [
      "[ok] si713: 172 frames -> C:\\Users\\irish\\Computer_Electronic_Engineering_Year5\\AVSR_project\\Data\\TCD_TIMIT\\lipspeakers\\Lipspkr1\\Clips\\processed\\video25crop\\straightcam\\si713.mp4\n"
     ]
    },
    {
     "name": "stderr",
     "output_type": "stream",
     "text": [
      "Cropping -> straightcam:  33%|███▎      | 124/377 [02:30<05:43,  1.36s/it]"
     ]
    },
    {
     "name": "stdout",
     "output_type": "stream",
     "text": [
      "[ok] si715: 204 frames -> C:\\Users\\irish\\Computer_Electronic_Engineering_Year5\\AVSR_project\\Data\\TCD_TIMIT\\lipspeakers\\Lipspkr1\\Clips\\processed\\video25crop\\straightcam\\si715.mp4\n"
     ]
    },
    {
     "name": "stderr",
     "output_type": "stream",
     "text": [
      "Cropping -> straightcam:  33%|███▎      | 125/377 [02:31<05:09,  1.23s/it]"
     ]
    },
    {
     "name": "stdout",
     "output_type": "stream",
     "text": [
      "[ok] si720: 111 frames -> C:\\Users\\irish\\Computer_Electronic_Engineering_Year5\\AVSR_project\\Data\\TCD_TIMIT\\lipspeakers\\Lipspkr1\\Clips\\processed\\video25crop\\straightcam\\si720.mp4\n"
     ]
    },
    {
     "name": "stderr",
     "output_type": "stream",
     "text": [
      "Cropping -> straightcam:  33%|███▎      | 126/377 [02:33<05:34,  1.33s/it]"
     ]
    },
    {
     "name": "stdout",
     "output_type": "stream",
     "text": [
      "[ok] si737: 210 frames -> C:\\Users\\irish\\Computer_Electronic_Engineering_Year5\\AVSR_project\\Data\\TCD_TIMIT\\lipspeakers\\Lipspkr1\\Clips\\processed\\video25crop\\straightcam\\si737.mp4\n"
     ]
    },
    {
     "name": "stderr",
     "output_type": "stream",
     "text": [
      "Cropping -> straightcam:  34%|███▎      | 127/377 [02:34<05:21,  1.29s/it]"
     ]
    },
    {
     "name": "stdout",
     "output_type": "stream",
     "text": [
      "[ok] si738: 150 frames -> C:\\Users\\irish\\Computer_Electronic_Engineering_Year5\\AVSR_project\\Data\\TCD_TIMIT\\lipspeakers\\Lipspkr1\\Clips\\processed\\video25crop\\straightcam\\si738.mp4\n"
     ]
    },
    {
     "name": "stderr",
     "output_type": "stream",
     "text": [
      "Cropping -> straightcam:  34%|███▍      | 128/377 [02:35<05:05,  1.23s/it]"
     ]
    },
    {
     "name": "stdout",
     "output_type": "stream",
     "text": [
      "[ok] si739: 133 frames -> C:\\Users\\irish\\Computer_Electronic_Engineering_Year5\\AVSR_project\\Data\\TCD_TIMIT\\lipspeakers\\Lipspkr1\\Clips\\processed\\video25crop\\straightcam\\si739.mp4\n"
     ]
    },
    {
     "name": "stderr",
     "output_type": "stream",
     "text": [
      "Cropping -> straightcam:  34%|███▍      | 129/377 [02:36<04:50,  1.17s/it]"
     ]
    },
    {
     "name": "stdout",
     "output_type": "stream",
     "text": [
      "[ok] si775: 153 frames -> C:\\Users\\irish\\Computer_Electronic_Engineering_Year5\\AVSR_project\\Data\\TCD_TIMIT\\lipspeakers\\Lipspkr1\\Clips\\processed\\video25crop\\straightcam\\si775.mp4\n"
     ]
    },
    {
     "name": "stderr",
     "output_type": "stream",
     "text": [
      "Cropping -> straightcam:  34%|███▍      | 130/377 [02:38<05:08,  1.25s/it]"
     ]
    },
    {
     "name": "stdout",
     "output_type": "stream",
     "text": [
      "[ok] si796: 201 frames -> C:\\Users\\irish\\Computer_Electronic_Engineering_Year5\\AVSR_project\\Data\\TCD_TIMIT\\lipspeakers\\Lipspkr1\\Clips\\processed\\video25crop\\straightcam\\si796.mp4\n"
     ]
    },
    {
     "name": "stderr",
     "output_type": "stream",
     "text": [
      "Cropping -> straightcam:  35%|███▍      | 131/377 [02:39<04:58,  1.21s/it]"
     ]
    },
    {
     "name": "stdout",
     "output_type": "stream",
     "text": [
      "[ok] si798: 183 frames -> C:\\Users\\irish\\Computer_Electronic_Engineering_Year5\\AVSR_project\\Data\\TCD_TIMIT\\lipspeakers\\Lipspkr1\\Clips\\processed\\video25crop\\straightcam\\si798.mp4\n"
     ]
    },
    {
     "name": "stderr",
     "output_type": "stream",
     "text": [
      "Cropping -> straightcam:  35%|███▌      | 132/377 [02:40<04:59,  1.22s/it]"
     ]
    },
    {
     "name": "stdout",
     "output_type": "stream",
     "text": [
      "[ok] si809: 178 frames -> C:\\Users\\irish\\Computer_Electronic_Engineering_Year5\\AVSR_project\\Data\\TCD_TIMIT\\lipspeakers\\Lipspkr1\\Clips\\processed\\video25crop\\straightcam\\si809.mp4\n"
     ]
    },
    {
     "name": "stderr",
     "output_type": "stream",
     "text": [
      "Cropping -> straightcam:  35%|███▌      | 133/377 [02:41<05:17,  1.30s/it]"
     ]
    },
    {
     "name": "stdout",
     "output_type": "stream",
     "text": [
      "[ok] si818: 201 frames -> C:\\Users\\irish\\Computer_Electronic_Engineering_Year5\\AVSR_project\\Data\\TCD_TIMIT\\lipspeakers\\Lipspkr1\\Clips\\processed\\video25crop\\straightcam\\si818.mp4\n"
     ]
    },
    {
     "name": "stderr",
     "output_type": "stream",
     "text": [
      "Cropping -> straightcam:  36%|███▌      | 134/377 [02:43<05:35,  1.38s/it]"
     ]
    },
    {
     "name": "stdout",
     "output_type": "stream",
     "text": [
      "[ok] si820: 209 frames -> C:\\Users\\irish\\Computer_Electronic_Engineering_Year5\\AVSR_project\\Data\\TCD_TIMIT\\lipspeakers\\Lipspkr1\\Clips\\processed\\video25crop\\straightcam\\si820.mp4\n"
     ]
    },
    {
     "name": "stderr",
     "output_type": "stream",
     "text": [
      "Cropping -> straightcam:  36%|███▌      | 135/377 [02:45<06:06,  1.52s/it]"
     ]
    },
    {
     "name": "stdout",
     "output_type": "stream",
     "text": [
      "[ok] si867: 246 frames -> C:\\Users\\irish\\Computer_Electronic_Engineering_Year5\\AVSR_project\\Data\\TCD_TIMIT\\lipspeakers\\Lipspkr1\\Clips\\processed\\video25crop\\straightcam\\si867.mp4\n"
     ]
    },
    {
     "name": "stderr",
     "output_type": "stream",
     "text": [
      "Cropping -> straightcam:  36%|███▌      | 136/377 [02:46<05:58,  1.49s/it]"
     ]
    },
    {
     "name": "stdout",
     "output_type": "stream",
     "text": [
      "[ok] si894: 189 frames -> C:\\Users\\irish\\Computer_Electronic_Engineering_Year5\\AVSR_project\\Data\\TCD_TIMIT\\lipspeakers\\Lipspkr1\\Clips\\processed\\video25crop\\straightcam\\si894.mp4\n"
     ]
    },
    {
     "name": "stderr",
     "output_type": "stream",
     "text": [
      "Cropping -> straightcam:  36%|███▋      | 137/377 [02:48<06:23,  1.60s/it]"
     ]
    },
    {
     "name": "stdout",
     "output_type": "stream",
     "text": [
      "[ok] si913: 209 frames -> C:\\Users\\irish\\Computer_Electronic_Engineering_Year5\\AVSR_project\\Data\\TCD_TIMIT\\lipspeakers\\Lipspkr1\\Clips\\processed\\video25crop\\straightcam\\si913.mp4\n"
     ]
    },
    {
     "name": "stderr",
     "output_type": "stream",
     "text": [
      "Cropping -> straightcam:  37%|███▋      | 138/377 [02:50<06:08,  1.54s/it]"
     ]
    },
    {
     "name": "stdout",
     "output_type": "stream",
     "text": [
      "[ok] si951: 179 frames -> C:\\Users\\irish\\Computer_Electronic_Engineering_Year5\\AVSR_project\\Data\\TCD_TIMIT\\lipspeakers\\Lipspkr1\\Clips\\processed\\video25crop\\straightcam\\si951.mp4\n"
     ]
    },
    {
     "name": "stderr",
     "output_type": "stream",
     "text": [
      "Cropping -> straightcam:  37%|███▋      | 139/377 [02:51<06:22,  1.61s/it]"
     ]
    },
    {
     "name": "stdout",
     "output_type": "stream",
     "text": [
      "[ok] si970: 258 frames -> C:\\Users\\irish\\Computer_Electronic_Engineering_Year5\\AVSR_project\\Data\\TCD_TIMIT\\lipspeakers\\Lipspkr1\\Clips\\processed\\video25crop\\straightcam\\si970.mp4\n"
     ]
    },
    {
     "name": "stderr",
     "output_type": "stream",
     "text": [
      "Cropping -> straightcam:  37%|███▋      | 140/377 [02:52<05:27,  1.38s/it]"
     ]
    },
    {
     "name": "stdout",
     "output_type": "stream",
     "text": [
      "[ok] si974: 108 frames -> C:\\Users\\irish\\Computer_Electronic_Engineering_Year5\\AVSR_project\\Data\\TCD_TIMIT\\lipspeakers\\Lipspkr1\\Clips\\processed\\video25crop\\straightcam\\si974.mp4\n"
     ]
    },
    {
     "name": "stderr",
     "output_type": "stream",
     "text": [
      "Cropping -> straightcam:  37%|███▋      | 141/377 [02:53<05:10,  1.31s/it]"
     ]
    },
    {
     "name": "stdout",
     "output_type": "stream",
     "text": [
      "[ok] si986: 156 frames -> C:\\Users\\irish\\Computer_Electronic_Engineering_Year5\\AVSR_project\\Data\\TCD_TIMIT\\lipspeakers\\Lipspkr1\\Clips\\processed\\video25crop\\straightcam\\si986.mp4\n"
     ]
    },
    {
     "name": "stderr",
     "output_type": "stream",
     "text": [
      "Cropping -> straightcam:  38%|███▊      | 142/377 [02:55<05:27,  1.39s/it]"
     ]
    },
    {
     "name": "stdout",
     "output_type": "stream",
     "text": [
      "[ok] si988: 208 frames -> C:\\Users\\irish\\Computer_Electronic_Engineering_Year5\\AVSR_project\\Data\\TCD_TIMIT\\lipspeakers\\Lipspkr1\\Clips\\processed\\video25crop\\straightcam\\si988.mp4\n"
     ]
    },
    {
     "name": "stderr",
     "output_type": "stream",
     "text": [
      "Cropping -> straightcam:  38%|███▊      | 143/377 [02:57<05:48,  1.49s/it]"
     ]
    },
    {
     "name": "stdout",
     "output_type": "stream",
     "text": [
      "[ok] si997: 229 frames -> C:\\Users\\irish\\Computer_Electronic_Engineering_Year5\\AVSR_project\\Data\\TCD_TIMIT\\lipspeakers\\Lipspkr1\\Clips\\processed\\video25crop\\straightcam\\si997.mp4\n"
     ]
    },
    {
     "name": "stderr",
     "output_type": "stream",
     "text": [
      "Cropping -> straightcam:  38%|███▊      | 144/377 [02:58<05:16,  1.36s/it]"
     ]
    },
    {
     "name": "stdout",
     "output_type": "stream",
     "text": [
      "[ok] sx10: 134 frames -> C:\\Users\\irish\\Computer_Electronic_Engineering_Year5\\AVSR_project\\Data\\TCD_TIMIT\\lipspeakers\\Lipspkr1\\Clips\\processed\\video25crop\\straightcam\\sx10.mp4\n"
     ]
    },
    {
     "name": "stderr",
     "output_type": "stream",
     "text": [
      "Cropping -> straightcam:  38%|███▊      | 145/377 [02:59<04:45,  1.23s/it]"
     ]
    },
    {
     "name": "stdout",
     "output_type": "stream",
     "text": [
      "[ok] sx100: 144 frames -> C:\\Users\\irish\\Computer_Electronic_Engineering_Year5\\AVSR_project\\Data\\TCD_TIMIT\\lipspeakers\\Lipspkr1\\Clips\\processed\\video25crop\\straightcam\\sx100.mp4\n"
     ]
    },
    {
     "name": "stderr",
     "output_type": "stream",
     "text": [
      "Cropping -> straightcam:  39%|███▊      | 146/377 [03:00<04:59,  1.30s/it]"
     ]
    },
    {
     "name": "stdout",
     "output_type": "stream",
     "text": [
      "[ok] sx101: 193 frames -> C:\\Users\\irish\\Computer_Electronic_Engineering_Year5\\AVSR_project\\Data\\TCD_TIMIT\\lipspeakers\\Lipspkr1\\Clips\\processed\\video25crop\\straightcam\\sx101.mp4\n"
     ]
    },
    {
     "name": "stderr",
     "output_type": "stream",
     "text": [
      "Cropping -> straightcam:  39%|███▉      | 147/377 [03:01<04:58,  1.30s/it]"
     ]
    },
    {
     "name": "stdout",
     "output_type": "stream",
     "text": [
      "[ok] sx102: 166 frames -> C:\\Users\\irish\\Computer_Electronic_Engineering_Year5\\AVSR_project\\Data\\TCD_TIMIT\\lipspeakers\\Lipspkr1\\Clips\\processed\\video25crop\\straightcam\\sx102.mp4\n"
     ]
    },
    {
     "name": "stderr",
     "output_type": "stream",
     "text": [
      "Cropping -> straightcam:  39%|███▉      | 148/377 [03:02<04:39,  1.22s/it]"
     ]
    },
    {
     "name": "stdout",
     "output_type": "stream",
     "text": [
      "[ok] sx103: 130 frames -> C:\\Users\\irish\\Computer_Electronic_Engineering_Year5\\AVSR_project\\Data\\TCD_TIMIT\\lipspeakers\\Lipspkr1\\Clips\\processed\\video25crop\\straightcam\\sx103.mp4\n"
     ]
    },
    {
     "name": "stderr",
     "output_type": "stream",
     "text": [
      "Cropping -> straightcam:  40%|███▉      | 149/377 [03:03<04:18,  1.13s/it]"
     ]
    },
    {
     "name": "stdout",
     "output_type": "stream",
     "text": [
      "[ok] sx104: 112 frames -> C:\\Users\\irish\\Computer_Electronic_Engineering_Year5\\AVSR_project\\Data\\TCD_TIMIT\\lipspeakers\\Lipspkr1\\Clips\\processed\\video25crop\\straightcam\\sx104.mp4\n"
     ]
    },
    {
     "name": "stderr",
     "output_type": "stream",
     "text": [
      "Cropping -> straightcam:  40%|███▉      | 150/377 [03:04<04:11,  1.11s/it]"
     ]
    },
    {
     "name": "stdout",
     "output_type": "stream",
     "text": [
      "[ok] sx105: 136 frames -> C:\\Users\\irish\\Computer_Electronic_Engineering_Year5\\AVSR_project\\Data\\TCD_TIMIT\\lipspeakers\\Lipspkr1\\Clips\\processed\\video25crop\\straightcam\\sx105.mp4\n"
     ]
    },
    {
     "name": "stderr",
     "output_type": "stream",
     "text": [
      "Cropping -> straightcam:  40%|████      | 151/377 [03:06<04:19,  1.15s/it]"
     ]
    },
    {
     "name": "stdout",
     "output_type": "stream",
     "text": [
      "[ok] sx106: 142 frames -> C:\\Users\\irish\\Computer_Electronic_Engineering_Year5\\AVSR_project\\Data\\TCD_TIMIT\\lipspeakers\\Lipspkr1\\Clips\\processed\\video25crop\\straightcam\\sx106.mp4\n"
     ]
    },
    {
     "name": "stderr",
     "output_type": "stream",
     "text": [
      "Cropping -> straightcam:  40%|████      | 152/377 [03:07<04:21,  1.16s/it]"
     ]
    },
    {
     "name": "stdout",
     "output_type": "stream",
     "text": [
      "[ok] sx107: 143 frames -> C:\\Users\\irish\\Computer_Electronic_Engineering_Year5\\AVSR_project\\Data\\TCD_TIMIT\\lipspeakers\\Lipspkr1\\Clips\\processed\\video25crop\\straightcam\\sx107.mp4\n"
     ]
    },
    {
     "name": "stderr",
     "output_type": "stream",
     "text": [
      "Cropping -> straightcam:  41%|████      | 153/377 [03:08<04:29,  1.20s/it]"
     ]
    },
    {
     "name": "stdout",
     "output_type": "stream",
     "text": [
      "[ok] sx108: 160 frames -> C:\\Users\\irish\\Computer_Electronic_Engineering_Year5\\AVSR_project\\Data\\TCD_TIMIT\\lipspeakers\\Lipspkr1\\Clips\\processed\\video25crop\\straightcam\\sx108.mp4\n"
     ]
    },
    {
     "name": "stderr",
     "output_type": "stream",
     "text": [
      "Cropping -> straightcam:  41%|████      | 154/377 [03:09<04:33,  1.23s/it]"
     ]
    },
    {
     "name": "stdout",
     "output_type": "stream",
     "text": [
      "[ok] sx109: 154 frames -> C:\\Users\\irish\\Computer_Electronic_Engineering_Year5\\AVSR_project\\Data\\TCD_TIMIT\\lipspeakers\\Lipspkr1\\Clips\\processed\\video25crop\\straightcam\\sx109.mp4\n"
     ]
    },
    {
     "name": "stderr",
     "output_type": "stream",
     "text": [
      "Cropping -> straightcam:  41%|████      | 155/377 [03:10<04:20,  1.17s/it]"
     ]
    },
    {
     "name": "stdout",
     "output_type": "stream",
     "text": [
      "[ok] sx11: 124 frames -> C:\\Users\\irish\\Computer_Electronic_Engineering_Year5\\AVSR_project\\Data\\TCD_TIMIT\\lipspeakers\\Lipspkr1\\Clips\\processed\\video25crop\\straightcam\\sx11.mp4\n"
     ]
    },
    {
     "name": "stderr",
     "output_type": "stream",
     "text": [
      "Cropping -> straightcam:  41%|████▏     | 156/377 [03:12<04:25,  1.20s/it]"
     ]
    },
    {
     "name": "stdout",
     "output_type": "stream",
     "text": [
      "[ok] sx110: 151 frames -> C:\\Users\\irish\\Computer_Electronic_Engineering_Year5\\AVSR_project\\Data\\TCD_TIMIT\\lipspeakers\\Lipspkr1\\Clips\\processed\\video25crop\\straightcam\\sx110.mp4\n"
     ]
    },
    {
     "name": "stderr",
     "output_type": "stream",
     "text": [
      "Cropping -> straightcam:  42%|████▏     | 157/377 [03:12<03:56,  1.07s/it]"
     ]
    },
    {
     "name": "stdout",
     "output_type": "stream",
     "text": [
      "[ok] sx12: 116 frames -> C:\\Users\\irish\\Computer_Electronic_Engineering_Year5\\AVSR_project\\Data\\TCD_TIMIT\\lipspeakers\\Lipspkr1\\Clips\\processed\\video25crop\\straightcam\\sx12.mp4\n"
     ]
    },
    {
     "name": "stderr",
     "output_type": "stream",
     "text": [
      "Cropping -> straightcam:  42%|████▏     | 158/377 [03:14<03:54,  1.07s/it]"
     ]
    },
    {
     "name": "stdout",
     "output_type": "stream",
     "text": [
      "[ok] sx13: 123 frames -> C:\\Users\\irish\\Computer_Electronic_Engineering_Year5\\AVSR_project\\Data\\TCD_TIMIT\\lipspeakers\\Lipspkr1\\Clips\\processed\\video25crop\\straightcam\\sx13.mp4\n"
     ]
    },
    {
     "name": "stderr",
     "output_type": "stream",
     "text": [
      "Cropping -> straightcam:  42%|████▏     | 159/377 [03:15<04:09,  1.14s/it]"
     ]
    },
    {
     "name": "stdout",
     "output_type": "stream",
     "text": [
      "[ok] sx14: 163 frames -> C:\\Users\\irish\\Computer_Electronic_Engineering_Year5\\AVSR_project\\Data\\TCD_TIMIT\\lipspeakers\\Lipspkr1\\Clips\\processed\\video25crop\\straightcam\\sx14.mp4\n"
     ]
    },
    {
     "name": "stderr",
     "output_type": "stream",
     "text": [
      "Cropping -> straightcam:  42%|████▏     | 160/377 [03:16<04:21,  1.20s/it]"
     ]
    },
    {
     "name": "stdout",
     "output_type": "stream",
     "text": [
      "[ok] sx141: 170 frames -> C:\\Users\\irish\\Computer_Electronic_Engineering_Year5\\AVSR_project\\Data\\TCD_TIMIT\\lipspeakers\\Lipspkr1\\Clips\\processed\\video25crop\\straightcam\\sx141.mp4\n"
     ]
    },
    {
     "name": "stderr",
     "output_type": "stream",
     "text": [
      "Cropping -> straightcam:  43%|████▎     | 161/377 [03:17<04:24,  1.23s/it]"
     ]
    },
    {
     "name": "stdout",
     "output_type": "stream",
     "text": [
      "[ok] sx142: 160 frames -> C:\\Users\\irish\\Computer_Electronic_Engineering_Year5\\AVSR_project\\Data\\TCD_TIMIT\\lipspeakers\\Lipspkr1\\Clips\\processed\\video25crop\\straightcam\\sx142.mp4\n"
     ]
    },
    {
     "name": "stderr",
     "output_type": "stream",
     "text": [
      "Cropping -> straightcam:  43%|████▎     | 162/377 [03:19<04:26,  1.24s/it]"
     ]
    },
    {
     "name": "stdout",
     "output_type": "stream",
     "text": [
      "[ok] sx143: 164 frames -> C:\\Users\\irish\\Computer_Electronic_Engineering_Year5\\AVSR_project\\Data\\TCD_TIMIT\\lipspeakers\\Lipspkr1\\Clips\\processed\\video25crop\\straightcam\\sx143.mp4\n"
     ]
    },
    {
     "name": "stderr",
     "output_type": "stream",
     "text": [
      "Cropping -> straightcam:  43%|████▎     | 163/377 [03:20<04:23,  1.23s/it]"
     ]
    },
    {
     "name": "stdout",
     "output_type": "stream",
     "text": [
      "[ok] sx144: 159 frames -> C:\\Users\\irish\\Computer_Electronic_Engineering_Year5\\AVSR_project\\Data\\TCD_TIMIT\\lipspeakers\\Lipspkr1\\Clips\\processed\\video25crop\\straightcam\\sx144.mp4\n"
     ]
    },
    {
     "name": "stderr",
     "output_type": "stream",
     "text": [
      "Cropping -> straightcam:  44%|████▎     | 164/377 [03:21<04:16,  1.20s/it]"
     ]
    },
    {
     "name": "stdout",
     "output_type": "stream",
     "text": [
      "[ok] sx145: 148 frames -> C:\\Users\\irish\\Computer_Electronic_Engineering_Year5\\AVSR_project\\Data\\TCD_TIMIT\\lipspeakers\\Lipspkr1\\Clips\\processed\\video25crop\\straightcam\\sx145.mp4\n"
     ]
    },
    {
     "name": "stderr",
     "output_type": "stream",
     "text": [
      "Cropping -> straightcam:  44%|████▍     | 165/377 [03:22<04:03,  1.15s/it]"
     ]
    },
    {
     "name": "stdout",
     "output_type": "stream",
     "text": [
      "[ok] sx146: 148 frames -> C:\\Users\\irish\\Computer_Electronic_Engineering_Year5\\AVSR_project\\Data\\TCD_TIMIT\\lipspeakers\\Lipspkr1\\Clips\\processed\\video25crop\\straightcam\\sx146.mp4\n"
     ]
    },
    {
     "name": "stderr",
     "output_type": "stream",
     "text": [
      "Cropping -> straightcam:  44%|████▍     | 166/377 [03:23<04:16,  1.21s/it]"
     ]
    },
    {
     "name": "stdout",
     "output_type": "stream",
     "text": [
      "[ok] sx147: 182 frames -> C:\\Users\\irish\\Computer_Electronic_Engineering_Year5\\AVSR_project\\Data\\TCD_TIMIT\\lipspeakers\\Lipspkr1\\Clips\\processed\\video25crop\\straightcam\\sx147.mp4\n"
     ]
    },
    {
     "name": "stderr",
     "output_type": "stream",
     "text": [
      "Cropping -> straightcam:  44%|████▍     | 167/377 [03:25<04:21,  1.24s/it]"
     ]
    },
    {
     "name": "stdout",
     "output_type": "stream",
     "text": [
      "[ok] sx148: 173 frames -> C:\\Users\\irish\\Computer_Electronic_Engineering_Year5\\AVSR_project\\Data\\TCD_TIMIT\\lipspeakers\\Lipspkr1\\Clips\\processed\\video25crop\\straightcam\\sx148.mp4\n"
     ]
    },
    {
     "name": "stderr",
     "output_type": "stream",
     "text": [
      "Cropping -> straightcam:  45%|████▍     | 168/377 [03:26<04:48,  1.38s/it]"
     ]
    },
    {
     "name": "stdout",
     "output_type": "stream",
     "text": [
      "[ok] sx149: 233 frames -> C:\\Users\\irish\\Computer_Electronic_Engineering_Year5\\AVSR_project\\Data\\TCD_TIMIT\\lipspeakers\\Lipspkr1\\Clips\\processed\\video25crop\\straightcam\\sx149.mp4\n"
     ]
    },
    {
     "name": "stderr",
     "output_type": "stream",
     "text": [
      "Cropping -> straightcam:  45%|████▍     | 169/377 [03:28<04:31,  1.30s/it]"
     ]
    },
    {
     "name": "stdout",
     "output_type": "stream",
     "text": [
      "[ok] sx15: 142 frames -> C:\\Users\\irish\\Computer_Electronic_Engineering_Year5\\AVSR_project\\Data\\TCD_TIMIT\\lipspeakers\\Lipspkr1\\Clips\\processed\\video25crop\\straightcam\\sx15.mp4\n"
     ]
    },
    {
     "name": "stderr",
     "output_type": "stream",
     "text": [
      "Cropping -> straightcam:  45%|████▌     | 170/377 [03:29<04:14,  1.23s/it]"
     ]
    },
    {
     "name": "stdout",
     "output_type": "stream",
     "text": [
      "[ok] sx150: 138 frames -> C:\\Users\\irish\\Computer_Electronic_Engineering_Year5\\AVSR_project\\Data\\TCD_TIMIT\\lipspeakers\\Lipspkr1\\Clips\\processed\\video25crop\\straightcam\\sx150.mp4\n"
     ]
    },
    {
     "name": "stderr",
     "output_type": "stream",
     "text": [
      "Cropping -> straightcam:  45%|████▌     | 171/377 [03:30<04:14,  1.23s/it]"
     ]
    },
    {
     "name": "stdout",
     "output_type": "stream",
     "text": [
      "[ok] sx151: 161 frames -> C:\\Users\\irish\\Computer_Electronic_Engineering_Year5\\AVSR_project\\Data\\TCD_TIMIT\\lipspeakers\\Lipspkr1\\Clips\\processed\\video25crop\\straightcam\\sx151.mp4\n"
     ]
    },
    {
     "name": "stderr",
     "output_type": "stream",
     "text": [
      "Cropping -> straightcam:  46%|████▌     | 172/377 [03:31<04:26,  1.30s/it]"
     ]
    },
    {
     "name": "stdout",
     "output_type": "stream",
     "text": [
      "[ok] sx152: 190 frames -> C:\\Users\\irish\\Computer_Electronic_Engineering_Year5\\AVSR_project\\Data\\TCD_TIMIT\\lipspeakers\\Lipspkr1\\Clips\\processed\\video25crop\\straightcam\\sx152.mp4\n"
     ]
    },
    {
     "name": "stderr",
     "output_type": "stream",
     "text": [
      "Cropping -> straightcam:  46%|████▌     | 173/377 [03:32<04:06,  1.21s/it]"
     ]
    },
    {
     "name": "stdout",
     "output_type": "stream",
     "text": [
      "[ok] sx16: 130 frames -> C:\\Users\\irish\\Computer_Electronic_Engineering_Year5\\AVSR_project\\Data\\TCD_TIMIT\\lipspeakers\\Lipspkr1\\Clips\\processed\\video25crop\\straightcam\\sx16.mp4\n"
     ]
    },
    {
     "name": "stderr",
     "output_type": "stream",
     "text": [
      "Cropping -> straightcam:  46%|████▌     | 174/377 [03:34<04:14,  1.25s/it]"
     ]
    },
    {
     "name": "stdout",
     "output_type": "stream",
     "text": [
      "[ok] sx165: 178 frames -> C:\\Users\\irish\\Computer_Electronic_Engineering_Year5\\AVSR_project\\Data\\TCD_TIMIT\\lipspeakers\\Lipspkr1\\Clips\\processed\\video25crop\\straightcam\\sx165.mp4\n"
     ]
    },
    {
     "name": "stderr",
     "output_type": "stream",
     "text": [
      "Cropping -> straightcam:  46%|████▋     | 175/377 [03:35<04:32,  1.35s/it]"
     ]
    },
    {
     "name": "stdout",
     "output_type": "stream",
     "text": [
      "[ok] sx166: 239 frames -> C:\\Users\\irish\\Computer_Electronic_Engineering_Year5\\AVSR_project\\Data\\TCD_TIMIT\\lipspeakers\\Lipspkr1\\Clips\\processed\\video25crop\\straightcam\\sx166.mp4\n"
     ]
    },
    {
     "name": "stderr",
     "output_type": "stream",
     "text": [
      "Cropping -> straightcam:  47%|████▋     | 176/377 [03:37<04:40,  1.39s/it]"
     ]
    },
    {
     "name": "stdout",
     "output_type": "stream",
     "text": [
      "[ok] sx167: 192 frames -> C:\\Users\\irish\\Computer_Electronic_Engineering_Year5\\AVSR_project\\Data\\TCD_TIMIT\\lipspeakers\\Lipspkr1\\Clips\\processed\\video25crop\\straightcam\\sx167.mp4\n"
     ]
    },
    {
     "name": "stderr",
     "output_type": "stream",
     "text": [
      "Cropping -> straightcam:  47%|████▋     | 177/377 [03:38<04:14,  1.27s/it]"
     ]
    },
    {
     "name": "stdout",
     "output_type": "stream",
     "text": [
      "[ok] sx168: 115 frames -> C:\\Users\\irish\\Computer_Electronic_Engineering_Year5\\AVSR_project\\Data\\TCD_TIMIT\\lipspeakers\\Lipspkr1\\Clips\\processed\\video25crop\\straightcam\\sx168.mp4\n"
     ]
    },
    {
     "name": "stderr",
     "output_type": "stream",
     "text": [
      "Cropping -> straightcam:  47%|████▋     | 178/377 [03:39<04:22,  1.32s/it]"
     ]
    },
    {
     "name": "stdout",
     "output_type": "stream",
     "text": [
      "[ok] sx169: 173 frames -> C:\\Users\\irish\\Computer_Electronic_Engineering_Year5\\AVSR_project\\Data\\TCD_TIMIT\\lipspeakers\\Lipspkr1\\Clips\\processed\\video25crop\\straightcam\\sx169.mp4\n"
     ]
    },
    {
     "name": "stderr",
     "output_type": "stream",
     "text": [
      "Cropping -> straightcam:  47%|████▋     | 179/377 [03:40<04:03,  1.23s/it]"
     ]
    },
    {
     "name": "stdout",
     "output_type": "stream",
     "text": [
      "[ok] sx17: 131 frames -> C:\\Users\\irish\\Computer_Electronic_Engineering_Year5\\AVSR_project\\Data\\TCD_TIMIT\\lipspeakers\\Lipspkr1\\Clips\\processed\\video25crop\\straightcam\\sx17.mp4\n"
     ]
    },
    {
     "name": "stderr",
     "output_type": "stream",
     "text": [
      "Cropping -> straightcam:  48%|████▊     | 180/377 [03:42<04:29,  1.37s/it]"
     ]
    },
    {
     "name": "stdout",
     "output_type": "stream",
     "text": [
      "[ok] sx170: 220 frames -> C:\\Users\\irish\\Computer_Electronic_Engineering_Year5\\AVSR_project\\Data\\TCD_TIMIT\\lipspeakers\\Lipspkr1\\Clips\\processed\\video25crop\\straightcam\\sx170.mp4\n"
     ]
    },
    {
     "name": "stderr",
     "output_type": "stream",
     "text": [
      "Cropping -> straightcam:  48%|████▊     | 181/377 [03:44<05:04,  1.55s/it]"
     ]
    },
    {
     "name": "stdout",
     "output_type": "stream",
     "text": [
      "[ok] sx171: 241 frames -> C:\\Users\\irish\\Computer_Electronic_Engineering_Year5\\AVSR_project\\Data\\TCD_TIMIT\\lipspeakers\\Lipspkr1\\Clips\\processed\\video25crop\\straightcam\\sx171.mp4\n"
     ]
    },
    {
     "name": "stderr",
     "output_type": "stream",
     "text": [
      "Cropping -> straightcam:  48%|████▊     | 182/377 [03:45<04:55,  1.52s/it]"
     ]
    },
    {
     "name": "stdout",
     "output_type": "stream",
     "text": [
      "[ok] sx172: 182 frames -> C:\\Users\\irish\\Computer_Electronic_Engineering_Year5\\AVSR_project\\Data\\TCD_TIMIT\\lipspeakers\\Lipspkr1\\Clips\\processed\\video25crop\\straightcam\\sx172.mp4\n"
     ]
    },
    {
     "name": "stderr",
     "output_type": "stream",
     "text": [
      "Cropping -> straightcam:  49%|████▊     | 183/377 [03:47<05:04,  1.57s/it]"
     ]
    },
    {
     "name": "stdout",
     "output_type": "stream",
     "text": [
      "[ok] sx173: 223 frames -> C:\\Users\\irish\\Computer_Electronic_Engineering_Year5\\AVSR_project\\Data\\TCD_TIMIT\\lipspeakers\\Lipspkr1\\Clips\\processed\\video25crop\\straightcam\\sx173.mp4\n"
     ]
    },
    {
     "name": "stderr",
     "output_type": "stream",
     "text": [
      "Cropping -> straightcam:  49%|████▉     | 184/377 [03:49<05:19,  1.65s/it]"
     ]
    },
    {
     "name": "stdout",
     "output_type": "stream",
     "text": [
      "[ok] sx174: 238 frames -> C:\\Users\\irish\\Computer_Electronic_Engineering_Year5\\AVSR_project\\Data\\TCD_TIMIT\\lipspeakers\\Lipspkr1\\Clips\\processed\\video25crop\\straightcam\\sx174.mp4\n"
     ]
    },
    {
     "name": "stderr",
     "output_type": "stream",
     "text": [
      "Cropping -> straightcam:  49%|████▉     | 185/377 [03:51<05:27,  1.71s/it]"
     ]
    },
    {
     "name": "stdout",
     "output_type": "stream",
     "text": [
      "[ok] sx175: 205 frames -> C:\\Users\\irish\\Computer_Electronic_Engineering_Year5\\AVSR_project\\Data\\TCD_TIMIT\\lipspeakers\\Lipspkr1\\Clips\\processed\\video25crop\\straightcam\\sx175.mp4\n"
     ]
    },
    {
     "name": "stderr",
     "output_type": "stream",
     "text": [
      "Cropping -> straightcam:  49%|████▉     | 186/377 [03:52<05:20,  1.68s/it]"
     ]
    },
    {
     "name": "stdout",
     "output_type": "stream",
     "text": [
      "[ok] sx176: 216 frames -> C:\\Users\\irish\\Computer_Electronic_Engineering_Year5\\AVSR_project\\Data\\TCD_TIMIT\\lipspeakers\\Lipspkr1\\Clips\\processed\\video25crop\\straightcam\\sx176.mp4\n"
     ]
    },
    {
     "name": "stderr",
     "output_type": "stream",
     "text": [
      "Cropping -> straightcam:  50%|████▉     | 187/377 [03:53<04:38,  1.47s/it]"
     ]
    },
    {
     "name": "stdout",
     "output_type": "stream",
     "text": [
      "[ok] sx177: 125 frames -> C:\\Users\\irish\\Computer_Electronic_Engineering_Year5\\AVSR_project\\Data\\TCD_TIMIT\\lipspeakers\\Lipspkr1\\Clips\\processed\\video25crop\\straightcam\\sx177.mp4\n"
     ]
    },
    {
     "name": "stderr",
     "output_type": "stream",
     "text": [
      "Cropping -> straightcam:  50%|████▉     | 188/377 [03:55<04:32,  1.44s/it]"
     ]
    },
    {
     "name": "stdout",
     "output_type": "stream",
     "text": [
      "[ok] sx178: 183 frames -> C:\\Users\\irish\\Computer_Electronic_Engineering_Year5\\AVSR_project\\Data\\TCD_TIMIT\\lipspeakers\\Lipspkr1\\Clips\\processed\\video25crop\\straightcam\\sx178.mp4\n"
     ]
    },
    {
     "name": "stderr",
     "output_type": "stream",
     "text": [
      "Cropping -> straightcam:  50%|█████     | 189/377 [03:56<04:22,  1.40s/it]"
     ]
    },
    {
     "name": "stdout",
     "output_type": "stream",
     "text": [
      "[ok] sx179: 166 frames -> C:\\Users\\irish\\Computer_Electronic_Engineering_Year5\\AVSR_project\\Data\\TCD_TIMIT\\lipspeakers\\Lipspkr1\\Clips\\processed\\video25crop\\straightcam\\sx179.mp4\n"
     ]
    },
    {
     "name": "stderr",
     "output_type": "stream",
     "text": [
      "Cropping -> straightcam:  50%|█████     | 190/377 [03:57<04:01,  1.29s/it]"
     ]
    },
    {
     "name": "stdout",
     "output_type": "stream",
     "text": [
      "[ok] sx18: 138 frames -> C:\\Users\\irish\\Computer_Electronic_Engineering_Year5\\AVSR_project\\Data\\TCD_TIMIT\\lipspeakers\\Lipspkr1\\Clips\\processed\\video25crop\\straightcam\\sx18.mp4\n"
     ]
    },
    {
     "name": "stderr",
     "output_type": "stream",
     "text": [
      "Cropping -> straightcam:  51%|█████     | 191/377 [03:58<03:56,  1.27s/it]"
     ]
    },
    {
     "name": "stdout",
     "output_type": "stream",
     "text": [
      "[ok] sx180: 157 frames -> C:\\Users\\irish\\Computer_Electronic_Engineering_Year5\\AVSR_project\\Data\\TCD_TIMIT\\lipspeakers\\Lipspkr1\\Clips\\processed\\video25crop\\straightcam\\sx180.mp4\n"
     ]
    },
    {
     "name": "stderr",
     "output_type": "stream",
     "text": [
      "Cropping -> straightcam:  51%|█████     | 192/377 [04:00<04:08,  1.34s/it]"
     ]
    },
    {
     "name": "stdout",
     "output_type": "stream",
     "text": [
      "[ok] sx181: 193 frames -> C:\\Users\\irish\\Computer_Electronic_Engineering_Year5\\AVSR_project\\Data\\TCD_TIMIT\\lipspeakers\\Lipspkr1\\Clips\\processed\\video25crop\\straightcam\\sx181.mp4\n"
     ]
    },
    {
     "name": "stderr",
     "output_type": "stream",
     "text": [
      "Cropping -> straightcam:  51%|█████     | 193/377 [04:01<03:43,  1.22s/it]"
     ]
    },
    {
     "name": "stdout",
     "output_type": "stream",
     "text": [
      "[ok] sx182: 143 frames -> C:\\Users\\irish\\Computer_Electronic_Engineering_Year5\\AVSR_project\\Data\\TCD_TIMIT\\lipspeakers\\Lipspkr1\\Clips\\processed\\video25crop\\straightcam\\sx182.mp4\n"
     ]
    },
    {
     "name": "stderr",
     "output_type": "stream",
     "text": [
      "Cropping -> straightcam:  51%|█████▏    | 194/377 [04:02<03:36,  1.19s/it]"
     ]
    },
    {
     "name": "stdout",
     "output_type": "stream",
     "text": [
      "[ok] sx184: 145 frames -> C:\\Users\\irish\\Computer_Electronic_Engineering_Year5\\AVSR_project\\Data\\TCD_TIMIT\\lipspeakers\\Lipspkr1\\Clips\\processed\\video25crop\\straightcam\\sx184.mp4\n"
     ]
    },
    {
     "name": "stderr",
     "output_type": "stream",
     "text": [
      "Cropping -> straightcam:  52%|█████▏    | 195/377 [04:03<03:29,  1.15s/it]"
     ]
    },
    {
     "name": "stdout",
     "output_type": "stream",
     "text": [
      "[ok] sx185: 139 frames -> C:\\Users\\irish\\Computer_Electronic_Engineering_Year5\\AVSR_project\\Data\\TCD_TIMIT\\lipspeakers\\Lipspkr1\\Clips\\processed\\video25crop\\straightcam\\sx185.mp4\n"
     ]
    },
    {
     "name": "stderr",
     "output_type": "stream",
     "text": [
      "Cropping -> straightcam:  52%|█████▏    | 196/377 [04:04<03:25,  1.13s/it]"
     ]
    },
    {
     "name": "stdout",
     "output_type": "stream",
     "text": [
      "[ok] sx186: 136 frames -> C:\\Users\\irish\\Computer_Electronic_Engineering_Year5\\AVSR_project\\Data\\TCD_TIMIT\\lipspeakers\\Lipspkr1\\Clips\\processed\\video25crop\\straightcam\\sx186.mp4\n"
     ]
    },
    {
     "name": "stderr",
     "output_type": "stream",
     "text": [
      "Cropping -> straightcam:  52%|█████▏    | 197/377 [04:05<03:12,  1.07s/it]"
     ]
    },
    {
     "name": "stdout",
     "output_type": "stream",
     "text": [
      "[ok] sx187: 118 frames -> C:\\Users\\irish\\Computer_Electronic_Engineering_Year5\\AVSR_project\\Data\\TCD_TIMIT\\lipspeakers\\Lipspkr1\\Clips\\processed\\video25crop\\straightcam\\sx187.mp4\n"
     ]
    },
    {
     "name": "stderr",
     "output_type": "stream",
     "text": [
      "Cropping -> straightcam:  53%|█████▎    | 198/377 [04:06<03:18,  1.11s/it]"
     ]
    },
    {
     "name": "stdout",
     "output_type": "stream",
     "text": [
      "[ok] sx188: 157 frames -> C:\\Users\\irish\\Computer_Electronic_Engineering_Year5\\AVSR_project\\Data\\TCD_TIMIT\\lipspeakers\\Lipspkr1\\Clips\\processed\\video25crop\\straightcam\\sx188.mp4\n"
     ]
    },
    {
     "name": "stderr",
     "output_type": "stream",
     "text": [
      "Cropping -> straightcam:  53%|█████▎    | 199/377 [04:08<03:43,  1.25s/it]"
     ]
    },
    {
     "name": "stdout",
     "output_type": "stream",
     "text": [
      "[ok] sx189: 165 frames -> C:\\Users\\irish\\Computer_Electronic_Engineering_Year5\\AVSR_project\\Data\\TCD_TIMIT\\lipspeakers\\Lipspkr1\\Clips\\processed\\video25crop\\straightcam\\sx189.mp4\n"
     ]
    },
    {
     "name": "stderr",
     "output_type": "stream",
     "text": [
      "Cropping -> straightcam:  53%|█████▎    | 200/377 [04:09<03:42,  1.25s/it]"
     ]
    },
    {
     "name": "stdout",
     "output_type": "stream",
     "text": [
      "[ok] sx19: 167 frames -> C:\\Users\\irish\\Computer_Electronic_Engineering_Year5\\AVSR_project\\Data\\TCD_TIMIT\\lipspeakers\\Lipspkr1\\Clips\\processed\\video25crop\\straightcam\\sx19.mp4\n"
     ]
    },
    {
     "name": "stderr",
     "output_type": "stream",
     "text": [
      "Cropping -> straightcam:  53%|█████▎    | 201/377 [04:10<03:32,  1.21s/it]"
     ]
    },
    {
     "name": "stdout",
     "output_type": "stream",
     "text": [
      "[ok] sx190: 140 frames -> C:\\Users\\irish\\Computer_Electronic_Engineering_Year5\\AVSR_project\\Data\\TCD_TIMIT\\lipspeakers\\Lipspkr1\\Clips\\processed\\video25crop\\straightcam\\sx190.mp4\n"
     ]
    },
    {
     "name": "stderr",
     "output_type": "stream",
     "text": [
      "Cropping -> straightcam:  54%|█████▎    | 202/377 [04:11<03:25,  1.18s/it]"
     ]
    },
    {
     "name": "stdout",
     "output_type": "stream",
     "text": [
      "[ok] sx191: 143 frames -> C:\\Users\\irish\\Computer_Electronic_Engineering_Year5\\AVSR_project\\Data\\TCD_TIMIT\\lipspeakers\\Lipspkr1\\Clips\\processed\\video25crop\\straightcam\\sx191.mp4\n"
     ]
    },
    {
     "name": "stderr",
     "output_type": "stream",
     "text": [
      "Cropping -> straightcam:  54%|█████▍    | 203/377 [04:12<03:21,  1.16s/it]"
     ]
    },
    {
     "name": "stdout",
     "output_type": "stream",
     "text": [
      "[ok] sx192: 143 frames -> C:\\Users\\irish\\Computer_Electronic_Engineering_Year5\\AVSR_project\\Data\\TCD_TIMIT\\lipspeakers\\Lipspkr1\\Clips\\processed\\video25crop\\straightcam\\sx192.mp4\n"
     ]
    },
    {
     "name": "stderr",
     "output_type": "stream",
     "text": [
      "Cropping -> straightcam:  54%|█████▍    | 204/377 [04:13<03:18,  1.15s/it]"
     ]
    },
    {
     "name": "stdout",
     "output_type": "stream",
     "text": [
      "[ok] sx193: 143 frames -> C:\\Users\\irish\\Computer_Electronic_Engineering_Year5\\AVSR_project\\Data\\TCD_TIMIT\\lipspeakers\\Lipspkr1\\Clips\\processed\\video25crop\\straightcam\\sx193.mp4\n"
     ]
    },
    {
     "name": "stderr",
     "output_type": "stream",
     "text": [
      "Cropping -> straightcam:  54%|█████▍    | 205/377 [04:14<03:11,  1.11s/it]"
     ]
    },
    {
     "name": "stdout",
     "output_type": "stream",
     "text": [
      "[ok] sx194: 133 frames -> C:\\Users\\irish\\Computer_Electronic_Engineering_Year5\\AVSR_project\\Data\\TCD_TIMIT\\lipspeakers\\Lipspkr1\\Clips\\processed\\video25crop\\straightcam\\sx194.mp4\n"
     ]
    },
    {
     "name": "stderr",
     "output_type": "stream",
     "text": [
      "Cropping -> straightcam:  55%|█████▍    | 206/377 [04:15<02:56,  1.03s/it]"
     ]
    },
    {
     "name": "stdout",
     "output_type": "stream",
     "text": [
      "[ok] sx195: 118 frames -> C:\\Users\\irish\\Computer_Electronic_Engineering_Year5\\AVSR_project\\Data\\TCD_TIMIT\\lipspeakers\\Lipspkr1\\Clips\\processed\\video25crop\\straightcam\\sx195.mp4\n"
     ]
    },
    {
     "name": "stderr",
     "output_type": "stream",
     "text": [
      "Cropping -> straightcam:  55%|█████▍    | 207/377 [04:16<02:53,  1.02s/it]"
     ]
    },
    {
     "name": "stdout",
     "output_type": "stream",
     "text": [
      "[ok] sx196: 124 frames -> C:\\Users\\irish\\Computer_Electronic_Engineering_Year5\\AVSR_project\\Data\\TCD_TIMIT\\lipspeakers\\Lipspkr1\\Clips\\processed\\video25crop\\straightcam\\sx196.mp4\n"
     ]
    },
    {
     "name": "stderr",
     "output_type": "stream",
     "text": [
      "Cropping -> straightcam:  55%|█████▌    | 208/377 [04:17<02:43,  1.03it/s]"
     ]
    },
    {
     "name": "stdout",
     "output_type": "stream",
     "text": [
      "[ok] sx197: 134 frames -> C:\\Users\\irish\\Computer_Electronic_Engineering_Year5\\AVSR_project\\Data\\TCD_TIMIT\\lipspeakers\\Lipspkr1\\Clips\\processed\\video25crop\\straightcam\\sx197.mp4\n"
     ]
    },
    {
     "name": "stderr",
     "output_type": "stream",
     "text": [
      "Cropping -> straightcam:  55%|█████▌    | 209/377 [04:18<02:54,  1.04s/it]"
     ]
    },
    {
     "name": "stdout",
     "output_type": "stream",
     "text": [
      "[ok] sx198: 147 frames -> C:\\Users\\irish\\Computer_Electronic_Engineering_Year5\\AVSR_project\\Data\\TCD_TIMIT\\lipspeakers\\Lipspkr1\\Clips\\processed\\video25crop\\straightcam\\sx198.mp4\n"
     ]
    },
    {
     "name": "stderr",
     "output_type": "stream",
     "text": [
      "Cropping -> straightcam:  56%|█████▌    | 210/377 [04:19<02:57,  1.06s/it]"
     ]
    },
    {
     "name": "stdout",
     "output_type": "stream",
     "text": [
      "[ok] sx199: 173 frames -> C:\\Users\\irish\\Computer_Electronic_Engineering_Year5\\AVSR_project\\Data\\TCD_TIMIT\\lipspeakers\\Lipspkr1\\Clips\\processed\\video25crop\\straightcam\\sx199.mp4\n"
     ]
    },
    {
     "name": "stderr",
     "output_type": "stream",
     "text": [
      "Cropping -> straightcam:  56%|█████▌    | 211/377 [04:21<02:59,  1.08s/it]"
     ]
    },
    {
     "name": "stdout",
     "output_type": "stream",
     "text": [
      "[ok] sx20: 152 frames -> C:\\Users\\irish\\Computer_Electronic_Engineering_Year5\\AVSR_project\\Data\\TCD_TIMIT\\lipspeakers\\Lipspkr1\\Clips\\processed\\video25crop\\straightcam\\sx20.mp4\n"
     ]
    },
    {
     "name": "stderr",
     "output_type": "stream",
     "text": [
      "Cropping -> straightcam:  56%|█████▌    | 212/377 [04:22<02:56,  1.07s/it]"
     ]
    },
    {
     "name": "stdout",
     "output_type": "stream",
     "text": [
      "[ok] sx200: 138 frames -> C:\\Users\\irish\\Computer_Electronic_Engineering_Year5\\AVSR_project\\Data\\TCD_TIMIT\\lipspeakers\\Lipspkr1\\Clips\\processed\\video25crop\\straightcam\\sx200.mp4\n"
     ]
    },
    {
     "name": "stderr",
     "output_type": "stream",
     "text": [
      "Cropping -> straightcam:  56%|█████▋    | 213/377 [04:22<02:43,  1.00it/s]"
     ]
    },
    {
     "name": "stdout",
     "output_type": "stream",
     "text": [
      "[ok] sx231: 106 frames -> C:\\Users\\irish\\Computer_Electronic_Engineering_Year5\\AVSR_project\\Data\\TCD_TIMIT\\lipspeakers\\Lipspkr1\\Clips\\processed\\video25crop\\straightcam\\sx231.mp4\n"
     ]
    },
    {
     "name": "stderr",
     "output_type": "stream",
     "text": [
      "Cropping -> straightcam:  57%|█████▋    | 214/377 [04:24<02:59,  1.10s/it]"
     ]
    },
    {
     "name": "stdout",
     "output_type": "stream",
     "text": [
      "[ok] sx232: 178 frames -> C:\\Users\\irish\\Computer_Electronic_Engineering_Year5\\AVSR_project\\Data\\TCD_TIMIT\\lipspeakers\\Lipspkr1\\Clips\\processed\\video25crop\\straightcam\\sx232.mp4\n"
     ]
    },
    {
     "name": "stderr",
     "output_type": "stream",
     "text": [
      "Cropping -> straightcam:  57%|█████▋    | 215/377 [04:25<03:01,  1.12s/it]"
     ]
    },
    {
     "name": "stdout",
     "output_type": "stream",
     "text": [
      "[ok] sx233: 153 frames -> C:\\Users\\irish\\Computer_Electronic_Engineering_Year5\\AVSR_project\\Data\\TCD_TIMIT\\lipspeakers\\Lipspkr1\\Clips\\processed\\video25crop\\straightcam\\sx233.mp4\n"
     ]
    },
    {
     "name": "stderr",
     "output_type": "stream",
     "text": [
      "Cropping -> straightcam:  57%|█████▋    | 216/377 [04:26<03:13,  1.20s/it]"
     ]
    },
    {
     "name": "stdout",
     "output_type": "stream",
     "text": [
      "[ok] sx234: 186 frames -> C:\\Users\\irish\\Computer_Electronic_Engineering_Year5\\AVSR_project\\Data\\TCD_TIMIT\\lipspeakers\\Lipspkr1\\Clips\\processed\\video25crop\\straightcam\\sx234.mp4\n"
     ]
    },
    {
     "name": "stderr",
     "output_type": "stream",
     "text": [
      "Cropping -> straightcam:  58%|█████▊    | 217/377 [04:28<03:14,  1.22s/it]"
     ]
    },
    {
     "name": "stdout",
     "output_type": "stream",
     "text": [
      "[ok] sx235: 167 frames -> C:\\Users\\irish\\Computer_Electronic_Engineering_Year5\\AVSR_project\\Data\\TCD_TIMIT\\lipspeakers\\Lipspkr1\\Clips\\processed\\video25crop\\straightcam\\sx235.mp4\n"
     ]
    },
    {
     "name": "stderr",
     "output_type": "stream",
     "text": [
      "Cropping -> straightcam:  58%|█████▊    | 218/377 [04:29<03:15,  1.23s/it]"
     ]
    },
    {
     "name": "stdout",
     "output_type": "stream",
     "text": [
      "[ok] sx236: 162 frames -> C:\\Users\\irish\\Computer_Electronic_Engineering_Year5\\AVSR_project\\Data\\TCD_TIMIT\\lipspeakers\\Lipspkr1\\Clips\\processed\\video25crop\\straightcam\\sx236.mp4\n"
     ]
    },
    {
     "name": "stderr",
     "output_type": "stream",
     "text": [
      "Cropping -> straightcam:  58%|█████▊    | 219/377 [04:30<02:57,  1.12s/it]"
     ]
    },
    {
     "name": "stdout",
     "output_type": "stream",
     "text": [
      "[ok] sx237: 103 frames -> C:\\Users\\irish\\Computer_Electronic_Engineering_Year5\\AVSR_project\\Data\\TCD_TIMIT\\lipspeakers\\Lipspkr1\\Clips\\processed\\video25crop\\straightcam\\sx237.mp4\n"
     ]
    },
    {
     "name": "stderr",
     "output_type": "stream",
     "text": [
      "Cropping -> straightcam:  58%|█████▊    | 220/377 [04:31<03:04,  1.17s/it]"
     ]
    },
    {
     "name": "stdout",
     "output_type": "stream",
     "text": [
      "[ok] sx238: 155 frames -> C:\\Users\\irish\\Computer_Electronic_Engineering_Year5\\AVSR_project\\Data\\TCD_TIMIT\\lipspeakers\\Lipspkr1\\Clips\\processed\\video25crop\\straightcam\\sx238.mp4\n"
     ]
    },
    {
     "name": "stderr",
     "output_type": "stream",
     "text": [
      "Cropping -> straightcam:  59%|█████▊    | 221/377 [04:32<03:09,  1.21s/it]"
     ]
    },
    {
     "name": "stdout",
     "output_type": "stream",
     "text": [
      "[ok] sx239: 170 frames -> C:\\Users\\irish\\Computer_Electronic_Engineering_Year5\\AVSR_project\\Data\\TCD_TIMIT\\lipspeakers\\Lipspkr1\\Clips\\processed\\video25crop\\straightcam\\sx239.mp4\n"
     ]
    },
    {
     "name": "stderr",
     "output_type": "stream",
     "text": [
      "Cropping -> straightcam:  59%|█████▉    | 222/377 [04:34<03:09,  1.22s/it]"
     ]
    },
    {
     "name": "stdout",
     "output_type": "stream",
     "text": [
      "[ok] sx240: 156 frames -> C:\\Users\\irish\\Computer_Electronic_Engineering_Year5\\AVSR_project\\Data\\TCD_TIMIT\\lipspeakers\\Lipspkr1\\Clips\\processed\\video25crop\\straightcam\\sx240.mp4\n"
     ]
    },
    {
     "name": "stderr",
     "output_type": "stream",
     "text": [
      "Cropping -> straightcam:  59%|█████▉    | 223/377 [04:35<03:05,  1.21s/it]"
     ]
    },
    {
     "name": "stdout",
     "output_type": "stream",
     "text": [
      "[ok] sx241: 148 frames -> C:\\Users\\irish\\Computer_Electronic_Engineering_Year5\\AVSR_project\\Data\\TCD_TIMIT\\lipspeakers\\Lipspkr1\\Clips\\processed\\video25crop\\straightcam\\sx241.mp4\n"
     ]
    },
    {
     "name": "stderr",
     "output_type": "stream",
     "text": [
      "Cropping -> straightcam:  59%|█████▉    | 224/377 [04:36<03:17,  1.29s/it]"
     ]
    },
    {
     "name": "stdout",
     "output_type": "stream",
     "text": [
      "[ok] sx242: 186 frames -> C:\\Users\\irish\\Computer_Electronic_Engineering_Year5\\AVSR_project\\Data\\TCD_TIMIT\\lipspeakers\\Lipspkr1\\Clips\\processed\\video25crop\\straightcam\\sx242.mp4\n"
     ]
    },
    {
     "name": "stderr",
     "output_type": "stream",
     "text": [
      "Cropping -> straightcam:  60%|█████▉    | 225/377 [04:37<03:16,  1.29s/it]"
     ]
    },
    {
     "name": "stdout",
     "output_type": "stream",
     "text": [
      "[ok] sx255: 164 frames -> C:\\Users\\irish\\Computer_Electronic_Engineering_Year5\\AVSR_project\\Data\\TCD_TIMIT\\lipspeakers\\Lipspkr1\\Clips\\processed\\video25crop\\straightcam\\sx255.mp4\n"
     ]
    },
    {
     "name": "stderr",
     "output_type": "stream",
     "text": [
      "Cropping -> straightcam:  60%|█████▉    | 226/377 [04:39<03:15,  1.29s/it]"
     ]
    },
    {
     "name": "stdout",
     "output_type": "stream",
     "text": [
      "[ok] sx256: 164 frames -> C:\\Users\\irish\\Computer_Electronic_Engineering_Year5\\AVSR_project\\Data\\TCD_TIMIT\\lipspeakers\\Lipspkr1\\Clips\\processed\\video25crop\\straightcam\\sx256.mp4\n"
     ]
    },
    {
     "name": "stderr",
     "output_type": "stream",
     "text": [
      "Cropping -> straightcam:  60%|██████    | 227/377 [04:40<02:59,  1.20s/it]"
     ]
    },
    {
     "name": "stdout",
     "output_type": "stream",
     "text": [
      "[ok] sx257: 119 frames -> C:\\Users\\irish\\Computer_Electronic_Engineering_Year5\\AVSR_project\\Data\\TCD_TIMIT\\lipspeakers\\Lipspkr1\\Clips\\processed\\video25crop\\straightcam\\sx257.mp4\n"
     ]
    },
    {
     "name": "stderr",
     "output_type": "stream",
     "text": [
      "Cropping -> straightcam:  60%|██████    | 228/377 [04:41<03:13,  1.30s/it]"
     ]
    },
    {
     "name": "stdout",
     "output_type": "stream",
     "text": [
      "[ok] sx258: 192 frames -> C:\\Users\\irish\\Computer_Electronic_Engineering_Year5\\AVSR_project\\Data\\TCD_TIMIT\\lipspeakers\\Lipspkr1\\Clips\\processed\\video25crop\\straightcam\\sx258.mp4\n"
     ]
    },
    {
     "name": "stderr",
     "output_type": "stream",
     "text": [
      "Cropping -> straightcam:  61%|██████    | 229/377 [04:43<03:22,  1.37s/it]"
     ]
    },
    {
     "name": "stdout",
     "output_type": "stream",
     "text": [
      "[ok] sx259: 175 frames -> C:\\Users\\irish\\Computer_Electronic_Engineering_Year5\\AVSR_project\\Data\\TCD_TIMIT\\lipspeakers\\Lipspkr1\\Clips\\processed\\video25crop\\straightcam\\sx259.mp4\n"
     ]
    },
    {
     "name": "stderr",
     "output_type": "stream",
     "text": [
      "Cropping -> straightcam:  61%|██████    | 230/377 [04:45<03:35,  1.47s/it]"
     ]
    },
    {
     "name": "stdout",
     "output_type": "stream",
     "text": [
      "[ok] sx260: 187 frames -> C:\\Users\\irish\\Computer_Electronic_Engineering_Year5\\AVSR_project\\Data\\TCD_TIMIT\\lipspeakers\\Lipspkr1\\Clips\\processed\\video25crop\\straightcam\\sx260.mp4\n"
     ]
    },
    {
     "name": "stderr",
     "output_type": "stream",
     "text": [
      "Cropping -> straightcam:  61%|██████▏   | 231/377 [04:46<03:19,  1.37s/it]"
     ]
    },
    {
     "name": "stdout",
     "output_type": "stream",
     "text": [
      "[ok] sx261: 148 frames -> C:\\Users\\irish\\Computer_Electronic_Engineering_Year5\\AVSR_project\\Data\\TCD_TIMIT\\lipspeakers\\Lipspkr1\\Clips\\processed\\video25crop\\straightcam\\sx261.mp4\n"
     ]
    },
    {
     "name": "stderr",
     "output_type": "stream",
     "text": [
      "Cropping -> straightcam:  62%|██████▏   | 232/377 [04:47<03:06,  1.29s/it]"
     ]
    },
    {
     "name": "stdout",
     "output_type": "stream",
     "text": [
      "[ok] sx262: 152 frames -> C:\\Users\\irish\\Computer_Electronic_Engineering_Year5\\AVSR_project\\Data\\TCD_TIMIT\\lipspeakers\\Lipspkr1\\Clips\\processed\\video25crop\\straightcam\\sx262.mp4\n"
     ]
    },
    {
     "name": "stderr",
     "output_type": "stream",
     "text": [
      "Cropping -> straightcam:  62%|██████▏   | 233/377 [04:48<02:48,  1.17s/it]"
     ]
    },
    {
     "name": "stdout",
     "output_type": "stream",
     "text": [
      "[ok] sx263: 139 frames -> C:\\Users\\irish\\Computer_Electronic_Engineering_Year5\\AVSR_project\\Data\\TCD_TIMIT\\lipspeakers\\Lipspkr1\\Clips\\processed\\video25crop\\straightcam\\sx263.mp4\n"
     ]
    },
    {
     "name": "stderr",
     "output_type": "stream",
     "text": [
      "Cropping -> straightcam:  62%|██████▏   | 234/377 [04:49<02:55,  1.23s/it]"
     ]
    },
    {
     "name": "stdout",
     "output_type": "stream",
     "text": [
      "[ok] sx264: 180 frames -> C:\\Users\\irish\\Computer_Electronic_Engineering_Year5\\AVSR_project\\Data\\TCD_TIMIT\\lipspeakers\\Lipspkr1\\Clips\\processed\\video25crop\\straightcam\\sx264.mp4\n"
     ]
    },
    {
     "name": "stderr",
     "output_type": "stream",
     "text": [
      "Cropping -> straightcam:  62%|██████▏   | 235/377 [04:50<02:50,  1.20s/it]"
     ]
    },
    {
     "name": "stdout",
     "output_type": "stream",
     "text": [
      "[ok] sx265: 163 frames -> C:\\Users\\irish\\Computer_Electronic_Engineering_Year5\\AVSR_project\\Data\\TCD_TIMIT\\lipspeakers\\Lipspkr1\\Clips\\processed\\video25crop\\straightcam\\sx265.mp4\n"
     ]
    },
    {
     "name": "stderr",
     "output_type": "stream",
     "text": [
      "Cropping -> straightcam:  63%|██████▎   | 236/377 [04:51<02:45,  1.18s/it]"
     ]
    },
    {
     "name": "stdout",
     "output_type": "stream",
     "text": [
      "[ok] sx266: 161 frames -> C:\\Users\\irish\\Computer_Electronic_Engineering_Year5\\AVSR_project\\Data\\TCD_TIMIT\\lipspeakers\\Lipspkr1\\Clips\\processed\\video25crop\\straightcam\\sx266.mp4\n"
     ]
    },
    {
     "name": "stderr",
     "output_type": "stream",
     "text": [
      "Cropping -> straightcam:  63%|██████▎   | 237/377 [04:52<02:41,  1.15s/it]"
     ]
    },
    {
     "name": "stdout",
     "output_type": "stream",
     "text": [
      "[ok] sx267: 174 frames -> C:\\Users\\irish\\Computer_Electronic_Engineering_Year5\\AVSR_project\\Data\\TCD_TIMIT\\lipspeakers\\Lipspkr1\\Clips\\processed\\video25crop\\straightcam\\sx267.mp4\n"
     ]
    },
    {
     "name": "stderr",
     "output_type": "stream",
     "text": [
      "Cropping -> straightcam:  63%|██████▎   | 238/377 [04:54<02:40,  1.15s/it]"
     ]
    },
    {
     "name": "stdout",
     "output_type": "stream",
     "text": [
      "[ok] sx268: 157 frames -> C:\\Users\\irish\\Computer_Electronic_Engineering_Year5\\AVSR_project\\Data\\TCD_TIMIT\\lipspeakers\\Lipspkr1\\Clips\\processed\\video25crop\\straightcam\\sx268.mp4\n"
     ]
    },
    {
     "name": "stderr",
     "output_type": "stream",
     "text": [
      "Cropping -> straightcam:  63%|██████▎   | 239/377 [04:54<02:29,  1.09s/it]"
     ]
    },
    {
     "name": "stdout",
     "output_type": "stream",
     "text": [
      "[ok] sx269: 131 frames -> C:\\Users\\irish\\Computer_Electronic_Engineering_Year5\\AVSR_project\\Data\\TCD_TIMIT\\lipspeakers\\Lipspkr1\\Clips\\processed\\video25crop\\straightcam\\sx269.mp4\n"
     ]
    },
    {
     "name": "stderr",
     "output_type": "stream",
     "text": [
      "Cropping -> straightcam:  64%|██████▎   | 240/377 [04:55<02:23,  1.05s/it]"
     ]
    },
    {
     "name": "stdout",
     "output_type": "stream",
     "text": [
      "[ok] sx270: 121 frames -> C:\\Users\\irish\\Computer_Electronic_Engineering_Year5\\AVSR_project\\Data\\TCD_TIMIT\\lipspeakers\\Lipspkr1\\Clips\\processed\\video25crop\\straightcam\\sx270.mp4\n"
     ]
    },
    {
     "name": "stderr",
     "output_type": "stream",
     "text": [
      "Cropping -> straightcam:  64%|██████▍   | 241/377 [04:57<02:26,  1.08s/it]"
     ]
    },
    {
     "name": "stdout",
     "output_type": "stream",
     "text": [
      "[ok] sx271: 157 frames -> C:\\Users\\irish\\Computer_Electronic_Engineering_Year5\\AVSR_project\\Data\\TCD_TIMIT\\lipspeakers\\Lipspkr1\\Clips\\processed\\video25crop\\straightcam\\sx271.mp4\n"
     ]
    },
    {
     "name": "stderr",
     "output_type": "stream",
     "text": [
      "Cropping -> straightcam:  64%|██████▍   | 242/377 [04:58<02:28,  1.10s/it]"
     ]
    },
    {
     "name": "stdout",
     "output_type": "stream",
     "text": [
      "[ok] sx272: 139 frames -> C:\\Users\\irish\\Computer_Electronic_Engineering_Year5\\AVSR_project\\Data\\TCD_TIMIT\\lipspeakers\\Lipspkr1\\Clips\\processed\\video25crop\\straightcam\\sx272.mp4\n"
     ]
    },
    {
     "name": "stderr",
     "output_type": "stream",
     "text": [
      "Cropping -> straightcam:  64%|██████▍   | 243/377 [04:59<02:23,  1.07s/it]"
     ]
    },
    {
     "name": "stdout",
     "output_type": "stream",
     "text": [
      "[ok] sx274: 145 frames -> C:\\Users\\irish\\Computer_Electronic_Engineering_Year5\\AVSR_project\\Data\\TCD_TIMIT\\lipspeakers\\Lipspkr1\\Clips\\processed\\video25crop\\straightcam\\sx274.mp4\n"
     ]
    },
    {
     "name": "stderr",
     "output_type": "stream",
     "text": [
      "Cropping -> straightcam:  65%|██████▍   | 244/377 [05:00<02:26,  1.10s/it]"
     ]
    },
    {
     "name": "stdout",
     "output_type": "stream",
     "text": [
      "[ok] sx275: 156 frames -> C:\\Users\\irish\\Computer_Electronic_Engineering_Year5\\AVSR_project\\Data\\TCD_TIMIT\\lipspeakers\\Lipspkr1\\Clips\\processed\\video25crop\\straightcam\\sx275.mp4\n"
     ]
    },
    {
     "name": "stderr",
     "output_type": "stream",
     "text": [
      "Cropping -> straightcam:  65%|██████▍   | 245/377 [05:01<02:22,  1.08s/it]"
     ]
    },
    {
     "name": "stdout",
     "output_type": "stream",
     "text": [
      "[ok] sx276: 137 frames -> C:\\Users\\irish\\Computer_Electronic_Engineering_Year5\\AVSR_project\\Data\\TCD_TIMIT\\lipspeakers\\Lipspkr1\\Clips\\processed\\video25crop\\straightcam\\sx276.mp4\n"
     ]
    },
    {
     "name": "stderr",
     "output_type": "stream",
     "text": [
      "Cropping -> straightcam:  65%|██████▌   | 246/377 [05:02<02:23,  1.10s/it]"
     ]
    },
    {
     "name": "stdout",
     "output_type": "stream",
     "text": [
      "[ok] sx277: 151 frames -> C:\\Users\\irish\\Computer_Electronic_Engineering_Year5\\AVSR_project\\Data\\TCD_TIMIT\\lipspeakers\\Lipspkr1\\Clips\\processed\\video25crop\\straightcam\\sx277.mp4\n"
     ]
    },
    {
     "name": "stderr",
     "output_type": "stream",
     "text": [
      "Cropping -> straightcam:  66%|██████▌   | 247/377 [05:03<02:34,  1.19s/it]"
     ]
    },
    {
     "name": "stdout",
     "output_type": "stream",
     "text": [
      "[ok] sx278: 196 frames -> C:\\Users\\irish\\Computer_Electronic_Engineering_Year5\\AVSR_project\\Data\\TCD_TIMIT\\lipspeakers\\Lipspkr1\\Clips\\processed\\video25crop\\straightcam\\sx278.mp4\n"
     ]
    },
    {
     "name": "stderr",
     "output_type": "stream",
     "text": [
      "Cropping -> straightcam:  66%|██████▌   | 248/377 [05:05<02:39,  1.24s/it]"
     ]
    },
    {
     "name": "stdout",
     "output_type": "stream",
     "text": [
      "[ok] sx279: 174 frames -> C:\\Users\\irish\\Computer_Electronic_Engineering_Year5\\AVSR_project\\Data\\TCD_TIMIT\\lipspeakers\\Lipspkr1\\Clips\\processed\\video25crop\\straightcam\\sx279.mp4\n"
     ]
    },
    {
     "name": "stderr",
     "output_type": "stream",
     "text": [
      "Cropping -> straightcam:  66%|██████▌   | 249/377 [05:06<02:23,  1.12s/it]"
     ]
    },
    {
     "name": "stdout",
     "output_type": "stream",
     "text": [
      "[ok] sx280: 110 frames -> C:\\Users\\irish\\Computer_Electronic_Engineering_Year5\\AVSR_project\\Data\\TCD_TIMIT\\lipspeakers\\Lipspkr1\\Clips\\processed\\video25crop\\straightcam\\sx280.mp4\n"
     ]
    },
    {
     "name": "stderr",
     "output_type": "stream",
     "text": [
      "Cropping -> straightcam:  66%|██████▋   | 250/377 [05:07<02:35,  1.22s/it]"
     ]
    },
    {
     "name": "stdout",
     "output_type": "stream",
     "text": [
      "[ok] sx281: 196 frames -> C:\\Users\\irish\\Computer_Electronic_Engineering_Year5\\AVSR_project\\Data\\TCD_TIMIT\\lipspeakers\\Lipspkr1\\Clips\\processed\\video25crop\\straightcam\\sx281.mp4\n"
     ]
    },
    {
     "name": "stderr",
     "output_type": "stream",
     "text": [
      "Cropping -> straightcam:  67%|██████▋   | 251/377 [05:08<02:35,  1.23s/it]"
     ]
    },
    {
     "name": "stdout",
     "output_type": "stream",
     "text": [
      "[ok] sx282: 164 frames -> C:\\Users\\irish\\Computer_Electronic_Engineering_Year5\\AVSR_project\\Data\\TCD_TIMIT\\lipspeakers\\Lipspkr1\\Clips\\processed\\video25crop\\straightcam\\sx282.mp4\n"
     ]
    },
    {
     "name": "stderr",
     "output_type": "stream",
     "text": [
      "Cropping -> straightcam:  67%|██████▋   | 252/377 [05:10<02:39,  1.28s/it]"
     ]
    },
    {
     "name": "stdout",
     "output_type": "stream",
     "text": [
      "[ok] sx283: 188 frames -> C:\\Users\\irish\\Computer_Electronic_Engineering_Year5\\AVSR_project\\Data\\TCD_TIMIT\\lipspeakers\\Lipspkr1\\Clips\\processed\\video25crop\\straightcam\\sx283.mp4\n"
     ]
    },
    {
     "name": "stderr",
     "output_type": "stream",
     "text": [
      "Cropping -> straightcam:  67%|██████▋   | 253/377 [05:11<02:39,  1.29s/it]"
     ]
    },
    {
     "name": "stdout",
     "output_type": "stream",
     "text": [
      "[ok] sx284: 171 frames -> C:\\Users\\irish\\Computer_Electronic_Engineering_Year5\\AVSR_project\\Data\\TCD_TIMIT\\lipspeakers\\Lipspkr1\\Clips\\processed\\video25crop\\straightcam\\sx284.mp4\n"
     ]
    },
    {
     "name": "stderr",
     "output_type": "stream",
     "text": [
      "Cropping -> straightcam:  67%|██████▋   | 254/377 [05:12<02:27,  1.20s/it]"
     ]
    },
    {
     "name": "stdout",
     "output_type": "stream",
     "text": [
      "[ok] sx285: 151 frames -> C:\\Users\\irish\\Computer_Electronic_Engineering_Year5\\AVSR_project\\Data\\TCD_TIMIT\\lipspeakers\\Lipspkr1\\Clips\\processed\\video25crop\\straightcam\\sx285.mp4\n"
     ]
    },
    {
     "name": "stderr",
     "output_type": "stream",
     "text": [
      "Cropping -> straightcam:  68%|██████▊   | 255/377 [05:13<02:32,  1.25s/it]"
     ]
    },
    {
     "name": "stdout",
     "output_type": "stream",
     "text": [
      "[ok] sx286: 185 frames -> C:\\Users\\irish\\Computer_Electronic_Engineering_Year5\\AVSR_project\\Data\\TCD_TIMIT\\lipspeakers\\Lipspkr1\\Clips\\processed\\video25crop\\straightcam\\sx286.mp4\n"
     ]
    },
    {
     "name": "stderr",
     "output_type": "stream",
     "text": [
      "Cropping -> straightcam:  68%|██████▊   | 256/377 [05:15<02:27,  1.22s/it]"
     ]
    },
    {
     "name": "stdout",
     "output_type": "stream",
     "text": [
      "[ok] sx287: 154 frames -> C:\\Users\\irish\\Computer_Electronic_Engineering_Year5\\AVSR_project\\Data\\TCD_TIMIT\\lipspeakers\\Lipspkr1\\Clips\\processed\\video25crop\\straightcam\\sx287.mp4\n"
     ]
    },
    {
     "name": "stderr",
     "output_type": "stream",
     "text": [
      "Cropping -> straightcam:  68%|██████▊   | 257/377 [05:16<02:31,  1.26s/it]"
     ]
    },
    {
     "name": "stdout",
     "output_type": "stream",
     "text": [
      "[ok] sx288: 184 frames -> C:\\Users\\irish\\Computer_Electronic_Engineering_Year5\\AVSR_project\\Data\\TCD_TIMIT\\lipspeakers\\Lipspkr1\\Clips\\processed\\video25crop\\straightcam\\sx288.mp4\n"
     ]
    },
    {
     "name": "stderr",
     "output_type": "stream",
     "text": [
      "Cropping -> straightcam:  68%|██████▊   | 258/377 [05:17<02:27,  1.24s/it]"
     ]
    },
    {
     "name": "stdout",
     "output_type": "stream",
     "text": [
      "[ok] sx289: 151 frames -> C:\\Users\\irish\\Computer_Electronic_Engineering_Year5\\AVSR_project\\Data\\TCD_TIMIT\\lipspeakers\\Lipspkr1\\Clips\\processed\\video25crop\\straightcam\\sx289.mp4\n"
     ]
    },
    {
     "name": "stderr",
     "output_type": "stream",
     "text": [
      "Cropping -> straightcam:  69%|██████▊   | 259/377 [05:18<02:27,  1.25s/it]"
     ]
    },
    {
     "name": "stdout",
     "output_type": "stream",
     "text": [
      "[ok] sx290: 173 frames -> C:\\Users\\irish\\Computer_Electronic_Engineering_Year5\\AVSR_project\\Data\\TCD_TIMIT\\lipspeakers\\Lipspkr1\\Clips\\processed\\video25crop\\straightcam\\sx290.mp4\n"
     ]
    },
    {
     "name": "stderr",
     "output_type": "stream",
     "text": [
      "Cropping -> straightcam:  69%|██████▉   | 260/377 [05:19<02:06,  1.08s/it]"
     ]
    },
    {
     "name": "stdout",
     "output_type": "stream",
     "text": [
      "[ok] sx3: 100 frames -> C:\\Users\\irish\\Computer_Electronic_Engineering_Year5\\AVSR_project\\Data\\TCD_TIMIT\\lipspeakers\\Lipspkr1\\Clips\\processed\\video25crop\\straightcam\\sx3.mp4\n"
     ]
    },
    {
     "name": "stderr",
     "output_type": "stream",
     "text": [
      "Cropping -> straightcam:  69%|██████▉   | 261/377 [05:21<02:21,  1.22s/it]"
     ]
    },
    {
     "name": "stdout",
     "output_type": "stream",
     "text": [
      "[ok] sx321: 219 frames -> C:\\Users\\irish\\Computer_Electronic_Engineering_Year5\\AVSR_project\\Data\\TCD_TIMIT\\lipspeakers\\Lipspkr1\\Clips\\processed\\video25crop\\straightcam\\sx321.mp4\n"
     ]
    },
    {
     "name": "stderr",
     "output_type": "stream",
     "text": [
      "Cropping -> straightcam:  69%|██████▉   | 262/377 [05:22<02:12,  1.16s/it]"
     ]
    },
    {
     "name": "stdout",
     "output_type": "stream",
     "text": [
      "[ok] sx322: 136 frames -> C:\\Users\\irish\\Computer_Electronic_Engineering_Year5\\AVSR_project\\Data\\TCD_TIMIT\\lipspeakers\\Lipspkr1\\Clips\\processed\\video25crop\\straightcam\\sx322.mp4\n"
     ]
    },
    {
     "name": "stderr",
     "output_type": "stream",
     "text": [
      "Cropping -> straightcam:  70%|██████▉   | 263/377 [05:23<02:07,  1.12s/it]"
     ]
    },
    {
     "name": "stdout",
     "output_type": "stream",
     "text": [
      "[ok] sx323: 138 frames -> C:\\Users\\irish\\Computer_Electronic_Engineering_Year5\\AVSR_project\\Data\\TCD_TIMIT\\lipspeakers\\Lipspkr1\\Clips\\processed\\video25crop\\straightcam\\sx323.mp4\n"
     ]
    },
    {
     "name": "stderr",
     "output_type": "stream",
     "text": [
      "Cropping -> straightcam:  70%|███████   | 264/377 [05:24<02:16,  1.21s/it]"
     ]
    },
    {
     "name": "stdout",
     "output_type": "stream",
     "text": [
      "[ok] sx324: 198 frames -> C:\\Users\\irish\\Computer_Electronic_Engineering_Year5\\AVSR_project\\Data\\TCD_TIMIT\\lipspeakers\\Lipspkr1\\Clips\\processed\\video25crop\\straightcam\\sx324.mp4\n"
     ]
    },
    {
     "name": "stderr",
     "output_type": "stream",
     "text": [
      "Cropping -> straightcam:  70%|███████   | 265/377 [05:25<02:08,  1.15s/it]"
     ]
    },
    {
     "name": "stdout",
     "output_type": "stream",
     "text": [
      "[ok] sx325: 145 frames -> C:\\Users\\irish\\Computer_Electronic_Engineering_Year5\\AVSR_project\\Data\\TCD_TIMIT\\lipspeakers\\Lipspkr1\\Clips\\processed\\video25crop\\straightcam\\sx325.mp4\n"
     ]
    },
    {
     "name": "stderr",
     "output_type": "stream",
     "text": [
      "Cropping -> straightcam:  71%|███████   | 266/377 [05:26<02:08,  1.15s/it]"
     ]
    },
    {
     "name": "stdout",
     "output_type": "stream",
     "text": [
      "[ok] sx326: 161 frames -> C:\\Users\\irish\\Computer_Electronic_Engineering_Year5\\AVSR_project\\Data\\TCD_TIMIT\\lipspeakers\\Lipspkr1\\Clips\\processed\\video25crop\\straightcam\\sx326.mp4\n"
     ]
    },
    {
     "name": "stderr",
     "output_type": "stream",
     "text": [
      "Cropping -> straightcam:  71%|███████   | 267/377 [05:28<02:17,  1.25s/it]"
     ]
    },
    {
     "name": "stdout",
     "output_type": "stream",
     "text": [
      "[ok] sx327: 224 frames -> C:\\Users\\irish\\Computer_Electronic_Engineering_Year5\\AVSR_project\\Data\\TCD_TIMIT\\lipspeakers\\Lipspkr1\\Clips\\processed\\video25crop\\straightcam\\sx327.mp4\n"
     ]
    },
    {
     "name": "stderr",
     "output_type": "stream",
     "text": [
      "Cropping -> straightcam:  71%|███████   | 268/377 [05:29<02:21,  1.30s/it]"
     ]
    },
    {
     "name": "stdout",
     "output_type": "stream",
     "text": [
      "[ok] sx328: 210 frames -> C:\\Users\\irish\\Computer_Electronic_Engineering_Year5\\AVSR_project\\Data\\TCD_TIMIT\\lipspeakers\\Lipspkr1\\Clips\\processed\\video25crop\\straightcam\\sx328.mp4\n"
     ]
    },
    {
     "name": "stderr",
     "output_type": "stream",
     "text": [
      "Cropping -> straightcam:  71%|███████▏  | 269/377 [05:31<02:29,  1.39s/it]"
     ]
    },
    {
     "name": "stdout",
     "output_type": "stream",
     "text": [
      "[ok] sx329: 215 frames -> C:\\Users\\irish\\Computer_Electronic_Engineering_Year5\\AVSR_project\\Data\\TCD_TIMIT\\lipspeakers\\Lipspkr1\\Clips\\processed\\video25crop\\straightcam\\sx329.mp4\n"
     ]
    },
    {
     "name": "stderr",
     "output_type": "stream",
     "text": [
      "Cropping -> straightcam:  72%|███████▏  | 270/377 [05:32<02:23,  1.34s/it]"
     ]
    },
    {
     "name": "stdout",
     "output_type": "stream",
     "text": [
      "[ok] sx330: 180 frames -> C:\\Users\\irish\\Computer_Electronic_Engineering_Year5\\AVSR_project\\Data\\TCD_TIMIT\\lipspeakers\\Lipspkr1\\Clips\\processed\\video25crop\\straightcam\\sx330.mp4\n"
     ]
    },
    {
     "name": "stderr",
     "output_type": "stream",
     "text": [
      "Cropping -> straightcam:  72%|███████▏  | 271/377 [05:33<02:17,  1.30s/it]"
     ]
    },
    {
     "name": "stdout",
     "output_type": "stream",
     "text": [
      "[ok] sx331: 169 frames -> C:\\Users\\irish\\Computer_Electronic_Engineering_Year5\\AVSR_project\\Data\\TCD_TIMIT\\lipspeakers\\Lipspkr1\\Clips\\processed\\video25crop\\straightcam\\sx331.mp4\n"
     ]
    },
    {
     "name": "stderr",
     "output_type": "stream",
     "text": [
      "Cropping -> straightcam:  72%|███████▏  | 272/377 [05:34<02:17,  1.31s/it]"
     ]
    },
    {
     "name": "stdout",
     "output_type": "stream",
     "text": [
      "[ok] sx332: 187 frames -> C:\\Users\\irish\\Computer_Electronic_Engineering_Year5\\AVSR_project\\Data\\TCD_TIMIT\\lipspeakers\\Lipspkr1\\Clips\\processed\\video25crop\\straightcam\\sx332.mp4\n"
     ]
    },
    {
     "name": "stderr",
     "output_type": "stream",
     "text": [
      "Cropping -> straightcam:  72%|███████▏  | 273/377 [05:36<02:14,  1.29s/it]"
     ]
    },
    {
     "name": "stdout",
     "output_type": "stream",
     "text": [
      "[ok] sx345: 168 frames -> C:\\Users\\irish\\Computer_Electronic_Engineering_Year5\\AVSR_project\\Data\\TCD_TIMIT\\lipspeakers\\Lipspkr1\\Clips\\processed\\video25crop\\straightcam\\sx345.mp4\n"
     ]
    },
    {
     "name": "stderr",
     "output_type": "stream",
     "text": [
      "Cropping -> straightcam:  73%|███████▎  | 274/377 [05:37<02:09,  1.25s/it]"
     ]
    },
    {
     "name": "stdout",
     "output_type": "stream",
     "text": [
      "[ok] sx346: 189 frames -> C:\\Users\\irish\\Computer_Electronic_Engineering_Year5\\AVSR_project\\Data\\TCD_TIMIT\\lipspeakers\\Lipspkr1\\Clips\\processed\\video25crop\\straightcam\\sx346.mp4\n"
     ]
    },
    {
     "name": "stderr",
     "output_type": "stream",
     "text": [
      "Cropping -> straightcam:  73%|███████▎  | 275/377 [05:38<02:05,  1.23s/it]"
     ]
    },
    {
     "name": "stdout",
     "output_type": "stream",
     "text": [
      "[ok] sx348: 208 frames -> C:\\Users\\irish\\Computer_Electronic_Engineering_Year5\\AVSR_project\\Data\\TCD_TIMIT\\lipspeakers\\Lipspkr1\\Clips\\processed\\video25crop\\straightcam\\sx348.mp4\n"
     ]
    },
    {
     "name": "stderr",
     "output_type": "stream",
     "text": [
      "Cropping -> straightcam:  73%|███████▎  | 276/377 [05:39<02:06,  1.25s/it]"
     ]
    },
    {
     "name": "stdout",
     "output_type": "stream",
     "text": [
      "[ok] sx349: 212 frames -> C:\\Users\\irish\\Computer_Electronic_Engineering_Year5\\AVSR_project\\Data\\TCD_TIMIT\\lipspeakers\\Lipspkr1\\Clips\\processed\\video25crop\\straightcam\\sx349.mp4\n"
     ]
    },
    {
     "name": "stderr",
     "output_type": "stream",
     "text": [
      "Cropping -> straightcam:  73%|███████▎  | 277/377 [05:41<02:05,  1.25s/it]"
     ]
    },
    {
     "name": "stdout",
     "output_type": "stream",
     "text": [
      "[ok] sx350: 224 frames -> C:\\Users\\irish\\Computer_Electronic_Engineering_Year5\\AVSR_project\\Data\\TCD_TIMIT\\lipspeakers\\Lipspkr1\\Clips\\processed\\video25crop\\straightcam\\sx350.mp4\n"
     ]
    },
    {
     "name": "stderr",
     "output_type": "stream",
     "text": [
      "Cropping -> straightcam:  74%|███████▎  | 278/377 [05:42<02:06,  1.28s/it]"
     ]
    },
    {
     "name": "stdout",
     "output_type": "stream",
     "text": [
      "[ok] sx351: 207 frames -> C:\\Users\\irish\\Computer_Electronic_Engineering_Year5\\AVSR_project\\Data\\TCD_TIMIT\\lipspeakers\\Lipspkr1\\Clips\\processed\\video25crop\\straightcam\\sx351.mp4\n"
     ]
    },
    {
     "name": "stderr",
     "output_type": "stream",
     "text": [
      "Cropping -> straightcam:  74%|███████▍  | 279/377 [05:44<02:17,  1.40s/it]"
     ]
    },
    {
     "name": "stdout",
     "output_type": "stream",
     "text": [
      "[ok] sx352: 239 frames -> C:\\Users\\irish\\Computer_Electronic_Engineering_Year5\\AVSR_project\\Data\\TCD_TIMIT\\lipspeakers\\Lipspkr1\\Clips\\processed\\video25crop\\straightcam\\sx352.mp4\n"
     ]
    },
    {
     "name": "stderr",
     "output_type": "stream",
     "text": [
      "Cropping -> straightcam:  74%|███████▍  | 280/377 [05:45<02:10,  1.35s/it]"
     ]
    },
    {
     "name": "stdout",
     "output_type": "stream",
     "text": [
      "[ok] sx353: 171 frames -> C:\\Users\\irish\\Computer_Electronic_Engineering_Year5\\AVSR_project\\Data\\TCD_TIMIT\\lipspeakers\\Lipspkr1\\Clips\\processed\\video25crop\\straightcam\\sx353.mp4\n"
     ]
    },
    {
     "name": "stderr",
     "output_type": "stream",
     "text": [
      "Cropping -> straightcam:  75%|███████▍  | 281/377 [05:46<02:02,  1.28s/it]"
     ]
    },
    {
     "name": "stdout",
     "output_type": "stream",
     "text": [
      "[ok] sx354: 156 frames -> C:\\Users\\irish\\Computer_Electronic_Engineering_Year5\\AVSR_project\\Data\\TCD_TIMIT\\lipspeakers\\Lipspkr1\\Clips\\processed\\video25crop\\straightcam\\sx354.mp4\n"
     ]
    },
    {
     "name": "stderr",
     "output_type": "stream",
     "text": [
      "Cropping -> straightcam:  75%|███████▍  | 282/377 [05:47<01:57,  1.24s/it]"
     ]
    },
    {
     "name": "stdout",
     "output_type": "stream",
     "text": [
      "[ok] sx355: 158 frames -> C:\\Users\\irish\\Computer_Electronic_Engineering_Year5\\AVSR_project\\Data\\TCD_TIMIT\\lipspeakers\\Lipspkr1\\Clips\\processed\\video25crop\\straightcam\\sx355.mp4\n"
     ]
    },
    {
     "name": "stderr",
     "output_type": "stream",
     "text": [
      "Cropping -> straightcam:  75%|███████▌  | 283/377 [05:48<01:58,  1.26s/it]"
     ]
    },
    {
     "name": "stdout",
     "output_type": "stream",
     "text": [
      "[ok] sx356: 175 frames -> C:\\Users\\irish\\Computer_Electronic_Engineering_Year5\\AVSR_project\\Data\\TCD_TIMIT\\lipspeakers\\Lipspkr1\\Clips\\processed\\video25crop\\straightcam\\sx356.mp4\n"
     ]
    },
    {
     "name": "stderr",
     "output_type": "stream",
     "text": [
      "Cropping -> straightcam:  75%|███████▌  | 284/377 [05:50<02:03,  1.33s/it]"
     ]
    },
    {
     "name": "stdout",
     "output_type": "stream",
     "text": [
      "[ok] sx357: 196 frames -> C:\\Users\\irish\\Computer_Electronic_Engineering_Year5\\AVSR_project\\Data\\TCD_TIMIT\\lipspeakers\\Lipspkr1\\Clips\\processed\\video25crop\\straightcam\\sx357.mp4\n"
     ]
    },
    {
     "name": "stderr",
     "output_type": "stream",
     "text": [
      "Cropping -> straightcam:  76%|███████▌  | 285/377 [05:51<01:54,  1.25s/it]"
     ]
    },
    {
     "name": "stdout",
     "output_type": "stream",
     "text": [
      "[ok] sx358: 136 frames -> C:\\Users\\irish\\Computer_Electronic_Engineering_Year5\\AVSR_project\\Data\\TCD_TIMIT\\lipspeakers\\Lipspkr1\\Clips\\processed\\video25crop\\straightcam\\sx358.mp4\n"
     ]
    },
    {
     "name": "stderr",
     "output_type": "stream",
     "text": [
      "Cropping -> straightcam:  76%|███████▌  | 286/377 [05:52<01:58,  1.30s/it]"
     ]
    },
    {
     "name": "stdout",
     "output_type": "stream",
     "text": [
      "[ok] sx359: 202 frames -> C:\\Users\\irish\\Computer_Electronic_Engineering_Year5\\AVSR_project\\Data\\TCD_TIMIT\\lipspeakers\\Lipspkr1\\Clips\\processed\\video25crop\\straightcam\\sx359.mp4\n"
     ]
    },
    {
     "name": "stderr",
     "output_type": "stream",
     "text": [
      "Cropping -> straightcam:  76%|███████▌  | 287/377 [05:54<01:57,  1.30s/it]"
     ]
    },
    {
     "name": "stdout",
     "output_type": "stream",
     "text": [
      "[ok] sx360: 174 frames -> C:\\Users\\irish\\Computer_Electronic_Engineering_Year5\\AVSR_project\\Data\\TCD_TIMIT\\lipspeakers\\Lipspkr1\\Clips\\processed\\video25crop\\straightcam\\sx360.mp4\n"
     ]
    },
    {
     "name": "stderr",
     "output_type": "stream",
     "text": [
      "Cropping -> straightcam:  76%|███████▋  | 288/377 [05:55<01:52,  1.26s/it]"
     ]
    },
    {
     "name": "stdout",
     "output_type": "stream",
     "text": [
      "[ok] sx361: 151 frames -> C:\\Users\\irish\\Computer_Electronic_Engineering_Year5\\AVSR_project\\Data\\TCD_TIMIT\\lipspeakers\\Lipspkr1\\Clips\\processed\\video25crop\\straightcam\\sx361.mp4\n"
     ]
    },
    {
     "name": "stderr",
     "output_type": "stream",
     "text": [
      "Cropping -> straightcam:  77%|███████▋  | 289/377 [05:56<01:55,  1.31s/it]"
     ]
    },
    {
     "name": "stdout",
     "output_type": "stream",
     "text": [
      "[ok] sx362: 203 frames -> C:\\Users\\irish\\Computer_Electronic_Engineering_Year5\\AVSR_project\\Data\\TCD_TIMIT\\lipspeakers\\Lipspkr1\\Clips\\processed\\video25crop\\straightcam\\sx362.mp4\n"
     ]
    },
    {
     "name": "stderr",
     "output_type": "stream",
     "text": [
      "Cropping -> straightcam:  77%|███████▋  | 290/377 [05:58<01:57,  1.35s/it]"
     ]
    },
    {
     "name": "stdout",
     "output_type": "stream",
     "text": [
      "[ok] sx364: 240 frames -> C:\\Users\\irish\\Computer_Electronic_Engineering_Year5\\AVSR_project\\Data\\TCD_TIMIT\\lipspeakers\\Lipspkr1\\Clips\\processed\\video25crop\\straightcam\\sx364.mp4\n"
     ]
    },
    {
     "name": "stderr",
     "output_type": "stream",
     "text": [
      "Cropping -> straightcam:  77%|███████▋  | 291/377 [05:59<01:57,  1.37s/it]"
     ]
    },
    {
     "name": "stdout",
     "output_type": "stream",
     "text": [
      "[ok] sx365: 203 frames -> C:\\Users\\irish\\Computer_Electronic_Engineering_Year5\\AVSR_project\\Data\\TCD_TIMIT\\lipspeakers\\Lipspkr1\\Clips\\processed\\video25crop\\straightcam\\sx365.mp4\n"
     ]
    },
    {
     "name": "stderr",
     "output_type": "stream",
     "text": [
      "Cropping -> straightcam:  77%|███████▋  | 292/377 [06:00<01:49,  1.29s/it]"
     ]
    },
    {
     "name": "stdout",
     "output_type": "stream",
     "text": [
      "[ok] sx367: 161 frames -> C:\\Users\\irish\\Computer_Electronic_Engineering_Year5\\AVSR_project\\Data\\TCD_TIMIT\\lipspeakers\\Lipspkr1\\Clips\\processed\\video25crop\\straightcam\\sx367.mp4\n"
     ]
    },
    {
     "name": "stderr",
     "output_type": "stream",
     "text": [
      "Cropping -> straightcam:  78%|███████▊  | 293/377 [06:02<01:47,  1.29s/it]"
     ]
    },
    {
     "name": "stdout",
     "output_type": "stream",
     "text": [
      "[ok] sx368: 187 frames -> C:\\Users\\irish\\Computer_Electronic_Engineering_Year5\\AVSR_project\\Data\\TCD_TIMIT\\lipspeakers\\Lipspkr1\\Clips\\processed\\video25crop\\straightcam\\sx368.mp4\n"
     ]
    },
    {
     "name": "stderr",
     "output_type": "stream",
     "text": [
      "Cropping -> straightcam:  78%|███████▊  | 294/377 [06:03<01:41,  1.22s/it]"
     ]
    },
    {
     "name": "stdout",
     "output_type": "stream",
     "text": [
      "[ok] sx369: 141 frames -> C:\\Users\\irish\\Computer_Electronic_Engineering_Year5\\AVSR_project\\Data\\TCD_TIMIT\\lipspeakers\\Lipspkr1\\Clips\\processed\\video25crop\\straightcam\\sx369.mp4\n"
     ]
    },
    {
     "name": "stderr",
     "output_type": "stream",
     "text": [
      "Cropping -> straightcam:  78%|███████▊  | 295/377 [06:04<01:38,  1.20s/it]"
     ]
    },
    {
     "name": "stdout",
     "output_type": "stream",
     "text": [
      "[ok] sx370: 158 frames -> C:\\Users\\irish\\Computer_Electronic_Engineering_Year5\\AVSR_project\\Data\\TCD_TIMIT\\lipspeakers\\Lipspkr1\\Clips\\processed\\video25crop\\straightcam\\sx370.mp4\n"
     ]
    },
    {
     "name": "stderr",
     "output_type": "stream",
     "text": [
      "Cropping -> straightcam:  79%|███████▊  | 296/377 [06:05<01:38,  1.22s/it]"
     ]
    },
    {
     "name": "stdout",
     "output_type": "stream",
     "text": [
      "[ok] sx371: 148 frames -> C:\\Users\\irish\\Computer_Electronic_Engineering_Year5\\AVSR_project\\Data\\TCD_TIMIT\\lipspeakers\\Lipspkr1\\Clips\\processed\\video25crop\\straightcam\\sx371.mp4\n"
     ]
    },
    {
     "name": "stderr",
     "output_type": "stream",
     "text": [
      "Cropping -> straightcam:  79%|███████▉  | 297/377 [06:06<01:36,  1.21s/it]"
     ]
    },
    {
     "name": "stdout",
     "output_type": "stream",
     "text": [
      "[ok] sx372: 153 frames -> C:\\Users\\irish\\Computer_Electronic_Engineering_Year5\\AVSR_project\\Data\\TCD_TIMIT\\lipspeakers\\Lipspkr1\\Clips\\processed\\video25crop\\straightcam\\sx372.mp4\n"
     ]
    },
    {
     "name": "stderr",
     "output_type": "stream",
     "text": [
      "Cropping -> straightcam:  79%|███████▉  | 298/377 [06:07<01:34,  1.20s/it]"
     ]
    },
    {
     "name": "stdout",
     "output_type": "stream",
     "text": [
      "[ok] sx373: 141 frames -> C:\\Users\\irish\\Computer_Electronic_Engineering_Year5\\AVSR_project\\Data\\TCD_TIMIT\\lipspeakers\\Lipspkr1\\Clips\\processed\\video25crop\\straightcam\\sx373.mp4\n"
     ]
    },
    {
     "name": "stderr",
     "output_type": "stream",
     "text": [
      "Cropping -> straightcam:  79%|███████▉  | 299/377 [06:08<01:24,  1.09s/it]"
     ]
    },
    {
     "name": "stdout",
     "output_type": "stream",
     "text": [
      "[ok] sx374: 124 frames -> C:\\Users\\irish\\Computer_Electronic_Engineering_Year5\\AVSR_project\\Data\\TCD_TIMIT\\lipspeakers\\Lipspkr1\\Clips\\processed\\video25crop\\straightcam\\sx374.mp4\n"
     ]
    },
    {
     "name": "stderr",
     "output_type": "stream",
     "text": [
      "Cropping -> straightcam:  80%|███████▉  | 300/377 [06:09<01:24,  1.10s/it]"
     ]
    },
    {
     "name": "stdout",
     "output_type": "stream",
     "text": [
      "[ok] sx375: 158 frames -> C:\\Users\\irish\\Computer_Electronic_Engineering_Year5\\AVSR_project\\Data\\TCD_TIMIT\\lipspeakers\\Lipspkr1\\Clips\\processed\\video25crop\\straightcam\\sx375.mp4\n"
     ]
    },
    {
     "name": "stderr",
     "output_type": "stream",
     "text": [
      "Cropping -> straightcam:  80%|███████▉  | 301/377 [06:11<01:25,  1.13s/it]"
     ]
    },
    {
     "name": "stdout",
     "output_type": "stream",
     "text": [
      "[ok] sx376: 147 frames -> C:\\Users\\irish\\Computer_Electronic_Engineering_Year5\\AVSR_project\\Data\\TCD_TIMIT\\lipspeakers\\Lipspkr1\\Clips\\processed\\video25crop\\straightcam\\sx376.mp4\n"
     ]
    },
    {
     "name": "stderr",
     "output_type": "stream",
     "text": [
      "Cropping -> straightcam:  80%|████████  | 302/377 [06:12<01:28,  1.18s/it]"
     ]
    },
    {
     "name": "stdout",
     "output_type": "stream",
     "text": [
      "[ok] sx377: 174 frames -> C:\\Users\\irish\\Computer_Electronic_Engineering_Year5\\AVSR_project\\Data\\TCD_TIMIT\\lipspeakers\\Lipspkr1\\Clips\\processed\\video25crop\\straightcam\\sx377.mp4\n"
     ]
    },
    {
     "name": "stderr",
     "output_type": "stream",
     "text": [
      "Cropping -> straightcam:  80%|████████  | 303/377 [06:13<01:29,  1.20s/it]"
     ]
    },
    {
     "name": "stdout",
     "output_type": "stream",
     "text": [
      "[ok] sx378: 178 frames -> C:\\Users\\irish\\Computer_Electronic_Engineering_Year5\\AVSR_project\\Data\\TCD_TIMIT\\lipspeakers\\Lipspkr1\\Clips\\processed\\video25crop\\straightcam\\sx378.mp4\n"
     ]
    },
    {
     "name": "stderr",
     "output_type": "stream",
     "text": [
      "Cropping -> straightcam:  81%|████████  | 304/377 [06:14<01:24,  1.16s/it]"
     ]
    },
    {
     "name": "stdout",
     "output_type": "stream",
     "text": [
      "[ok] sx379: 132 frames -> C:\\Users\\irish\\Computer_Electronic_Engineering_Year5\\AVSR_project\\Data\\TCD_TIMIT\\lipspeakers\\Lipspkr1\\Clips\\processed\\video25crop\\straightcam\\sx379.mp4\n"
     ]
    },
    {
     "name": "stderr",
     "output_type": "stream",
     "text": [
      "Cropping -> straightcam:  81%|████████  | 305/377 [06:15<01:18,  1.10s/it]"
     ]
    },
    {
     "name": "stdout",
     "output_type": "stream",
     "text": [
      "[ok] sx380: 118 frames -> C:\\Users\\irish\\Computer_Electronic_Engineering_Year5\\AVSR_project\\Data\\TCD_TIMIT\\lipspeakers\\Lipspkr1\\Clips\\processed\\video25crop\\straightcam\\sx380.mp4\n"
     ]
    },
    {
     "name": "stderr",
     "output_type": "stream",
     "text": [
      "Cropping -> straightcam:  81%|████████  | 306/377 [06:16<01:15,  1.06s/it]"
     ]
    },
    {
     "name": "stdout",
     "output_type": "stream",
     "text": [
      "[ok] sx4: 144 frames -> C:\\Users\\irish\\Computer_Electronic_Engineering_Year5\\AVSR_project\\Data\\TCD_TIMIT\\lipspeakers\\Lipspkr1\\Clips\\processed\\video25crop\\straightcam\\sx4.mp4\n"
     ]
    },
    {
     "name": "stderr",
     "output_type": "stream",
     "text": [
      "Cropping -> straightcam:  81%|████████▏ | 307/377 [06:17<01:15,  1.07s/it]"
     ]
    },
    {
     "name": "stdout",
     "output_type": "stream",
     "text": [
      "[ok] sx411: 153 frames -> C:\\Users\\irish\\Computer_Electronic_Engineering_Year5\\AVSR_project\\Data\\TCD_TIMIT\\lipspeakers\\Lipspkr1\\Clips\\processed\\video25crop\\straightcam\\sx411.mp4\n"
     ]
    },
    {
     "name": "stderr",
     "output_type": "stream",
     "text": [
      "Cropping -> straightcam:  82%|████████▏ | 308/377 [06:18<01:15,  1.10s/it]"
     ]
    },
    {
     "name": "stdout",
     "output_type": "stream",
     "text": [
      "[ok] sx412: 151 frames -> C:\\Users\\irish\\Computer_Electronic_Engineering_Year5\\AVSR_project\\Data\\TCD_TIMIT\\lipspeakers\\Lipspkr1\\Clips\\processed\\video25crop\\straightcam\\sx412.mp4\n"
     ]
    },
    {
     "name": "stderr",
     "output_type": "stream",
     "text": [
      "Cropping -> straightcam:  82%|████████▏ | 309/377 [06:20<01:18,  1.15s/it]"
     ]
    },
    {
     "name": "stdout",
     "output_type": "stream",
     "text": [
      "[ok] sx413: 178 frames -> C:\\Users\\irish\\Computer_Electronic_Engineering_Year5\\AVSR_project\\Data\\TCD_TIMIT\\lipspeakers\\Lipspkr1\\Clips\\processed\\video25crop\\straightcam\\sx413.mp4\n"
     ]
    },
    {
     "name": "stderr",
     "output_type": "stream",
     "text": [
      "Cropping -> straightcam:  82%|████████▏ | 310/377 [06:21<01:16,  1.15s/it]"
     ]
    },
    {
     "name": "stdout",
     "output_type": "stream",
     "text": [
      "[ok] sx414: 157 frames -> C:\\Users\\irish\\Computer_Electronic_Engineering_Year5\\AVSR_project\\Data\\TCD_TIMIT\\lipspeakers\\Lipspkr1\\Clips\\processed\\video25crop\\straightcam\\sx414.mp4\n"
     ]
    },
    {
     "name": "stderr",
     "output_type": "stream",
     "text": [
      "Cropping -> straightcam:  82%|████████▏ | 311/377 [06:22<01:13,  1.12s/it]"
     ]
    },
    {
     "name": "stdout",
     "output_type": "stream",
     "text": [
      "[ok] sx415: 146 frames -> C:\\Users\\irish\\Computer_Electronic_Engineering_Year5\\AVSR_project\\Data\\TCD_TIMIT\\lipspeakers\\Lipspkr1\\Clips\\processed\\video25crop\\straightcam\\sx415.mp4\n"
     ]
    },
    {
     "name": "stderr",
     "output_type": "stream",
     "text": [
      "Cropping -> straightcam:  83%|████████▎ | 312/377 [06:23<01:12,  1.12s/it]"
     ]
    },
    {
     "name": "stdout",
     "output_type": "stream",
     "text": [
      "[ok] sx416: 155 frames -> C:\\Users\\irish\\Computer_Electronic_Engineering_Year5\\AVSR_project\\Data\\TCD_TIMIT\\lipspeakers\\Lipspkr1\\Clips\\processed\\video25crop\\straightcam\\sx416.mp4\n"
     ]
    },
    {
     "name": "stderr",
     "output_type": "stream",
     "text": [
      "Cropping -> straightcam:  83%|████████▎ | 313/377 [06:24<01:13,  1.15s/it]"
     ]
    },
    {
     "name": "stdout",
     "output_type": "stream",
     "text": [
      "[ok] sx417: 172 frames -> C:\\Users\\irish\\Computer_Electronic_Engineering_Year5\\AVSR_project\\Data\\TCD_TIMIT\\lipspeakers\\Lipspkr1\\Clips\\processed\\video25crop\\straightcam\\sx417.mp4\n"
     ]
    },
    {
     "name": "stderr",
     "output_type": "stream",
     "text": [
      "Cropping -> straightcam:  83%|████████▎ | 314/377 [06:26<01:17,  1.22s/it]"
     ]
    },
    {
     "name": "stdout",
     "output_type": "stream",
     "text": [
      "[ok] sx418: 201 frames -> C:\\Users\\irish\\Computer_Electronic_Engineering_Year5\\AVSR_project\\Data\\TCD_TIMIT\\lipspeakers\\Lipspkr1\\Clips\\processed\\video25crop\\straightcam\\sx418.mp4\n"
     ]
    },
    {
     "name": "stderr",
     "output_type": "stream",
     "text": [
      "Cropping -> straightcam:  84%|████████▎ | 315/377 [06:27<01:15,  1.22s/it]"
     ]
    },
    {
     "name": "stdout",
     "output_type": "stream",
     "text": [
      "[ok] sx419: 179 frames -> C:\\Users\\irish\\Computer_Electronic_Engineering_Year5\\AVSR_project\\Data\\TCD_TIMIT\\lipspeakers\\Lipspkr1\\Clips\\processed\\video25crop\\straightcam\\sx419.mp4\n"
     ]
    },
    {
     "name": "stderr",
     "output_type": "stream",
     "text": [
      "Cropping -> straightcam:  84%|████████▍ | 316/377 [06:28<01:23,  1.36s/it]"
     ]
    },
    {
     "name": "stdout",
     "output_type": "stream",
     "text": [
      "[ok] sx420: 276 frames -> C:\\Users\\irish\\Computer_Electronic_Engineering_Year5\\AVSR_project\\Data\\TCD_TIMIT\\lipspeakers\\Lipspkr1\\Clips\\processed\\video25crop\\straightcam\\sx420.mp4\n"
     ]
    },
    {
     "name": "stderr",
     "output_type": "stream",
     "text": [
      "Cropping -> straightcam:  84%|████████▍ | 317/377 [06:29<01:14,  1.25s/it]"
     ]
    },
    {
     "name": "stdout",
     "output_type": "stream",
     "text": [
      "[ok] sx421: 167 frames -> C:\\Users\\irish\\Computer_Electronic_Engineering_Year5\\AVSR_project\\Data\\TCD_TIMIT\\lipspeakers\\Lipspkr1\\Clips\\processed\\video25crop\\straightcam\\sx421.mp4\n"
     ]
    },
    {
     "name": "stderr",
     "output_type": "stream",
     "text": [
      "Cropping -> straightcam:  84%|████████▍ | 318/377 [06:31<01:14,  1.27s/it]"
     ]
    },
    {
     "name": "stdout",
     "output_type": "stream",
     "text": [
      "[ok] sx422: 191 frames -> C:\\Users\\irish\\Computer_Electronic_Engineering_Year5\\AVSR_project\\Data\\TCD_TIMIT\\lipspeakers\\Lipspkr1\\Clips\\processed\\video25crop\\straightcam\\sx422.mp4\n"
     ]
    },
    {
     "name": "stderr",
     "output_type": "stream",
     "text": [
      "Cropping -> straightcam:  85%|████████▍ | 319/377 [06:32<01:15,  1.31s/it]"
     ]
    },
    {
     "name": "stdout",
     "output_type": "stream",
     "text": [
      "[ok] sx435: 208 frames -> C:\\Users\\irish\\Computer_Electronic_Engineering_Year5\\AVSR_project\\Data\\TCD_TIMIT\\lipspeakers\\Lipspkr1\\Clips\\processed\\video25crop\\straightcam\\sx435.mp4\n"
     ]
    },
    {
     "name": "stderr",
     "output_type": "stream",
     "text": [
      "Cropping -> straightcam:  85%|████████▍ | 320/377 [06:33<01:05,  1.15s/it]"
     ]
    },
    {
     "name": "stdout",
     "output_type": "stream",
     "text": [
      "[ok] sx436: 109 frames -> C:\\Users\\irish\\Computer_Electronic_Engineering_Year5\\AVSR_project\\Data\\TCD_TIMIT\\lipspeakers\\Lipspkr1\\Clips\\processed\\video25crop\\straightcam\\sx436.mp4\n"
     ]
    },
    {
     "name": "stderr",
     "output_type": "stream",
     "text": [
      "Cropping -> straightcam:  85%|████████▌ | 321/377 [06:34<01:07,  1.20s/it]"
     ]
    },
    {
     "name": "stdout",
     "output_type": "stream",
     "text": [
      "[ok] sx437: 177 frames -> C:\\Users\\irish\\Computer_Electronic_Engineering_Year5\\AVSR_project\\Data\\TCD_TIMIT\\lipspeakers\\Lipspkr1\\Clips\\processed\\video25crop\\straightcam\\sx437.mp4\n"
     ]
    },
    {
     "name": "stderr",
     "output_type": "stream",
     "text": [
      "Cropping -> straightcam:  85%|████████▌ | 322/377 [06:36<01:15,  1.38s/it]"
     ]
    },
    {
     "name": "stdout",
     "output_type": "stream",
     "text": [
      "[ok] sx438: 238 frames -> C:\\Users\\irish\\Computer_Electronic_Engineering_Year5\\AVSR_project\\Data\\TCD_TIMIT\\lipspeakers\\Lipspkr1\\Clips\\processed\\video25crop\\straightcam\\sx438.mp4\n"
     ]
    },
    {
     "name": "stderr",
     "output_type": "stream",
     "text": [
      "Cropping -> straightcam:  86%|████████▌ | 323/377 [06:37<01:12,  1.34s/it]"
     ]
    },
    {
     "name": "stdout",
     "output_type": "stream",
     "text": [
      "[ok] sx439: 183 frames -> C:\\Users\\irish\\Computer_Electronic_Engineering_Year5\\AVSR_project\\Data\\TCD_TIMIT\\lipspeakers\\Lipspkr1\\Clips\\processed\\video25crop\\straightcam\\sx439.mp4\n"
     ]
    },
    {
     "name": "stderr",
     "output_type": "stream",
     "text": [
      "Cropping -> straightcam:  86%|████████▌ | 324/377 [06:39<01:12,  1.36s/it]"
     ]
    },
    {
     "name": "stdout",
     "output_type": "stream",
     "text": [
      "[ok] sx440: 200 frames -> C:\\Users\\irish\\Computer_Electronic_Engineering_Year5\\AVSR_project\\Data\\TCD_TIMIT\\lipspeakers\\Lipspkr1\\Clips\\processed\\video25crop\\straightcam\\sx440.mp4\n"
     ]
    },
    {
     "name": "stderr",
     "output_type": "stream",
     "text": [
      "Cropping -> straightcam:  86%|████████▌ | 325/377 [06:40<01:03,  1.23s/it]"
     ]
    },
    {
     "name": "stdout",
     "output_type": "stream",
     "text": [
      "[ok] sx441: 149 frames -> C:\\Users\\irish\\Computer_Electronic_Engineering_Year5\\AVSR_project\\Data\\TCD_TIMIT\\lipspeakers\\Lipspkr1\\Clips\\processed\\video25crop\\straightcam\\sx441.mp4\n"
     ]
    },
    {
     "name": "stderr",
     "output_type": "stream",
     "text": [
      "Cropping -> straightcam:  86%|████████▋ | 326/377 [06:41<00:59,  1.17s/it]"
     ]
    },
    {
     "name": "stdout",
     "output_type": "stream",
     "text": [
      "[ok] sx442: 184 frames -> C:\\Users\\irish\\Computer_Electronic_Engineering_Year5\\AVSR_project\\Data\\TCD_TIMIT\\lipspeakers\\Lipspkr1\\Clips\\processed\\video25crop\\straightcam\\sx442.mp4\n"
     ]
    },
    {
     "name": "stderr",
     "output_type": "stream",
     "text": [
      "Cropping -> straightcam:  87%|████████▋ | 327/377 [06:42<00:54,  1.09s/it]"
     ]
    },
    {
     "name": "stdout",
     "output_type": "stream",
     "text": [
      "[ok] sx443: 155 frames -> C:\\Users\\irish\\Computer_Electronic_Engineering_Year5\\AVSR_project\\Data\\TCD_TIMIT\\lipspeakers\\Lipspkr1\\Clips\\processed\\video25crop\\straightcam\\sx443.mp4\n"
     ]
    },
    {
     "name": "stderr",
     "output_type": "stream",
     "text": [
      "Cropping -> straightcam:  87%|████████▋ | 328/377 [06:43<00:53,  1.09s/it]"
     ]
    },
    {
     "name": "stdout",
     "output_type": "stream",
     "text": [
      "[ok] sx444: 171 frames -> C:\\Users\\irish\\Computer_Electronic_Engineering_Year5\\AVSR_project\\Data\\TCD_TIMIT\\lipspeakers\\Lipspkr1\\Clips\\processed\\video25crop\\straightcam\\sx444.mp4\n"
     ]
    },
    {
     "name": "stderr",
     "output_type": "stream",
     "text": [
      "Cropping -> straightcam:  87%|████████▋ | 329/377 [06:44<00:50,  1.05s/it]"
     ]
    },
    {
     "name": "stdout",
     "output_type": "stream",
     "text": [
      "[ok] sx445: 166 frames -> C:\\Users\\irish\\Computer_Electronic_Engineering_Year5\\AVSR_project\\Data\\TCD_TIMIT\\lipspeakers\\Lipspkr1\\Clips\\processed\\video25crop\\straightcam\\sx445.mp4\n"
     ]
    },
    {
     "name": "stderr",
     "output_type": "stream",
     "text": [
      "Cropping -> straightcam:  88%|████████▊ | 330/377 [06:45<00:47,  1.01s/it]"
     ]
    },
    {
     "name": "stdout",
     "output_type": "stream",
     "text": [
      "[ok] sx446: 159 frames -> C:\\Users\\irish\\Computer_Electronic_Engineering_Year5\\AVSR_project\\Data\\TCD_TIMIT\\lipspeakers\\Lipspkr1\\Clips\\processed\\video25crop\\straightcam\\sx446.mp4\n"
     ]
    },
    {
     "name": "stderr",
     "output_type": "stream",
     "text": [
      "Cropping -> straightcam:  88%|████████▊ | 331/377 [06:45<00:43,  1.06it/s]"
     ]
    },
    {
     "name": "stdout",
     "output_type": "stream",
     "text": [
      "[ok] sx447: 132 frames -> C:\\Users\\irish\\Computer_Electronic_Engineering_Year5\\AVSR_project\\Data\\TCD_TIMIT\\lipspeakers\\Lipspkr1\\Clips\\processed\\video25crop\\straightcam\\sx447.mp4\n"
     ]
    },
    {
     "name": "stderr",
     "output_type": "stream",
     "text": [
      "Cropping -> straightcam:  88%|████████▊ | 332/377 [06:46<00:38,  1.17it/s]"
     ]
    },
    {
     "name": "stdout",
     "output_type": "stream",
     "text": [
      "[ok] sx448: 109 frames -> C:\\Users\\irish\\Computer_Electronic_Engineering_Year5\\AVSR_project\\Data\\TCD_TIMIT\\lipspeakers\\Lipspkr1\\Clips\\processed\\video25crop\\straightcam\\sx448.mp4\n"
     ]
    },
    {
     "name": "stderr",
     "output_type": "stream",
     "text": [
      "Cropping -> straightcam:  88%|████████▊ | 333/377 [06:47<00:41,  1.07it/s]"
     ]
    },
    {
     "name": "stdout",
     "output_type": "stream",
     "text": [
      "[ok] sx449: 181 frames -> C:\\Users\\irish\\Computer_Electronic_Engineering_Year5\\AVSR_project\\Data\\TCD_TIMIT\\lipspeakers\\Lipspkr1\\Clips\\processed\\video25crop\\straightcam\\sx449.mp4\n"
     ]
    },
    {
     "name": "stderr",
     "output_type": "stream",
     "text": [
      "Cropping -> straightcam:  89%|████████▊ | 334/377 [06:48<00:45,  1.05s/it]"
     ]
    },
    {
     "name": "stdout",
     "output_type": "stream",
     "text": [
      "[ok] sx450: 192 frames -> C:\\Users\\irish\\Computer_Electronic_Engineering_Year5\\AVSR_project\\Data\\TCD_TIMIT\\lipspeakers\\Lipspkr1\\Clips\\processed\\video25crop\\straightcam\\sx450.mp4\n"
     ]
    },
    {
     "name": "stderr",
     "output_type": "stream",
     "text": [
      "Cropping -> straightcam:  89%|████████▉ | 335/377 [06:50<00:50,  1.21s/it]"
     ]
    },
    {
     "name": "stdout",
     "output_type": "stream",
     "text": [
      "[ok] sx451: 209 frames -> C:\\Users\\irish\\Computer_Electronic_Engineering_Year5\\AVSR_project\\Data\\TCD_TIMIT\\lipspeakers\\Lipspkr1\\Clips\\processed\\video25crop\\straightcam\\sx451.mp4\n"
     ]
    },
    {
     "name": "stderr",
     "output_type": "stream",
     "text": [
      "Cropping -> straightcam:  89%|████████▉ | 336/377 [06:51<00:50,  1.24s/it]"
     ]
    },
    {
     "name": "stdout",
     "output_type": "stream",
     "text": [
      "[ok] sx452: 178 frames -> C:\\Users\\irish\\Computer_Electronic_Engineering_Year5\\AVSR_project\\Data\\TCD_TIMIT\\lipspeakers\\Lipspkr1\\Clips\\processed\\video25crop\\straightcam\\sx452.mp4\n"
     ]
    },
    {
     "name": "stderr",
     "output_type": "stream",
     "text": [
      "Cropping -> straightcam:  89%|████████▉ | 337/377 [06:52<00:44,  1.12s/it]"
     ]
    },
    {
     "name": "stdout",
     "output_type": "stream",
     "text": [
      "[ok] sx5: 107 frames -> C:\\Users\\irish\\Computer_Electronic_Engineering_Year5\\AVSR_project\\Data\\TCD_TIMIT\\lipspeakers\\Lipspkr1\\Clips\\processed\\video25crop\\straightcam\\sx5.mp4\n"
     ]
    },
    {
     "name": "stderr",
     "output_type": "stream",
     "text": [
      "Cropping -> straightcam:  90%|████████▉ | 338/377 [06:53<00:43,  1.13s/it]"
     ]
    },
    {
     "name": "stdout",
     "output_type": "stream",
     "text": [
      "[ok] sx51: 152 frames -> C:\\Users\\irish\\Computer_Electronic_Engineering_Year5\\AVSR_project\\Data\\TCD_TIMIT\\lipspeakers\\Lipspkr1\\Clips\\processed\\video25crop\\straightcam\\sx51.mp4\n"
     ]
    },
    {
     "name": "stderr",
     "output_type": "stream",
     "text": [
      "Cropping -> straightcam:  90%|████████▉ | 339/377 [06:54<00:42,  1.12s/it]"
     ]
    },
    {
     "name": "stdout",
     "output_type": "stream",
     "text": [
      "[ok] sx52: 150 frames -> C:\\Users\\irish\\Computer_Electronic_Engineering_Year5\\AVSR_project\\Data\\TCD_TIMIT\\lipspeakers\\Lipspkr1\\Clips\\processed\\video25crop\\straightcam\\sx52.mp4\n"
     ]
    },
    {
     "name": "stderr",
     "output_type": "stream",
     "text": [
      "Cropping -> straightcam:  90%|█████████ | 340/377 [06:56<00:42,  1.16s/it]"
     ]
    },
    {
     "name": "stdout",
     "output_type": "stream",
     "text": [
      "[ok] sx53: 170 frames -> C:\\Users\\irish\\Computer_Electronic_Engineering_Year5\\AVSR_project\\Data\\TCD_TIMIT\\lipspeakers\\Lipspkr1\\Clips\\processed\\video25crop\\straightcam\\sx53.mp4\n"
     ]
    },
    {
     "name": "stderr",
     "output_type": "stream",
     "text": [
      "Cropping -> straightcam:  90%|█████████ | 341/377 [06:57<00:44,  1.22s/it]"
     ]
    },
    {
     "name": "stdout",
     "output_type": "stream",
     "text": [
      "[ok] sx54: 201 frames -> C:\\Users\\irish\\Computer_Electronic_Engineering_Year5\\AVSR_project\\Data\\TCD_TIMIT\\lipspeakers\\Lipspkr1\\Clips\\processed\\video25crop\\straightcam\\sx54.mp4\n"
     ]
    },
    {
     "name": "stderr",
     "output_type": "stream",
     "text": [
      "Cropping -> straightcam:  91%|█████████ | 342/377 [06:58<00:42,  1.22s/it]"
     ]
    },
    {
     "name": "stdout",
     "output_type": "stream",
     "text": [
      "[ok] sx55: 168 frames -> C:\\Users\\irish\\Computer_Electronic_Engineering_Year5\\AVSR_project\\Data\\TCD_TIMIT\\lipspeakers\\Lipspkr1\\Clips\\processed\\video25crop\\straightcam\\sx55.mp4\n"
     ]
    },
    {
     "name": "stderr",
     "output_type": "stream",
     "text": [
      "Cropping -> straightcam:  91%|█████████ | 343/377 [06:59<00:41,  1.22s/it]"
     ]
    },
    {
     "name": "stdout",
     "output_type": "stream",
     "text": [
      "[ok] sx56: 166 frames -> C:\\Users\\irish\\Computer_Electronic_Engineering_Year5\\AVSR_project\\Data\\TCD_TIMIT\\lipspeakers\\Lipspkr1\\Clips\\processed\\video25crop\\straightcam\\sx56.mp4\n"
     ]
    },
    {
     "name": "stderr",
     "output_type": "stream",
     "text": [
      "Cropping -> straightcam:  91%|█████████ | 344/377 [07:00<00:37,  1.13s/it]"
     ]
    },
    {
     "name": "stdout",
     "output_type": "stream",
     "text": [
      "[ok] sx57: 158 frames -> C:\\Users\\irish\\Computer_Electronic_Engineering_Year5\\AVSR_project\\Data\\TCD_TIMIT\\lipspeakers\\Lipspkr1\\Clips\\processed\\video25crop\\straightcam\\sx57.mp4\n"
     ]
    },
    {
     "name": "stderr",
     "output_type": "stream",
     "text": [
      "Cropping -> straightcam:  92%|█████████▏| 345/377 [07:02<00:38,  1.21s/it]"
     ]
    },
    {
     "name": "stdout",
     "output_type": "stream",
     "text": [
      "[ok] sx58: 207 frames -> C:\\Users\\irish\\Computer_Electronic_Engineering_Year5\\AVSR_project\\Data\\TCD_TIMIT\\lipspeakers\\Lipspkr1\\Clips\\processed\\video25crop\\straightcam\\sx58.mp4\n"
     ]
    },
    {
     "name": "stderr",
     "output_type": "stream",
     "text": [
      "Cropping -> straightcam:  92%|█████████▏| 346/377 [07:03<00:36,  1.17s/it]"
     ]
    },
    {
     "name": "stdout",
     "output_type": "stream",
     "text": [
      "[ok] sx59: 154 frames -> C:\\Users\\irish\\Computer_Electronic_Engineering_Year5\\AVSR_project\\Data\\TCD_TIMIT\\lipspeakers\\Lipspkr1\\Clips\\processed\\video25crop\\straightcam\\sx59.mp4\n"
     ]
    },
    {
     "name": "stderr",
     "output_type": "stream",
     "text": [
      "Cropping -> straightcam:  92%|█████████▏| 347/377 [07:04<00:33,  1.11s/it]"
     ]
    },
    {
     "name": "stdout",
     "output_type": "stream",
     "text": [
      "[ok] sx6: 133 frames -> C:\\Users\\irish\\Computer_Electronic_Engineering_Year5\\AVSR_project\\Data\\TCD_TIMIT\\lipspeakers\\Lipspkr1\\Clips\\processed\\video25crop\\straightcam\\sx6.mp4\n"
     ]
    },
    {
     "name": "stderr",
     "output_type": "stream",
     "text": [
      "Cropping -> straightcam:  92%|█████████▏| 348/377 [07:05<00:33,  1.14s/it]"
     ]
    },
    {
     "name": "stdout",
     "output_type": "stream",
     "text": [
      "[ok] sx60: 204 frames -> C:\\Users\\irish\\Computer_Electronic_Engineering_Year5\\AVSR_project\\Data\\TCD_TIMIT\\lipspeakers\\Lipspkr1\\Clips\\processed\\video25crop\\straightcam\\sx60.mp4\n"
     ]
    },
    {
     "name": "stderr",
     "output_type": "stream",
     "text": [
      "Cropping -> straightcam:  93%|█████████▎| 349/377 [07:06<00:32,  1.16s/it]"
     ]
    },
    {
     "name": "stdout",
     "output_type": "stream",
     "text": [
      "[ok] sx61: 182 frames -> C:\\Users\\irish\\Computer_Electronic_Engineering_Year5\\AVSR_project\\Data\\TCD_TIMIT\\lipspeakers\\Lipspkr1\\Clips\\processed\\video25crop\\straightcam\\sx61.mp4\n"
     ]
    },
    {
     "name": "stderr",
     "output_type": "stream",
     "text": [
      "Cropping -> straightcam:  93%|█████████▎| 350/377 [07:07<00:31,  1.15s/it]"
     ]
    },
    {
     "name": "stdout",
     "output_type": "stream",
     "text": [
      "[ok] sx62: 183 frames -> C:\\Users\\irish\\Computer_Electronic_Engineering_Year5\\AVSR_project\\Data\\TCD_TIMIT\\lipspeakers\\Lipspkr1\\Clips\\processed\\video25crop\\straightcam\\sx62.mp4\n"
     ]
    },
    {
     "name": "stderr",
     "output_type": "stream",
     "text": [
      "Cropping -> straightcam:  93%|█████████▎| 351/377 [07:08<00:27,  1.05s/it]"
     ]
    },
    {
     "name": "stdout",
     "output_type": "stream",
     "text": [
      "[ok] sx7: 144 frames -> C:\\Users\\irish\\Computer_Electronic_Engineering_Year5\\AVSR_project\\Data\\TCD_TIMIT\\lipspeakers\\Lipspkr1\\Clips\\processed\\video25crop\\straightcam\\sx7.mp4\n"
     ]
    },
    {
     "name": "stderr",
     "output_type": "stream",
     "text": [
      "Cropping -> straightcam:  93%|█████████▎| 352/377 [07:09<00:24,  1.01it/s]"
     ]
    },
    {
     "name": "stdout",
     "output_type": "stream",
     "text": [
      "[ok] sx75: 148 frames -> C:\\Users\\irish\\Computer_Electronic_Engineering_Year5\\AVSR_project\\Data\\TCD_TIMIT\\lipspeakers\\Lipspkr1\\Clips\\processed\\video25crop\\straightcam\\sx75.mp4\n"
     ]
    },
    {
     "name": "stderr",
     "output_type": "stream",
     "text": [
      "Cropping -> straightcam:  94%|█████████▎| 353/377 [07:10<00:23,  1.02it/s]"
     ]
    },
    {
     "name": "stdout",
     "output_type": "stream",
     "text": [
      "[ok] sx76: 173 frames -> C:\\Users\\irish\\Computer_Electronic_Engineering_Year5\\AVSR_project\\Data\\TCD_TIMIT\\lipspeakers\\Lipspkr1\\Clips\\processed\\video25crop\\straightcam\\sx76.mp4\n"
     ]
    },
    {
     "name": "stderr",
     "output_type": "stream",
     "text": [
      "Cropping -> straightcam:  94%|█████████▍| 354/377 [07:11<00:22,  1.03it/s]"
     ]
    },
    {
     "name": "stdout",
     "output_type": "stream",
     "text": [
      "[ok] sx77: 148 frames -> C:\\Users\\irish\\Computer_Electronic_Engineering_Year5\\AVSR_project\\Data\\TCD_TIMIT\\lipspeakers\\Lipspkr1\\Clips\\processed\\video25crop\\straightcam\\sx77.mp4\n"
     ]
    },
    {
     "name": "stderr",
     "output_type": "stream",
     "text": [
      "Cropping -> straightcam:  94%|█████████▍| 355/377 [07:12<00:21,  1.04it/s]"
     ]
    },
    {
     "name": "stdout",
     "output_type": "stream",
     "text": [
      "[ok] sx78: 134 frames -> C:\\Users\\irish\\Computer_Electronic_Engineering_Year5\\AVSR_project\\Data\\TCD_TIMIT\\lipspeakers\\Lipspkr1\\Clips\\processed\\video25crop\\straightcam\\sx78.mp4\n"
     ]
    },
    {
     "name": "stderr",
     "output_type": "stream",
     "text": [
      "Cropping -> straightcam:  94%|█████████▍| 356/377 [07:13<00:21,  1.01s/it]"
     ]
    },
    {
     "name": "stdout",
     "output_type": "stream",
     "text": [
      "[ok] sx79: 160 frames -> C:\\Users\\irish\\Computer_Electronic_Engineering_Year5\\AVSR_project\\Data\\TCD_TIMIT\\lipspeakers\\Lipspkr1\\Clips\\processed\\video25crop\\straightcam\\sx79.mp4\n"
     ]
    },
    {
     "name": "stderr",
     "output_type": "stream",
     "text": [
      "Cropping -> straightcam:  95%|█████████▍| 357/377 [07:14<00:20,  1.00s/it]"
     ]
    },
    {
     "name": "stdout",
     "output_type": "stream",
     "text": [
      "[ok] sx8: 138 frames -> C:\\Users\\irish\\Computer_Electronic_Engineering_Year5\\AVSR_project\\Data\\TCD_TIMIT\\lipspeakers\\Lipspkr1\\Clips\\processed\\video25crop\\straightcam\\sx8.mp4\n"
     ]
    },
    {
     "name": "stderr",
     "output_type": "stream",
     "text": [
      "Cropping -> straightcam:  95%|█████████▍| 358/377 [07:15<00:18,  1.04it/s]"
     ]
    },
    {
     "name": "stdout",
     "output_type": "stream",
     "text": [
      "[ok] sx80: 121 frames -> C:\\Users\\irish\\Computer_Electronic_Engineering_Year5\\AVSR_project\\Data\\TCD_TIMIT\\lipspeakers\\Lipspkr1\\Clips\\processed\\video25crop\\straightcam\\sx80.mp4\n"
     ]
    },
    {
     "name": "stderr",
     "output_type": "stream",
     "text": [
      "Cropping -> straightcam:  95%|█████████▌| 359/377 [07:16<00:17,  1.04it/s]"
     ]
    },
    {
     "name": "stdout",
     "output_type": "stream",
     "text": [
      "[ok] sx81: 130 frames -> C:\\Users\\irish\\Computer_Electronic_Engineering_Year5\\AVSR_project\\Data\\TCD_TIMIT\\lipspeakers\\Lipspkr1\\Clips\\processed\\video25crop\\straightcam\\sx81.mp4\n"
     ]
    },
    {
     "name": "stderr",
     "output_type": "stream",
     "text": [
      "Cropping -> straightcam:  95%|█████████▌| 360/377 [07:17<00:16,  1.01it/s]"
     ]
    },
    {
     "name": "stdout",
     "output_type": "stream",
     "text": [
      "[ok] sx82: 155 frames -> C:\\Users\\irish\\Computer_Electronic_Engineering_Year5\\AVSR_project\\Data\\TCD_TIMIT\\lipspeakers\\Lipspkr1\\Clips\\processed\\video25crop\\straightcam\\sx82.mp4\n"
     ]
    },
    {
     "name": "stderr",
     "output_type": "stream",
     "text": [
      "Cropping -> straightcam:  96%|█████████▌| 361/377 [07:18<00:16,  1.04s/it]"
     ]
    },
    {
     "name": "stdout",
     "output_type": "stream",
     "text": [
      "[ok] sx83: 179 frames -> C:\\Users\\irish\\Computer_Electronic_Engineering_Year5\\AVSR_project\\Data\\TCD_TIMIT\\lipspeakers\\Lipspkr1\\Clips\\processed\\video25crop\\straightcam\\sx83.mp4\n"
     ]
    },
    {
     "name": "stderr",
     "output_type": "stream",
     "text": [
      "Cropping -> straightcam:  96%|█████████▌| 362/377 [07:19<00:16,  1.09s/it]"
     ]
    },
    {
     "name": "stdout",
     "output_type": "stream",
     "text": [
      "[ok] sx84: 205 frames -> C:\\Users\\irish\\Computer_Electronic_Engineering_Year5\\AVSR_project\\Data\\TCD_TIMIT\\lipspeakers\\Lipspkr1\\Clips\\processed\\video25crop\\straightcam\\sx84.mp4\n"
     ]
    },
    {
     "name": "stderr",
     "output_type": "stream",
     "text": [
      "Cropping -> straightcam:  96%|█████████▋| 363/377 [07:20<00:14,  1.03s/it]"
     ]
    },
    {
     "name": "stdout",
     "output_type": "stream",
     "text": [
      "[ok] sx85: 157 frames -> C:\\Users\\irish\\Computer_Electronic_Engineering_Year5\\AVSR_project\\Data\\TCD_TIMIT\\lipspeakers\\Lipspkr1\\Clips\\processed\\video25crop\\straightcam\\sx85.mp4\n"
     ]
    },
    {
     "name": "stderr",
     "output_type": "stream",
     "text": [
      "Cropping -> straightcam:  97%|█████████▋| 364/377 [07:21<00:12,  1.05it/s]"
     ]
    },
    {
     "name": "stdout",
     "output_type": "stream",
     "text": [
      "[ok] sx86: 136 frames -> C:\\Users\\irish\\Computer_Electronic_Engineering_Year5\\AVSR_project\\Data\\TCD_TIMIT\\lipspeakers\\Lipspkr1\\Clips\\processed\\video25crop\\straightcam\\sx86.mp4\n"
     ]
    },
    {
     "name": "stderr",
     "output_type": "stream",
     "text": [
      "Cropping -> straightcam:  97%|█████████▋| 365/377 [07:22<00:11,  1.07it/s]"
     ]
    },
    {
     "name": "stdout",
     "output_type": "stream",
     "text": [
      "[ok] sx87: 160 frames -> C:\\Users\\irish\\Computer_Electronic_Engineering_Year5\\AVSR_project\\Data\\TCD_TIMIT\\lipspeakers\\Lipspkr1\\Clips\\processed\\video25crop\\straightcam\\sx87.mp4\n"
     ]
    },
    {
     "name": "stderr",
     "output_type": "stream",
     "text": [
      "Cropping -> straightcam:  97%|█████████▋| 366/377 [07:23<00:10,  1.10it/s]"
     ]
    },
    {
     "name": "stdout",
     "output_type": "stream",
     "text": [
      "[ok] sx88: 153 frames -> C:\\Users\\irish\\Computer_Electronic_Engineering_Year5\\AVSR_project\\Data\\TCD_TIMIT\\lipspeakers\\Lipspkr1\\Clips\\processed\\video25crop\\straightcam\\sx88.mp4\n"
     ]
    },
    {
     "name": "stderr",
     "output_type": "stream",
     "text": [
      "Cropping -> straightcam:  97%|█████████▋| 367/377 [07:24<00:09,  1.10it/s]"
     ]
    },
    {
     "name": "stdout",
     "output_type": "stream",
     "text": [
      "[ok] sx89: 154 frames -> C:\\Users\\irish\\Computer_Electronic_Engineering_Year5\\AVSR_project\\Data\\TCD_TIMIT\\lipspeakers\\Lipspkr1\\Clips\\processed\\video25crop\\straightcam\\sx89.mp4\n"
     ]
    },
    {
     "name": "stderr",
     "output_type": "stream",
     "text": [
      "Cropping -> straightcam:  98%|█████████▊| 368/377 [07:24<00:07,  1.20it/s]"
     ]
    },
    {
     "name": "stdout",
     "output_type": "stream",
     "text": [
      "[ok] sx9: 119 frames -> C:\\Users\\irish\\Computer_Electronic_Engineering_Year5\\AVSR_project\\Data\\TCD_TIMIT\\lipspeakers\\Lipspkr1\\Clips\\processed\\video25crop\\straightcam\\sx9.mp4\n"
     ]
    },
    {
     "name": "stderr",
     "output_type": "stream",
     "text": [
      "Cropping -> straightcam:  98%|█████████▊| 369/377 [07:25<00:06,  1.28it/s]"
     ]
    },
    {
     "name": "stdout",
     "output_type": "stream",
     "text": [
      "[ok] sx90: 113 frames -> C:\\Users\\irish\\Computer_Electronic_Engineering_Year5\\AVSR_project\\Data\\TCD_TIMIT\\lipspeakers\\Lipspkr1\\Clips\\processed\\video25crop\\straightcam\\sx90.mp4\n"
     ]
    },
    {
     "name": "stderr",
     "output_type": "stream",
     "text": [
      "Cropping -> straightcam:  98%|█████████▊| 370/377 [07:26<00:05,  1.24it/s]"
     ]
    },
    {
     "name": "stdout",
     "output_type": "stream",
     "text": [
      "[ok] sx91: 151 frames -> C:\\Users\\irish\\Computer_Electronic_Engineering_Year5\\AVSR_project\\Data\\TCD_TIMIT\\lipspeakers\\Lipspkr1\\Clips\\processed\\video25crop\\straightcam\\sx91.mp4\n"
     ]
    },
    {
     "name": "stderr",
     "output_type": "stream",
     "text": [
      "Cropping -> straightcam:  98%|█████████▊| 371/377 [07:27<00:04,  1.22it/s]"
     ]
    },
    {
     "name": "stdout",
     "output_type": "stream",
     "text": [
      "[ok] sx92: 142 frames -> C:\\Users\\irish\\Computer_Electronic_Engineering_Year5\\AVSR_project\\Data\\TCD_TIMIT\\lipspeakers\\Lipspkr1\\Clips\\processed\\video25crop\\straightcam\\sx92.mp4\n"
     ]
    },
    {
     "name": "stderr",
     "output_type": "stream",
     "text": [
      "Cropping -> straightcam:  99%|█████████▊| 372/377 [07:28<00:04,  1.16it/s]"
     ]
    },
    {
     "name": "stdout",
     "output_type": "stream",
     "text": [
      "[ok] sx94: 144 frames -> C:\\Users\\irish\\Computer_Electronic_Engineering_Year5\\AVSR_project\\Data\\TCD_TIMIT\\lipspeakers\\Lipspkr1\\Clips\\processed\\video25crop\\straightcam\\sx94.mp4\n"
     ]
    },
    {
     "name": "stderr",
     "output_type": "stream",
     "text": [
      "Cropping -> straightcam:  99%|█████████▉| 373/377 [07:29<00:03,  1.05it/s]"
     ]
    },
    {
     "name": "stdout",
     "output_type": "stream",
     "text": [
      "[ok] sx95: 166 frames -> C:\\Users\\irish\\Computer_Electronic_Engineering_Year5\\AVSR_project\\Data\\TCD_TIMIT\\lipspeakers\\Lipspkr1\\Clips\\processed\\video25crop\\straightcam\\sx95.mp4\n"
     ]
    },
    {
     "name": "stderr",
     "output_type": "stream",
     "text": [
      "Cropping -> straightcam:  99%|█████████▉| 374/377 [07:30<00:02,  1.01it/s]"
     ]
    },
    {
     "name": "stdout",
     "output_type": "stream",
     "text": [
      "[ok] sx96: 157 frames -> C:\\Users\\irish\\Computer_Electronic_Engineering_Year5\\AVSR_project\\Data\\TCD_TIMIT\\lipspeakers\\Lipspkr1\\Clips\\processed\\video25crop\\straightcam\\sx96.mp4\n"
     ]
    },
    {
     "name": "stderr",
     "output_type": "stream",
     "text": [
      "Cropping -> straightcam:  99%|█████████▉| 375/377 [07:31<00:01,  1.00it/s]"
     ]
    },
    {
     "name": "stdout",
     "output_type": "stream",
     "text": [
      "[ok] sx97: 141 frames -> C:\\Users\\irish\\Computer_Electronic_Engineering_Year5\\AVSR_project\\Data\\TCD_TIMIT\\lipspeakers\\Lipspkr1\\Clips\\processed\\video25crop\\straightcam\\sx97.mp4\n"
     ]
    },
    {
     "name": "stderr",
     "output_type": "stream",
     "text": [
      "Cropping -> straightcam: 100%|█████████▉| 376/377 [07:32<00:00,  1.05it/s]"
     ]
    },
    {
     "name": "stdout",
     "output_type": "stream",
     "text": [
      "[ok] sx98: 116 frames -> C:\\Users\\irish\\Computer_Electronic_Engineering_Year5\\AVSR_project\\Data\\TCD_TIMIT\\lipspeakers\\Lipspkr1\\Clips\\processed\\video25crop\\straightcam\\sx98.mp4\n"
     ]
    },
    {
     "name": "stderr",
     "output_type": "stream",
     "text": [
      "Cropping -> straightcam: 100%|██████████| 377/377 [07:33<00:00,  1.20s/it]"
     ]
    },
    {
     "name": "stdout",
     "output_type": "stream",
     "text": [
      "[ok] sx99: 140 frames -> C:\\Users\\irish\\Computer_Electronic_Engineering_Year5\\AVSR_project\\Data\\TCD_TIMIT\\lipspeakers\\Lipspkr1\\Clips\\processed\\video25crop\\straightcam\\sx99.mp4\n",
      "Done.\n"
     ]
    },
    {
     "name": "stderr",
     "output_type": "stream",
     "text": [
      "\n"
     ]
    }
   ],
   "source": [
    "import pickle, cv2, numpy as np\n",
    "from pathlib import Path\n",
    "from tqdm import tqdm\n",
    "\n",
    "# ---- configure per run ----\n",
    "DATA_ROOT  = Path(r\"C:\\Users\\irish\\Computer_Electronic_Engineering_Year5\\AVSR_project\\Data\\TCD_TIMIT\")\n",
    "GROUP = \"lipspeakers\"               # \"volunteers\" or \"lipspeakers\"\n",
    "SPEAKER    = \"Lipspkr1\"                 # e.g., \"01M\", \"02M\"\n",
    "CAM_ANGLE  = \"straightcam\"         # or \"30degcam\"\n",
    "TARGET_SZ  = 88\n",
    "MARGIN     = 1.6                   # enlarge mouth box (~60%)\n",
    "SMOOTH_WIN = 7                     # frames for moving average\n",
    "\n",
    "# Inputs/Outputs\n",
    "VID25_DIR  = DATA_ROOT / f\"{GROUP}/{SPEAKER}/Clips/processed/video25/{CAM_ANGLE}\"\n",
    "LMK_DIR    = DATA_ROOT / f\"{GROUP}/{SPEAKER}/Clips/processed/landmarks/{CAM_ANGLE}\"\n",
    "OUT_DIR    = DATA_ROOT / f\"{GROUP}/{SPEAKER}/Clips/processed/video25crop/{CAM_ANGLE}\"\n",
    "OUT_DIR.mkdir(parents=True, exist_ok=True)\n",
    "\n",
    "MOUTH = list(range(48, 68))  # dlib 68-pt mouth indices\n",
    "\n",
    "def tighten_xywh_from_mouth(pts):\n",
    "    \"\"\"pts: (68,2). Return [x,y,w,h] around mouth with margin.\"\"\"\n",
    "    mouth = np.asarray(pts)[MOUTH]  # (20,2)\n",
    "    x0, y0 = mouth.min(axis=0)\n",
    "    x1, y1 = mouth.max(axis=0)\n",
    "    cx, cy = (x0+x1)/2, (y0+y1)/2\n",
    "    side = max(x1-x0, y1-y0) * MARGIN\n",
    "    return np.array([cx - side/2, cy - side/2, side, side], dtype=float)\n",
    "\n",
    "def smooth_xywh(seq, win=7):\n",
    "    \"\"\"NaN-aware moving average over (T,4).\"\"\"\n",
    "    seq = np.asarray(seq, float)\n",
    "    # forward/backward fill NaNs\n",
    "    for c in range(4):\n",
    "        col = seq[:, c]\n",
    "        nans = np.isnan(col)\n",
    "        if nans.any():\n",
    "            # forward fill\n",
    "            idx = np.where(~nans, np.arange(len(col)), 0)\n",
    "            np.maximum.accumulate(idx, out=idx)\n",
    "            col[nans] = col[idx[nans]]\n",
    "            # backward fill\n",
    "            idx2 = np.where(~nans, np.arange(len(col)), len(col)-1)\n",
    "            idx2 = np.minimum.accumulate(idx2[::-1])[::-1]\n",
    "            col[nans] = col[idx2[nans]]\n",
    "        seq[:, c] = col\n",
    "    # box filter\n",
    "    pad = (win-1)//2\n",
    "    padseq = np.pad(seq, ((pad,pad),(0,0)), mode='edge')\n",
    "    kernel = np.ones((win,)) / win\n",
    "    smooth = np.empty_like(seq)\n",
    "    for c in range(4):\n",
    "        smooth[:, c] = np.convolve(padseq[:, c], kernel, mode='valid')\n",
    "    return smooth\n",
    "\n",
    "def crop_one(mp4_path: Path, pkl_path: Path, out_path: Path, target=88):\n",
    "    lmks = pickle.load(open(pkl_path, \"rb\"))  # list of (68,2) or None\n",
    "    cap  = cv2.VideoCapture(str(mp4_path))\n",
    "    fps  = cap.get(cv2.CAP_PROP_FPS) or 25.0\n",
    "    T    = int(cap.get(cv2.CAP_PROP_FRAME_COUNT))\n",
    "\n",
    "    # xywh per frame (NaN on misses)\n",
    "    xywh = []\n",
    "    for i in range(T):\n",
    "        pts = lmks[i] if i < len(lmks) else None\n",
    "        if pts is None:\n",
    "            xywh.append([np.nan]*4)\n",
    "        else:\n",
    "            xywh.append(tighten_xywh_from_mouth(pts))\n",
    "    xywh = smooth_xywh(np.array(xywh, float), win=SMOOTH_WIN)\n",
    "\n",
    "    fourcc = cv2.VideoWriter_fourcc(*'mp4v')\n",
    "    wtr = cv2.VideoWriter(str(out_path), fourcc, fps, (target, target), isColor=False)\n",
    "    ok_frames = 0\n",
    "\n",
    "    for i in range(T):\n",
    "        ok, frame = cap.read()\n",
    "        if not ok: break\n",
    "        x, y, w, h = xywh[i]\n",
    "        x0 = max(0, int(round(x))); y0 = max(0, int(round(y)))\n",
    "        x1 = min(frame.shape[1], int(round(x+w)))\n",
    "        y1 = min(frame.shape[0], int(round(y+h)))\n",
    "        crop = frame[y0:y1, x0:x1]\n",
    "        if crop.size == 0:\n",
    "            crop = frame  # fallback\n",
    "        gray = cv2.cvtColor(crop, cv2.COLOR_BGR2GRAY)\n",
    "        lip  = cv2.resize(gray, (target, target), interpolation=cv2.INTER_AREA)\n",
    "        wtr.write(lip); ok_frames += 1\n",
    "\n",
    "    wtr.release(); cap.release()\n",
    "    return ok_frames\n",
    "\n",
    "# Batch over all MP4s in the angle folder\n",
    "mp4s = sorted(VID25_DIR.glob(\"*.mp4\"))\n",
    "print(f\"Found {len(mp4s)} videos in {VID25_DIR}\")\n",
    "for mp4 in tqdm(mp4s, desc=f\"Cropping -> {OUT_DIR.name}\"):\n",
    "    base = mp4.stem\n",
    "    pkl  = LMK_DIR / f\"{base}.pkl\"\n",
    "    out  = OUT_DIR / f\"{base}.mp4\"\n",
    "    if not pkl.exists():\n",
    "        print(f\"[skip] no landmarks for {base}\")\n",
    "        continue\n",
    "    out.parent.mkdir(parents=True, exist_ok=True)\n",
    "    n = crop_one(mp4, pkl, out, target=TARGET_SZ)\n",
    "    print(f\"[ok] {base}: {n} frames -> {out}\")\n",
    "print(\"Done.\")\n"
   ]
  },
  {
   "cell_type": "markdown",
   "id": "885b6948",
   "metadata": {},
   "source": [
    "## Data Augmentation\n",
    "This section outlines Data Augmentation Techniques created during this project. \n",
    "Different techniques will be outlined in more detail below"
   ]
  },
  {
   "cell_type": "code",
   "execution_count": 7,
   "id": "1e96c869",
   "metadata": {},
   "outputs": [],
   "source": [
    "#point to your TCD_TIMIT root\n",
    "from pathlib import Path\n",
    "DATA_ROOT = Path(r\"C:\\Users\\irish\\Computer_Electronic_Engineering_Year5\\AVSR_project\\Data\\TCD_TIMIT\")\n",
    "SPEAKER_TYPE = [\"lipspeakers\", \"volunteers\"]\n",
    "VOLUNTEER_NUM = [\"01M\",\"02M\",\"03F\",\"04F\",\"05M\",\"06F\",\"07M\",\"08F\",\"09M\",\"10F\"]\n",
    "CAM_ANGLE = [\"straightcam\", \"30degcam\"]\n",
    "PROCESSED_DIR = DATA_ROOT / SPEAKER_TYPE[1] / VOLUNTEER_NUM[1] / \"Clips\" / \"processed\""
   ]
  },
  {
   "cell_type": "markdown",
   "id": "69aa785c",
   "metadata": {},
   "source": [
    "## Interpolation \n",
    "Currently this idea entails taking the 30fps video and interpolating to a higher fps and then down sampling back to 30fps using these new frames\n",
    "**Audio Note**\n",
    "Audio needs to be realigned with the audio\n",
    "Audio can also lead or lag by a small amount\n",
    "ffmpeg used for interpolation"
   ]
  },
  {
   "cell_type": "code",
   "execution_count": 8,
   "id": "7aead0fa",
   "metadata": {},
   "outputs": [
    {
     "name": "stdout",
     "output_type": "stream",
     "text": [
      "Done: C:\\Users\\irish\\Computer_Electronic_Engineering_Year5\\AVSR_project\\Data\\TCD_TIMIT\\volunteers\\02M\\Clips\\processed\\interpolation\\video50crop\\straightcam\\sa1_50fps.mp4\n"
     ]
    }
   ],
   "source": [
    "# @title Convert the cropped 25fps video to 50fps using FFmpeg's minterpolate filter\n",
    "import subprocess, shutil\n",
    "from pathlib import Path\n",
    "\n",
    "# === EDIT THESE ===\n",
    "VID_IN  = PROCESSED_DIR / \"video25crop\" / CAM_ANGLE[0] / \"sa1.mp4\"  # input 25fps\n",
    "VID_OUT = PROCESSED_DIR / \"interpolation\" / \"video50crop\" / CAM_ANGLE[0] / \"sa1_50fps.mp4\"\n",
    "\n",
    "# Ensure output folder exists\n",
    "OUT_PATH = Path(VID_OUT)\n",
    "DATA_PATH = Path(VID_IN)\n",
    "\n",
    "assert shutil.which(\"ffmpeg\"), \"FFmpeg not found on PATH.\"\n",
    "assert DATA_PATH.exists(), f\"Input not found: {DATA_PATH}\"\n",
    "OUT_PATH.parent.mkdir(parents=True, exist_ok=True)\n",
    "\n",
    "# Interpolate to 50 fps (one new frame between each original)\n",
    "cmd = [\n",
    "    \"ffmpeg\",\n",
    "    \"-i\", str(DATA_PATH),\n",
    "    \"-vf\", 'minterpolate=mi_mode=mci:mc_mode=aobmc:me_mode=bidir:fps=50',\n",
    "    \"-c:v\", \"libx264\", \"-crf\", \"0\", \"-preset\", \"veryslow\", \"-pix_fmt\", \"yuv420p\",\n",
    "    \"-c:a\", \"copy\",  # keep original audio untouched\n",
    "    str(OUT_PATH),\n",
    "]\n",
    "subprocess.run(cmd, check=True)\n",
    "print(\"Done:\", OUT_PATH)\n"
   ]
  },
  {
   "cell_type": "code",
   "execution_count": null,
   "id": "3972bf4e",
   "metadata": {},
   "outputs": [
    {
     "name": "stdout",
     "output_type": "stream",
     "text": [
      "Wrote: C:\\Users\\irish\\Computer_Electronic_Engineering_Year5\\AVSR_project\\Data\\TCD_TIMIT\\volunteers\\02M\\Clips\\processed\\interpolation\\video25crop_interpolate\\phase_20p0ms\\straightcam\\sa1_50fps_25fps_near.mp4\n",
      "Wrote: C:\\Users\\irish\\Computer_Electronic_Engineering_Year5\\AVSR_project\\Data\\TCD_TIMIT\\volunteers\\02M\\Clips\\processed\\interpolation\\video25crop_interpolate\\phase_20p0ms\\straightcam\\sa1_50fps_25fps_near.mp4\n"
     ]
    }
   ],
   "source": [
    "import subprocess\n",
    "from pathlib import Path\n",
    "\n",
    "# Example explicit paths (or reuse your PROCESSED_DIR/CAM_ANGLE)\n",
    "VID_IN        = Path(r\"C:\\Users\\irish\\Computer_Electronic_Engineering_Year5\\AVSR_project\\Data\\TCD_TIMIT\\volunteers\\02M\\Clips\\processed\\interpolation\\video50crop\\straightcam\\sa1_50fps.mp4\")\n",
    "BASE_OUT_ROOT = Path(r\"C:\\Users\\irish\\Computer_Electronic_Engineering_Year5\\AVSR_project\\Data\\TCD_TIMIT\\volunteers\\02M\\Clips\\processed\")\n",
    "CAMERA_ANGLE  = \"straightcam\"   # or \"30degcam\"\n",
    "\n",
    "def _phase_label_ms(phase: float) -> str:\n",
    "    ms_rounded = round(phase * 1000.0, 2)\n",
    "    return f\"{str(ms_rounded).replace('.', 'p')}ms\"\n",
    "\n",
    "def downsample_50_to_25(\n",
    "    vid_in: Path,\n",
    "    base_out_root: Path,\n",
    "    camera_angle: str,\n",
    "    phases = (1/50,),                 # default: only the interpolated frames\n",
    "    round_type = (\"near\",),           # \"near\" is fine here\n",
    "    sync_audio: bool = False          # False = keep audio (introduce +20ms AV offset)\n",
    "):\n",
    "    \"\"\"\n",
    "    Writes to:\n",
    "      base_out_root / \"interpolation\" / \"video25crop_interpolate\" / f\"phase_{LABEL}\" / camera_angle / <file>.mp4\n",
    "    \"\"\"\n",
    "    written = []\n",
    "    for p in phases:\n",
    "        phase_dir = base_out_root / \"interpolation\" / \"video25crop_interpolate\" / f\"phase_{_phase_label_ms(p)}\" / camera_angle\n",
    "        phase_dir.mkdir(parents=True, exist_ok=True)\n",
    "\n",
    "        for r in round_type:\n",
    "            out_path = phase_dir / f\"{vid_in.stem}_25fps_{r}.mp4\"\n",
    "\n",
    "            # Pick frames at 25fps starting at phase 'p' seconds (e.g., 0.02 for interpolated-only)\n",
    "            # Reset PTS so the timeline starts at 0 after applying the phase.\n",
    "            vf = f\"fps=fps=25:start_time={p}:round={r},setpts=PTS-{p}/TB\"\n",
    "\n",
    "            # Audio:\n",
    "            # - sync_audio=False: leave audio untouched -> constant +p video lead (e.g., +20ms)\n",
    "            # - sync_audio=True: advance audio by 'p' to re-sync with the chosen frames\n",
    "            af = None\n",
    "            if sync_audio:\n",
    "                # Advance audio by p (may drop the first p of audio if present)\n",
    "                af = f\"asetpts=PTS-{p}/TB\"\n",
    "\n",
    "            cmd = [\"ffmpeg\",\"-y\",\"-i\", str(vid_in), \"-vf\", vf]\n",
    "            if af:\n",
    "                cmd += [\"-af\", af]\n",
    "            cmd += [\n",
    "                \"-c:v\", \"libx264\", \"-crf\", \"18\", \"-preset\", \"veryfast\", \"-pix_fmt\", \"yuv420p\",\n",
    "                \"-c:a\", \"aac\", \"-b:a\", \"128k\",\n",
    "                str(out_path),\n",
    "            ]\n",
    "\n",
    "            subprocess.run(cmd, check=True)\n",
    "            print(\"Wrote:\", out_path)\n",
    "            written.append(out_path)\n",
    "    return written\n",
    "\n",
    "\n",
    "\n",
    "# (B) Interpolated-only frames, SYNC audio (no AV offset; audio advanced by 20ms)\n",
    "outputs_synced = downsample_50_to_25(\n",
    "    vid_in=VID_IN,\n",
    "    base_out_root=BASE_OUT_ROOT,\n",
    "    camera_angle=CAMERA_ANGLE,\n",
    "    phases=(1/50,),\n",
    "    round_type=(\"near\",),\n",
    "    sync_audio=True\n",
    ")\n",
    " "
   ]
  },
  {
   "cell_type": "code",
   "execution_count": null,
   "id": "e9c44796",
   "metadata": {},
   "outputs": [],
   "source": [
    "# test downsample fucntions on output of upsample 60fps video\n",
    "#\"C:\\Users\\irish\\Computer_Electronic_Engineering_Year5\\AVSR_project\\Data\\TCD_TIMIT\\volunteers\\02M\\Clips\\processed\\interpolation\\video60crop\\straightcam\\sa1_60fps.mp4\"\n",
    "import cv2\n",
    "cap = cv2.VideoCapture(str(VID_IN))\n",
    "\n",
    "\n"
   ]
  },
  {
   "cell_type": "markdown",
   "id": "d976c5cc",
   "metadata": {},
   "source": [
    "## 4. Build file/label lists and count frames"
   ]
  },
  {
   "cell_type": "code",
   "execution_count": null,
   "id": "ca24ab7d",
   "metadata": {},
   "outputs": [],
   "source": [
    "def write_lists_and_counts(spk: str, ids: list):\n",
    "    spk_root = ROOT / \"volunteers\" / spk\n",
    "    clips = spk_root / \"Clips\"\n",
    "    video_dir = clips / \"video\"\n",
    "    audio_dir = clips / \"audio\"\n",
    "\n",
    "    file_list   = clips / \"file.list\"\n",
    "    label_list  = clips / \"label.list\"\n",
    "    nfa_file    = clips / \"nframes.audio\"\n",
    "    nfv_file    = clips / \"nframes.video\"\n",
    "\n",
    "    lines_f = []\n",
    "    lines_l = []\n",
    "    lines_nfa = []\n",
    "    lines_nfv = []\n",
    "\n",
    "    for cid in tqdm(ids, desc=f\"[{spk}] Counting/Listing\", ncols=100):\n",
    "        fid = f\"trainval/{cid}\"\n",
    "        v = video_dir / f\"{cid}.mp4\"\n",
    "        a = audio_dir / f\"{cid}.wav\"\n",
    "        if not v.exists() or not a.exists():\n",
    "            continue\n",
    "\n",
    "        lines_f.append(fid+\"\\n\")\n",
    "        label = (ROOT / \"volunteers\" / spk / \"Clips\" / TXT_SUB / f\"{cid}.txt\").read_text(encoding=\"utf-8\", errors=\"ignore\").strip().lower()\n",
    "        lines_l.append(label+\"\\n\")\n",
    "\n",
    "        nfa = count_audio_samples(a)\n",
    "        nfv = count_video_frames(v)\n",
    "        lines_nfa.append(str(nfa)+\"\\n\")\n",
    "        lines_nfv.append(str(nfv)+\"\\n\")\n",
    "\n",
    "    file_list.write_text(\"\".join(lines_f), encoding=\"utf-8\")\n",
    "    label_list.write_text(\"\".join(lines_l), encoding=\"utf-8\")\n",
    "    nfa_file.write_text(\"\".join(lines_nfa), encoding=\"utf-8\")\n",
    "    nfv_file.write_text(\"\".join(lines_nfv), encoding=\"utf-8\")\n",
    "    return clips\n",
    "\n",
    "for spk, ids in ALL_IDS.items():\n",
    "    write_lists_and_counts(spk, ids)\n",
    "\n",
    "print(\"Wrote file.list, label.list, nframes.audio, nframes.video.\")"
   ]
  },
  {
   "cell_type": "markdown",
   "id": "d04ea8ac",
   "metadata": {},
   "source": [
    "## 5. Train SentencePiece vocab (with automatic fallback)"
   ]
  },
  {
   "cell_type": "code",
   "execution_count": null,
   "id": "a254eb4a",
   "metadata": {},
   "outputs": [],
   "source": [
    "import sentencepiece as spm\n",
    "import shutil\n",
    "\n",
    "def train_sentencepiece_for_speaker(spk: str, vocab_size: int = 1000):\n",
    "    clips = ROOT / \"volunteers\" / spk / \"Clips\"\n",
    "    label_list = clips / \"label.list\"\n",
    "    out_dir = clips / f\"spm{vocab_size}\"\n",
    "    out_dir.mkdir(exist_ok=True, parents=True)\n",
    "    prefix = out_dir / f\"spm_unigram{vocab_size}\"\n",
    "\n",
    "    txt = label_list.read_text(encoding=\"utf-8\").lower()\n",
    "    tmp = (clips / \"labels_tmp.txt\")\n",
    "    tmp.write_text(txt, encoding=\"utf-8\")\n",
    "\n",
    "    size = vocab_size\n",
    "    while size >= 128:\n",
    "        try:\n",
    "            spm.SentencePieceTrainer.Train(\n",
    "                input=tmp.as_posix(),\n",
    "                model_prefix=prefix.as_posix(),\n",
    "                model_type=\"unigram\",\n",
    "                vocab_size=size,\n",
    "                character_coverage=1.0,\n",
    "                unk_id=3, bos_id=0, eos_id=2, pad_id=1,\n",
    "                num_threads=2,\n",
    "            )\n",
    "            model_txt = str(prefix) + \".txt\"\n",
    "            dict_txt = clips / \"dict.wrd.txt\"\n",
    "            shutil.copyfile(model_txt, dict_txt)\n",
    "            print(f\"[info] SentencePiece trained at size {size}. Saved dict to {dict_txt}\")\n",
    "            try: tmp.unlink()\n",
    "            except Exception: pass\n",
    "            return dict_txt\n",
    "        except Exception as e:\n",
    "            print(f\"[info] SP fallback: {e} → trying smaller size\")\n",
    "            size = int(size * 0.8)\n",
    "    raise RuntimeError(\"SentencePiece training failed; corpus likely too small.\")\n",
    "\n",
    "DICT_PATHS = {}\n",
    "for spk in SPEAKERS:\n",
    "    DICT_PATHS[spk] = train_sentencepiece_for_speaker(spk)\n",
    "\n",
    "print(\"SPM done.\")"
   ]
  },
  {
   "cell_type": "markdown",
   "id": "337b5436",
   "metadata": {},
   "source": [
    "## 6. Split data into train/valid/test and write AV‑HuBERT manifests"
   ]
  },
  {
   "cell_type": "code",
   "execution_count": null,
   "id": "03efe354",
   "metadata": {},
   "outputs": [],
   "source": [
    "def auto_split_ids(ids: list, pin_valid=set([\"sa1\",\"sa2\"]), valid_ratio=0.1, test_ratio=0.05):\n",
    "    ids = sorted(ids)\n",
    "    valid = [i for i in ids if i in pin_valid]\n",
    "    rest = [i for i in ids if i not in pin_valid]\n",
    "    n_valid = max(len(valid), int(round(len(ids)*valid_ratio)))\n",
    "    n_test  = int(round(len(ids)*test_ratio))\n",
    "    if len(valid) < n_valid:\n",
    "        extra = rest[:(n_valid - len(valid))]\n",
    "        valid = valid + extra\n",
    "        rest  = rest[(n_valid - len(valid)):] if (n_valid - len(valid))>0 else rest\n",
    "    test = rest[:n_test]\n",
    "    train = [i for i in ids if i not in set(valid) | set(test)]\n",
    "    return train, valid, test\n",
    "\n",
    "def write_tsv_and_wrd(spk: str, train_ids, valid_ids, test_ids):\n",
    "    spk_root = ROOT / \"volunteers\" / spk\n",
    "    clips = spk_root / \"Clips\"\n",
    "    video_dir = clips / \"video\"\n",
    "    audio_dir = clips / \"audio\"\n",
    "\n",
    "    data_dir = clips / \"433h_data\"\n",
    "    data_dir.mkdir(exist_ok=True, parents=True)\n",
    "\n",
    "    nfa = [int(x.strip()) for x in (clips / \"nframes.audio\").read_text().splitlines()]\n",
    "    nfv = [int(x.strip()) for x in (clips / \"nframes.video\").read_text().splitlines()]\n",
    "    fids = [x.strip() for x in (clips / \"file.list\").read_text().splitlines()]\n",
    "    labels = [x.strip() for x in (clips / \"label.list\").read_text().splitlines()]\n",
    "    assert len(nfa) == len(nfv) == len(fids) == len(labels)\n",
    "\n",
    "    rows = []\n",
    "    for fid, lab, a, v in zip(fids, labels, nfa, nfv):\n",
    "        cid = fid.split(\"/\")[-1]\n",
    "        rows.append((cid, lab, a, v))\n",
    "\n",
    "    split_map = {\"train\": set(train_ids), \"valid\": set(valid_ids), \"test\": set(test_ids)}\n",
    "    buckets = {\"train\": [], \"valid\": [], \"test\": []}\n",
    "\n",
    "    for cid, lab, a, v in rows:\n",
    "        rel_id = cid\n",
    "        vpath = (video_dir / f\"{cid}.mp4\").absolute().as_posix()\n",
    "        apath = (audio_dir / f\"{cid}.wav\").absolute().as_posix()\n",
    "        for split in [\"train\", \"valid\", \"test\"]:\n",
    "            if cid in split_map[split]:\n",
    "                buckets[split].append((rel_id, lab, a, v, vpath, apath))\n",
    "                break\n",
    "\n",
    "    for split, items in buckets.items():\n",
    "        with open(data_dir / f\"{split}.tsv\", \"w\", encoding=\"utf-8\") as fo:\n",
    "            fo.write(\"/\\n\")\n",
    "            for rel_id, lab, a, v, vpath, apath in items:\n",
    "                fo.write(\"\\t\".join([rel_id, vpath, apath, str(v), str(a)]) + \"\\n\")\n",
    "        with open(data_dir / f\"{split}.wrd\", \"w\", encoding=\"utf-8\") as fo:\n",
    "            for _, lab, *_ in items:\n",
    "                fo.write(lab + \"\\n\")\n",
    "\n",
    "    dict_src = clips / \"dict.wrd.txt\"\n",
    "    import shutil\n",
    "    shutil.copyfile(dict_src, data_dir / \"dict.wrd.txt\")\n",
    "\n",
    "    for split in [\"train\", \"valid\", \"test\"]:\n",
    "        wrd_path = data_dir / f\"{split}.wrd\"\n",
    "        ltr_path = data_dir / f\"{split}.ltr\"\n",
    "        with open(wrd_path, \"r\", encoding=\"utf-8\") as fi, open(ltr_path, \"w\", encoding=\"utf-8\") as fo:\n",
    "            for line in fi:\n",
    "                sent = line.strip().replace(\" \", \"|\")\n",
    "                letters = \" \".join(list(sent))\n",
    "                fo.write(letters + \"\\n\")\n",
    "\n",
    "    return data_dir\n",
    "\n",
    "SPLITS = {}\n",
    "for spk, ids in ALL_IDS.items():\n",
    "    if \"{VALID_SPLIT_MODE}\" == \"file\" and {bool(False)}:\n",
    "        valid_ids = [x.strip() for x in Path(VALID_IDS_FILE).read_text().splitlines() if x.strip()]\n",
    "        rest = [i for i in ids if i not in set(valid_ids)]\n",
    "        test_n = max(1, int(round(len(ids)*TEST_RATIO)))\n",
    "        test_ids = rest[:test_n]\n",
    "        train_ids = [i for i in ids if i not in set(valid_ids)|set(test_ids)]\n",
    "    else:\n",
    "        train_ids, valid_ids, test_ids = auto_split_ids(ids, pin_valid=set(list(PIN_VALID)), valid_ratio=VALID_RATIO, test_ratio=TEST_RATIO)\n",
    "\n",
    "    data_dir = write_tsv_and_wrd(spk, train_ids, valid_ids, test_ids)\n",
    "    SPLITS[spk] = dict(train=len(train_ids), valid=len(valid_ids), test=len(test_ids), data_dir=str(data_dir))\n",
    "\n",
    "SPLITS"
   ]
  },
  {
   "cell_type": "markdown",
   "id": "c710a325",
   "metadata": {},
   "source": [
    "## 7. Quick QA"
   ]
  },
  {
   "cell_type": "code",
   "execution_count": null,
   "id": "dbb98645",
   "metadata": {},
   "outputs": [],
   "source": [
    "from pprint import pprint\n",
    "pprint(SPLITS)\n",
    "\n",
    "for spk in SPEAKERS:\n",
    "    data_dir = Path(SPLITS[spk][\"data_dir\"])\n",
    "    print(f\"\\n--- {spk} :: {data_dir} ---\")\n",
    "    for fn in [\"train.tsv\", \"valid.tsv\", \"test.tsv\", \"train.wrd\"]:\n",
    "        p = data_dir / fn\n",
    "        if p.exists():\n",
    "            print(f\"\\n[{fn} head]\")\n",
    "            print(\"\\n\".join(p.read_text().splitlines()[:6]))"
   ]
  },
  {
   "cell_type": "markdown",
   "id": "45f22041",
   "metadata": {},
   "source": [
    "## 8. (Optional) Data augmentation — placeholders"
   ]
  },
  {
   "cell_type": "code",
   "execution_count": null,
   "id": "403eb3fc",
   "metadata": {},
   "outputs": [
    {
     "name": "stdout",
     "output_type": "stream",
     "text": [
      "Wrote: C:\\Users\\irish\\Computer_Electronic_Engineering_Year5\\AVSR_project\\Data\\TCD_TIMIT\\volunteers\\01M\\Clips\\probe_frame.png\n"
     ]
    }
   ],
   "source": [
    "\n",
    "\n",
    "# paths\n",
    "inp = Path(r\"C:\\Users\\irish\\Computer_Electronic_Engineering_Year5\\AVSR_project\\Data\\TCD_TIMIT\\volunteers\\01M\\Clips\\sa1_60fps.mp4\")\n",
    "out = Path(r\"C:\\Users\\irish\\Computer_Electronic_Engineering_Year5\\AVSR_project\\Data\\TCD_TIMIT\\volunteers\\01M\\Clips\\probe_frame.png\")\n",
    "out.parent.mkdir(parents=True, exist_ok=True)\n",
    "\n",
    "# locate ffmpeg (or hardcode r\"C:\\ffmpeg\\bin\\ffmpeg.exe\")\n",
    "ffmpeg = shutil.which(\"ffmpeg\")\n",
    "assert ffmpeg, \"FFmpeg not found on PATH.\"\n",
    "\n",
    "# exact command translated to Python:\n",
    "cmd = [\n",
    "    ffmpeg, \"-y\",\n",
    "    \"-i\", str(inp),\n",
    "    \"-vf\", r\"select=gte(n\\,50)\",  # note the backslash before the comma\n",
    "    \"-vframes\", \"1\",\n",
    "    str(out),\n",
    "]\n",
    "\n",
    "# run it\n",
    "subprocess.run(cmd, check=True)\n",
    "print(f\"Wrote: {out}\")\n"
   ]
  },
  {
   "cell_type": "markdown",
   "id": "88d96c92",
   "metadata": {},
   "source": [
    "## 9. Summary & next steps\n",
    "\n",
    "- Converted videos to **25 fps**, audios to **16 kHz mono**, and cropped mouth ROI to **112×112**.\n",
    "- Wrote lists: `file.list`, `label.list`, `nframes.audio`, `nframes.video`.\n",
    "- Trained SentencePiece (with auto‑fallback) and saved `dict.wrd.txt`.\n",
    "- Created AV‑HuBERT manifests under `Clips/433h_data/` for each speaker.\n",
    "\n",
    "Now upload `Clips/433h_data` into your training environment and use the clean training notebook we made.\n",
    "\n",
    "_Generated on 2025-10-09 11:41 UTC._"
   ]
  },
  {
   "cell_type": "code",
   "execution_count": null,
   "id": "4b61f013",
   "metadata": {},
   "outputs": [],
   "source": [
    "from pathlib import Path\n",
    "\n",
    "# Your existing roots\n",
    "DATA_ROOT = Path(r\"C:\\Users\\irish\\Computer_Electronic_Engineering_Year5\\AVSR_project\\Data\\TCD_TIMIT\")\n",
    "SPEAKER   = \"02M\"  # you can loop later if you want\n",
    "\n",
    "# Where your 25fps full-face videos and 16k audio live\n",
    "VID25_DIR = DATA_ROOT / rf\"volunteers\\{SPEAKER}\\Clips\\processed\\video25\\{CAM_ANGLE}\"   # 25 fps MP4s (full face)\n",
    "AUDIO_DIR = DATA_ROOT / rf\"volunteers\\{SPEAKER}\\Clips\\processed\\audio16k\\{CAM_ANGLE}\"\n",
    "TEXT_DIR  = DATA_ROOT / rf\"volunteers\\{SPEAKER}\\Clips\\text\\{CAM_ANGLE}\"\n",
    "\n",
    "# Landmark outputs and ROI outputs\n",
    "LMK_DIR   = DATA_ROOT / \"landmarks\"                          # .pkl files will mirror relative paths\n",
    "ROI88_DIR = DATA_ROOT / rf\"volunteers\\{SPEAKER}\\Clips\\video\\straightcam_roi88\"  # 88×88 mp4s\n",
    "ROI88_DIR.mkdir(parents=True, exist_ok=True)\n",
    "\n",
    "# dlib model files (already downloaded)\n",
    "DLIB_CNN = r\"C:\\models\\dlib\\mmod_human_face_detector.dat\"\n",
    "DLIB_L68 = r\"C:\\models\\dlib\\shape_predictor_68_face_landmarks.dat\"\n",
    "\n",
    "# AV-HuBERT repo path (where detect_landmark.py is)\n",
    "AVH_REPO = Path(r\"C:\\path\\to\\av_hubert\")  # <- set this to your local clone\n",
    "DETECT_PY = AVH_REPO / r\"avhubert\\preparation\\detect_landmark.py\"\n"
   ]
  },
  {
   "cell_type": "code",
   "execution_count": null,
   "id": "de2d2adc",
   "metadata": {},
   "outputs": [],
   "source": [
    "from pathlib import Path\n",
    "\n",
    "# Root of TCD-TIMIT on your machine\n",
    "DATA_ROOT = Path(r\"C:\\Users\\irish\\Computer_Electronic_Engineering_Year5\\AVSR_project\\Data\\TCD_TIMIT\")\n",
    "\n",
    "# Which speakers & cameras to process\n",
    "SPEAKERS = [\"02M\"]                     # e.g. [\"01M\",\"02M\",\"03F\", ...]\n",
    "CAMS     = [\"straightcam\", \"30degcam\"] # run one or both\n",
    "\n",
    "# Output geometry / rates\n",
    "TARGET_FPS = 25\n",
    "TARGET_SR  = 16_000\n",
    "ROI_SIZE   = 88\n",
    "MARGIN     = 0.35   # mouth box expansion; tweak 0.25–0.45 if needed\n"
   ]
  }
 ],
 "metadata": {
  "colab": {
   "name": "AVH_Data_Preprocessing.ipynb"
  },
  "kernelspec": {
   "display_name": "Python 3",
   "language": "python",
   "name": "python3"
  },
  "language_info": {
   "codemirror_mode": {
    "name": "ipython",
    "version": 3
   },
   "file_extension": ".py",
   "mimetype": "text/x-python",
   "name": "python",
   "nbconvert_exporter": "python",
   "pygments_lexer": "ipython3",
   "version": "3.12.5"
  }
 },
 "nbformat": 4,
 "nbformat_minor": 5
}
