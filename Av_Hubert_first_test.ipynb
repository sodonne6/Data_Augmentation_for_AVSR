{
  "nbformat": 4,
  "nbformat_minor": 0,
  "metadata": {
    "colab": {
      "provenance": [],
      "authorship_tag": "ABX9TyPIG7W+9dTpTbIW3dQwdtwd",
      "include_colab_link": true
    },
    "kernelspec": {
      "name": "python3",
      "display_name": "Python 3"
    },
    "language_info": {
      "name": "python"
    }
  },
  "cells": [
    {
      "cell_type": "markdown",
      "metadata": {
        "id": "view-in-github",
        "colab_type": "text"
      },
      "source": [
        "<a href=\"https://colab.research.google.com/github/sodonne6/Data_Augmentation_for_AVSR/blob/main/Av_Hubert_first_test.ipynb\" target=\"_parent\"><img src=\"https://colab.research.google.com/assets/colab-badge.svg\" alt=\"Open In Colab\"/></a>"
      ]
    },
    {
      "cell_type": "code",
      "source": [
        "%pip -q install -U condacolab\n",
        "import condacolab\n",
        "condacolab.install() #restarts runtime"
      ],
      "metadata": {
        "colab": {
          "base_uri": "https://localhost:8080/"
        },
        "id": "d6ljFoX6Z5cf",
        "outputId": "305b743e-f72f-472a-cf0c-9ca90921791e"
      },
      "execution_count": 12,
      "outputs": [
        {
          "output_type": "stream",
          "name": "stdout",
          "text": [
            "✨🍰✨ Everything looks OK!\n"
          ]
        }
      ]
    },
    {
      "cell_type": "code",
      "source": [
        "#create and activate python 3.8 env\n",
        "%%bash\n",
        "eval \"$(conda shell.bash hook)\"\n",
        "conda env remove -n av_hubert || true # Remove the environment if it exists\n",
        "conda create -n av_hubert python=3.8\n",
        "conda activate av_hubert\n",
        "\n",
        "# clone and install dependencies inside env\n",
        "git clone https://github.com/facebookresearch/av_hubert.git /content/av_hubert\n",
        "cd /content/av_hubert\n",
        "git submodule init\n",
        "git submodule update\n",
        "\n",
        "#show content for sanity check\n",
        "pwd\n",
        "ls -lah"
      ],
      "metadata": {
        "colab": {
          "base_uri": "https://localhost:8080/"
        },
        "id": "J8wsPehEaSAU",
        "outputId": "7a06c426-67e7-47d0-9a30-2877d8c5fc2f"
      },
      "execution_count": 13,
      "outputs": [
        {
          "output_type": "stream",
          "name": "stdout",
          "text": [
            "\n",
            "Remove all packages in environment /usr/local/envs/av_hubert:\n",
            "\n",
            "\n",
            "## Package Plan ##\n",
            "\n",
            "  environment location: /usr/local/envs/av_hubert\n",
            "\n",
            "\n",
            "The following packages will be REMOVED:\n",
            "\n",
            "  _libgcc_mutex-0.1-conda_forge\n",
            "  _openmp_mutex-4.5-2_gnu\n",
            "  bzip2-1.0.8-hda65f42_8\n",
            "  ca-certificates-2025.8.3-hbd8a1cb_0\n",
            "  ld_impl_linux-64-2.44-h1423503_1\n",
            "  libffi-3.4.6-h2dba641_1\n",
            "  libgcc-15.1.0-h767d61c_5\n",
            "  libgcc-ng-15.1.0-h69a702a_5\n",
            "  libgomp-15.1.0-h767d61c_5\n",
            "  liblzma-5.8.1-hb9d3cd8_2\n",
            "  liblzma-devel-5.8.1-hb9d3cd8_2\n",
            "  libnsl-2.0.1-hb9d3cd8_1\n",
            "  libsqlite-3.50.4-h0c1763c_0\n",
            "  libuuid-2.41.2-he9a06e4_0\n",
            "  libxcrypt-4.4.36-hd590300_1\n",
            "  libzlib-1.3.1-hb9d3cd8_2\n",
            "  ncurses-6.5-h2d0b736_3\n",
            "  openssl-3.5.3-h26f9b46_1\n",
            "  pip-24.3.1-pyh8b19718_0\n",
            "  python-3.8.20-h4a871b0_2_cpython\n",
            "  readline-8.2-h8c095d6_2\n",
            "  setuptools-75.3.0-pyhd8ed1ab_0\n",
            "  tk-8.6.13-noxft_hd72426e_102\n",
            "  wheel-0.45.1-pyhd8ed1ab_0\n",
            "  xz-5.8.1-hbcc6ac9_2\n",
            "  xz-gpl-tools-5.8.1-hbcc6ac9_2\n",
            "  xz-tools-5.8.1-hb9d3cd8_2\n",
            "\n",
            "\n",
            "\n",
            "Downloading and Extracting Packages: ...working... done\n",
            "Preparing transaction: - \b\bdone\n",
            "Verifying transaction: | \b\b/ \b\b- \b\b\\ \b\bdone\n",
            "Executing transaction: / \b\b- \b\b\\ \b\b| \b\b/ \b\bdone\n",
            "Channels:\n",
            " - conda-forge\n",
            "Platform: linux-64\n",
            "Collecting package metadata (repodata.json): ...working... done\n",
            "Solving environment: ...working... done\n",
            "\n",
            "## Package Plan ##\n",
            "\n",
            "  environment location: /usr/local/envs/av_hubert\n",
            "\n",
            "  added / updated specs:\n",
            "    - python=3.8\n",
            "\n",
            "\n",
            "The following NEW packages will be INSTALLED:\n",
            "\n",
            "  _libgcc_mutex      conda-forge/linux-64::_libgcc_mutex-0.1-conda_forge \n",
            "  _openmp_mutex      conda-forge/linux-64::_openmp_mutex-4.5-2_gnu \n",
            "  bzip2              conda-forge/linux-64::bzip2-1.0.8-hda65f42_8 \n",
            "  ca-certificates    conda-forge/noarch::ca-certificates-2025.8.3-hbd8a1cb_0 \n",
            "  ld_impl_linux-64   conda-forge/linux-64::ld_impl_linux-64-2.44-h1423503_1 \n",
            "  libffi             conda-forge/linux-64::libffi-3.4.6-h2dba641_1 \n",
            "  libgcc             conda-forge/linux-64::libgcc-15.1.0-h767d61c_5 \n",
            "  libgcc-ng          conda-forge/linux-64::libgcc-ng-15.1.0-h69a702a_5 \n",
            "  libgomp            conda-forge/linux-64::libgomp-15.1.0-h767d61c_5 \n",
            "  liblzma            conda-forge/linux-64::liblzma-5.8.1-hb9d3cd8_2 \n",
            "  liblzma-devel      conda-forge/linux-64::liblzma-devel-5.8.1-hb9d3cd8_2 \n",
            "  libnsl             conda-forge/linux-64::libnsl-2.0.1-hb9d3cd8_1 \n",
            "  libsqlite          conda-forge/linux-64::libsqlite-3.50.4-h0c1763c_0 \n",
            "  libuuid            conda-forge/linux-64::libuuid-2.41.2-he9a06e4_0 \n",
            "  libxcrypt          conda-forge/linux-64::libxcrypt-4.4.36-hd590300_1 \n",
            "  libzlib            conda-forge/linux-64::libzlib-1.3.1-hb9d3cd8_2 \n",
            "  ncurses            conda-forge/linux-64::ncurses-6.5-h2d0b736_3 \n",
            "  openssl            conda-forge/linux-64::openssl-3.5.3-h26f9b46_1 \n",
            "  pip                conda-forge/noarch::pip-24.3.1-pyh8b19718_0 \n",
            "  python             conda-forge/linux-64::python-3.8.20-h4a871b0_2_cpython \n",
            "  readline           conda-forge/linux-64::readline-8.2-h8c095d6_2 \n",
            "  setuptools         conda-forge/noarch::setuptools-75.3.0-pyhd8ed1ab_0 \n",
            "  tk                 conda-forge/linux-64::tk-8.6.13-noxft_hd72426e_102 \n",
            "  wheel              conda-forge/noarch::wheel-0.45.1-pyhd8ed1ab_0 \n",
            "  xz                 conda-forge/linux-64::xz-5.8.1-hbcc6ac9_2 \n",
            "  xz-gpl-tools       conda-forge/linux-64::xz-gpl-tools-5.8.1-hbcc6ac9_2 \n",
            "  xz-tools           conda-forge/linux-64::xz-tools-5.8.1-hb9d3cd8_2 \n",
            "\n",
            "\n",
            "\n",
            "Downloading and Extracting Packages: ...working... done\n",
            "Preparing transaction: - \b\b\\ \b\b| \b\b/ \b\bdone\n",
            "Verifying transaction: \\ \b\b| \b\b/ \b\b- \b\b\\ \b\b| \b\b/ \b\b- \b\b\\ \b\b| \b\b/ \b\b- \b\b\\ \b\b| \b\b/ \b\b- \b\b\\ \b\b| \b\b/ \b\b- \b\b\\ \b\b| \b\b/ \b\b- \b\b\\ \b\bdone\n",
            "Executing transaction: / \b\b- \b\b\\ \b\b| \b\b/ \b\b- \b\b\\ \b\b| \b\b/ \b\b- \b\b\\ \b\b| \b\b/ \b\b- \b\b\\ \b\b| \b\b/ \b\b- \b\b\\ \b\b| \b\b/ \b\b- \b\b\\ \b\b| \b\b/ \b\b- \b\b\\ \b\b| \b\b/ \b\b- \b\b\\ \b\b| \b\b/ \b\b- \b\b\\ \b\b| \b\b/ \b\b- \b\b\\ \b\b| \b\b/ \b\b- \b\bdone\n",
            "#\n",
            "# To activate this environment, use\n",
            "#\n",
            "#     $ conda activate av_hubert\n",
            "#\n",
            "# To deactivate an active environment, use\n",
            "#\n",
            "#     $ conda deactivate\n",
            "\n",
            "/content/av_hubert\n",
            "total 60K\n",
            "drwxr-xr-x 6 root root 4.0K Sep 23 14:58 .\n",
            "drwxr-xr-x 1 root root 4.0K Sep 23 15:36 ..\n",
            "drwxr-xr-x 2 root root 4.0K Sep 23 14:58 assets\n",
            "drwxr-xr-x 7 root root 4.0K Sep 23 15:12 avhubert\n",
            "-rw-r--r-- 1 root root 3.5K Sep 23 14:58 CODE_OF_CONDUCT.md\n",
            "-rw-r--r-- 1 root root 1.3K Sep 23 14:58 CONTRIBUTING.md\n",
            "drwxr-xr-x 9 root root 4.0K Sep 23 14:58 fairseq\n",
            "drwxr-xr-x 9 root root 4.0K Sep 23 14:58 .git\n",
            "-rw-r--r-- 1 root root   80 Sep 23 14:58 .gitmodules\n",
            "-rw-r--r-- 1 root root 8.7K Sep 23 14:58 LICENSE\n",
            "-rw-r--r-- 1 root root 6.5K Sep 23 14:58 README.md\n",
            "-rw-r--r-- 1 root root  108 Sep 23 14:58 requirements.txt\n"
          ]
        },
        {
          "output_type": "stream",
          "name": "stderr",
          "text": [
            "\n",
            "\n",
            "==> WARNING: A newer version of conda exists. <==\n",
            "    current version: 24.11.2\n",
            "    latest version: 25.7.0\n",
            "\n",
            "Please update conda by running\n",
            "\n",
            "    $ conda update -n base -c conda-forge conda\n",
            "\n",
            "\n",
            "fatal: destination path '/content/av_hubert' already exists and is not an empty directory.\n"
          ]
        }
      ]
    },
    {
      "cell_type": "code",
      "source": [
        "# install deps inside the conda env\n",
        "%%bash\n",
        "eval \"$(conda shell.bash hook)\"\n",
        "conda activate av_hubert\n",
        "cd /content/av_hubert/\n",
        "\n",
        "# 0) Repo requirements\n",
        "pip install -r requirements.txt\n",
        "\n",
        "# 1) Pin NumPy so np.float exists\n",
        "pip install --no-cache-dir \"numpy==1.23.5\"\n",
        "\n",
        "# 2) Torch (GPU build via pip cu117 wheels) — replace any conda torch\n",
        "conda remove -y pytorch torchvision torchaudio pytorch-cuda || true\n",
        "pip uninstall -y torch torchvision torchaudio || true\n",
        "pip install --no-cache-dir \\\n",
        "  torch==1.13.1+cu117 \\\n",
        "  torchvision==0.14.1+cu117 \\\n",
        "  torchaudio==0.13.1 \\\n",
        "  --extra-index-url https://download.pytorch.org/whl/cu117\n",
        "\n",
        "# 3) Install fairseq from the bundled submodule (editable) WITHOUT pulling deps\n",
        "cd fairseq\n",
        "pip install -e . --no-deps\n",
        "cd ..\n",
        "\n",
        "# 4) Force the config stack we need (provides II/MISSING)\n",
        "pip install --no-cache-dir omegaconf==2.1.1 hydra-core==1.1.0\n",
        "\n",
        "# 5) Tiny import check\n",
        "python - << 'PY'\n",
        "import torch, fairseq, numpy as np\n",
        "from omegaconf import II, MISSING\n",
        "import hydra\n",
        "print(\"Torch:\", torch.__version__, \"| CUDA available:\", torch.cuda.is_available())\n",
        "print(\"Fairseq import OK\")\n",
        "print(\"NumPy:\", np.__version__)\n",
        "print(\"OmegaConf II/MISSING present:\", II is not None and MISSING is not None)\n",
        "print(\"Hydra:\", hydra.__version__)\n",
        "PY\n"
      ],
      "metadata": {
        "colab": {
          "base_uri": "https://localhost:8080/"
        },
        "id": "jkNCDgBHcQgr",
        "outputId": "43969a39-13aa-4aba-a87f-e481acdcf03b"
      },
      "execution_count": 16,
      "outputs": [
        {
          "output_type": "stream",
          "name": "stdout",
          "text": [
            "Requirement already satisfied: python-speech-features==0.6 in /usr/local/envs/av_hubert/lib/python3.8/site-packages (from -r requirements.txt (line 1)) (0.6)\n",
            "Requirement already satisfied: scipy==1.10.0 in /usr/local/envs/av_hubert/lib/python3.8/site-packages (from -r requirements.txt (line 2)) (1.10.0)\n",
            "Requirement already satisfied: opencv-python==4.5.4.60 in /usr/local/envs/av_hubert/lib/python3.8/site-packages (from -r requirements.txt (line 3)) (4.5.4.60)\n",
            "Requirement already satisfied: sentencepiece==0.1.96 in /usr/local/envs/av_hubert/lib/python3.8/site-packages (from -r requirements.txt (line 4)) (0.1.96)\n",
            "Requirement already satisfied: editdistance==0.6.0 in /usr/local/envs/av_hubert/lib/python3.8/site-packages (from -r requirements.txt (line 5)) (0.6.0)\n",
            "Requirement already satisfied: numpy<1.27.0,>=1.19.5 in /usr/local/envs/av_hubert/lib/python3.8/site-packages (from scipy==1.10.0->-r requirements.txt (line 2)) (1.23.5)\n",
            "Requirement already satisfied: numpy==1.23.5 in /usr/local/envs/av_hubert/lib/python3.8/site-packages (1.23.5)\n",
            "Looking in indexes: https://pypi.org/simple, https://download.pytorch.org/whl/cu117\n",
            "Collecting torch==1.13.1+cu117\n",
            "  Downloading https://download.pytorch.org/whl/cu117/torch-1.13.1%2Bcu117-cp38-cp38-linux_x86_64.whl (1801.8 MB)\n",
            "     ━━━━━━━━━━━━━━━━━━━━━━━━━━━━━━━━━━━━━━━━ 1.8/1.8 GB 304.9 MB/s eta 0:00:00\n",
            "Collecting torchvision==0.14.1+cu117\n",
            "  Downloading https://download.pytorch.org/whl/cu117/torchvision-0.14.1%2Bcu117-cp38-cp38-linux_x86_64.whl (24.3 MB)\n",
            "     ━━━━━━━━━━━━━━━━━━━━━━━━━━━━━━━━━━━━━━━ 24.3/24.3 MB 105.5 MB/s eta 0:00:00\n",
            "Collecting torchaudio==0.13.1\n",
            "  Downloading https://download.pytorch.org/whl/cu117/torchaudio-0.13.1%2Bcu117-cp38-cp38-linux_x86_64.whl (4.2 MB)\n",
            "     ━━━━━━━━━━━━━━━━━━━━━━━━━━━━━━━━━━━━━━━━ 4.2/4.2 MB 433.6 MB/s eta 0:00:00\n",
            "Requirement already satisfied: typing-extensions in /usr/local/envs/av_hubert/lib/python3.8/site-packages (from torch==1.13.1+cu117) (4.13.2)\n",
            "Requirement already satisfied: numpy in /usr/local/envs/av_hubert/lib/python3.8/site-packages (from torchvision==0.14.1+cu117) (1.23.5)\n",
            "Requirement already satisfied: requests in /usr/local/envs/av_hubert/lib/python3.8/site-packages (from torchvision==0.14.1+cu117) (2.32.4)\n",
            "Requirement already satisfied: pillow!=8.3.*,>=5.3.0 in /usr/local/envs/av_hubert/lib/python3.8/site-packages (from torchvision==0.14.1+cu117) (10.4.0)\n",
            "Requirement already satisfied: charset_normalizer<4,>=2 in /usr/local/envs/av_hubert/lib/python3.8/site-packages (from requests->torchvision==0.14.1+cu117) (3.4.3)\n",
            "Requirement already satisfied: idna<4,>=2.5 in /usr/local/envs/av_hubert/lib/python3.8/site-packages (from requests->torchvision==0.14.1+cu117) (3.10)\n",
            "Requirement already satisfied: urllib3<3,>=1.21.1 in /usr/local/envs/av_hubert/lib/python3.8/site-packages (from requests->torchvision==0.14.1+cu117) (2.2.3)\n",
            "Requirement already satisfied: certifi>=2017.4.17 in /usr/local/envs/av_hubert/lib/python3.8/site-packages (from requests->torchvision==0.14.1+cu117) (2025.8.3)\n",
            "Installing collected packages: torch, torchvision, torchaudio\n",
            "Successfully installed torch-1.13.1+cu117 torchaudio-0.13.1+cu117 torchvision-0.14.1+cu117\n",
            "Obtaining file:///content/av_hubert/fairseq\n",
            "  Installing build dependencies: started\n",
            "  Installing build dependencies: finished with status 'done'\n",
            "  Checking if build backend supports build_editable: started\n",
            "  Checking if build backend supports build_editable: finished with status 'done'\n",
            "  Getting requirements to build editable: started\n",
            "  Getting requirements to build editable: finished with status 'done'\n",
            "  Installing backend dependencies: started\n",
            "  Installing backend dependencies: finished with status 'done'\n",
            "  Preparing editable metadata (pyproject.toml): started\n",
            "  Preparing editable metadata (pyproject.toml): finished with status 'done'\n",
            "Building wheels for collected packages: fairseq\n",
            "  Building editable for fairseq (pyproject.toml): started\n",
            "  Building editable for fairseq (pyproject.toml): finished with status 'done'\n",
            "  Created wheel for fairseq: filename=fairseq-1.0.0a0+afc77bd-0.editable-cp38-cp38-linux_x86_64.whl size=8850 sha256=5379731307a8d917060d4c3d85bfd77c326d0dc39687c63d3db7738beee50769\n",
            "  Stored in directory: /tmp/pip-ephem-wheel-cache-7p2_ur5p/wheels/c0/bc/12/b44810d3f46a1b839bfe22323dd4609d9b0c8430ca1e0cc32e\n",
            "Successfully built fairseq\n",
            "Installing collected packages: fairseq\n",
            "  Attempting uninstall: fairseq\n",
            "    Found existing installation: fairseq 1.0.0a0+afc77bd\n",
            "    Uninstalling fairseq-1.0.0a0+afc77bd:\n",
            "      Successfully uninstalled fairseq-1.0.0a0+afc77bd\n",
            "Successfully installed fairseq-1.0.0a0+afc77bd\n",
            "Collecting omegaconf==2.1.1\n",
            "  Downloading omegaconf-2.1.1-py3-none-any.whl.metadata (3.6 kB)\n",
            "Collecting hydra-core==1.1.0\n",
            "  Downloading hydra_core-1.1.0-py3-none-any.whl.metadata (4.1 kB)\n",
            "Requirement already satisfied: antlr4-python3-runtime==4.8 in /usr/local/envs/av_hubert/lib/python3.8/site-packages (from omegaconf==2.1.1) (4.8)\n",
            "Requirement already satisfied: PyYAML>=5.1.0 in /usr/local/envs/av_hubert/lib/python3.8/site-packages (from omegaconf==2.1.1) (6.0.2)\n",
            "Requirement already satisfied: importlib-resources in /usr/local/envs/av_hubert/lib/python3.8/site-packages (from hydra-core==1.1.0) (6.4.5)\n",
            "Requirement already satisfied: zipp>=3.1.0 in /usr/local/envs/av_hubert/lib/python3.8/site-packages (from importlib-resources->hydra-core==1.1.0) (3.20.2)\n",
            "Downloading omegaconf-2.1.1-py3-none-any.whl (74 kB)\n",
            "Downloading hydra_core-1.1.0-py3-none-any.whl (144 kB)\n",
            "Installing collected packages: omegaconf, hydra-core\n",
            "  Attempting uninstall: omegaconf\n",
            "    Found existing installation: omegaconf 1.4.1\n",
            "    Uninstalling omegaconf-1.4.1:\n",
            "      Successfully uninstalled omegaconf-1.4.1\n",
            "  Attempting uninstall: hydra-core\n",
            "    Found existing installation: hydra-core 0.11.3\n",
            "    Uninstalling hydra-core-0.11.3:\n",
            "      Successfully uninstalled hydra-core-0.11.3\n",
            "Successfully installed hydra-core-1.1.0 omegaconf-2.1.1\n",
            "Torch: 1.13.1+cu117 | CUDA available: False\n",
            "Fairseq import OK\n",
            "NumPy: 1.23.5\n",
            "OmegaConf II/MISSING present: True\n",
            "Hydra: 1.1.0\n"
          ]
        },
        {
          "output_type": "stream",
          "name": "stderr",
          "text": [
            "\n",
            "PackagesNotFoundError: The following packages are missing from the target environment:\n",
            "  - pytorch\n",
            "  - torchaudio\n",
            "  - pytorch-cuda\n",
            "  - torchvision\n",
            "\n",
            "\n",
            "WARNING: Skipping torch as it is not installed.\n",
            "WARNING: Skipping torchvision as it is not installed.\n",
            "WARNING: Skipping torchaudio as it is not installed.\n",
            "ERROR: pip's dependency resolver does not currently take into account all the packages that are installed. This behaviour is the source of the following dependency conflicts.\n",
            "fairseq 1.0.0a0+afc77bd requires hydra-core<1.1, but you have hydra-core 1.1.0 which is incompatible.\n",
            "fairseq 1.0.0a0+afc77bd requires omegaconf<2.1, but you have omegaconf 2.1.1 which is incompatible.\n"
          ]
        }
      ]
    },
    {
      "cell_type": "code",
      "source": [
        "##different version of omega and hydra -> fixed apprently\n",
        "#%%bash\n",
        "#eval \"$(conda shell.bash hook)\"\n",
        "#conda activate av_hubert\n",
        "#cd /content/av_hubert\n",
        "#\n",
        "## Upgrade config stack to match fairseq's expectations (provides `II`, `MISSING`)\n",
        "#pip uninstall -y omegaconf hydra-core\n",
        "#pip install --no-cache-dir omegaconf==2.1.1 hydra-core==1.1.0\n",
        "#\n",
        "## Sanity import\n",
        "#python - << 'PY'\n",
        "#from omegaconf import II, MISSING\n",
        "#print(\"OmegaConf OK:\", II is not None, MISSING is not None)\n",
        "#import hydra\n",
        "#print(\"Hydra OK, version:\", hydra.__version__)\n",
        "#PY\n"
      ],
      "metadata": {
        "colab": {
          "base_uri": "https://localhost:8080/"
        },
        "id": "bImnJikskLAJ",
        "outputId": "4e8fc03a-24d1-4572-f028-a6b02e292040"
      },
      "execution_count": 4,
      "outputs": [
        {
          "output_type": "stream",
          "name": "stdout",
          "text": [
            "Found existing installation: omegaconf 1.4.1\n",
            "Uninstalling omegaconf-1.4.1:\n",
            "  Successfully uninstalled omegaconf-1.4.1\n",
            "Found existing installation: hydra-core 0.11.3\n",
            "Uninstalling hydra-core-0.11.3:\n",
            "  Successfully uninstalled hydra-core-0.11.3\n",
            "Collecting omegaconf==2.1.1\n",
            "  Downloading omegaconf-2.1.1-py3-none-any.whl.metadata (3.6 kB)\n",
            "Collecting hydra-core==1.1.0\n",
            "  Downloading hydra_core-1.1.0-py3-none-any.whl.metadata (4.1 kB)\n",
            "Collecting antlr4-python3-runtime==4.8 (from omegaconf==2.1.1)\n",
            "  Downloading antlr4-python3-runtime-4.8.tar.gz (112 kB)\n",
            "  Preparing metadata (setup.py): started\n",
            "  Preparing metadata (setup.py): finished with status 'done'\n",
            "Requirement already satisfied: PyYAML>=5.1.0 in /usr/local/envs/av_hubert/lib/python3.8/site-packages (from omegaconf==2.1.1) (6.0.2)\n",
            "Collecting importlib-resources (from hydra-core==1.1.0)\n",
            "  Downloading importlib_resources-6.4.5-py3-none-any.whl.metadata (4.0 kB)\n",
            "Collecting zipp>=3.1.0 (from importlib-resources->hydra-core==1.1.0)\n",
            "  Downloading zipp-3.20.2-py3-none-any.whl.metadata (3.7 kB)\n",
            "Downloading omegaconf-2.1.1-py3-none-any.whl (74 kB)\n",
            "Downloading hydra_core-1.1.0-py3-none-any.whl (144 kB)\n",
            "Downloading importlib_resources-6.4.5-py3-none-any.whl (36 kB)\n",
            "Downloading zipp-3.20.2-py3-none-any.whl (9.2 kB)\n",
            "Building wheels for collected packages: antlr4-python3-runtime\n",
            "  Building wheel for antlr4-python3-runtime (setup.py): started\n",
            "  Building wheel for antlr4-python3-runtime (setup.py): finished with status 'done'\n",
            "  Created wheel for antlr4-python3-runtime: filename=antlr4_python3_runtime-4.8-py3-none-any.whl size=141213 sha256=972221a3223dbe76bce5a33d0ae7d88cb3db28eadbb86c99775a1240f6b681c6\n",
            "  Stored in directory: /tmp/pip-ephem-wheel-cache-9nlfip9f/wheels/c8/d0/ab/d43c02eaddc5b9004db86950802442ad9a26f279c619e28da0\n",
            "Successfully built antlr4-python3-runtime\n",
            "Installing collected packages: antlr4-python3-runtime, zipp, omegaconf, importlib-resources, hydra-core\n",
            "Successfully installed antlr4-python3-runtime-4.8 hydra-core-1.1.0 importlib-resources-6.4.5 omegaconf-2.1.1 zipp-3.20.2\n",
            "OmegaConf OK: True True\n",
            "Hydra OK, version: 1.1.0\n"
          ]
        },
        {
          "output_type": "stream",
          "name": "stderr",
          "text": [
            "ERROR: pip's dependency resolver does not currently take into account all the packages that are installed. This behaviour is the source of the following dependency conflicts.\n",
            "fairseq 1.0.0a0+afc77bd requires hydra-core<1.1, but you have hydra-core 1.1.0 which is incompatible.\n",
            "fairseq 1.0.0a0+afc77bd requires omegaconf<2.1, but you have omegaconf 2.1.1 which is incompatible.\n"
          ]
        }
      ]
    },
    {
      "cell_type": "code",
      "source": [
        "##fix numpy\n",
        "#%%bash\n",
        "#eval \"$(conda shell.bash hook)\"\n",
        "#conda activate av_hubert\n",
        "## Pin numpy to a pre-1.24 version so np.float exists\n",
        "#pip install --no-cache-dir \"numpy==1.23.5\"\n",
        "#\n",
        "## Quick check\n",
        "#python - << 'PY'\n",
        "#import numpy as np\n",
        "#print(\"NumPy:\", np.__version__)\n",
        "## should not raise\n",
        "#_ = np.float\n",
        "#print(\"np.float available:\", True)\n",
        "#PY\n"
      ],
      "metadata": {
        "colab": {
          "base_uri": "https://localhost:8080/"
        },
        "id": "YCOsIS-Pk1MC",
        "outputId": "6fb994f4-f3fa-4452-cf90-494e1d361a69"
      },
      "execution_count": 5,
      "outputs": [
        {
          "output_type": "stream",
          "name": "stdout",
          "text": [
            "Collecting numpy==1.23.5\n",
            "  Downloading numpy-1.23.5-cp38-cp38-manylinux_2_17_x86_64.manylinux2014_x86_64.whl.metadata (2.3 kB)\n",
            "Downloading numpy-1.23.5-cp38-cp38-manylinux_2_17_x86_64.manylinux2014_x86_64.whl (17.1 MB)\n",
            "   ━━━━━━━━━━━━━━━━━━━━━━━━━━━━━━━━━━━━━━━━ 17.1/17.1 MB 160.2 MB/s eta 0:00:00\n",
            "Installing collected packages: numpy\n",
            "  Attempting uninstall: numpy\n",
            "    Found existing installation: numpy 1.24.4\n",
            "    Uninstalling numpy-1.24.4:\n",
            "      Successfully uninstalled numpy-1.24.4\n",
            "Successfully installed numpy-1.23.5\n",
            "NumPy: 1.23.5\n",
            "np.float available: True\n"
          ]
        },
        {
          "output_type": "stream",
          "name": "stderr",
          "text": [
            "ERROR: pip's dependency resolver does not currently take into account all the packages that are installed. This behaviour is the source of the following dependency conflicts.\n",
            "fairseq 1.0.0a0+afc77bd requires hydra-core<1.1, but you have hydra-core 1.1.0 which is incompatible.\n",
            "fairseq 1.0.0a0+afc77bd requires omegaconf<2.1, but you have omegaconf 2.1.1 which is incompatible.\n",
            "<stdin>:4: DeprecationWarning: `np.float` is a deprecated alias for the builtin `float`. To silence this warning, use `float` by itself. Doing this will not modify any behavior and is safe. If you specifically wanted the numpy scalar type, use `np.float64` here.\n",
            "Deprecated in NumPy 1.20; for more details and guidance: https://numpy.org/devdocs/release/1.20.0-notes.html#deprecations\n"
          ]
        }
      ]
    },
    {
      "cell_type": "code",
      "source": [
        "#CODE BEGINNING -> MOUNT GOOGLE DRIVE\n",
        "#NEEDS TO BE DONE EVERYTIME\n",
        "\n",
        "from google.colab import drive\n",
        "drive.mount('/content/drive')"
      ],
      "metadata": {
        "colab": {
          "base_uri": "https://localhost:8080/"
        },
        "id": "n8qI4CM8rINi",
        "outputId": "846afeee-d462-4673-8f6b-711b65344209"
      },
      "execution_count": 6,
      "outputs": [
        {
          "output_type": "stream",
          "name": "stdout",
          "text": [
            "Mounted at /content/drive\n"
          ]
        }
      ]
    },
    {
      "cell_type": "code",
      "source": [
        "%%bash\n",
        "eval \"$(conda shell.bash hook)\"\n",
        "conda activate av_hubert\n",
        "cd /content  # stay outside the repo root\n",
        "\n",
        "# Put the avhubert *subfolder* on PYTHONPATH so top-level imports work\n",
        "PYTHONPATH=/content/av_hubert/avhubert:$PYTHONPATH \\\n",
        "python -u - << 'PY'\n",
        "import os, torch, importlib\n",
        "\n",
        "# 1) Import fairseq first\n",
        "import fairseq\n",
        "from fairseq.tasks import TASK_REGISTRY\n",
        "print(\"fairseq OK; registry size before:\", len(TASK_REGISTRY))\n",
        "\n",
        "# 2) Force-import the files that perform registration\n",
        "#    (these use @register_task / @register_model decorators)\n",
        "importlib.import_module(\"hubert_pretraining\")  # registers 'av_hubert_pretraining'\n",
        "importlib.import_module(\"hubert\")              # registers the AV-HuBERT model\n",
        "\n",
        "# 3) Verify registration\n",
        "from fairseq.tasks import TASK_REGISTRY\n",
        "print(\"Contains 'av_hubert_pretraining':\", \"av_hubert_pretraining\" in TASK_REGISTRY)\n",
        "\n",
        "# 4) Load checkpoint\n",
        "from fairseq.checkpoint_utils import load_model_ensemble_and_task\n",
        "ckpt_path = \"/content/drive/MyDrive/AVSR_Colab/base_lrs3_iter5.pt\"  # adjust if needed\n",
        "assert os.path.exists(ckpt_path), f\"Checkpoint not found: {ckpt_path}\"\n",
        "\n",
        "models, cfg, task = load_model_ensemble_and_task([ckpt_path])\n",
        "model = models[0]\n",
        "\n",
        "print(\"✅ Loaded AV-HuBERT checkpoint\")\n",
        "print(\"Torch:\", torch.__version__, \"| CUDA:\", torch.cuda.is_available())\n",
        "print(\"Model:\", type(model).__name__, \"| Task:\", type(task).__name__)\n",
        "PY\n"
      ],
      "metadata": {
        "colab": {
          "base_uri": "https://localhost:8080/"
        },
        "id": "Hn5fX9-CHM9O",
        "outputId": "e678ae2c-08dc-44b0-9b93-135bb6b1442e"
      },
      "execution_count": 17,
      "outputs": [
        {
          "output_type": "stream",
          "name": "stdout",
          "text": [
            "fairseq OK; registry size before: 25\n",
            "Contains 'av_hubert_pretraining': True\n",
            "2025-09-23 15:47:32 | INFO | hubert_pretraining | current directory is /content\n",
            "2025-09-23 15:47:32 | INFO | hubert_pretraining | AVHubertPretrainingTask Config {'_name': 'av_hubert_pretraining', 'data': '/checkpoint/bshi/data/lrs3//video/hubert/multimodal-tsv-2/', 'labels': ['km'], 'label_dir': '/checkpoint/bshi/data/lrs3//video/hubert/stitch-iters/lrs3-iter3-feat-d0.5-iter3-l12c2000/', 'label_rate': 25, 'sample_rate': 25, 'normalize': True, 'enable_padding': False, 'max_sample_size': 500, 'min_sample_size': 5, 'max_trim_sample_size': '${task.max_sample_size}', 'single_target': False, 'random_crop': False, 'pad_audio': True, 'pdb': False, 'stack_order_audio': 4, 'skip_verify': False, 'image_aug': True, 'image_crop_size': 88, 'image_mean': 0.421, 'image_std': 0.165, 'modalities': ['audio', 'video'], 'is_s2s': False, 'tokenizer_bpe_name': None, 'tokenizer_bpe_model': None, 'noise_wav': None, 'noise_prob': 0.0, 'noise_snr': '0', 'noise_num': 1, 'fine_tuning': False}\n",
            "2025-09-23 15:47:32 | INFO | hubert | HubertModel Config: {'_name': 'av_hubert', 'label_rate': 25, 'input_modality': '${task.input_modality}', 'extractor_mode': default, 'encoder_layers': 12, 'encoder_embed_dim': 768, 'encoder_ffn_embed_dim': 3072, 'encoder_attention_heads': 12, 'activation_fn': gelu, 'dropout': 0.1, 'attention_dropout': 0.1, 'activation_dropout': 0.0, 'encoder_layerdrop': 0.05, 'dropout_input': 0.1, 'dropout_features': 0.1, 'final_dim': 256, 'untie_final_proj': True, 'layer_norm_first': True, 'conv_feature_layers': '[(512,10,5)] + [(512,3,2)] * 4 + [(512,2,2)] * 2', 'conv_bias': False, 'logit_temp': 0.1, 'target_glu': False, 'feature_grad_mult': 0.1, 'mask_length_audio': 10, 'mask_prob_audio': 0.8, 'mask_length_image': 5, 'mask_prob_image': 0.3, 'mask_selection': static, 'mask_other': 0.0, 'no_mask_overlap': False, 'mask_min_space': 1, 'mask_channel_length': 10, 'mask_channel_prob': 0.0, 'mask_channel_selection': static, 'mask_channel_other': 0.0, 'no_mask_channel_overlap': False, 'mask_channel_min_space': 1, 'conv_pos': 128, 'conv_pos_groups': 16, 'latent_temp': [2.0, 0.5, 0.999995], 'skip_masked': False, 'skip_nomask': False, 'resnet_relu_type': 'prelu', 'resnet_weights': None, 'sim_type': 'cosine', 'sub_encoder_layers': 0, 'audio_feat_dim': 104, 'modality_dropout': 0.5, 'audio_dropout': 0.5, 'modality_fuse': 'concat', 'selection_type': 'same_other_seq', 'masking_type': 'input', 'decoder_embed_dim': 768, 'decoder_ffn_embed_dim': 3072, 'decoder_layers': 6, 'decoder_layerdrop': 0.0, 'decoder_attention_heads': 4, 'decoder_learned_pos': False, 'decoder_normalize_before': False, 'no_token_positional_embeddings': False, 'decoder_dropout': 0.1, 'decoder_attention_dropout': 0.1, 'decoder_activation_dropout': 0.0, 'max_target_positions': 2048, 'share_decoder_input_output_embed': False, 'no_scale_embedding': True}\n",
            "✅ Loaded AV-HuBERT checkpoint\n",
            "Torch: 1.13.1+cu117 | CUDA: False\n",
            "Model: AVHubertModel | Task: AVHubertPretrainingTask\n"
          ]
        }
      ]
    },
    {
      "cell_type": "code",
      "metadata": {
        "id": "77c98648"
      },
      "source": [
        "input_video_path = \"/content/drive/MyDrive/AVSR_Colab/sample_video.mp4\""
      ],
      "execution_count": 40,
      "outputs": []
    }
  ]
}